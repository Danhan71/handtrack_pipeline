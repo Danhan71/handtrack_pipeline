{
 "cells": [
  {
   "cell_type": "code",
   "execution_count": 2,
   "metadata": {},
   "outputs": [],
   "source": [
    "import pandas as pd"
   ]
  },
  {
   "cell_type": "code",
   "execution_count": 21,
   "metadata": {},
   "outputs": [],
   "source": [
    "#Restrict the all cam file to just those pts that all cams see\n",
    "wp_path = \"/home/danhan/Documents/hand_track/Pancho/220914_wandall/wand/wand_calibration/241015_allpts_95.csv\"\n",
    "df = pd.read_csv(wp_path, header=None)\n",
    "df.head()\n",
    "new_df = df.dropna()\n",
    "save_path = \"/home/danhan/Documents/hand_track/Pancho/220914_wandall/wand/wand_calibration/241015_allpts_allCam_95.csv\"\n",
    "with open(save_path,'w') as f:\n",
    "    new_df.to_csv(f,index=False)"
   ]
  },
  {
   "cell_type": "code",
   "execution_count": null,
   "metadata": {},
   "outputs": [],
   "source": [
    "#restriuct the fly1 fly2 wps to just those visible on both cams\n",
    "wp_path = \"/home/danhan/Documents/hand_track/Pancho/220914_wandall/wand/wand_calibration/camera_combos/fly1_fly2/fly1_fly2_dlc_wps_95.csv\"\n",
    "df = pd.read_csv(wp_path, header=None)\n",
    "df.head()\n",
    "new_df=df.dropna()\n",
    "save_path = \"/home/danhan/Documents/hand_track/Pancho/220914_wandall/wand/wand_calibration/camera_combos/fly1_fly2/f1_f2_bothCams_wps.csv\"\n",
    "with open(save_path,'w') as f:\n",
    "    new_df.to_csv(f,index=False)"
   ]
  },
  {
   "cell_type": "code",
   "execution_count": 20,
   "metadata": {},
   "outputs": [],
   "source": [
    "#restriuct the fly1 fly2 wps to just those visible on both cams\n",
    "wp_path = \"/data3/hand_track/Pancho/220914_wandall/wand/wand_calibration/camera_combos/flea_bfs1/flea_bfs1_dlc_allPts_95.csv\"\n",
    "df = pd.read_csv(wp_path, header=None)\n",
    "df.head()\n",
    "new_df=df.dropna()\n",
    "save_path = \"/home/danhan/Documents/hand_track/Pancho/220914_wandall/wand/wand_calibration/camera_combos/flea_bfs1/fl_b1_bothCams_wps.csv\"\n",
    "with open(save_path,'w') as f:\n",
    "    new_df.to_csv(f,index=False)"
   ]
  }
 ],
 "metadata": {
  "kernelspec": {
   "display_name": "pipe_dlc",
   "language": "python",
   "name": "python3"
  },
  "language_info": {
   "codemirror_mode": {
    "name": "ipython",
    "version": 3
   },
   "file_extension": ".py",
   "mimetype": "text/x-python",
   "name": "python",
   "nbconvert_exporter": "python",
   "pygments_lexer": "ipython3",
   "version": "3.10.14"
  }
 },
 "nbformat": 4,
 "nbformat_minor": 2
}
