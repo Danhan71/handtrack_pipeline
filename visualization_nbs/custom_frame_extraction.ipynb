{
 "cells": [
  {
   "cell_type": "code",
   "execution_count": null,
   "metadata": {},
   "outputs": [],
   "source": [
    "import os\n",
    "import sys\n",
    "import re\n",
    "import glob\n",
    "import numpy as np\n",
    "from pathlib import Path\n",
    "from skimage import io\n",
    "from skimage.util import img_as_ubyte\n",
    "from deeplabcut.utils import frameselectiontools\n",
    "from deeplabcut.utils import auxiliaryfunctions"
   ]
  },
  {
   "cell_type": "code",
   "execution_count": null,
   "metadata": {},
   "outputs": [],
   "source": [
    "def extract_frames_custom(vid_list, out):\n",
    "    '''\n",
    "    Allows user to extract frames from a custom list of videos,\n",
    "    to a directory of choice. Mostly stolen from deeplabcut frame_extraction.py\n",
    "    '''\n",
    "    "
   ]
  }
 ],
 "metadata": {
  "kernelspec": {
   "display_name": "Python 3",
   "language": "python",
   "name": "python3"
  },
  "language_info": {
   "name": "python",
   "version": "3.10.14"
  }
 },
 "nbformat": 4,
 "nbformat_minor": 2
}
