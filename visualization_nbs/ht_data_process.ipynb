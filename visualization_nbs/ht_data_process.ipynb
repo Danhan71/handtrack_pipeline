{
 "cells": [
  {
   "cell_type": "markdown",
   "metadata": {},
   "source": [
    "# Extract and Process hadntrack data Notebook\n",
    "## Steps\n",
    "1) Load raw handtrack/cam data\n",
    "2) Do ts/cam lag review\n",
    "3) Apply final processing steps (spatial regression and/or plotting)\n",
    "\n",
    "Deps:\n",
    "- pythonlib\n",
    "- pyvm\n",
    "    - with updated pyvm globals refelcting proper dirs\n",
    "- drawmonkey, ideally as a env package"
   ]
  },
  {
   "cell_type": "code",
   "execution_count": null,
   "metadata": {},
   "outputs": [],
   "source": [
    "%load_ext autoreload\n",
    "%autoreload 2"
   ]
  },
  {
   "cell_type": "code",
   "execution_count": null,
   "metadata": {},
   "outputs": [],
   "source": [
    "from drawmonkey.tools.preprocess import loadSingleDataQuick\n",
    "from pyvm.globals import BASEDIR\n",
    "from drawmonkey.tools.handtrack import HandTrack\n",
    "import os\n",
    "import pickle\n",
    "import numpy as np\n",
    "import matplotlib.pyplot as plt"
   ]
  },
  {
   "cell_type": "code",
   "execution_count": null,
   "metadata": {},
   "outputs": [],
   "source": [
    "#Basedir used by pipeline to find data and other stuff. Normally the basedir in pyvm globals is updated when pipeline\n",
    "#shell scripts are run. In this case that will not happen, so this will need updated manually in pyvm.globals to be where\n",
    "#ht data is stored\n",
    "print(BASEDIR)"
   ]
  },
  {
   "cell_type": "markdown",
   "metadata": {},
   "source": [
    "### STEP 1\n",
    "Load HT data"
   ]
  },
  {
   "cell_type": "code",
   "execution_count": null,
   "metadata": {},
   "outputs": [],
   "source": [
    "## Load handtrack data\n",
    "animal,date,expt,sess,sess_print = ('Diego','230913','dirgrammardiego5d','1','')\n",
    "fd = loadSingleDataQuick(animal, date, expt, sess)\n",
    "#Idk why this happens \n",
    "\n",
    "ind1_vid = 0\n",
    "ind1_ml2 = 0\n",
    "HT = HandTrack(ind1_vid,ind1_ml2,fd,date,expt,animal,sess_print)\n",
    "HT.load_campy_data(ind1_ml2)"
   ]
  },
  {
   "cell_type": "code",
   "execution_count": null,
   "metadata": {},
   "outputs": [],
   "source": [
    "#Coefs available for this day\n",
    "print(HT.Coefs)\n",
    "\n",
    "#HT class function automatically run for both coefs, but allow user to manually choose\n",
    "coefs = '220914_f12_dlc'"
   ]
  },
  {
   "cell_type": "code",
   "execution_count": null,
   "metadata": {},
   "outputs": [],
   "source": [
    "#Process data function\n",
    "#Load if processed data already saved, else skip.\n",
    "\n",
    "#Range of trials, 1 indexed\n",
    "trange = range(10,20)\n",
    "\n",
    "data_dir = f'{BASEDIR}/{animal}/{date}_{expt}{sess_print}'\n",
    "skip_load = False\n",
    "if os.path.exists(f'{data_dir}/processed_data.pkl') and not skip_load:\n",
    "    with open(f'{data_dir}/processed_data.pkl','rb') as f:\n",
    "        dat_trials = pickle.load(f)\n",
    "else:\n",
    "    #Maintain dict structure expected later\n",
    "    dat_trials = {}\n",
    "    dat_trials[coefs] = {}\n",
    "    skipped_trials = []\n",
    "    #Better to just do try except bc this takes a while and some, very infrequent, errors occur\n",
    "    for trial_ml2 in trange:\n",
    "        try:\n",
    "            dat_trials[coefs][trial_ml2],_,_,= HT.process_data_singletrial(trial_ml2, coefs=coefs)\n",
    "        except:\n",
    "            skipped_trials.append(trial_ml2)"
   ]
  },
  {
   "cell_type": "code",
   "execution_count": null,
   "metadata": {},
   "outputs": [],
   "source": [
    "#Shorten to trange but maintain dict structure\n",
    "dat_trials_short = {}\n",
    "dat_trials_short[coefs] = {}\n",
    "for trial,dat in dat_trials[coefs].items():\n",
    "    if trial in trange:\n",
    "        dat_trials_short[coefs][trial] = dat"
   ]
  },
  {
   "cell_type": "markdown",
   "metadata": {},
   "source": [
    "### STEP 2\n",
    "Do lag stuff"
   ]
  },
  {
   "cell_type": "code",
   "execution_count": null,
   "metadata": {},
   "outputs": [],
   "source": [
    "from pythonlib.tools.camtools import get_lags,finalize_alignment_data\n",
    "#Where to save plots from lag fxn\n",
    "outdir = f'{data_dir}/lags/{coefs}'\n",
    "print(outdir)\n",
    "lags={}\n",
    "lags['corr_lags'] = get_lags(dat_trials_short,outdir,coefs,True)"
   ]
  },
  {
   "cell_type": "markdown",
   "metadata": {},
   "source": [
    "Now go to outdir (data_dir/lags/coefs) and find the inds of good lags to take for final calculation"
   ]
  },
  {
   "cell_type": "code",
   "execution_count": null,
   "metadata": {},
   "outputs": [],
   "source": [
    "#Take index convention from the file name-- 'trial-stroke'\n",
    "good_inds = ['10-0','12-0','15-0','16-0','17-0','18-0']\n",
    "fig,corr_lag_mean = finalize_alignment_data(lags,good_inds)\n",
    "fig.savefig(f'{outdir}/lag_fig.png')"
   ]
  },
  {
   "cell_type": "markdown",
   "metadata": {},
   "source": [
    "### STEP 3\n",
    "Load HT data again with regression and new lag num"
   ]
  },
  {
   "cell_type": "code",
   "execution_count": null,
   "metadata": {},
   "outputs": [],
   "source": [
    "dat_trials_lag = {}\n",
    "skipped_trials = []\n",
    "#Now can fit regression\n",
    "HT.fit_regression(trange,corr_lag_mean,coefs,out=f'{data_dir}/transforms')\n",
    "\n",
    "# assert corr_lag_mean > 0\n",
    "\n",
    "for trial_ml2 in trange:\n",
    "    try:\n",
    "        #Will automatically adapt to include regressed data\n",
    "        dat_trials_lag[trial_ml2],_,_,= HT.process_data_singletrial(trial_ml2, coefs=coefs,ts_cam_offset=corr_lag_mean)\n",
    "        plt.close('all')\n",
    "    except:\n",
    "        skipped_trials.append(trial_ml2)"
   ]
  }
 ],
 "metadata": {
  "kernelspec": {
   "display_name": "pipe_dlc",
   "language": "python",
   "name": "pipe_dlc"
  },
  "language_info": {
   "codemirror_mode": {
    "name": "ipython",
    "version": 3
   },
   "file_extension": ".py",
   "mimetype": "text/x-python",
   "name": "python",
   "nbconvert_exporter": "python",
   "pygments_lexer": "ipython3",
   "version": "3.10.14"
  }
 },
 "nbformat": 4,
 "nbformat_minor": 2
}
