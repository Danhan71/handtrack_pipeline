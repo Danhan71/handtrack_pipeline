{
 "cells": [
  {
   "cell_type": "markdown",
   "metadata": {
    "colab_type": "text",
    "id": "RK255E7YoEIt"
   },
   "source": [
    "# DeepLabCut Toolbox\n",
    "https://github.com/AlexEMG/DeepLabCut\n",
    "\n",
    "This notebook demonstrates the necessary steps to use DeepLabCut for your own project.\n",
    "This shows the most simple code to do so, but many of the functions have additional features, so please check out the overview & the protocol paper!\n",
    "\n",
    "This notebook illustrates how to:\n",
    "- create a project\n",
    "- extract training frames\n",
    "- label the frames\n",
    "- plot the labeled images\n",
    "- create a training set\n",
    "- train a network\n",
    "- evaluate a network\n",
    "- analyze a novel video\n",
    "- create an automatically labeled video \n",
    "- plot the trajectories\n",
    "\n",
    "This notebook demonstrates the necessary steps to use DeepLabCut for your own project.\n",
    "\n",
    "This shows the most simple code to do so, but many of the functions have additional features, so please check out the overview & the protocol paper!\n",
    "\n",
    "Nath\\*, Mathis\\* et al.: Using DeepLabCut for markerless pose estimation during behavior across species. Nature Protocols, 2019.\n",
    "\n",
    "Paper: https://www.nature.com/articles/s41596-019-0176-0\n",
    "\n",
    "Pre-print: https://www.biorxiv.org/content/biorxiv/early/2018/11/24/476531.full.pdf"
   ]
  },
  {
   "cell_type": "markdown",
   "metadata": {
    "colab_type": "text",
    "id": "9Uoz9mdPoEIy"
   },
   "source": [
    "## Create a new project\n",
    "\n",
    "It is always good idea to keep the projects seperate if you want to use different networks to analze your data. You should use one project if you are tracking similar subjects/items even if in different environments. This function creates a new project with sub-directories and a basic configuration file in the user defined directory otherwise the project is created in the current working directory.\n",
    "\n",
    "You can always add new videos (for lableing more data) to the project at any stage of the project. "
   ]
  },
  {
   "cell_type": "code",
   "execution_count": 1,
   "metadata": {
    "colab": {},
    "colab_type": "code",
    "id": "jqLZhp7EoEI0"
   },
   "outputs": [
    {
     "name": "stderr",
     "output_type": "stream",
     "text": [
      "2024-07-11 15:06:51.062680: I tensorflow/core/platform/cpu_feature_guard.cc:193] This TensorFlow binary is optimized with oneAPI Deep Neural Network Library (oneDNN) to use the following CPU instructions in performance-critical operations:  SSE4.1 SSE4.2 AVX AVX2 FMA\n",
      "To enable them in other operations, rebuild TensorFlow with the appropriate compiler flags.\n"
     ]
    },
    {
     "name": "stdout",
     "output_type": "stream",
     "text": [
      "Loading DLC 2.2.1.1...\n"
     ]
    }
   ],
   "source": [
    "import deeplabcut"
   ]
  },
  {
   "cell_type": "code",
   "execution_count": 3,
   "metadata": {},
   "outputs": [],
   "source": [
    "# You could also enter this manually (e.g. if the project is already created and you want to pick up, where you stopped...)\n",
    "# path_config_file = '/data1/code/python/DeepLabCut/examples/camtest3_wand2_cam2blackfly-Lucas-2021-04-19/config.yaml'\n",
    "\n",
    "## Camtest4\n",
    "# path_config_file = \"/data2/camera/210826_camtest5/behavior/DLC/combined-cam1bfu_cam2bfs_cam3flea-Lucas-2021-09-11/config.yaml\"\n",
    "# path_config_file = \"/data2/camera/210506_camtest4/camtest4_wand/DLC/camtest4_wand_cam2flea3-Lucas-2021-08-13/config.yaml\"\n",
    "\n",
    "# cagetest2\n",
    "# path_config_file = \"/data2/camera/211106_cagetest2/wand/DLC/combined-bfs_flea_ffly-Lucas-2021-11-09/config.yaml\"\n",
    "# path_config_file = \"/data2/camera/211106_cagetest2/behavior/DLC/combined-bfs_flea_ffly-Lucas-2021-11-09/config.yaml\"\n",
    "\n",
    "# Chunkbyshape4\n",
    "# path_config_file = \"/data2/camera/220317_chunkbyshape4/behavior/DLC/combined-flea_bfs1_bfs2_ffly-Lucas-2022-04-07/config.yaml\"\n",
    "# path_config_file = \"/data2/camera/220317_chunkbyshape4/wand/DLC/combined-flea_bfs1_bfs2_ffly-Lucas-2022-04-07/config.yaml\"\n",
    "# path_config_file = \"/mnt/bonobo/data2/camera/220317_chunkbyshape4/wand/DLC/combined-flea_bfs1_bfs2_ffly-Lucas-2022-04-07/config.yaml\"\\\n",
    "\n",
    "# \n",
    "# path_config_file = \"/gorilla2_backup/camera/Pancho/220803/wand/DLC/combined-ffly_bfs2_bfs1_flea-Lucas-2022-09-11/config.yaml\"\n",
    "\n",
    "# 1/10/24 - Showing Ved Sharma\n",
    "# path_config_file = \"/mnt/Freiwald/ltian/backup/bonobo/data2/camera/220317_chunkbyshape4/wand/DLC/combined-flea_bfs1_bfs2_ffly-Lucas-2022-04-07/config.yaml\"\\\n",
    "\n",
    "# 1/11/24 - Testing out entire run from scratch\n",
    "# Behavior:\n",
    "path_config_file = \"/home/danhan/Documents/hand_track/data/Pancho/123456/wand/DLC/combined-flea_bfs1_ffly_bfs2-Lucas-2024-07-11/config.yaml\"\n",
    "# Wand\n",
    "# path_config_file = \"/gorilla4/camera/Pancho/220317/wand/DLC/combined-bfs2_flea_ffly_bfs1-Lucas-2024-01-11/config.yaml\"\n",
    "\n"
   ]
  },
  {
   "cell_type": "markdown",
   "metadata": {
    "colab_type": "text",
    "id": "Gjn6ZDonoEJH"
   },
   "source": [
    "## Label the extracted frames\n",
    "\n",
    "Only videos in the config file can be used to extract the frames. Extracted labels for each video are stored in the project directory under the subdirectory **'labeled-data'**. Each subdirectory is named after the name of the video. The toolbox has a labeling toolbox which could be used for labeling. "
   ]
  },
  {
   "cell_type": "code",
   "execution_count": 6,
   "metadata": {
    "colab": {},
    "colab_type": "code",
    "id": "iyROSOiEoEJI"
   },
   "outputs": [
    {
     "ename": "AttributeError",
     "evalue": "'Bitmap' object has no attribute 'SetScaleFactor'",
     "output_type": "error",
     "traceback": [
      "\u001b[0;31m---------------------------------------------------------------------------\u001b[0m",
      "\u001b[0;31mAttributeError\u001b[0m                            Traceback (most recent call last)",
      "File \u001b[0;32m~/miniforge3/envs/p_dlc/lib/python3.10/site-packages/matplotlib/backends/backend_wx.py:637\u001b[0m, in \u001b[0;36m_FigureCanvasWxBase._on_paint\u001b[0;34m(self, event)\u001b[0m\n\u001b[1;32m    635\u001b[0m drawDC \u001b[38;5;241m=\u001b[39m wx\u001b[38;5;241m.\u001b[39mPaintDC(\u001b[38;5;28mself\u001b[39m)\n\u001b[1;32m    636\u001b[0m \u001b[38;5;28;01mif\u001b[39;00m \u001b[38;5;129;01mnot\u001b[39;00m \u001b[38;5;28mself\u001b[39m\u001b[38;5;241m.\u001b[39m_isDrawn:\n\u001b[0;32m--> 637\u001b[0m     \u001b[38;5;28;43mself\u001b[39;49m\u001b[38;5;241;43m.\u001b[39;49m\u001b[43mdraw\u001b[49m\u001b[43m(\u001b[49m\u001b[43mdrawDC\u001b[49m\u001b[38;5;241;43m=\u001b[39;49m\u001b[43mdrawDC\u001b[49m\u001b[43m)\u001b[49m\n\u001b[1;32m    638\u001b[0m \u001b[38;5;28;01melse\u001b[39;00m:\n\u001b[1;32m    639\u001b[0m     \u001b[38;5;28mself\u001b[39m\u001b[38;5;241m.\u001b[39mgui_repaint(drawDC\u001b[38;5;241m=\u001b[39mdrawDC)\n",
      "File \u001b[0;32m~/miniforge3/envs/p_dlc/lib/python3.10/site-packages/matplotlib/backends/backend_wxagg.py:15\u001b[0m, in \u001b[0;36mFigureCanvasWxAgg.draw\u001b[0;34m(self, drawDC)\u001b[0m\n\u001b[1;32m     11\u001b[0m \u001b[38;5;124;03m\"\"\"\u001b[39;00m\n\u001b[1;32m     12\u001b[0m \u001b[38;5;124;03mRender the figure using agg.\u001b[39;00m\n\u001b[1;32m     13\u001b[0m \u001b[38;5;124;03m\"\"\"\u001b[39;00m\n\u001b[1;32m     14\u001b[0m FigureCanvasAgg\u001b[38;5;241m.\u001b[39mdraw(\u001b[38;5;28mself\u001b[39m)\n\u001b[0;32m---> 15\u001b[0m \u001b[38;5;28mself\u001b[39m\u001b[38;5;241m.\u001b[39mbitmap \u001b[38;5;241m=\u001b[39m \u001b[38;5;28;43mself\u001b[39;49m\u001b[38;5;241;43m.\u001b[39;49m\u001b[43m_create_bitmap\u001b[49m\u001b[43m(\u001b[49m\u001b[43m)\u001b[49m\n\u001b[1;32m     16\u001b[0m \u001b[38;5;28mself\u001b[39m\u001b[38;5;241m.\u001b[39m_isDrawn \u001b[38;5;241m=\u001b[39m \u001b[38;5;28;01mTrue\u001b[39;00m\n\u001b[1;32m     17\u001b[0m \u001b[38;5;28mself\u001b[39m\u001b[38;5;241m.\u001b[39mgui_repaint(drawDC\u001b[38;5;241m=\u001b[39mdrawDC)\n",
      "File \u001b[0;32m~/miniforge3/envs/p_dlc/lib/python3.10/site-packages/matplotlib/backends/backend_wxagg.py:39\u001b[0m, in \u001b[0;36mFigureCanvasWxAgg._create_bitmap\u001b[0;34m(self)\u001b[0m\n\u001b[1;32m     37\u001b[0m h, w, _ \u001b[38;5;241m=\u001b[39m rgba\u001b[38;5;241m.\u001b[39mshape\n\u001b[1;32m     38\u001b[0m bitmap \u001b[38;5;241m=\u001b[39m wx\u001b[38;5;241m.\u001b[39mBitmap\u001b[38;5;241m.\u001b[39mFromBufferRGBA(w, h, rgba)\n\u001b[0;32m---> 39\u001b[0m \u001b[43mbitmap\u001b[49m\u001b[38;5;241;43m.\u001b[39;49m\u001b[43mSetScaleFactor\u001b[49m(\u001b[38;5;28mself\u001b[39m\u001b[38;5;241m.\u001b[39mGetDPIScaleFactor())\n\u001b[1;32m     40\u001b[0m \u001b[38;5;28;01mreturn\u001b[39;00m bitmap\n",
      "\u001b[0;31mAttributeError\u001b[0m: 'Bitmap' object has no attribute 'SetScaleFactor'"
     ]
    },
    {
     "ename": "AttributeError",
     "evalue": "'Bitmap' object has no attribute 'SetScaleFactor'",
     "output_type": "error",
     "traceback": [
      "\u001b[0;31m---------------------------------------------------------------------------\u001b[0m",
      "\u001b[0;31mAttributeError\u001b[0m                            Traceback (most recent call last)",
      "File \u001b[0;32m~/miniforge3/envs/p_dlc/lib/python3.10/site-packages/matplotlib/backends/backend_wx.py:637\u001b[0m, in \u001b[0;36m_FigureCanvasWxBase._on_paint\u001b[0;34m(self, event)\u001b[0m\n\u001b[1;32m    635\u001b[0m drawDC \u001b[38;5;241m=\u001b[39m wx\u001b[38;5;241m.\u001b[39mPaintDC(\u001b[38;5;28mself\u001b[39m)\n\u001b[1;32m    636\u001b[0m \u001b[38;5;28;01mif\u001b[39;00m \u001b[38;5;129;01mnot\u001b[39;00m \u001b[38;5;28mself\u001b[39m\u001b[38;5;241m.\u001b[39m_isDrawn:\n\u001b[0;32m--> 637\u001b[0m     \u001b[38;5;28;43mself\u001b[39;49m\u001b[38;5;241;43m.\u001b[39;49m\u001b[43mdraw\u001b[49m\u001b[43m(\u001b[49m\u001b[43mdrawDC\u001b[49m\u001b[38;5;241;43m=\u001b[39;49m\u001b[43mdrawDC\u001b[49m\u001b[43m)\u001b[49m\n\u001b[1;32m    638\u001b[0m \u001b[38;5;28;01melse\u001b[39;00m:\n\u001b[1;32m    639\u001b[0m     \u001b[38;5;28mself\u001b[39m\u001b[38;5;241m.\u001b[39mgui_repaint(drawDC\u001b[38;5;241m=\u001b[39mdrawDC)\n",
      "File \u001b[0;32m~/miniforge3/envs/p_dlc/lib/python3.10/site-packages/matplotlib/backends/backend_wxagg.py:15\u001b[0m, in \u001b[0;36mFigureCanvasWxAgg.draw\u001b[0;34m(self, drawDC)\u001b[0m\n\u001b[1;32m     11\u001b[0m \u001b[38;5;124;03m\"\"\"\u001b[39;00m\n\u001b[1;32m     12\u001b[0m \u001b[38;5;124;03mRender the figure using agg.\u001b[39;00m\n\u001b[1;32m     13\u001b[0m \u001b[38;5;124;03m\"\"\"\u001b[39;00m\n\u001b[1;32m     14\u001b[0m FigureCanvasAgg\u001b[38;5;241m.\u001b[39mdraw(\u001b[38;5;28mself\u001b[39m)\n\u001b[0;32m---> 15\u001b[0m \u001b[38;5;28mself\u001b[39m\u001b[38;5;241m.\u001b[39mbitmap \u001b[38;5;241m=\u001b[39m \u001b[38;5;28;43mself\u001b[39;49m\u001b[38;5;241;43m.\u001b[39;49m\u001b[43m_create_bitmap\u001b[49m\u001b[43m(\u001b[49m\u001b[43m)\u001b[49m\n\u001b[1;32m     16\u001b[0m \u001b[38;5;28mself\u001b[39m\u001b[38;5;241m.\u001b[39m_isDrawn \u001b[38;5;241m=\u001b[39m \u001b[38;5;28;01mTrue\u001b[39;00m\n\u001b[1;32m     17\u001b[0m \u001b[38;5;28mself\u001b[39m\u001b[38;5;241m.\u001b[39mgui_repaint(drawDC\u001b[38;5;241m=\u001b[39mdrawDC)\n",
      "File \u001b[0;32m~/miniforge3/envs/p_dlc/lib/python3.10/site-packages/matplotlib/backends/backend_wxagg.py:39\u001b[0m, in \u001b[0;36mFigureCanvasWxAgg._create_bitmap\u001b[0;34m(self)\u001b[0m\n\u001b[1;32m     37\u001b[0m h, w, _ \u001b[38;5;241m=\u001b[39m rgba\u001b[38;5;241m.\u001b[39mshape\n\u001b[1;32m     38\u001b[0m bitmap \u001b[38;5;241m=\u001b[39m wx\u001b[38;5;241m.\u001b[39mBitmap\u001b[38;5;241m.\u001b[39mFromBufferRGBA(w, h, rgba)\n\u001b[0;32m---> 39\u001b[0m \u001b[43mbitmap\u001b[49m\u001b[38;5;241;43m.\u001b[39;49m\u001b[43mSetScaleFactor\u001b[49m(\u001b[38;5;28mself\u001b[39m\u001b[38;5;241m.\u001b[39mGetDPIScaleFactor())\n\u001b[1;32m     40\u001b[0m \u001b[38;5;28;01mreturn\u001b[39;00m bitmap\n",
      "\u001b[0;31mAttributeError\u001b[0m: 'Bitmap' object has no attribute 'SetScaleFactor'"
     ]
    }
   ],
   "source": [
    "%gui wx\n",
    "deeplabcut.label_frames(path_config_file)"
   ]
  },
  {
   "cell_type": "markdown",
   "metadata": {
    "colab_type": "text",
    "id": "vim95ZvkPSeN"
   },
   "source": [
    "## Check the labels\n",
    "\n",
    "[OPTIONAL] Checking if the labels were created and stored correctly is beneficial for training, since labeling is one of the most critical parts for creating the training dataset. The DeepLabCut toolbox provides a function `check\\_labels'  to do so. It is used as follows:"
   ]
  },
  {
   "cell_type": "code",
   "execution_count": null,
   "metadata": {
    "colab": {},
    "colab_type": "code",
    "id": "NwvgPJouPP2O"
   },
   "outputs": [],
   "source": [
    "deeplabcut.check_labels(path_config_file) #this creates a subdirectory with the frames + your labels"
   ]
  },
  {
   "cell_type": "markdown",
   "metadata": {
    "colab_type": "text",
    "id": "of87fOjgPqzH"
   },
   "source": [
    "If the labels need adjusted, you can use relauch the labeling GUI to move them around, save, and re-plot!"
   ]
  }
 ],
 "metadata": {
  "accelerator": "GPU",
  "colab": {
   "name": "Demo-yourowndata.ipynb",
   "provenance": [],
   "version": "0.3.2"
  },
  "kernelspec": {
   "display_name": "Python 3 (ipykernel)",
   "language": "python",
   "name": "python3"
  },
  "language_info": {
   "codemirror_mode": {
    "name": "ipython",
    "version": 3
   },
   "file_extension": ".py",
   "mimetype": "text/x-python",
   "name": "python",
   "nbconvert_exporter": "python",
   "pygments_lexer": "ipython3",
   "version": "3.10.13"
  },
  "varInspector": {
   "cols": {
    "lenName": 16,
    "lenType": 16,
    "lenVar": 40
   },
   "kernels_config": {
    "python": {
     "delete_cmd_postfix": "",
     "delete_cmd_prefix": "del ",
     "library": "var_list.py",
     "varRefreshCmd": "print(var_dic_list())"
    },
    "r": {
     "delete_cmd_postfix": ") ",
     "delete_cmd_prefix": "rm(",
     "library": "var_list.r",
     "varRefreshCmd": "cat(var_dic_list()) "
    }
   },
   "types_to_exclude": [
    "module",
    "function",
    "builtin_function_or_method",
    "instance",
    "_Feature"
   ],
   "window_display": false
  }
 },
 "nbformat": 4,
 "nbformat_minor": 4
}
