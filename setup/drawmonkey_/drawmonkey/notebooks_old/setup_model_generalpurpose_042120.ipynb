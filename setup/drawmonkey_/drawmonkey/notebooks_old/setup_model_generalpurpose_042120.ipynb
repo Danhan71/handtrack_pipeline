{
 "cells": [
  {
   "cell_type": "code",
   "execution_count": 32,
   "metadata": {},
   "outputs": [
    {
     "name": "stdout",
     "output_type": "stream",
     "text": [
      "The autoreload extension is already loaded. To reload it, use:\n",
      "  %reload_ext autoreload\n"
     ]
    }
   ],
   "source": [
    "\"\"\" code to set up general purpose model object that I can use across all modalities and experiments \"\"\"\n",
    "\n",
    "\"\"\" goal: set up model based analysis.\n",
    "\"\"\"\n",
    "\n",
    "%load_ext autoreload\n",
    "%autoreload 2\n",
    "\n",
    "from tools.utils import * \n",
    "from tools.plots import *\n",
    "from tools.analy import *\n",
    "from tools.calc import *\n",
    "from tools.analyplot import *\n",
    "from pythonlib.drawmodel.analysis import *\n"
   ]
  },
  {
   "cell_type": "code",
   "execution_count": 22,
   "metadata": {},
   "outputs": [
    {
     "name": "stdout",
     "output_type": "stream",
     "text": [
      "found one matching filename: ['/data2/animals/Pancho/200226/200226_121930_pilot_Pancho_1.h5']\n",
      "found one matching filename: ['/data2/animals/Pancho/200226/200226_121930_pilot_Pancho_1.pkl']\n",
      "-- loaded presaved data: /data2/animals/Pancho/200226/200226_121930_pilot_Pancho_1.pkl\n",
      "got 159 total trials\n",
      "THIS NOT OPTIMAL - see notes. is ok if same tasks always occur in direct succession chron order.\n",
      "started with 159 trials\n",
      "ended with 93 trials\n",
      "[getTrialsStrokes] removing stroke for calc vel since shorter than window\n"
     ]
    }
   ],
   "source": [
    "animal = \"Pancho\";\n",
    "date = 200226\n",
    "expt = \"pilot\"\n",
    "session = 1\n",
    "\n",
    "from tools.preprocess import *\n",
    "filedata = loadSingleData(animal, date, expt, session, resave_as_dict=False, load_resaved_data=True, \n",
    "                      resave_overwrite=False)\n",
    "\n",
    "targ = {\n",
    "    \"task_stage\":[\"two_lines_anywhere\"],\n",
    "    \"fracsuccess_min\":[0.25]\n",
    "}\n",
    "\n",
    "trials_list = getIndsTrials(filedata, targ)\n",
    "trials_list = removeRedundantTrials(filedata, trials_list)\n",
    "\n",
    "## ============= POSITIVE CONTROL\n",
    "VER=\"v1\"\n",
    "stroke_dict = getMultTrialsStrokeDict(filedata, trials_list)\n"
   ]
  },
  {
   "cell_type": "code",
   "execution_count": 624,
   "metadata": {},
   "outputs": [
    {
     "name": "stdout",
     "output_type": "stream",
     "text": [
      "got 617 total trials\n"
     ]
    },
    {
     "data": {
      "text/plain": [
       "{'one_dot': 28,\n",
       " 'line': 116,\n",
       " 'three_lines_natural': 19,\n",
       " 'two_lines_anywhere': 256,\n",
       " 'two_lines_natural': 20,\n",
       " 'circle_partial': 172,\n",
       " 'line_natural': 6}"
      ]
     },
     "execution_count": 624,
     "metadata": {},
     "output_type": "execute_result"
    }
   ],
   "source": [
    "getMultTrialsTaskStages(filedata)"
   ]
  },
  {
   "cell_type": "code",
   "execution_count": 183,
   "metadata": {},
   "outputs": [],
   "source": [
    "from pythonlib.tools.stroketools import *\n",
    "from pythonlib.drawmodel.analysis import *\n",
    "\n",
    "    \n",
    "\n",
    "likeliFunction = makeLikeliFunction()\n",
    "priorFunction = makePriorFunction()\n",
    "\n",
    "    \n",
    "    "
   ]
  },
  {
   "cell_type": "code",
   "execution_count": 198,
   "metadata": {},
   "outputs": [],
   "source": [
    "\n",
    "# 1) get all tasks\n",
    "strokes_all = stroke_dict[\"strokes_all\"]\n",
    "# strokes_all_task = stroke_dict[\"strokes_all_task\"]\n",
    "\n",
    "tasks = [getTrialsTask(filedata, t) for t in trials_list]\n",
    "strokes_all_task = [getTrialsTaskAsStrokes(filedata, t, fake_timesteps=\"from_orig\") for t in trials_list]\n",
    "fix_all_task = [getTrialsFix(filedata, t)[\"fixpos_pixels\"] for t in trials_list]\n",
    "\n",
    "for strokes, t, f in zip(strokes_all_task, tasks, fix_all_task):\n",
    "    t[\"strokes\"] = strokes\n",
    "    t[\"fixpos\"] = f\n",
    "\n",
    "    "
   ]
  },
  {
   "cell_type": "code",
   "execution_count": 225,
   "metadata": {},
   "outputs": [
    {
     "data": {
      "text/plain": [
       "True"
      ]
     },
     "execution_count": 225,
     "metadata": {},
     "output_type": "execute_result"
    }
   ],
   "source": [
    "scores= np.array([-1,1])\n",
    "\n",
    "np.any(scores>0) and np.any(scores<0)"
   ]
  },
  {
   "cell_type": "code",
   "execution_count": 270,
   "metadata": {},
   "outputs": [
    {
     "data": {
      "text/plain": [
       "(-550, 0)"
      ]
     },
     "execution_count": 270,
     "metadata": {},
     "output_type": "execute_result"
    },
    {
     "data": {
      "image/png": "[encoded data removed]",
      "text/plain": [
       "<Figure size 432x288 with 1 Axes>"
      ]
     },
     "metadata": {
      "needs_background": "light"
     },
     "output_type": "display_data"
    },
    {
     "data": {
      "image/png": "[encoded data removed]",
      "text/plain": [
       "<Figure size 432x288 with 1 Axes>"
      ]
     },
     "metadata": {
      "needs_background": "light"
     },
     "output_type": "display_data"
    },
    {
     "data": {
      "image/png": "[encoded data removed]",
      "text/plain": [
       "<Figure size 432x288 with 1 Axes>"
      ]
     },
     "metadata": {
      "needs_background": "light"
     },
     "output_type": "display_data"
    }
   ],
   "source": [
    "## apply dataset and apply model to dset\n",
    "priorFunction = makePriorFunction()\n",
    "likeliFunction = makeLikeliFunction()\n",
    "dset = Dataset(strokes_all, tasks)\n",
    "mod = Model(\"uniform\", priorFunction, likeliFunction)\n",
    "dset.applyModel(mod, prior_ver= \"softmax\", posterior_ver=\"weighted\")\n",
    "\n",
    "dset.plotPosteriorHist()\n",
    "plt.xlim([-550, 0])\n",
    "\n",
    "dset = Dataset(strokes_all, tasks)\n",
    "mod = Model(\"uniform\", priorFunction, likeliFunction)\n",
    "dset.applyModel(mod, prior_ver= \"softmax\", posterior_ver=\"maxlikeli\")\n",
    "\n",
    "dset.plotPosteriorHist()\n",
    "plt.xlim([-550, 0])\n",
    "\n",
    "priorFunction = makePriorFunction(ver=\"prox_to_origin\")\n",
    "dset = Dataset(strokes_all, tasks)\n",
    "mod = Model(\"uniform\", priorFunction, likeliFunction)\n",
    "dset.applyModel(mod, prior_ver= \"softmax\", posterior_ver=\"weighted\")\n",
    "\n",
    "dset.plotPosteriorHist()\n",
    "plt.xlim([-550, 0])"
   ]
  },
  {
   "cell_type": "code",
   "execution_count": 343,
   "metadata": {},
   "outputs": [
    {
     "data": {
      "text/plain": [
       "(-550, 0)"
      ]
     },
     "execution_count": 343,
     "metadata": {},
     "output_type": "execute_result"
    },
    {
     "data": {
      "image/png": "[encoded data removed]",
      "text/plain": [
       "<Figure size 432x288 with 1 Axes>"
      ]
     },
     "metadata": {
      "needs_background": "light"
     },
     "output_type": "display_data"
    },
    {
     "data": {
      "image/png": "[encoded data removed]",
      "text/plain": [
       "<Figure size 432x288 with 1 Axes>"
      ]
     },
     "metadata": {
      "needs_background": "light"
     },
     "output_type": "display_data"
    }
   ],
   "source": [
    "## apply dataset and apply model to dset\n",
    "priorFunction = makePriorFunction(ver=\"prox_to_origin\")\n",
    "dset = Dataset(strokes_all, tasks)\n",
    "mod = Model(\"uniform\", priorFunction, likeliFunction)\n",
    "dset.applyModel(mod, parses_split=None, prior_ver= \"softmax\", posterior_ver=\"weighted\")\n",
    "dset.plotPosteriorHist()\n",
    "plt.xlim([-550, 0])\n",
    "\n",
    "priorFunction = makePriorFunction(ver=\"prox_to_origin\")\n",
    "dset = Dataset(strokes_all, tasks)\n",
    "mod = Model(\"uniform\", priorFunction, likeliFunction)\n",
    "dset.applyModel(mod, parses_bothdir=True, prior_ver= \"softmax\", posterior_ver=\"weighted\")\n",
    "dset.plotPosteriorHist()\n",
    "plt.xlim([-550, 0])"
   ]
  },
  {
   "cell_type": "code",
   "execution_count": 668,
   "metadata": {},
   "outputs": [
    {
     "name": "stdout",
     "output_type": "stream",
     "text": [
      "got 127 total trials\n",
      "THIS NOT OPTIMAL - see notes. is ok if same tasks always occur in direct succession chron order.\n",
      "started with 127 trials\n",
      "ended with 97 trials\n",
      "[getTrialsStrokes] removing stroke for calc vel since shorter than window\n",
      "[(0, 0), (1, 0), (2, 1), (3, 2), (4, 2)]\n",
      "[(0, 0), (1, 1), (2, 1), (3, 1), (4, 1)]\n",
      "[(0, 0), (1, 1), (2, 2), (3, 2), (4, 3)]\n",
      "[(0, 0), (1, 0), (2, 0), (3, 0), (4, 1)]\n",
      "[(0, 0), (1, 1), (2, 1), (3, 2), (4, 2)]\n",
      "[(0, 0), (1, 0), (2, 0), (3, 0), (4, 1)]\n",
      "[(0, 0), (1, 1), (2, 1), (3, 1), (4, 1)]\n",
      "[(0, 0), (1, 0), (2, 1), (3, 2), (4, 3)]\n"
     ]
    },
    {
     "data": {
      "text/plain": [
       "(0, 457.614034600022)"
      ]
     },
     "execution_count": 668,
     "metadata": {},
     "output_type": "execute_result"
    },
    {
     "data": {
      "image/png": "[encoded data removed]",
      "text/plain": [
       "<Figure size 720x720 with 9 Axes>"
      ]
     },
     "metadata": {
      "needs_background": "light"
     },
     "output_type": "display_data"
    },
    {
     "data": {
      "image/png": "[encoded data removed]",
      "text/plain": [
       "<Figure size 432x288 with 1 Axes>"
      ]
     },
     "metadata": {
      "needs_background": "light"
     },
     "output_type": "display_data"
    }
   ],
   "source": [
    "## TESTING CODE DEVO - this is comparing differnet distance measures using diff parses and one task. \n",
    "# this code already saved.\n",
    "\n",
    "from pythonlib.tools.stroketools import distanceDTW\n",
    "\n",
    "# s1 = strokes_all[0]\n",
    "# s2 = strokes_all[1]\n",
    "# distanceDTW(s1, s2, ver=\"segments\")[0]\n",
    "\n",
    "\n",
    "\n",
    "# =============== plot overview of distances\n",
    "targ = {\n",
    "    \"task_stage\":[\"circle_partial\", \"three_lines_natural\"],\n",
    "    \"fracsuccess_min\":[0.25]\n",
    "}\n",
    "\n",
    "trials_list = getIndsTrials(filedata, targ)\n",
    "trials_list = removeRedundantTrials(filedata, trials_list)\n",
    "\n",
    "## ============= POSITIVE CONTROL\n",
    "stroke_dict = getMultTrialsStrokeDict(filedata, trials_list)\n",
    "strokes_all = stroke_dict[\"strokes_all\"]\n",
    "\n",
    "tasks = [getTrialsTask(filedata, t) for t in trials_list]\n",
    "strokes_all_task = [getTrialsTaskAsStrokes(filedata, t, fake_timesteps=\"from_orig\") for t in trials_list]\n",
    "fix_all_task = [getTrialsFix(filedata, t)[\"fixpos_pixels\"] for t in trials_list]\n",
    "\n",
    "for strokes, t, f in zip(strokes_all_task, tasks, fix_all_task):\n",
    "    t[\"strokes\"] = strokes\n",
    "    t[\"fixpos\"] = f\n",
    "dset = Dataset(strokes_all, tasks)\n",
    "mod = Model(\"uniform\", priorFunction, likeliFunction)\n",
    "dset.applyModel(mod, parses_bothdir=True, prior_ver= \"softmax\", posterior_ver=\"weighted\")\n",
    "\n",
    "##########################\n",
    "if False:\n",
    "    stroke1 = strokes_all[1]\n",
    "    strokeothers = random.sample([strokes_all[i] for i in range(len(strokes_all))], 8)\n",
    "else:\n",
    "    t = 11\n",
    "    stroke1=dset.trials[t][\"behavior\"][\"strokes\"]\n",
    "    strokes_model = [d[\"strokes\"] for d in dset.trials[t][\"model_parses\"]]\n",
    "    strokeothers = random.sample([strokes_model[i] for i in range(len(strokes_model))], 8)\n",
    "VER = \"segments\"\n",
    "\n",
    "plt.figure(figsize=(10,10))\n",
    "ax = plt.subplot(3,3,1)\n",
    "plotDatStrokes(stroke1, ax, plotver=\"raw\")\n",
    "plt.xlim([-400, 400])\n",
    "plt.ylim([-400, 400])\n",
    "\n",
    "distances = []\n",
    "for i, S in enumerate(strokeothers):\n",
    "    # get distance\n",
    "#     d1 = distanceDTW(stroke1, S, ver=\"segments\")[0]\n",
    "#     d2 = distanceDTW(stroke1, S, ver=\"timepoints\")[0]\n",
    "    d3, tmp = distanceDTW(stroke1, S, ver=\"split_segments\")\n",
    "    print(tmp)\n",
    "    d4 = distanceBetweenStrokes(stroke1, S)\n",
    "    distances.append(d3)\n",
    "    ax = plt.subplot(3,3,i+2)\n",
    "    plt.title(f\"seg{d1:.0f}, tp{d2/1000:.0f}\\n split{d3:.0f}, old{d4:.0f}\")\n",
    "    plotDatStrokes(S, ax=ax, plotver=\"raw\")\n",
    "    plt.xlim([-400, 400])\n",
    "    plt.ylim([-400, 400])\n",
    "plt.figure()\n",
    "plt.plot(np.sort(distances), 'o-k');\n",
    "plt.ylim(bottom=0)"
   ]
  },
  {
   "cell_type": "code",
   "execution_count": 640,
   "metadata": {},
   "outputs": [
    {
     "ename": "TypeError",
     "evalue": "applyModel() missing 1 required positional argument: 'model'",
     "output_type": "error",
     "traceback": [
      "\u001b[0;31m---------------------------------------------------------------------------\u001b[0m",
      "\u001b[0;31mTypeError\u001b[0m                                 Traceback (most recent call last)",
      "\u001b[0;32m<ipython-input-640-5126e8f60f99>\u001b[0m in \u001b[0;36m<module>\u001b[0;34m\u001b[0m\n\u001b[0;32m----> 1\u001b[0;31m \u001b[0mdset\u001b[0m\u001b[0;34m.\u001b[0m\u001b[0mapplyModel\u001b[0m\u001b[0;34m(\u001b[0m\u001b[0;34m)\u001b[0m\u001b[0;34m\u001b[0m\u001b[0;34m\u001b[0m\u001b[0m\n\u001b[0m",
      "\u001b[0;31mTypeError\u001b[0m: applyModel() missing 1 required positional argument: 'model'"
     ]
    }
   ],
   "source": [
    "dset.applyModel(mo()"
   ]
  },
  {
   "cell_type": "code",
   "execution_count": 543,
   "metadata": {},
   "outputs": [
    {
     "data": {
      "text/plain": [
       "[array([[0.67891716, 0.69036121, 0.60387686],\n",
       "        [0.28289626, 0.5837209 , 0.85548991],\n",
       "        [0.52072014, 0.76869214, 0.95899815],\n",
       "        [0.93636916, 0.98999024, 0.79814588],\n",
       "        [0.108205  , 0.29887002, 0.24429348],\n",
       "        [0.14813108, 0.67465026, 0.4853159 ],\n",
       "        [0.87313109, 0.16440005, 0.11465309],\n",
       "        [0.63979671, 0.29795733, 0.13709415]]),\n",
       " array([[0.69600741, 0.42629216, 0.18718666],\n",
       "        [0.10538027, 0.75142107, 0.3709027 ],\n",
       "        [0.06831178, 0.93973019, 0.90204058],\n",
       "        [0.89493329, 0.41444201, 0.46672419],\n",
       "        [0.59065302, 0.49509767, 0.96313756],\n",
       "        [0.40717658, 0.13043724, 0.73561399],\n",
       "        [0.47029806, 0.31163507, 0.81920409]]),\n",
       " array([[0.06329178, 0.31255878, 0.34276156],\n",
       "        [0.48991185, 0.57959489, 0.90552341],\n",
       "        [0.55751636, 0.53358567, 0.28021972],\n",
       "        [0.8911753 , 0.4744817 , 0.43818452],\n",
       "        [0.6722995 , 0.34832902, 0.14019567],\n",
       "        [0.42668231, 0.52752975, 0.39538013],\n",
       "        [0.09245265, 0.0853987 , 0.41830255]])]"
      ]
     },
     "execution_count": 543,
     "metadata": {},
     "output_type": "execute_result"
    }
   ],
   "source": [
    "from pythonlib.tools import stroketools as ST\n",
    "A = np.random.rand(22,3)\n",
    "ST._splitarray(A, num=3)"
   ]
  },
  {
   "cell_type": "code",
   "execution_count": 456,
   "metadata": {},
   "outputs": [
    {
     "data": {
      "text/plain": [
       "[2, 3, 4, 5, 6, 7, 8, 9]"
      ]
     },
     "execution_count": 456,
     "metadata": {},
     "output_type": "execute_result"
    }
   ],
   "source": [
    "list(range(2,10))"
   ]
  },
  {
   "cell_type": "code",
   "execution_count": 432,
   "metadata": {},
   "outputs": [
    {
     "data": {
      "text/plain": [
       "True"
      ]
     },
     "execution_count": 432,
     "metadata": {},
     "output_type": "execute_result"
    }
   ],
   "source": [
    "from math import isclose\n",
    "isclose(1000.0000001, 1000.)"
   ]
  },
  {
   "cell_type": "code",
   "execution_count": 271,
   "metadata": {},
   "outputs": [],
   "source": [
    "## build prior model that "
   ]
  },
  {
   "cell_type": "code",
   "execution_count": 127,
   "metadata": {
    "scrolled": false
   },
   "outputs": [
    {
     "name": "stdout",
     "output_type": "stream",
     "text": [
      "1\n",
      "14\n",
      "2\n",
      "dict_keys(['strokes'])\n",
      "dict_keys(['str', 'stage', 'x', 'y', 'alwaysnogap', 'ignore_edge_requirement', 'stagenum', 'num_presentations', 'num_successes', 'num_fixations', 'ignore', 'x_rescaled', 'y_rescaled', 'strokes'])\n",
      "dict_keys(['strokes', 'order', 'score', 'prob', 'mod_hu_dist'])\n",
      "dict_keys(['strokes'])\n",
      "140422119541936\n",
      "140421912659808\n"
     ]
    }
   ],
   "source": [
    "print(len(dset.trials[0][\"behavior\"]))\n",
    "print(len(dset.trials[0][\"task\"]))\n",
    "print(len(dset.trials[0][\"model_parses\"]))\n",
    "\n",
    "print(dset.trials[0][\"behavior\"].keys())\n",
    "print(dset.trials[0][\"task\"].keys())\n",
    "print(dset.trials[0][\"model_parses\"][0].keys())\n",
    "\n",
    "print(dset.trials[0][\"behavior\"].keys())\n",
    "print(id(dset.trials[0][\"task\"][\"strokes\"][1]))\n",
    "print(id(dset.trials[0][\"model_parses\"][0][\"strokes\"][0]))"
   ]
  },
  {
   "cell_type": "code",
   "execution_count": 88,
   "metadata": {},
   "outputs": [
    {
     "data": {
      "text/plain": [
       "dict_keys(['str', 'stage', 'x', 'y', 'alwaysnogap', 'ignore_edge_requirement', 'stagenum', 'num_presentations', 'num_successes', 'num_fixations', 'ignore', 'x_rescaled', 'y_rescaled', 'strokes'])"
      ]
     },
     "execution_count": 88,
     "metadata": {},
     "output_type": "execute_result"
    }
   ],
   "source": [
    "dset.trials[0][\"model\"].keys()"
   ]
  },
  {
   "cell_type": "code",
   "execution_count": 69,
   "metadata": {},
   "outputs": [
    {
     "data": {
      "text/plain": [
       "<pythonlib.drawmodel.analysis.Model at 0x7fb68a777490>"
      ]
     },
     "execution_count": 69,
     "metadata": {},
     "output_type": "execute_result"
    }
   ],
   "source": [
    "mod_uniform"
   ]
  },
  {
   "cell_type": "code",
   "execution_count": 19,
   "metadata": {
    "collapsed": true
   },
   "outputs": [
    {
     "name": "stdout",
     "output_type": "stream",
     "text": [
      "The autoreload extension is already loaded. To reload it, use:\n",
      "  %reload_ext autoreload\n",
      "found one matching filename: ['/data2/animals/Pancho/200226/200226_121930_pilot_Pancho_1.h5']\n",
      "found one matching filename: ['/data2/animals/Pancho/200226/200226_121930_pilot_Pancho_1.pkl']\n",
      "-- loaded presaved data: /data2/animals/Pancho/200226/200226_121930_pilot_Pancho_1.pkl\n",
      "got 159 total trials\n",
      "THIS NOT OPTIMAL - see notes. is ok if same tasks always occur in direct succession chron order.\n",
      "started with 159 trials\n",
      "ended with 93 trials\n",
      "[getTrialsStrokes] removing stroke for calc vel since shorter than window\n",
      "NOTE: replaced strokes_all_task with values in strokes_all_task_faketime\n",
      "NOTE: replaced strokes_all_task with values in strokes_all_task_faketime\n"
     ]
    }
   ],
   "source": [
    "%load_ext autoreload\n",
    "%autoreload 2\n",
    "\n",
    "from tools.utils import * \n",
    "from tools.plots import *\n",
    "from tools.analy import *\n",
    "from tools.calc import *\n",
    "from tools.analyplot import *\n",
    "\n",
    "animal = \"Pancho\";\n",
    "date = 200226\n",
    "expt = \"pilot\"\n",
    "session = 1\n",
    "\n",
    "from tools.preprocess import *\n",
    "filedata = loadSingleData(animal, date, expt, session, resave_as_dict=False, load_resaved_data=True, \n",
    "                      resave_overwrite=False)\n",
    "\n",
    "# -- collect d## FILTER TO FIND GOOD TRIALS, - PLOT THOSE\n",
    "# --- for a given set of trials, collect trajectories for all of them\n",
    "\n",
    "targ = {\n",
    "    \"task_stage\":[\"two_lines_anywhere\"],\n",
    "    \"fracsuccess_min\":[0.25]\n",
    "}\n",
    "\n",
    "trials_list = getIndsTrials(filedata, targ)\n",
    "trials_list = removeRedundantTrials(filedata, trials_list)\n",
    "\n",
    "## ============= POSITIVE CONTROL\n",
    "VER=\"v1\"\n",
    "stroke_dict = getMultTrialsStrokeDict(filedata, trials_list)\n",
    "# 2) remove short segments\n",
    "stroke_dict = processRemoveShortStrokes(stroke_dict)\n",
    "# i) reorder all of the task strokes [i.e., based on a model]\n",
    "stroke_dict = processReorderStrokes(stroke_dict, filedata, method=\"distance\",\n",
    "                                         reassign_timestamps=False)\n",
    "# ii) reassign time stamps for task strokes, so that match behavior best\n",
    "stroke_dict = processFakeTimesteps(stroke_dict, filedata, ver=\"from_first_touch\", replace_key_to_do=True)\n",
    "stroke_dict = processFakeTimesteps(stroke_dict, filedata, ver=\"from_end_of_previous_stroke\", replace_key_to_do=True)\n",
    "# iii) gets angles of strokes\n",
    "stroke_dict = processAngles(stroke_dict)\n",
    "# iv) assign each subject stroke to a task stroke\n",
    "stroke_dict = processAssignStrokes(stroke_dict, ver=VER)\n",
    "# v) get beh-model distances (posterior scores)\n",
    "stroke_dict = processPosteriorScores(stroke_dict, filedata, method_prior=\"distance\")\n"
   ]
  },
  {
   "cell_type": "code",
   "execution_count": 14,
   "metadata": {
    "scrolled": true
   },
   "outputs": [
    {
     "ename": "TypeError",
     "evalue": "'NoneType' object is not callable",
     "output_type": "error",
     "traceback": [
      "\u001b[0;31m---------------------------------------------------------------------------\u001b[0m",
      "\u001b[0;31mTypeError\u001b[0m                                 Traceback (most recent call last)",
      "\u001b[0;32m<ipython-input-14-665c392fb50f>\u001b[0m in \u001b[0;36m<module>\u001b[0;34m\u001b[0m\n\u001b[1;32m      1\u001b[0m \u001b[0mm\u001b[0m \u001b[0;34m=\u001b[0m \u001b[0mModel\u001b[0m\u001b[0;34m(\u001b[0m\u001b[0;34m)\u001b[0m\u001b[0;34m\u001b[0m\u001b[0;34m\u001b[0m\u001b[0m\n\u001b[0;32m----> 2\u001b[0;31m \u001b[0mm\u001b[0m\u001b[0;34m.\u001b[0m\u001b[0mlikeliFunction\u001b[0m\u001b[0;34m(\u001b[0m\u001b[0;34m)\u001b[0m\u001b[0;34m\u001b[0m\u001b[0;34m\u001b[0m\u001b[0m\n\u001b[0m",
      "\u001b[0;31mTypeError\u001b[0m: 'NoneType' object is not callable"
     ]
    }
   ],
   "source": [
    "m = Model()\n",
    "m.likeliFunction()"
   ]
  },
  {
   "cell_type": "code",
   "execution_count": 396,
   "metadata": {},
   "outputs": [],
   "source": []
  }
 ],
 "metadata": {
  "kernelspec": {
   "display_name": "Python 3",
   "language": "python",
   "name": "python3"
  },
  "language_info": {
   "codemirror_mode": {
    "name": "ipython",
    "version": 3
   },
   "file_extension": ".py",
   "mimetype": "text/x-python",
   "name": "python",
   "nbconvert_exporter": "python",
   "pygments_lexer": "ipython3",
   "version": "3.7.6"
  }
 },
 "nbformat": 4,
 "nbformat_minor": 2
}
