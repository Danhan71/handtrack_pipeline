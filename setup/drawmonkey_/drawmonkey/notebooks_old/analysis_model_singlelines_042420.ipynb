{
 "cells": [
  {
   "cell_type": "code",
   "execution_count": null,
   "metadata": {},
   "outputs": [],
   "source": [
    "\"\"\" as a proof of concept, do on simplest dataset, single strokes, to show that can do model comparison and\n",
    "figure out what I already know, thatn directions of strokes are strongly biased in a particular direction.\n",
    "This needs to work before can try more complex things.\n",
    "\n",
    "\"\"\""
   ]
  },
  {
   "cell_type": "code",
   "execution_count": 8,
   "metadata": {},
   "outputs": [
    {
     "name": "stdout",
     "output_type": "stream",
     "text": [
      "NOTE: need to not overwrite strokes_all_task, because then the orders saved will stop being accurate. Modify\n",
      "The autoreload extension is already loaded. To reload it, use:\n",
      "  %reload_ext autoreload\n"
     ]
    }
   ],
   "source": [
    "%load_ext autoreload\n",
    "%autoreload 2\n",
    "\n",
    "from tools.utils import * \n",
    "from tools.plots import *\n",
    "from tools.analy import *\n",
    "from tools.calc import *\n",
    "from tools.analyplot import *\n",
    "from pythonlib.drawmodel.analysis import *\n",
    "from pythonlib.tools.stroketools import *\n"
   ]
  },
  {
   "cell_type": "code",
   "execution_count": 3,
   "metadata": {},
   "outputs": [
    {
     "name": "stdout",
     "output_type": "stream",
     "text": [
      "found one matching filename: ['/data2/animals/Pancho/200226/200226_121930_pilot_Pancho_1.h5']\n",
      "found one matching filename: ['/data2/animals/Pancho/200226/200226_121930_pilot_Pancho_1.pkl']\n",
      "-- loaded presaved data: /data2/animals/Pancho/200226/200226_121930_pilot_Pancho_1.pkl\n"
     ]
    }
   ],
   "source": [
    "animal = \"Pancho\";\n",
    "date = 200226\n",
    "expt = \"pilot\"\n",
    "session = 1\n",
    "\n",
    "from tools.preprocess import *\n",
    "filedata = loadSingleData(animal, date, expt, session, resave_as_dict=False, load_resaved_data=True, \n",
    "                      resave_overwrite=False)"
   ]
  },
  {
   "cell_type": "code",
   "execution_count": 210,
   "metadata": {},
   "outputs": [
    {
     "name": "stdout",
     "output_type": "stream",
     "text": [
      "got 76 total trials\n",
      "THIS NOT OPTIMAL - see notes. is ok if same tasks always occur in direct succession chron order.\n",
      "started with 76 trials\n",
      "ended with 75 trials\n"
     ]
    }
   ],
   "source": [
    "targ = {\n",
    "    \"task_stage\":[\"line\"],\n",
    "    \"fracsuccess_min\":[0.5]\n",
    "}\n",
    "\n",
    "trials_list = getIndsTrials(filedata, targ)\n",
    "trials_list = removeRedundantTrials(filedata, trials_list)"
   ]
  },
  {
   "cell_type": "code",
   "execution_count": 275,
   "metadata": {
    "collapsed": true
   },
   "outputs": [
    {
     "name": "stdout",
     "output_type": "stream",
     "text": [
      "[[-0.3452381  -0.91666667  4.096     ]\n",
      " [-0.3452381  -0.91666667  4.1       ]\n",
      " [-0.3452381  -0.91666667  4.104     ]\n",
      " [-0.3452381  -0.91666667  4.108     ]\n",
      " [-0.3452381  -0.91666667  4.112     ]\n",
      " [-0.3452381  -0.91666667  4.116     ]\n",
      " [-0.3452381  -0.91666667  4.12      ]\n",
      " [-0.3452381  -0.91666667  4.124     ]\n",
      " [-0.3452381  -0.91666667  4.128     ]\n",
      " [-0.3452381  -0.91666667  4.132     ]\n",
      " [-0.3452381  -0.91666667  4.136     ]\n",
      " [-0.3452381  -0.91666667  4.14      ]\n",
      " [-0.3452381  -0.91666667  4.144     ]\n",
      " [-0.3452381  -0.91666667  4.148     ]\n",
      " [-0.3452381  -0.91666667  4.152     ]\n",
      " [-0.3452381  -0.91666667  4.156     ]\n",
      " [-0.3452381  -0.91666667  4.16      ]\n",
      " [-0.3452381  -0.91666667  4.164     ]\n",
      " [-0.3452381  -0.91666667  4.168     ]\n",
      " [-0.3452381  -0.91666667  4.172     ]\n",
      " [-0.3452381  -0.91666667  4.176     ]\n",
      " [-0.3452381  -0.91666667  4.18      ]\n",
      " [-0.3452381  -0.91666667  4.184     ]\n",
      " [-0.3452381  -0.91666667  4.188     ]\n",
      " [-0.3452381  -0.91666667  4.192     ]\n",
      " [-0.3452381  -0.91666667  4.196     ]\n",
      " [-0.3452381  -0.91666667  4.2       ]\n",
      " [-0.3452381  -0.91666667  4.204     ]\n",
      " [-0.3452381  -0.91666667  4.208     ]\n",
      " [-0.3452381  -0.91666667  4.212     ]\n",
      " [-0.3452381  -0.91666667  4.216     ]\n",
      " [-0.3452381  -0.91666667  4.22      ]\n",
      " [-0.3452381  -0.91666667  4.224     ]\n",
      " [-0.3452381  -0.91666667  4.228     ]\n",
      " [-0.3452381  -0.91666667  4.232     ]\n",
      " [-0.3452381  -0.91666667  4.236     ]\n",
      " [-0.3452381  -0.91666667  4.24      ]\n",
      " [-0.3452381  -0.91666667  4.244     ]\n",
      " [-0.3452381  -0.91666667  4.248     ]\n",
      " [-0.3452381  -0.91666667  4.252     ]\n",
      " [-0.3452381  -0.91666667  4.256     ]\n",
      " [-0.3452381  -0.91666667  4.26      ]\n",
      " [-0.3452381  -0.91666667  4.264     ]\n",
      " [-0.3452381  -0.91666667  4.268     ]\n",
      " [-0.3452381  -0.91666667  4.272     ]\n",
      " [-0.3452381  -0.91666667  4.276     ]\n",
      " [-0.3452381  -0.91666667  4.28      ]\n",
      " [-0.3452381  -0.91666667  4.284     ]\n",
      " [-0.3452381  -0.91666667  4.288     ]\n",
      " [-0.3452381  -0.91666667  4.292     ]\n",
      " [-0.3452381  -0.91666667  4.296     ]\n",
      " [-0.3452381  -0.91666667  4.3       ]\n",
      " [-0.3452381  -0.91666667  4.304     ]\n",
      " [-0.3452381  -0.91666667  4.308     ]\n",
      " [-0.3452381  -0.91666667  4.312     ]\n",
      " [-0.3452381  -0.91666667  4.316     ]\n",
      " [-0.3452381  -0.91666667  4.32      ]\n",
      " [-0.3452381  -0.91666667  4.324     ]\n",
      " [-0.3452381  -0.91666667  4.328     ]\n",
      " [-0.3452381  -0.91666667  4.332     ]\n",
      " [-0.3452381  -0.91666667  4.336     ]\n",
      " [-0.3452381  -0.91666667  4.34      ]\n",
      " [-0.3452381  -0.91666667  4.344     ]\n",
      " [-0.3452381  -0.91666667  4.348     ]\n",
      " [-0.3452381  -0.91666667  4.352     ]\n",
      " [-0.3452381  -0.91666667  4.356     ]\n",
      " [-0.3452381  -0.91666667  4.36      ]\n",
      " [-0.3452381  -0.91666667  4.364     ]\n",
      " [-0.3452381  -0.91666667  4.368     ]\n",
      " [-0.3452381  -0.91666667  4.372     ]\n",
      " [-0.3452381  -0.91666667  4.376     ]\n",
      " [-0.3452381  -0.91666667  4.38      ]\n",
      " [-0.3452381  -0.91666667  4.384     ]\n",
      " [-0.3452381  -0.91666667  4.388     ]\n",
      " [-0.3452381  -0.91666667  4.392     ]\n",
      " [-0.3452381  -0.91666667  4.396     ]\n",
      " [-0.3452381  -0.91666667  4.4       ]\n",
      " [-0.3452381  -0.91666667  4.404     ]\n",
      " [-0.3452381  -0.91666667  4.408     ]\n",
      " [-0.3452381  -0.91666667  4.412     ]\n",
      " [-0.3452381  -0.91666667  4.416     ]\n",
      " [-0.3452381  -0.91666667  4.42      ]\n",
      " [-0.3452381  -0.91666667  4.424     ]\n",
      " [-0.3452381  -0.91666667  4.428     ]\n",
      " [-0.3452381  -0.91666667  4.432     ]\n",
      " [-0.3452381  -0.91666667  4.436     ]\n",
      " [-0.3452381  -0.91666667  4.44      ]\n",
      " [-0.35714286 -0.83333333  4.444     ]\n",
      " [-0.35714286 -0.83333333  4.448     ]\n",
      " [-0.35714286 -0.83333333  4.452     ]\n",
      " [-0.35714286 -0.83333333  4.456     ]\n",
      " [-0.3452381  -0.79761905  4.46      ]\n",
      " [-0.3452381  -0.79761905  4.464     ]\n",
      " [-0.3452381  -0.79761905  4.468     ]\n",
      " [-0.3452381  -0.79761905  4.472     ]\n",
      " [-0.3452381  -0.79761905  4.476     ]\n",
      " [-0.33333333 -0.75        4.48      ]\n",
      " [-0.33333333 -0.75        4.484     ]\n",
      " [-0.33333333 -0.75        4.488     ]\n",
      " [-0.33333333 -0.75        4.492     ]\n",
      " [-0.32142857 -0.72619048  4.496     ]\n",
      " [-0.32142857 -0.72619048  4.5       ]\n",
      " [-0.32142857 -0.72619048  4.504     ]\n",
      " [-0.32142857 -0.72619048  4.508     ]\n",
      " [-0.30952381 -0.66666667  4.512     ]\n",
      " [-0.30952381 -0.66666667  4.516     ]\n",
      " [-0.30952381 -0.66666667  4.52      ]\n",
      " [-0.30952381 -0.66666667  4.524     ]\n",
      " [-0.27380952 -0.5952381   4.528     ]\n",
      " [-0.27380952 -0.5952381   4.532     ]\n",
      " [-0.27380952 -0.5952381   4.536     ]\n",
      " [-0.27380952 -0.5952381   4.54      ]\n",
      " [-0.23809524 -0.51190476  4.544     ]\n",
      " [-0.23809524 -0.51190476  4.548     ]\n",
      " [-0.23809524 -0.51190476  4.552     ]\n",
      " [-0.23809524 -0.51190476  4.556     ]\n",
      " [-0.22619048 -0.47619048  4.56      ]\n",
      " [-0.22619048 -0.47619048  4.564     ]\n",
      " [-0.22619048 -0.47619048  4.568     ]\n",
      " [-0.22619048 -0.47619048  4.572     ]\n",
      " [-0.22619048 -0.47619048  4.576     ]\n",
      " [-0.19047619 -0.38095238  4.58      ]\n",
      " [-0.19047619 -0.38095238  4.584     ]\n",
      " [-0.19047619 -0.38095238  4.588     ]\n",
      " [-0.19047619 -0.38095238  4.592     ]\n",
      " [-0.14285714 -0.28571429  4.596     ]\n",
      " [-0.14285714 -0.28571429  4.6       ]\n",
      " [-0.14285714 -0.28571429  4.604     ]\n",
      " [-0.14285714 -0.28571429  4.608     ]\n",
      " [-0.0952381  -0.19047619  4.612     ]\n",
      " [-0.0952381  -0.19047619  4.616     ]\n",
      " [-0.0952381  -0.19047619  4.62      ]\n",
      " [-0.0952381  -0.19047619  4.624     ]\n",
      " [-0.04761905 -0.0952381   4.628     ]\n",
      " [-0.04761905 -0.0952381   4.632     ]\n",
      " [-0.04761905 -0.0952381   4.636     ]\n",
      " [-0.04761905 -0.0952381   4.64      ]\n",
      " [-0.02380952 -0.04761905  4.644     ]\n",
      " [-0.02380952 -0.04761905  4.648     ]\n",
      " [-0.02380952 -0.04761905  4.652     ]\n",
      " [-0.02380952 -0.04761905  4.656     ]\n",
      " [-0.02380952 -0.04761905  4.66      ]\n",
      " [ 0.02380952  0.04761905  4.664     ]\n",
      " [ 0.02380952  0.04761905  4.668     ]\n",
      " [ 0.02380952  0.04761905  4.672     ]\n",
      " [ 0.02380952  0.04761905  4.676     ]\n",
      " [ 0.04761905  0.0952381   4.68      ]\n",
      " [ 0.04761905  0.0952381   4.684     ]\n",
      " [ 0.04761905  0.0952381   4.688     ]\n",
      " [ 0.04761905  0.0952381   4.692     ]\n",
      " [ 0.08333333  0.17857143  4.696     ]\n",
      " [ 0.08333333  0.17857143  4.7       ]\n",
      " [ 0.08333333  0.17857143  4.704     ]\n",
      " [ 0.08333333  0.17857143  4.708     ]\n",
      " [ 0.13095238  0.26190476  4.712     ]\n",
      " [ 0.13095238  0.26190476  4.716     ]\n",
      " [ 0.13095238  0.26190476  4.72      ]\n",
      " [ 0.13095238  0.26190476  4.724     ]\n",
      " [ 0.16666667  0.3452381   4.728     ]\n",
      " [ 0.16666667  0.3452381   4.732     ]\n",
      " [ 0.16666667  0.3452381   4.736     ]\n",
      " [ 0.16666667  0.3452381   4.74      ]\n",
      " [ 0.17857143  0.38095238  4.744     ]\n",
      " [ 0.17857143  0.38095238  4.748     ]\n",
      " [ 0.17857143  0.38095238  4.752     ]\n",
      " [ 0.17857143  0.38095238  4.756     ]\n",
      " [ 0.21428571  0.45238095  4.76      ]\n",
      " [ 0.21428571  0.45238095  4.764     ]\n",
      " [ 0.21428571  0.45238095  4.768     ]\n",
      " [ 0.21428571  0.45238095  4.772     ]\n",
      " [ 0.21428571  0.45238095  4.776     ]\n",
      " [ 0.25        0.52380952  4.78      ]\n",
      " [ 0.25        0.52380952  4.784     ]\n",
      " [ 0.25        0.52380952  4.788     ]\n",
      " [ 0.25        0.52380952  4.792     ]\n",
      " [ 0.26190476  0.57142857  4.796     ]\n",
      " [ 0.26190476  0.57142857  4.8       ]\n",
      " [ 0.26190476  0.57142857  4.804     ]\n",
      " [ 0.26190476  0.57142857  4.808     ]\n",
      " [ 0.28571429  0.64285714  4.812     ]\n",
      " [ 0.28571429  0.64285714  4.816     ]\n",
      " [ 0.28571429  0.64285714  4.82      ]\n",
      " [ 0.28571429  0.64285714  4.824     ]\n",
      " [ 0.30952381  0.71428571  4.828     ]\n",
      " [ 0.30952381  0.71428571  4.832     ]\n",
      " [ 0.30952381  0.71428571  4.836     ]\n",
      " [ 0.30952381  0.71428571  4.84      ]\n",
      " [ 0.33333333  0.79761905  4.844     ]\n",
      " [ 0.33333333  0.79761905  4.848     ]\n",
      " [ 0.33333333  0.79761905  4.852     ]\n",
      " [ 0.33333333  0.79761905  4.856     ]\n",
      " [ 0.3452381   0.8452381   4.86      ]\n",
      " [ 0.3452381   0.8452381   4.864     ]\n",
      " [ 0.3452381   0.8452381   4.868     ]\n",
      " [ 0.3452381   0.8452381   4.872     ]\n",
      " [ 0.3452381   0.8452381   4.876     ]\n",
      " [ 0.38095238  0.92857143  4.88      ]\n",
      " [ 0.38095238  0.92857143  4.884     ]\n",
      " [ 0.38095238  0.92857143  4.888     ]\n",
      " [ 0.38095238  0.92857143  4.892     ]\n",
      " [ 0.4047619   1.02380952  4.896     ]\n",
      " [ 0.4047619   1.02380952  4.9       ]\n",
      " [ 0.4047619   1.02380952  4.904     ]\n",
      " [ 0.4047619   1.02380952  4.908     ]\n",
      " [ 0.42857143  1.10714286  4.912     ]\n",
      " [ 0.42857143  1.10714286  4.916     ]\n",
      " [ 0.42857143  1.10714286  4.92      ]\n",
      " [ 0.42857143  1.10714286  4.924     ]\n",
      " [ 0.45238095  1.20238095  4.928     ]\n",
      " [ 0.45238095  1.20238095  4.932     ]\n",
      " [ 0.45238095  1.20238095  4.936     ]\n",
      " [ 0.45238095  1.20238095  4.94      ]\n",
      " [ 0.47619048  1.26190476  4.944     ]\n",
      " [ 0.47619048  1.26190476  4.948     ]\n",
      " [ 0.47619048  1.26190476  4.952     ]\n",
      " [ 0.47619048  1.26190476  4.956     ]\n",
      " [ 0.5         1.35714286  4.96      ]\n",
      " [ 0.5         1.35714286  4.964     ]\n",
      " [ 0.5         1.35714286  4.968     ]\n",
      " [ 0.5         1.35714286  4.972     ]\n",
      " [ 0.5         1.35714286  4.976     ]\n",
      " [ 0.52380952  1.45238095  4.98      ]\n",
      " [ 0.52380952  1.45238095  4.984     ]\n",
      " [ 0.52380952  1.45238095  4.988     ]\n",
      " [ 0.52380952  1.45238095  4.992     ]\n",
      " [ 0.54761905  1.5         4.996     ]\n",
      " [ 0.54761905  1.5         5.        ]\n",
      " [ 0.54761905  1.5         5.004     ]\n",
      " [ 0.54761905  1.5         5.008     ]\n",
      " [ 0.57142857  1.5952381   5.012     ]\n",
      " [ 0.57142857  1.5952381   5.016     ]\n",
      " [ 0.57142857  1.5952381   5.02      ]\n",
      " [ 0.57142857  1.5952381   5.024     ]\n",
      " [ 0.5952381   1.67857143  5.028     ]\n",
      " [ 0.5952381   1.67857143  5.032     ]\n",
      " [ 0.5952381   1.67857143  5.036     ]\n",
      " [ 0.5952381   1.67857143  5.04      ]\n",
      " [ 0.60714286  1.76190476  5.044     ]\n",
      " [ 0.60714286  1.76190476  5.048     ]\n",
      " [ 0.60714286  1.76190476  5.052     ]\n",
      " [ 0.60714286  1.76190476  5.056     ]\n",
      " [ 0.60714286  1.76190476  5.06      ]\n",
      " [ 0.61904762  1.79761905  5.064     ]\n",
      " [ 0.61904762  1.79761905  5.068     ]\n",
      " [ 0.61904762  1.79761905  5.072     ]\n",
      " [ 0.61904762  1.79761905  5.076     ]\n",
      " [ 0.63095238  1.88095238  5.08      ]\n",
      " [ 0.63095238  1.88095238  5.084     ]\n",
      " [ 0.63095238  1.88095238  5.088     ]\n",
      " [ 0.63095238  1.88095238  5.092     ]\n",
      " [ 0.64285714  1.94047619  5.096     ]\n",
      " [ 0.64285714  1.94047619  5.1       ]\n",
      " [ 0.64285714  1.94047619  5.104     ]\n",
      " [ 0.64285714  1.94047619  5.108     ]\n",
      " [ 0.64285714  1.98809524  5.112     ]\n",
      " [ 0.64285714  1.98809524  5.116     ]\n",
      " [ 0.64285714  1.98809524  5.12      ]\n",
      " [ 0.64285714  1.98809524  5.124     ]\n",
      " [ 0.6547619   2.03571429  5.128     ]\n",
      " [ 0.6547619   2.03571429  5.132     ]\n",
      " [ 0.6547619   2.03571429  5.136     ]\n",
      " [ 0.6547619   2.03571429  5.14      ]\n",
      " [ 0.6547619   2.03571429  5.144     ]\n",
      " [ 0.6547619   2.03571429  5.148     ]\n",
      " [ 0.6547619   2.03571429  5.152     ]\n",
      " [ 0.6547619   2.03571429  5.156     ]\n",
      " [ 0.6547619   2.08333333  5.16      ]\n",
      " [ 0.6547619   2.08333333  5.164     ]\n",
      " [ 0.6547619   2.08333333  5.168     ]\n",
      " [ 0.6547619   2.08333333  5.172     ]\n",
      " [ 0.6547619   2.08333333  5.176     ]\n",
      " [ 0.6547619   2.11904762  5.18      ]\n",
      " [ 0.6547619   2.11904762  5.184     ]\n",
      " [ 0.6547619   2.11904762  5.188     ]\n",
      " [ 0.6547619   2.11904762  5.192     ]\n",
      " [ 0.6547619   2.11904762  5.196     ]\n",
      " [ 0.6547619   2.11904762  5.2       ]\n",
      " [ 0.6547619   2.11904762  5.204     ]\n",
      " [ 0.6547619   2.11904762  5.208     ]\n",
      " [ 0.6547619   2.13095238  5.212     ]\n",
      " [ 0.6547619   2.13095238  5.216     ]\n",
      " [ 0.6547619   2.13095238  5.22      ]\n",
      " [ 0.6547619   2.13095238  5.224     ]\n",
      " [ 0.64285714  2.13095238  5.228     ]]\n"
     ]
    }
   ],
   "source": [
    "## ============== function to prepare strokes and stuff to put into model and behavior objects\n",
    "\n",
    "from pythonlib.tools.stroketools import standardizeStrokes\n",
    "\n",
    "\n",
    "strokes = standardizeStrokes(strokes)\n",
    "print(strokes[0])\n",
    "    "
   ]
  },
  {
   "cell_type": "code",
   "execution_count": null,
   "metadata": {},
   "outputs": [],
   "source": [
    "# given set of strokes, compute distance traveled\n",
    "from pythonlib.tools.stroketools import computeDistTraveled\n",
    "\n",
    "# def computeDistTraveled(strokes, origin, include_lift_periods=True):\n",
    "#     \"\"\" assume start at origin. assumes straight line movements.\n",
    "#     by default includes times when not putting down ink.\n",
    "#     IGNORES third column(time) - i.e., assuems that datpoints are in \n",
    "#     chron order.\"\"\"\n",
    "    \n",
    "#     O = np.array(origin, origin, origin)\n",
    "#     assert O.shape==[3,2]\n",
    "    \n",
    "#     strokes.insert(0, O)\n",
    "    \n",
    "#     cumdist = 0\n",
    "#     dists = []\n",
    "#     for i, S1, S2 in enumerate(zip(strokes[:-1], strokes[1:])):\n",
    "#         dists.append(np.linalg.norm(S2[0,[0,1]] - S1[-1,[0,1]]))\n",
    "#         dists.append(np.linalg.norm(S2[-1,[0,1]] - S2[0,[0,1]]))\n",
    "#     print(dists)\n",
    "    \n",
    "    \n",
    "\n",
    "            \n",
    "            \n",
    "            \n",
    "        "
   ]
  },
  {
   "cell_type": "code",
   "execution_count": 211,
   "metadata": {},
   "outputs": [],
   "source": [
    "from pythonlib.drawmodel.analysis import makeDataset\n",
    "\n",
    "# def makeDataset(filedata, trials_list):\n",
    "#     \"\"\" helper to maek a Dataset object with the trials included here\"\"\"\n",
    "#     # 1) behavior\n",
    "#     strokes_all = getMultTrialsStrokes(filedata, trials_list)\n",
    "\n",
    "#     # 2) task\n",
    "#     tasks = [getTrialsTask(filedata, t) for t in trials_list]\n",
    "#     fix_all_task = [getTrialsFix(filedata, t)[\"fixpos_pixels\"] for t in trials_list]\n",
    "#     strokes_all_task = [getTrialsTaskAsStrokes(filedata, t, fake_timesteps=\"from_orig\") for t in trials_list]\n",
    "#     for strokes, t, f in zip(strokes_all_task, tasks, fix_all_task):\n",
    "#         t[\"strokes\"] = strokes\n",
    "#         t[\"fixpos\"] = f\n",
    "        \n",
    "#     dset = Dataset(strokes_all, tasks)\n",
    "#     return dset\n",
    "\n",
    "\n",
    "    "
   ]
  },
  {
   "cell_type": "code",
   "execution_count": 212,
   "metadata": {},
   "outputs": [],
   "source": [
    "def _run(prior_ver, likeli_ver=\"split_segments\", posterior_ver=\"weighted\", title=\"\"):\n",
    "    dset = makeDataset(filedata, trials_list)\n",
    "    priorFunction, NORM_VER = makePriorFunction(ver=prior_ver)\n",
    "    likeliFunction = makeLikeliFunction(ver=likeli_ver)\n",
    "    mod = Model(modelname, priorFunction, likeliFunction)\n",
    "    dset.applyModel(mod, prior_ver= NORM_VER, posterior_ver=posterior_ver)\n",
    "    dset.plotPosteriorHist()\n",
    "    plt.title(title)\n",
    "    return dset"
   ]
  },
  {
   "cell_type": "code",
   "execution_count": 240,
   "metadata": {},
   "outputs": [
    {
     "name": "stdout",
     "output_type": "stream",
     "text": [
      "[getTrialsStrokes] removing stroke for calc vel since shorter than window\n",
      "NOTE: should get parses in both directions [default for getParses()], since this distance function cares about the chron order.\n",
      "[getTrialsStrokes] removing stroke for calc vel since shorter than window\n",
      "NOTE: should get parses in both directions [default for getParses()], since this distance function cares about the chron order.\n",
      "[getTrialsStrokes] removing stroke for calc vel since shorter than window\n",
      "NOTE: should get parses in both directions [default for getParses()], since this distance function cares about the chron order.\n",
      "[getTrialsStrokes] removing stroke for calc vel since shorter than window\n",
      "NOTE: should get parses in both directions [default for getParses()], since this distance function cares about the chron order.\n",
      "[getTrialsStrokes] removing stroke for calc vel since shorter than window\n",
      "NOTE: should get parses in both directions [default for getParses()], since this distance function cares about the chron order.\n",
      "NOTE: the x and y lims are hacky, should change\n",
      "[getTrialsStrokes] removing stroke for calc vel since shorter than window\n",
      "NOTE: should get parses in both directions [default for getParses()], since this distance function cares about the chron order.\n"
     ]
    },
    {
     "data": {
      "image/png": "[encoded data removed]",
      "text/plain": [
       "<Figure size 432x288 with 2 Axes>"
      ]
     },
     "metadata": {
      "needs_background": "light"
     },
     "output_type": "display_data"
    },
    {
     "data": {
      "image/png": "[encoded data removed]",
      "text/plain": [
       "<Figure size 432x288 with 2 Axes>"
      ]
     },
     "metadata": {
      "needs_background": "light"
     },
     "output_type": "display_data"
    },
    {
     "data": {
      "image/png": "[encoded data removed]",
      "text/plain": [
       "<Figure size 432x288 with 2 Axes>"
      ]
     },
     "metadata": {
      "needs_background": "light"
     },
     "output_type": "display_data"
    },
    {
     "data": {
      "image/png": "[encoded data removed]",
      "text/plain": [
       "<Figure size 432x288 with 2 Axes>"
      ]
     },
     "metadata": {
      "needs_background": "light"
     },
     "output_type": "display_data"
    },
    {
     "data": {
      "image/png": "[encoded data removed]",
      "text/plain": [
       "<Figure size 432x288 with 2 Axes>"
      ]
     },
     "metadata": {
      "needs_background": "light"
     },
     "output_type": "display_data"
    },
    {
     "data": {
      "image/png": "[encoded data removed]",
      "text/plain": [
       "<Figure size 1296x216 with 3 Axes>"
      ]
     },
     "metadata": {
      "needs_background": "light"
     },
     "output_type": "display_data"
    },
    {
     "data": {
      "image/png": "[encoded data removed]",
      "text/plain": [
       "<Figure size 432x288 with 2 Axes>"
      ]
     },
     "metadata": {
      "needs_background": "light"
     },
     "output_type": "display_data"
    }
   ],
   "source": [
    "# 1) random model\n",
    "_run(\"uniform\", \"split_segments\", \"weighted\", \"uniform\")\n",
    "\n",
    "# 2) positive control model [max likelis]\n",
    "_run(\"uniform\", \"split_segments\", \"maxlikeli\", \"maxlikeli\")\n",
    "\n",
    "\n",
    "# 3) positive control model [weigh likelis by softmax(likelis)\n",
    "_run(\"uniform\", \"split_segments\", \"likeli_weighted\", \"likeli_weighted\")\n",
    "\n",
    "\n",
    "# 4) Hypothesis: distance finger travel\n",
    "dset = _run(\"distance_travel\", title=\"distance_travel\")\n",
    "\n",
    "# 5) Hypothesis, angle bias\n",
    "dset = _run(\"angle_test\", title=\"angle_test\")\n",
    "\n",
    "dset.plotExampleTrial(3)\n",
    "\n",
    "# 5) Hypothesis, angle bias\n",
    "dset = _run(\"angle_test\", title=\"angle_test\")"
   ]
  }
 ],
 "metadata": {
  "kernelspec": {
   "display_name": "Python 3",
   "language": "python",
   "name": "python3"
  },
  "language_info": {
   "codemirror_mode": {
    "name": "ipython",
    "version": 3
   },
   "file_extension": ".py",
   "mimetype": "text/x-python",
   "name": "python",
   "nbconvert_exporter": "python",
   "pygments_lexer": "ipython3",
   "version": "3.7.6"
  }
 },
 "nbformat": 4,
 "nbformat_minor": 2
}
