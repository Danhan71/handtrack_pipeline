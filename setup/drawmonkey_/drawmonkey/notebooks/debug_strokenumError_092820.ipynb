{
 "cells": [
  {
   "cell_type": "code",
   "execution_count": 3,
   "metadata": {},
   "outputs": [
    {
     "data": {
      "text/plain": [
       "' See evernote \"ANALYSIS - line5\" for details.\\nProblem in beh eval stroke num count, and in model score. Here figures out the reason\\n'"
      ]
     },
     "execution_count": 3,
     "metadata": {},
     "output_type": "execute_result"
    }
   ],
   "source": [
    "\"\"\" See evernote \"ANALYSIS - line5\" for details.\n",
    "Problem in beh eval stroke num count, and in model score. Here figures out the reason\n",
    "\"\"\""
   ]
  },
  {
   "cell_type": "code",
   "execution_count": null,
   "metadata": {},
   "outputs": [],
   "source": [
    "\n",
    "%load_ext autoreload\n",
    "%autoreload 2\n",
    "\n",
    "%cd ..\n",
    "\n",
    "from tools.utils import * \n",
    "from tools.plots import *\n",
    "from tools.analy import *\n",
    "from tools.calc import *\n",
    "from tools.analyplot import *\n",
    "from tools.preprocess import *\n",
    "from tools.dayanalysis import *\n",
    "\n",
    "from pythonlib.drawmodel.analysis import *\n",
    "from pythonlib.tools.stroketools import *"
   ]
  },
  {
   "cell_type": "code",
   "execution_count": null,
   "metadata": {},
   "outputs": [],
   "source": [
    "fd = loadSingleData(\"Red\", \"200922\", \"lines5\", 1, load_resaved_data=True, resave_overwrite=False)"
   ]
  },
  {
   "cell_type": "markdown",
   "metadata": {},
   "source": [
    "### Fore ach trial, print infomration, different methods for extracting stroke numbers. See which trials have problems and mark those "
   ]
  },
  {
   "cell_type": "code",
   "execution_count": null,
   "metadata": {},
   "outputs": [],
   "source": [
    "## for all trials \n",
    "\n",
    "print(\"trial, len(stroe by peanut) - current stro num -- len(time of raise) - stroke score\")\n",
    "nbad = 0\n",
    "nall = 0\n",
    "TARGNUMSTROKE = 2\n",
    "for t in getIndsTrials(fd):\n",
    "    if getTrialsFixationSuccess(fd, t):\n",
    "\n",
    "#         print(\"Num finger raises (old code):\")\n",
    "        numraise = getTrialsOutcomes(fd, t)[\"num_finger_raises\"][0][0]\n",
    "\n",
    "        # online tracking\n",
    "        currentnum = fd[\"TrialRecord\"][\"User\"][\"AdapterParams\"][f\"{t}\"][\"bb\"][\"CurrentStrokeNum\"]\n",
    "\n",
    "        # num peanut raises\n",
    "        timesOfRaises = getTrialsTimesOfRaises(fd, t)\n",
    "        num_timesofraise = len(timesOfRaises)\n",
    "\n",
    "        # num strokes by peanuts\n",
    "        num_strokes_by_peanut = len(getTrialsStrokesByPeanuts(fd, t))\n",
    "\n",
    "        # num nans\n",
    "        touch = getTrialsTouchData(fd, t)\n",
    "        y = ~np.isnan(touch[:,0])\n",
    "        num_touch_nans = np.sum(np.diff(y)==1)\n",
    "\n",
    "        # stroke score\n",
    "        strok_score = getTrialsOutcomesWrapper(fd, t)[\"beh_evaluation\"][\"output\"][\"numstrokes\"][\"value\"][0][0]\n",
    "\n",
    "\n",
    "        assert numraise==num_timesofraise\n",
    "#         assert numraise==num_strokes_by_peanut\n",
    "\n",
    "        if strok_score != -np.abs(num_strokes_by_peanut-TARGNUMSTROKE):\n",
    "            tmp = \"**\"\n",
    "            nbad +=1\n",
    "        else:\n",
    "            tmp = \"\"\n",
    "            \n",
    "        if currentnum!=num_strokes_by_peanut+1:\n",
    "            tmp2 = \"##\"\n",
    "        else:\n",
    "            tmp2 = \"\"\n",
    "\n",
    "#         print([tmp, t, currentnum[0][0], num_timesofraise, num_strokes_by_peanut, num_touch_nans, strok_score])\n",
    "        print([t, tmp, num_strokes_by_peanut, currentnum[0][0], '--', num_timesofraise, strok_score, tmp2])\n",
    "\n",
    "        nall+=1\n",
    "\n",
    "print(f\"numbad/all: {nbad}/{nall}\")\n",
    "\n",
    "\n",
    "    "
   ]
  },
  {
   "cell_type": "markdown",
   "metadata": {},
   "source": [
    "### Once you have trials you want to check, type them in below. See wghat is causes the discrepancy"
   ]
  },
  {
   "cell_type": "code",
   "execution_count": null,
   "metadata": {},
   "outputs": [],
   "source": [
    "%matplotlib inline\n",
    "# %matplotlib notebook\n",
    "\n",
    "t=883\n",
    "plotTrialSingleOverview(fd, t);\n",
    "\n",
    "print(getTrialsOutcomesWrapper(fd, t))\n",
    "\n",
    "\n",
    "strokes = getTrialsStrokes(fd, t)\n",
    "\n",
    "plt.figure(figsize=(15,10))\n",
    "for i, s in enumerate(strokes):\n",
    "    plt.plot(s[:,2], i*np.ones_like(s[:,2]), 'o')\n",
    "\n",
    "peanuts = getTrialsPeanutPos(fd, t)\n",
    "timesOfRaises = fd[\"TrialRecord\"][\"User\"][\"TrialData\"][f\"{t}\"][\"TimesOfRaises\"][0]\n",
    "plt.plot(peanuts[:,2], (i+1)*np.ones_like(peanuts[:,2]), 'xk');\n",
    "for time in timesOfRaises:\n",
    "    plt.axvline(time/1000)\n",
    "    \n",
    "    \n",
    "touch = getTrialsTouchData(fd, t)\n",
    "y = ~np.isnan(touch[:,0])\n",
    "plt.figure()\n",
    "plt.plot(y)\n",
    "plt.title(\"when touch data not nan\")\n",
    "plt.xlabel(\"sample num\")\n",
    "\n",
    "plt.figure()\n",
    "plt.plot(touch[:,2], touch[:,1], 'ob');\n",
    "\n",
    "\n",
    "print(\"Num finger raises (old code):\")\n",
    "print(getTrialsOutcomes(fd, t)[\"num_finger_raises\"][0][0])"
   ]
  },
  {
   "cell_type": "code",
   "execution_count": 2,
   "metadata": {},
   "outputs": [
    {
     "ename": "SyntaxError",
     "evalue": "invalid syntax (<ipython-input-2-6407be74c614>, line 3)",
     "output_type": "error",
     "traceback": [
      "\u001b[0;36m  File \u001b[0;32m\"<ipython-input-2-6407be74c614>\"\u001b[0;36m, line \u001b[0;32m3\u001b[0m\n\u001b[0;31m    - current_strok_num (online) is same as offline processed nums trokes (plus 1). this is consistently true, when false, is generally beucase ignored a stroke online since too short\u001b[0m\n\u001b[0m                                          ^\u001b[0m\n\u001b[0;31mSyntaxError\u001b[0m\u001b[0;31m:\u001b[0m invalid syntax\n"
     ]
    }
   ],
   "source": [
    "## SUMMARY:\n",
    "\n",
    "- current_strok_num (online) is same as offline processed nums trokes (plus 1). this is consistently true, when false, is generally beucase ignored a stroke online since too short\n",
    "- Times of Raises is Bad. it is same as num raises (old code), which also counts jumps as raises. For pancho thios is bad, since he touches light, so seems like make jumps. \n",
    "\n",
    "- Beh evaluator uses Times of Raises to segment peanut positions, so this expaluisn whay the score (but numstrokes and model scroe) are off.\n",
    "\n",
    "- For Pancho about 10 -30 % trials were wrong during line5, for Red about 1-10%\n",
    "\n"
   ]
  }
 ],
 "metadata": {
  "kernelspec": {
   "display_name": "Python 3",
   "language": "python",
   "name": "python3"
  },
  "language_info": {
   "codemirror_mode": {
    "name": "ipython",
    "version": 3
   },
   "file_extension": ".py",
   "mimetype": "text/x-python",
   "name": "python",
   "nbconvert_exporter": "python",
   "pygments_lexer": "ipython3",
   "version": "3.7.6"
  }
 },
 "nbformat": 4,
 "nbformat_minor": 2
}
