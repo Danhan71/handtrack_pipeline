{
 "cells": [
  {
   "cell_type": "code",
   "execution_count": null,
   "metadata": {},
   "outputs": [],
   "source": [
    "\"\"\"\n",
    "goal to check which tasks have been presented across multipel expts - to see those in G4 tasks\n",
    "\"\"\"\n"
   ]
  },
  {
   "cell_type": "code",
   "execution_count": 1,
   "metadata": {},
   "outputs": [
    {
     "name": "stdout",
     "output_type": "stream",
     "text": [
      "/data1/code/python/drawmonkey\n",
      "NOTE: need to not overwrite strokes_all_task, because then the orders saved will stop being accurate. Modify\n"
     ]
    }
   ],
   "source": [
    "%load_ext autoreload\n",
    "%autoreload 2\n",
    "\n",
    "%cd ..\n",
    "\n",
    "from tools.utils import * \n",
    "from tools.plots import *\n",
    "from tools.analy import *\n",
    "from tools.calc import *\n",
    "from tools.analyplot import *\n",
    "from tools.preprocess import *\n",
    "from tools.dayanalysis import *\n",
    "from analysis.line2 import *\n",
    "from analysis.probedatTaskmodel import *\n",
    "from pythonlib.drawmodel.analysis import *\n",
    "from pythonlib.tools.stroketools import *"
   ]
  },
  {
   "cell_type": "code",
   "execution_count": null,
   "metadata": {},
   "outputs": [],
   "source": [
    "SDIR = \"/data2/analyses/database/tasks_all_time\"\n",
    "# import os\n",
    "os.makedirs(SDIR, exist_ok=True)\n",
    "\n",
    "\n"
   ]
  },
  {
   "cell_type": "code",
   "execution_count": null,
   "metadata": {},
   "outputs": [],
   "source": [
    "overwrite=True"
   ]
  },
  {
   "cell_type": "code",
   "execution_count": null,
   "metadata": {},
   "outputs": [],
   "source": [
    "# === 1) load probedat\n",
    "\n",
    "DAT = []\n",
    "# exptlist = [\"arc1\", \"arc2\", \n",
    "#             \"biasdir3\", \"biasdir4\", \"biasdir5\", \"biasdir6\", \"biasdir7_1\", \"biasdir7_2\",\n",
    "#             \"figures3\", \"figures4\", \"figures5\", \"figures6\", \"figures7v2\", \"figures8\", \"figures89\",\n",
    "#             \"lines2\", \"lines5\", \"lines5redo\",\n",
    "#             \"shapes1\", \"shapes2\", \"shapes3\", \"shapes4\"\n",
    "#            ]\n",
    "exptlist = [\"figures89\"]\n",
    "# exptlist = [\n",
    "#             \"lines2\", \"lines5\", \"lines5redo\",\n",
    "#             \"shapes1\", \"shapes2\", \"shapes3\", \"shapes4\"\n",
    "#            ]\n",
    "for expt in exptlist:\n",
    "    for animal in [\"Red\"]:\n",
    "#         animal = \"Pancho\"\n",
    "        \n",
    "        if not overwrite:\n",
    "            # check whether this exists\n",
    "            fcheck = f\"{SDIR}/{animal}-{expt}.pkl\"\n",
    "#             print(fcheck)\n",
    "            exists = os.path.exists(fcheck)\n",
    "            if exists:\n",
    "                print(f\"skipping since exists: {fcheck}\")\n",
    "                continue\n",
    "            \n",
    "        FD, exptMetaDat = loadMultDataForExpt(expt, animal, whichdates=\"all\", metadatonly=False)\n",
    "\n",
    "        PD = loadProbeDatWrapper(FD, exptMetaDat)\n",
    "        P = ProbedatTaskmodel(PD, exptMetaDat)\n",
    "        Pp = P.pandas()\n",
    "        \n",
    "        if len(Pp)==0:\n",
    "            continue\n",
    "\n",
    "        # ================ extract just the essentials \n",
    "        # Return a stripped down dataframe\n",
    "\n",
    "        # - only keep Fixed tasks\n",
    "        idx_good = P.filterPandas({\"random_task\":[False]}, return_indices=True)\n",
    "        P = ProbedatTaskmodel([P.Probedat[i] for i in idx_good], P.Metadat)\n",
    "        Pp = P.pandas()\n",
    "\n",
    "        keys_to_keep = [\"animal\", \"expt\", \"date\", \"block\", \"trialcode\", \"taskgroup\", \"kind\", \"unique_task_name\", \n",
    "                        \"task_stagecategory\", \"prototype\", \"epoch\"]\n",
    "        for k in list(Pp.columns):\n",
    "            if k not in keys_to_keep:\n",
    "                if k in Pp.columns:\n",
    "                    del Pp[k]\n",
    "\n",
    "        # - also extract task pts\n",
    "        taskstrokes = P.getTrialsHelper(\"getTrialsTaskAsStrokes\", \"all\")\n",
    "        Pp[\"strokes_task\"] = taskstrokes\n",
    "\n",
    "        # ===== save\n",
    "        Pp.to_pickle(f\"{SDIR}/{animal}-{expt}.pkl\")\n",
    "\n",
    "        # ===== collect\n",
    "        DAT.append(Pp)\n",
    "\n",
    "        #"
   ]
  },
  {
   "cell_type": "markdown",
   "metadata": {},
   "source": [
    "## LOAD AND ANALYZE\n"
   ]
  },
  {
   "cell_type": "code",
   "execution_count": 2,
   "metadata": {},
   "outputs": [],
   "source": [
    "from pythonlib.tools.expttools import makeTimeStamp\n",
    "SDIR = \"/data2/analyses/database/tasks_all_time\"\n",
    "SDIRPLOTS = f\"{SDIR}/figures/{makeTimeStamp(datefirst=False)}\"\n",
    "os.makedirs(SDIRPLOTS, exist_ok=True)\n"
   ]
  },
  {
   "cell_type": "code",
   "execution_count": null,
   "metadata": {},
   "outputs": [],
   "source": [
    "import glob\n",
    "from pythonlib.tools.snstools import rotateLabel\n",
    "\n",
    "plotall = False\n",
    "\n",
    "for animal in [\"Red\"]:\n",
    "\n",
    "    dirs = glob.glob(f\"{SDIR}/{animal}*.pkl\")\n",
    "    DF = pd.DataFrame()\n",
    "    for d in dirs:\n",
    "        print(d)\n",
    "        df = pd.read_pickle(d)\n",
    "        DF = DF.append(df)\n",
    "\n",
    "    DF = DF.reset_index()\n",
    "    DF = DF.sort_values(\"date\")\n",
    "\n",
    "    # == plot all\n",
    "    if plotall:\n",
    "        H = 160\n",
    "        ax = sns.catplot(data=DF, x=\"expt\", y=\"unique_task_name\", hue=\"task_stagecategory\", aspect = 1/5, height = H)\n",
    "        rotateLabel(ax)\n",
    "        ax.savefig(f\"{SDIRPLOTS}/overview-{animal}.pdf\")\n",
    "\n",
    "    # === just subset\n",
    "    H = 100\n",
    "    DFthis = DF[DF[\"expt\"].isin([\"lines5\", \"arc2\", \"shapes2\", \"shapes3\", \"shapes4\", \"figures9\"])]\n",
    "    ax = sns.catplot(data=DFthis, x=\"expt\", y=\"unique_task_name\", hue=\"task_stagecategory\", aspect = 1/5, height = H)\n",
    "    rotateLabel(ax)\n",
    "    ax.savefig(f\"{SDIRPLOTS}/overview-lines5_arc2_shapes234_figures9_{animal}.pdf\")\n",
    "\n",
    "    # == separate by taskgroup:\n",
    "    for taskgroup in set(DF[\"taskgroup\"]):\n",
    "        DFthis = DF[DF[\"taskgroup\"]==taskgroup]\n",
    "        ax = sns.catplot(data=DFthis, x=\"expt\", y=\"unique_task_name\", hue=\"task_stagecategory\", aspect = 1/5, height = 80)\n",
    "\n",
    "        rotateLabel(ax)\n",
    "        ax.savefig(f\"{SDIRPLOTS}/overview-taskgroup_{taskgroup}-{animal}.pdf\")\n",
    "\n",
    "    # == plot, only tasks that occur across multiple epxts\n",
    "    tasklist = set(DF[\"unique_task_name\"])\n",
    "    tasksgood = []\n",
    "    for task in tasklist:\n",
    "        exptsthis = set(DF[DF[\"unique_task_name\"]==task][\"expt\"].values)\n",
    "        if len(exptsthis)>1:\n",
    "            # then keep\n",
    "            tasksgood.append(task)\n",
    "\n",
    "    print(\"these tasks present over multiple expts\")\n",
    "    print(len(tasksgood))\n",
    "    print(\"total num tasks\")\n",
    "    print(len(tasklist))\n",
    "    # print(tasksgood)\n",
    "\n",
    "    H = 100\n",
    "    DFthis = DF[DF[\"unique_task_name\"].isin(tasksgood)]\n",
    "    ax = sns.catplot(data=DFthis, x=\"expt\", y=\"unique_task_name\", hue=\"task_stagecategory\", aspect = 1/5, height = H)\n",
    "    rotateLabel(ax)\n",
    "    ax.savefig(f\"{SDIRPLOTS}/overview-tasksinmultexpt_{animal}.pdf\")\n",
    "\n"
   ]
  },
  {
   "cell_type": "code",
   "execution_count": null,
   "metadata": {},
   "outputs": [],
   "source": [
    "fd = P.fd(1)\n",
    "\n",
    "fd[\"params\"]"
   ]
  },
  {
   "cell_type": "code",
   "execution_count": null,
   "metadata": {},
   "outputs": [],
   "source": [
    "# === FIND A PARTICULAR TASK ACROSS ALL DAYS. Print and plot\n",
    "inds = list(np.where([\"tri_sq_prog_1a_2\" in v for v in DF[\"unique_task_name\"].values])[0])\n",
    "for i in inds:\n",
    "    print(f\"-- {i} -- {DF['unique_task_name'].values[i]} -- {DF['expt'].values[i]}\")\n",
    "#     print(i)\n",
    "#     print(DF[\"unique_task_name\"].values[i])\n",
    "#     print(DF[\"expt\"].values[i])\n",
    "    \n",
    "# print(inds)\n",
    "# print(DF[\"unique_task_name\"].values[inds])\n",
    "# print(DF[\"unique_task_name\"].values[inds[0]])\n",
    "# print(DF[\"unique_task_name\"].values[inds[-1]])\n",
    "# print(DF[\"date\"].values[inds])\n",
    "      \n",
    "fig, ax = plt.subplots(figsize=(10,10))\n",
    "\n",
    "strokes1 = DF[\"strokes_task\"].values[inds[0]]\n",
    "strokes2 = DF[\"strokes_task\"].values[inds[-1]]\n",
    "plotDatStrokes(strokes1, ax)\n",
    "plotDatStrokes(strokes2, ax, plotver=\"strokes\")\n",
    "ax.set_xlim([-300, 300])\n",
    "ax.set_ylim([-600, 600])\n",
    "\n",
    "\n",
    "print(strokes2)"
   ]
  },
  {
   "cell_type": "code",
   "execution_count": null,
   "metadata": {},
   "outputs": [],
   "source": [
    "i1 = 6121\n",
    "i2 = 15287\n",
    "\n",
    "print(DF.iloc[i1][\"strokes_task\"][0][0])\n",
    "print(DF.iloc[i2][\"strokes_task\"][0][0])\n",
    "\n",
    "print(DF.iloc[i1][\"unique_task_name\"])\n",
    "print(DF.iloc[i2][\"unique_task_name\"])\n",
    "\n",
    "strokes1 = DF[\"strokes_task\"].values[i1]\n",
    "strokes2 = DF[\"strokes_task\"].values[i2]\n",
    "fig, ax = plt.subplots(figsize=(10,10))\n",
    "plotDatStrokes(strokes1, ax)\n",
    "plotDatStrokes(strokes2, ax, plotver=\"strokes\")\n",
    "\n",
    "compareTasks(strokes1, strokes2, input_strokes_directly=True)"
   ]
  },
  {
   "cell_type": "code",
   "execution_count": 13,
   "metadata": {},
   "outputs": [
    {
     "name": "stdout",
     "output_type": "stream",
     "text": [
      "This is metadat:\n",
      "{'sdate': 210207, 'edate': 210208, 'strokmodel_kind': None, 'strokmodel_tstamp': None, 'datecategories': {'210207': 1, '210208': 1}, 'dates_for_summary': ['210207', '210208'], 'matchedstrokes': None, 'exptnames': ['shapes2'], 'tasknames_G1': [], 'tasknames_G2': [], 'tasknames_G3': ['tri_sq_prog_1a', 'tri_sq_prog_1b'], 'description': '', 'expt': 'shapes2', 'task_train_test': {'probe1_liketrain': 'train', 'probe1_nostrokeconstraint': 'train', 'probe2_liketrain': 'train', 'probe2_nostrokeconstraint': 'train', 'probe3_hdpos': 'test', 'probe1': 'train', 'probe2': 'train', 'probe3': 'test', 'probe4': 'test', 'train': 'train'}}\n",
      "\n",
      "Getting these dates:\n",
      "['210208']\n",
      "Red 210208 shapes2 0\n",
      "- No h5 file for Red, 210208, shapes2, 0 - returning None!\n",
      "Red 210208 shapes2 1\n",
      "-- loaded presaved data: /data2/animals/Red/210208/210208_154310_shapes2_Red_1.pkl\n",
      "got 165 total trials\n",
      "appending fd for sess 1\n",
      "Red 210208 shapes2 2\n",
      "-- loaded presaved data: /data2/animals/Red/210208/210208_161846_shapes2_Red_2.pkl\n",
      "got 570 total trials\n",
      "appending fd for sess 2\n",
      "Red 210208 shapes2 3\n",
      "- No h5 file for Red, 210208, shapes2, 3 - returning None!\n",
      "Red 210208 shapes2 4\n",
      "- No h5 file for Red, 210208, shapes2, 4 - returning None!\n",
      "Red 210208 shapes2 5\n",
      "- No h5 file for Red, 210208, shapes2, 5 - returning None!\n",
      "Red 210208 shapes2 6\n",
      "- No h5 file for Red, 210208, shapes2, 6 - returning None!\n",
      "Red 210208 shapes2 7\n",
      "- No h5 file for Red, 210208, shapes2, 7 - returning None!\n",
      "Red 210208 shapes2 8\n",
      "- No h5 file for Red, 210208, shapes2, 8 - returning None!\n",
      "Red 210208 shapes2 9\n",
      "- No h5 file for Red, 210208, shapes2, 9 - returning None!\n",
      "===== SUMMARY\n",
      "--\n",
      "Red-210208-1: ntrials: 166\n",
      "\n",
      "--\n",
      "Red-210208-2: ntrials: 571\n",
      "\n",
      "MAKE SURE TO USE loadProbeDatWrapper\n",
      "got 165 total trials\n",
      "got 570 total trials\n"
     ]
    }
   ],
   "source": [
    "## === to relaoad diff expt to compare tasks directly\n",
    "expt = \"shapes2\"\n",
    "animal = \"Red\"\n",
    "FD, exptMetaDat = loadMultDataForExpt(expt, animal, whichdates=[-1], metadatonly=False)\n",
    "PD = loadProbeDatWrapper(FD, exptMetaDat)\n",
    "P1 = ProbedatTaskmodel(PD, exptMetaDat)"
   ]
  },
  {
   "cell_type": "code",
   "execution_count": 4,
   "metadata": {},
   "outputs": [
    {
     "name": "stdout",
     "output_type": "stream",
     "text": [
      "This is metadat:\n",
      "{'sdate': 210305, 'edate': 210317, 'strokmodel_kind': None, 'strokmodel_tstamp': None, 'datecategories': {'210305': 1, '210306': 1, '210307': 1, '210308': 1, '210309': 1, '210310': 1, '210311': 1, '210312': 1, '210313': 1, '210314': 1, '210315': 1, '210316': 1, '210317': 1}, 'dates_for_summary': [], 'matchedstrokes': None, 'exptnames': ['figures8', 'figures8v2', 'figures9'], 'tasknames_G1': [], 'tasknames_G2': ['mixture2'], 'tasknames_G3': ['mixture1', 'mixture2', 'fixthis_canthavemixture2both'], 'description': 'pilot', 'expt': 'figures89', 'task_train_test': {'probe1_liketrain': 'train', 'probe1_nostrokeconstraint': 'train', 'probe2_liketrain': 'train', 'probe2_nostrokeconstraint': 'train', 'probe3_hdpos': 'test', 'probe1': 'train', 'probe2': 'train', 'probe3': 'test', 'probe4': 'test', 'train': 'train'}}\n",
      "\n",
      "Getting these dates:\n",
      "['210317']\n",
      "Red 210317 figures8 0\n",
      "- No h5 file for Red, 210317, figures8, 0 - returning None!\n",
      "Red 210317 figures8 1\n",
      "- No h5 file for Red, 210317, figures8, 1 - returning None!\n",
      "Red 210317 figures8 2\n",
      "- No h5 file for Red, 210317, figures8, 2 - returning None!\n",
      "Red 210317 figures8 3\n",
      "- No h5 file for Red, 210317, figures8, 3 - returning None!\n",
      "Red 210317 figures8 4\n",
      "- No h5 file for Red, 210317, figures8, 4 - returning None!\n",
      "Red 210317 figures8 5\n",
      "- No h5 file for Red, 210317, figures8, 5 - returning None!\n",
      "Red 210317 figures8 6\n",
      "- No h5 file for Red, 210317, figures8, 6 - returning None!\n",
      "Red 210317 figures8 7\n",
      "- No h5 file for Red, 210317, figures8, 7 - returning None!\n",
      "Red 210317 figures8 8\n",
      "- No h5 file for Red, 210317, figures8, 8 - returning None!\n",
      "Red 210317 figures8 9\n",
      "- No h5 file for Red, 210317, figures8, 9 - returning None!\n",
      "Red 210317 figures8v2 0\n",
      "- No h5 file for Red, 210317, figures8v2, 0 - returning None!\n",
      "Red 210317 figures8v2 1\n",
      "- No h5 file for Red, 210317, figures8v2, 1 - returning None!\n",
      "Red 210317 figures8v2 2\n",
      "- No h5 file for Red, 210317, figures8v2, 2 - returning None!\n",
      "Red 210317 figures8v2 3\n",
      "- No h5 file for Red, 210317, figures8v2, 3 - returning None!\n",
      "Red 210317 figures8v2 4\n",
      "- No h5 file for Red, 210317, figures8v2, 4 - returning None!\n",
      "Red 210317 figures8v2 5\n",
      "- No h5 file for Red, 210317, figures8v2, 5 - returning None!\n",
      "Red 210317 figures8v2 6\n",
      "- No h5 file for Red, 210317, figures8v2, 6 - returning None!\n",
      "Red 210317 figures8v2 7\n",
      "- No h5 file for Red, 210317, figures8v2, 7 - returning None!\n",
      "Red 210317 figures8v2 8\n",
      "- No h5 file for Red, 210317, figures8v2, 8 - returning None!\n",
      "Red 210317 figures8v2 9\n",
      "- No h5 file for Red, 210317, figures8v2, 9 - returning None!\n",
      "Red 210317 figures9 0\n",
      "- No h5 file for Red, 210317, figures9, 0 - returning None!\n",
      "Red 210317 figures9 1\n",
      "-- loaded presaved data: /data2/animals/Red/210317/210317_154750_figures9_Red_1.pkl\n",
      "NO TASKSETS FOUND!! (is ok as long as this is desired)\n",
      "got 852 total trials\n",
      "appending fd for sess 1\n",
      "Red 210317 figures9 2\n",
      "- No h5 file for Red, 210317, figures9, 2 - returning None!\n",
      "Red 210317 figures9 3\n",
      "- No h5 file for Red, 210317, figures9, 3 - returning None!\n",
      "Red 210317 figures9 4\n",
      "- No h5 file for Red, 210317, figures9, 4 - returning None!\n",
      "Red 210317 figures9 5\n",
      "- No h5 file for Red, 210317, figures9, 5 - returning None!\n",
      "Red 210317 figures9 6\n",
      "- No h5 file for Red, 210317, figures9, 6 - returning None!\n",
      "Red 210317 figures9 7\n",
      "- No h5 file for Red, 210317, figures9, 7 - returning None!\n",
      "Red 210317 figures9 8\n",
      "- No h5 file for Red, 210317, figures9, 8 - returning None!\n",
      "Red 210317 figures9 9\n",
      "- No h5 file for Red, 210317, figures9, 9 - returning None!\n",
      "===== SUMMARY\n",
      "--\n",
      "Red-210317-1: ntrials: 853\n",
      "\n",
      "MAKE SURE TO USE loadProbeDatWrapper\n",
      "got 852 total trials\n"
     ]
    }
   ],
   "source": [
    "animal = \"Red\"\n",
    "expt = \"figures89\"\n",
    "FD, exptMetaDat = loadMultDataForExpt(expt, animal, whichdates=[-1], metadatonly=False)\n",
    "PD = loadProbeDatWrapper(FD, exptMetaDat)\n",
    "P2 = ProbedatTaskmodel(PD, exptMetaDat)"
   ]
  },
  {
   "cell_type": "code",
   "execution_count": 5,
   "metadata": {},
   "outputs": [
    {
     "name": "stdout",
     "output_type": "stream",
     "text": [
      "tri_sq_prog_1a_2-savedset-1-89888\n",
      "tri_sq_prog_1a_2-savedset-1-89888\n",
      "shapes2\n",
      "figures9\n",
      "0.42338215562241305\n",
      "0.42338215562241305\n",
      "[4.29608143e-04 7.84566726e+01 0.00000000e+00]\n",
      "[4.29608143e-04 7.84566726e+01 0.00000000e+00]\n"
     ]
    },
    {
     "data": {
      "image/png": "[encoded data removed]",
      "text/plain": [
       "<Figure size 432x288 with 1 Axes>"
      ]
     },
     "metadata": {
      "needs_background": "light"
     },
     "output_type": "display_data"
    }
   ],
   "source": [
    "## === TO DEBUG HASH FUNCTION FOR TASKS...\n",
    "#\n",
    "# Here, give specific tasks, and will extract infor and plot.\n",
    "tasklist = [\"tri_sq_prog_1a_2-savedset-1-44654\", \"tri_sq_prog_1a_2-savedset-1-89888\"]\n",
    "# tasklist = [\"LplusL_6-savedset-1-69344\", \"LplusL_6-savedset-1-38977\", \"LplusL_6-savedset-1-76127\"]\n",
    "\n",
    "inds = np.where(P1.pandas()[\"unique_task_name\"].isin(tasklist).values)[0]\n",
    "task1 = P1.getTrialsHelper(\"getTrialsTask\", int(inds[0]))\n",
    "taskname1 = P1.getTrialsHelper(\"getTrialsUniqueTasknameGood\", int(inds[0]))\n",
    "strokes1 = P1.getTrialsHelper(\"getTrialsTaskAsStrokes\", int(inds[0]))\n",
    "expt1 = P1.pandas()[\"expt\"].values[inds[0]]\n",
    "\n",
    "inds = np.where(P2.pandas()[\"unique_task_name\"].isin(tasklist).values)[0]\n",
    "task2 = P2.getTrialsHelper(\"getTrialsTask\", int(inds[0]))\n",
    "taskname2 = P2.getTrialsHelper(\"getTrialsUniqueTasknameGood\", int(inds[0]))\n",
    "strokes2 = P2.getTrialsHelper(\"getTrialsTaskAsStrokes\", int(inds[0]))\n",
    "expt2 = P2.pandas()[\"expt\"].values[inds[0]]\n",
    "\n",
    "print(taskname1)\n",
    "print(taskname2)\n",
    "\n",
    "print(expt1)\n",
    "print(expt2)\n",
    "\n",
    "print(task1[\"x\"][0][0])\n",
    "print(task2[\"x\"][0][0])\n",
    "\n",
    "print(strokes1[0][0])\n",
    "print(strokes2[0][0])\n",
    "\n",
    "# plot\n",
    "fig, ax = plt.subplots()\n",
    "plotDatStrokes(strokes1, ax)\n",
    "plotDatStrokes(strokes2, ax, plotver=\"strokes\")\n"
   ]
  },
  {
   "cell_type": "code",
   "execution_count": null,
   "metadata": {},
   "outputs": [],
   "source": [
    "# = print all tasks within a given task category"
   ]
  },
  {
   "cell_type": "code",
   "execution_count": 15,
   "metadata": {},
   "outputs": [
    {
     "name": "stdout",
     "output_type": "stream",
     "text": [
      "{'tri_sq_prog_1a_2-savedset-1-89888', 'tri_sq_prog_1a_7-savedset-1-50165', 'tri_sq_prog_1a_6-savedset-1-89471', 'tri_sq_prog_1a_11-savedset-1-51988', 'tri_sq_prog_1a_4-savedset-1-89680', 'tri_sq_prog_1a_5-savedset-1-49252', 'tri_sq_prog_1a_8-savedset-1-89263', 'tri_sq_prog_1a_10-savedset-1-89054', 'tri_sq_prog_1a_1-savedset-1-47428', 'tri_sq_prog_1a_3-savedset-1-48340', 'tri_sq_prog_1a_9-savedset-1-51076'}\n",
      "{'tri_sq_prog_1a_2-savedset-1-89888', 'tri_sq_prog_1a_11-savedset-1-51988'}\n"
     ]
    }
   ],
   "source": [
    "taskname = \"tri_sq_prog_1a\"\n",
    "\n",
    "print(set(P1.pandas()[P1.pandas()[\"task_stagecategory\"]==taskname][\"unique_task_name\"]))\n",
    "print(set(P2.pandas()[P2.pandas()[\"task_stagecategory\"]==taskname][\"unique_task_name\"]))"
   ]
  },
  {
   "cell_type": "code",
   "execution_count": null,
   "metadata": {},
   "outputs": [],
   "source": [
    "# === extract all tasks that are presented across expts\n",
    "expts_desired = [\"lines5\", \"arc2\", \"biasdir7\"]\n",
    "tasklist = set(DF[\"unique_task_name\"])\n",
    "tasks_good = []\n",
    "for t in tasklist:\n",
    "    \n",
    "    expts_with_task = set(DF[DF[\"unique_task_name\"]==t][\"expt\"])\n",
    "    \n",
    "    if all([e in expts_with_task for e in expts_desired]):\n",
    "        tasks_good.append(t)\n",
    "tasks_good.sort()\n",
    "[print(t) for t in tasks_good]"
   ]
  },
  {
   "cell_type": "code",
   "execution_count": null,
   "metadata": {},
   "outputs": [],
   "source": [
    "# == plot\n",
    "ncols = 4\n",
    "nrows = int(np.ceil(len(tasks_good)/4))\n",
    "assert nrows<10\n",
    "\n",
    "fig, axes = plt.subplots(nrows, ncols, sharex=True, sharey=True, figsize=(ncols*2, nrows*2))\n",
    "for task, ax in zip(tasks_good, axes.flatten()):\n",
    "    strokes = DF[DF[\"unique_task_name\"]==task][\"strokes_task\"].values[0]\n",
    "    plotDatStrokes(strokes, ax, pcol=\"k\")\n",
    "    ax.set_title(task[:15])"
   ]
  }
 ],
 "metadata": {
  "kernelspec": {
   "display_name": "Python 3",
   "language": "python",
   "name": "python3"
  },
  "language_info": {
   "codemirror_mode": {
    "name": "ipython",
    "version": 3
   },
   "file_extension": ".py",
   "mimetype": "text/x-python",
   "name": "python",
   "nbconvert_exporter": "python",
   "pygments_lexer": "ipython3",
   "version": "3.8.5"
  }
 },
 "nbformat": 4,
 "nbformat_minor": 4
}
