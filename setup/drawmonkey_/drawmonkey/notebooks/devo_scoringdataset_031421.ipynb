{
 "cells": [
  {
   "cell_type": "code",
   "execution_count": null,
   "metadata": {},
   "outputs": [],
   "source": [
    "\"\"\" \n",
    "All stuff on stroke-manifold, clustering, etc, moved to devo_strokemanifold_031621\n",
    "\"\"\""
   ]
  },
  {
   "cell_type": "code",
   "execution_count": 1,
   "metadata": {},
   "outputs": [
    {
     "name": "stdout",
     "output_type": "stream",
     "text": [
      "/data1/code/python/drawmonkey\n",
      "NOTE: need to not overwrite strokes_all_task, because then the orders saved will stop being accurate. Modify\n"
     ]
    }
   ],
   "source": [
    "%load_ext autoreload\n",
    "%autoreload 2\n",
    "\n",
    "%cd ..\n",
    "\n",
    "from tools.utils import * \n",
    "from tools.plots import *\n",
    "from tools.analy import *\n",
    "from tools.calc import *\n",
    "from tools.analyplot import *\n",
    "from tools.preprocess import *\n",
    "from tools.dayanalysis import *\n",
    "from analysis.strok import *\n",
    "from analysis.line2 import *\n",
    "from analysis.probedatTaskmodel import *\n",
    "from pythonlib.drawmodel.analysis import *\n",
    "from pythonlib.tools.stroketools import *"
   ]
  },
  {
   "cell_type": "code",
   "execution_count": 2,
   "metadata": {},
   "outputs": [],
   "source": [
    "from analysis.strok import *"
   ]
  },
  {
   "cell_type": "markdown",
   "metadata": {},
   "source": [
    "\n",
    "# DISTANCE between distributions"
   ]
  },
  {
   "cell_type": "markdown",
   "metadata": {},
   "source": [
    "### Hausdorff distance between sets of strokes"
   ]
  },
  {
   "cell_type": "code",
   "execution_count": null,
   "metadata": {},
   "outputs": [],
   "source": [
    "# ==== SEE  devo_strokemanifold for preprocessing code"
   ]
  },
  {
   "cell_type": "code",
   "execution_count": null,
   "metadata": {},
   "outputs": [],
   "source": [
    "# -- have a constant set of test tasks\n",
    "Nplot = 50\n",
    "idxs = random.sample(range(len(SF)), Nplot)\n",
    "stroklist2 = [SF[\"strok\"][i] for i in idxs]\n",
    "\n"
   ]
  },
  {
   "cell_type": "code",
   "execution_count": null,
   "metadata": {},
   "outputs": [],
   "source": [
    "# -- generate new datasets to compare\n",
    "Nplot = 50\n",
    "idxs = random.sample(range(len(SF)), Nplot)\n",
    "stroklist1 = [SF[\"strok\"][i] for i in idxs]\n",
    "\n",
    "\n",
    "_plotStroksInGrid(stroklist1);\n",
    "_plotStroksInGrid(stroklist2);\n",
    "\n",
    "D = distMatrixStrok(stroklist1, stroklist2, ploton=True, convert_to_similarity=False)"
   ]
  },
  {
   "cell_type": "code",
   "execution_count": null,
   "metadata": {
    "scrolled": false
   },
   "outputs": [],
   "source": [
    "d, d1, d2 = modHausdorffDistance(None, None, ver1=\"mean\", ver2=\"mean\", D=D, return_marginals=True)\n",
    "print(d)\n",
    "\n",
    "plt.figure()\n",
    "plt.bar(np.arange(len(d1)), d1, alpha=0.3)\n",
    "plt.bar(np.arange(len(d2)), d2, alpha=0.3)\n",
    "\n",
    "\n",
    "# # == sanity check, similarity to own set\n",
    "# D = distMatrixStrok(stroklist1, stroklist1, ploton=True, convert_to_similarity=False)\n",
    "# print(modHausdorffDistance(None, None, ver1=\"mean\", ver2=\"mean\", D=D))\n",
    "\n",
    "# D = distMatrixStrok(stroklist2, stroklist2, ploton=True, convert_to_similarity=False)\n",
    "# print(modHausdorffDistance(None, None, ver1=\"mean\", ver2=\"mean\", D=D))"
   ]
  },
  {
   "cell_type": "code",
   "execution_count": null,
   "metadata": {},
   "outputs": [],
   "source": [
    "# linear sum assignment, match each elemnts in sets 1 to 1\n",
    "from scipy.optimize import linear_sum_assignment as lsa\n",
    "\n",
    "row_ind, col_ind = lsa(D)\n",
    "\n",
    "D[row_ind, col_ind].mean()\n",
    "print(row_ind, col_ind)"
   ]
  },
  {
   "cell_type": "markdown",
   "metadata": {},
   "source": [
    "### Score set-set similairity, clean version\n"
   ]
  },
  {
   "cell_type": "code",
   "execution_count": null,
   "metadata": {},
   "outputs": [],
   "source": [
    "# Score set-set similairity, clean version\n",
    "\n",
    "# datasets\n"
   ]
  },
  {
   "cell_type": "code",
   "execution_count": null,
   "metadata": {},
   "outputs": [],
   "source": [
    "SF[\"traintest\"]==\"test\""
   ]
  },
  {
   "cell_type": "code",
   "execution_count": null,
   "metadata": {},
   "outputs": [],
   "source": [
    "for task in set(SF[\"task_category\"]):\n",
    "    print(\"--\")\n",
    "    print(task)\n",
    "    print(sum(SF[\"task_category\"]==task))"
   ]
  },
  {
   "cell_type": "code",
   "execution_count": null,
   "metadata": {},
   "outputs": [],
   "source": [
    "# ====== EARTH MOVER'S DISTANCE?\n",
    "from pyemd import emd\n",
    "\n",
    "# p1 = np.array([0.0, 1.0])\n",
    "# p2 = np.array([1., 0.])\n",
    "# distance_matrix = np.array([[0.0, 0.5],\n",
    "#                              [0.5, 0.0]])\n",
    "\n",
    "p1 = np.ones((D.shape[0],), dtype=np.float64)/len(p1)\n",
    "p2 = np.ones((D.shape[1],), dtype=np.float64)/len(p1)\n",
    "\n",
    "emd(p1, p2, D)\n"
   ]
  },
  {
   "cell_type": "markdown",
   "metadata": {},
   "source": [
    "## TAKING STOCK\n",
    "\n",
    "TO DO:\n",
    "1. come upw ith general purpose normalization for distances, so that each column is in range of around 0 to 1.\n",
    "(could also apply this to the clustering code, although not needed since therye can normalize relatrive to entire dataset)\n",
    "\n",
    "\n"
   ]
  },
  {
   "cell_type": "code",
   "execution_count": null,
   "metadata": {},
   "outputs": [],
   "source": []
  },
  {
   "cell_type": "markdown",
   "metadata": {},
   "source": [
    "## Manipulations/lesions\n",
    "\n",
    "Random notes:\n",
    "\n",
    "A test case where should have better modeling based on strokes: psychometric tasks. \n",
    "Expect that splines will do terribly.\n",
    "Note that probably DrawNN will do more OK with splines?"
   ]
  },
  {
   "cell_type": "code",
   "execution_count": null,
   "metadata": {},
   "outputs": [],
   "source": [
    "# "
   ]
  }
 ],
 "metadata": {
  "kernelspec": {
   "display_name": "Python 3",
   "language": "python",
   "name": "python3"
  },
  "language_info": {
   "codemirror_mode": {
    "name": "ipython",
    "version": 3
   },
   "file_extension": ".py",
   "mimetype": "text/x-python",
   "name": "python",
   "nbconvert_exporter": "python",
   "pygments_lexer": "ipython3",
   "version": "3.8.5"
  }
 },
 "nbformat": 4,
 "nbformat_minor": 4
}
