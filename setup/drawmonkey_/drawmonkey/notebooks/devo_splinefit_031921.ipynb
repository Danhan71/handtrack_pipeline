{
 "cells": [
  {
   "cell_type": "code",
   "execution_count": null,
   "metadata": {},
   "outputs": [],
   "source": [
    "\"\"\" \n",
    "fit spline to strokes.\n",
    "Generally useful for a few things.\n",
    "\n",
    "Main focus now is using this as a \"negative control' for the \n",
    "manifold analysis.\n",
    "\n",
    "Also use to test compositionality, similar to Brenden BPL.\n",
    "\"\"\"\n"
   ]
  },
  {
   "cell_type": "code",
   "execution_count": 2,
   "metadata": {},
   "outputs": [
    {
     "name": "stdout",
     "output_type": "stream",
     "text": [
      "The autoreload extension is already loaded. To reload it, use:\n",
      "  %reload_ext autoreload\n",
      "/data1/code/python/drawmonkey\n",
      "NOTE: need to not overwrite strokes_all_task, because then the orders saved will stop being accurate. Modify\n"
     ]
    }
   ],
   "source": [
    "%load_ext autoreload\n",
    "%autoreload 2\n",
    "\n",
    "%cd ..\n",
    "\n",
    "from tools.utils import * \n",
    "from tools.plots import *\n",
    "from tools.analy import *\n",
    "from tools.calc import *\n",
    "from tools.analyplot import *\n",
    "from tools.preprocess import *\n",
    "from tools.dayanalysis import *\n",
    "from analysis.strok import *\n",
    "from analysis.line2 import *\n",
    "from analysis.probedatTaskmodel import *\n",
    "from pythonlib.drawmodel.analysis import *\n",
    "from pythonlib.tools.stroketools import *\n",
    "from pythonlib.drawmodel.image import *\n",
    "from analysis.strok import *\n",
    "\n",
    "%config Completer.use_jedi = False"
   ]
  },
  {
   "cell_type": "markdown",
   "metadata": {},
   "source": [
    "## PUTTING IT TOGETHER"
   ]
  },
  {
   "cell_type": "code",
   "execution_count": 3,
   "metadata": {},
   "outputs": [
    {
     "name": "stdout",
     "output_type": "stream",
     "text": [
      "This is metadat:\n",
      "{'sdate': 200921, 'edate': 201001, 'strokmodel_kind': 'spatial', 'strokmodel_tstamp': '201006_032853_lines5', 'datecategories': {'200921': 1, '200922': 1, '200923': 1, '200924': 1, '200925': 2, '200926': 2, '200927': 2, '200928': 2, '200929': 2, '200930': 2, '201001': 2}, 'dates_for_summary': ['200923', '200924', '200929', '200930', '201001'], 'matchedstrokes': None, 'exptnames': ['lines5'], 'tasknames_G1': [], 'tasknames_G2': ['C', 'triangle', 'S', 'h', 'tristar', 'F', 'linePlusLv2'], 'tasknames_G3': ['2linePlusL', 'LplusL', 'linePlusLv2', '3linePlusL'], 'description': '', 'expt': 'lines5', 'task_train_test': {'probe1_liketrain': 'train', 'probe1_nostrokeconstraint': 'train', 'probe2_liketrain': 'train', 'probe2_nostrokeconstraint': 'train', 'probe3_hdpos': 'test', 'probe1': 'train', 'probe2': 'train', 'probe3': 'test', 'probe4': 'test', 'train': 'train'}}\n",
      "\n",
      "Getting these dates:\n",
      "['201001']\n",
      "Pancho 201001 lines5 0\n",
      "- No h5 file for Pancho, 201001, lines5, 0 - returning None!\n",
      "Pancho 201001 lines5 1\n",
      "-- loaded presaved data: /data2/animals/Pancho/201001/201001_150506_lines5_Pancho_1.pkl\n",
      "NO TASKSETS FOUND!! (is ok as long as this is desired)\n",
      "NO TASKSETS FOUND!! (is ok as long as this is desired)\n",
      "got 699 total trials\n",
      "appending fd for sess 1\n",
      "Pancho 201001 lines5 2\n",
      "- No h5 file for Pancho, 201001, lines5, 2 - returning None!\n",
      "Pancho 201001 lines5 3\n",
      "- No h5 file for Pancho, 201001, lines5, 3 - returning None!\n",
      "Pancho 201001 lines5 4\n",
      "- No h5 file for Pancho, 201001, lines5, 4 - returning None!\n",
      "Pancho 201001 lines5 5\n",
      "- No h5 file for Pancho, 201001, lines5, 5 - returning None!\n",
      "Pancho 201001 lines5 6\n",
      "- No h5 file for Pancho, 201001, lines5, 6 - returning None!\n",
      "Pancho 201001 lines5 7\n",
      "- No h5 file for Pancho, 201001, lines5, 7 - returning None!\n",
      "Pancho 201001 lines5 8\n",
      "- No h5 file for Pancho, 201001, lines5, 8 - returning None!\n",
      "Pancho 201001 lines5 9\n",
      "- No h5 file for Pancho, 201001, lines5, 9 - returning None!\n",
      "===== SUMMARY\n",
      "--\n",
      "Pancho-201001-1: ntrials: 700\n",
      "\n",
      "MAKE SURE TO USE loadProbeDatWrapper\n",
      "got 699 total trials\n"
     ]
    },
    {
     "data": {
      "text/plain": [
       "(array([117, 140, 153, 172, 178, 197, 247, 249, 256, 279, 280, 322, 350,\n",
       "        353, 355, 398, 401, 402, 435, 438, 472, 494, 505, 528, 549, 558,\n",
       "        574, 607, 608]),)"
      ]
     },
     "execution_count": 3,
     "metadata": {},
     "output_type": "execute_result"
    }
   ],
   "source": [
    "# 1) Load a task\n",
    "expt = \"lines5\"\n",
    "animal = \"Pancho\"\n",
    "\n",
    "FD, exptMetaDat = loadMultDataForExpt(expt,animal, whichdates=[-1], metadatonly=False)\n",
    "PD = loadProbeDatWrapper(FD, exptMetaDat)\n",
    "P = ProbedatTaskmodel(PD, exptMetaDat)\n",
    "\n",
    "# === preprocess to prepare tasks\n",
    "Tasks = P.extractTasksAsClass(\"all\")\n",
    "\n",
    "# === pull out an ind for example. tell me what kind of task to get.\n",
    "Pp = P.pandas()\n",
    "np.where(Pp[\"task_stagecategory\"]==\"3linePlusL\")\n",
    "# np.where(Pp[\"task_stagecategory\"]==\"linePlusL\")"
   ]
  },
  {
   "cell_type": "code",
   "execution_count": 7,
   "metadata": {},
   "outputs": [],
   "source": [
    "T = Tasks[117]\n",
    "\n"
   ]
  },
  {
   "cell_type": "code",
   "execution_count": null,
   "metadata": {},
   "outputs": [],
   "source": [
    "# === parsing\n"
   ]
  },
  {
   "cell_type": "code",
   "execution_count": null,
   "metadata": {},
   "outputs": [],
   "source": []
  },
  {
   "cell_type": "markdown",
   "metadata": {},
   "source": [
    "## PREVIOUS DEVO"
   ]
  },
  {
   "cell_type": "code",
   "execution_count": null,
   "metadata": {},
   "outputs": [],
   "source": [
    "from scipy.interpolate import make_interp_spline as spline\n",
    "\n",
    "x = np.array([0, 1, 2, 1])\n",
    "y = np.array([0, 1, 2, 3])\n",
    "t = np.linspace(0, 1, len(x))\n",
    "\n",
    "plt.figure()\n",
    "plt.plot(x, y)\n",
    "\n",
    "spl = spline(t, np.c_[x.T, y.T])\n",
    "\n",
    "tnew = np.linspace(0, 1, 100)\n",
    "x_, y_ = spl(tnew).T\n",
    "plt.plot(x_, y_, '-')\n",
    "\n"
   ]
  },
  {
   "cell_type": "code",
   "execution_count": null,
   "metadata": {},
   "outputs": [],
   "source": [
    "def cheb_nodes(N):\n",
    "\n",
    "    jj = 2.*np.arange(N) + 1\n",
    "\n",
    "    x = np.cos(np.pi * jj / 2 / N)[::-1]\n",
    "\n",
    "    return x\n",
    "\n",
    "\n",
    "\n",
    "x = cheb_nodes(20)\n",
    "\n",
    "y = np.sqrt(1 - x**2)\n",
    "\n",
    "\n",
    "\n",
    "from scipy.interpolate import BSpline, make_interp_spline\n",
    "\n",
    "b = make_interp_spline(x, y)\n",
    "\n",
    "np.allclose(b(x), y)"
   ]
  },
  {
   "cell_type": "code",
   "execution_count": null,
   "metadata": {},
   "outputs": [],
   "source": [
    "y_ = b(x)\n",
    "plt.figure()\n",
    "plt.plot(x, y)\n",
    "plt.plot(x, y_)\n"
   ]
  },
  {
   "cell_type": "markdown",
   "metadata": {},
   "source": [
    "### TRy out on a figure"
   ]
  },
  {
   "cell_type": "markdown",
   "metadata": {},
   "source": [
    "Plan\n",
    "\n",
    "1. get all control points:\n",
    "-- endpoints and intersections\n",
    "-- have some noise for enpoints\n",
    "-- how deal with circle?\n",
    "\n",
    "2. Get large num of random permutations of order and direction\n",
    "-- sort permutations by length, \n",
    "-- make sure to include the obvious ones --> start at any of the endpoints and go in order of proximity.\n",
    "\n",
    "\n",
    "3. sample start position, then for gap between endpoint and start of next stroke, randomly decide whether to cut it.\n",
    "-- based on distrubtion of gaps for animal.\n",
    "-- \n",
    "\n",
    "4. verify that spatial score is similar to animal.\n"
   ]
  },
  {
   "cell_type": "markdown",
   "metadata": {},
   "source": [
    "### Rephrasing plan, using BPL approach\n",
    "\n",
    "1. get random parses using random walk method.\n",
    "\n",
    "2. fit spline and chop spline to get strokes\n",
    "    \n",
    "    a. cut differently to test compositionality\n",
    "    \n",
    "3. "
   ]
  },
  {
   "cell_type": "code",
   "execution_count": 32,
   "metadata": {},
   "outputs": [
    {
     "name": "stdout",
     "output_type": "stream",
     "text": [
      "This is metadat:\n",
      "{'sdate': 200921, 'edate': 201001, 'strokmodel_kind': 'spatial', 'strokmodel_tstamp': '201006_032853_lines5', 'datecategories': {'200921': 1, '200922': 1, '200923': 1, '200924': 1, '200925': 2, '200926': 2, '200927': 2, '200928': 2, '200929': 2, '200930': 2, '201001': 2}, 'dates_for_summary': ['200923', '200924', '200929', '200930', '201001'], 'matchedstrokes': None, 'exptnames': ['lines5'], 'tasknames_G1': [], 'tasknames_G2': ['C', 'triangle', 'S', 'h', 'tristar', 'F', 'linePlusLv2'], 'tasknames_G3': ['2linePlusL', 'LplusL', 'linePlusLv2', '3linePlusL'], 'description': '', 'expt': 'lines5', 'task_train_test': {'probe1_liketrain': 'train', 'probe1_nostrokeconstraint': 'train', 'probe2_liketrain': 'train', 'probe2_nostrokeconstraint': 'train', 'probe3_hdpos': 'test', 'probe1': 'train', 'probe2': 'train', 'probe3': 'test', 'probe4': 'test', 'train': 'train'}}\n"
     ]
    },
    {
     "ename": "UnboundLocalError",
     "evalue": "local variable 'datelist' referenced before assignment",
     "output_type": "error",
     "traceback": [
      "\u001b[0;31m---------------------------------------------------------------------------\u001b[0m",
      "\u001b[0;31mUnboundLocalError\u001b[0m                         Traceback (most recent call last)",
      "\u001b[0;32m<ipython-input-32-04ddbee94e5a>\u001b[0m in \u001b[0;36m<module>\u001b[0;34m\u001b[0m\n\u001b[1;32m      3\u001b[0m \u001b[0manimal\u001b[0m \u001b[0;34m=\u001b[0m \u001b[0;34m\"Pancho\"\u001b[0m\u001b[0;34m\u001b[0m\u001b[0;34m\u001b[0m\u001b[0m\n\u001b[1;32m      4\u001b[0m \u001b[0;34m\u001b[0m\u001b[0m\n\u001b[0;32m----> 5\u001b[0;31m \u001b[0mFD\u001b[0m\u001b[0;34m,\u001b[0m \u001b[0mexptMetaDat\u001b[0m \u001b[0;34m=\u001b[0m \u001b[0mloadMultDataForExpt\u001b[0m\u001b[0;34m(\u001b[0m\u001b[0mexpt\u001b[0m\u001b[0;34m,\u001b[0m\u001b[0manimal\u001b[0m\u001b[0;34m,\u001b[0m \u001b[0mwhichdates\u001b[0m\u001b[0;34m=\u001b[0m\u001b[0;34m[\u001b[0m\u001b[0;34m-\u001b[0m\u001b[0;36m1\u001b[0m\u001b[0;34m]\u001b[0m\u001b[0;34m,\u001b[0m \u001b[0mmetadatonly\u001b[0m\u001b[0;34m=\u001b[0m\u001b[0;32mFalse\u001b[0m\u001b[0;34m)\u001b[0m\u001b[0;34m\u001b[0m\u001b[0;34m\u001b[0m\u001b[0m\n\u001b[0m\u001b[1;32m      6\u001b[0m \u001b[0mPD\u001b[0m \u001b[0;34m=\u001b[0m \u001b[0mloadProbeDatWrapper\u001b[0m\u001b[0;34m(\u001b[0m\u001b[0mFD\u001b[0m\u001b[0;34m,\u001b[0m \u001b[0mexptMetaDat\u001b[0m\u001b[0;34m)\u001b[0m\u001b[0;34m\u001b[0m\u001b[0;34m\u001b[0m\u001b[0m\n\u001b[1;32m      7\u001b[0m \u001b[0mP\u001b[0m \u001b[0;34m=\u001b[0m \u001b[0mProbedatTaskmodel\u001b[0m\u001b[0;34m(\u001b[0m\u001b[0mPD\u001b[0m\u001b[0;34m)\u001b[0m\u001b[0;34m\u001b[0m\u001b[0;34m\u001b[0m\u001b[0m\n",
      "\u001b[0;32m/data1/code/python/drawmonkey/analysis/modelexpt.py\u001b[0m in \u001b[0;36mloadMultDataForExpt\u001b[0;34m(expt, animal, whichdates, metadatonly)\u001b[0m\n\u001b[1;32m     45\u001b[0m     \u001b[0;31m# 2 which dates\u001b[0m\u001b[0;34m\u001b[0m\u001b[0;34m\u001b[0m\u001b[0;34m\u001b[0m\u001b[0m\n\u001b[1;32m     46\u001b[0m     \u001b[0;32mif\u001b[0m \u001b[0misinstance\u001b[0m\u001b[0;34m(\u001b[0m\u001b[0mwhichdates\u001b[0m\u001b[0;34m,\u001b[0m \u001b[0;34m(\u001b[0m\u001b[0mtuple\u001b[0m\u001b[0;34m,\u001b[0m \u001b[0mlist\u001b[0m\u001b[0;34m)\u001b[0m\u001b[0;34m)\u001b[0m\u001b[0;34m:\u001b[0m\u001b[0;34m\u001b[0m\u001b[0;34m\u001b[0m\u001b[0m\n\u001b[0;32m---> 47\u001b[0;31m         \u001b[0mdatelist\u001b[0m \u001b[0;34m=\u001b[0m \u001b[0mdatelist\u001b[0m\u001b[0;34m\u001b[0m\u001b[0;34m\u001b[0m\u001b[0m\n\u001b[0m\u001b[1;32m     48\u001b[0m     \u001b[0;32melif\u001b[0m \u001b[0mwhichdates\u001b[0m\u001b[0;34m==\u001b[0m\u001b[0;34m\"all\"\u001b[0m\u001b[0;34m:\u001b[0m\u001b[0;34m\u001b[0m\u001b[0;34m\u001b[0m\u001b[0m\n\u001b[1;32m     49\u001b[0m         \u001b[0;32mfrom\u001b[0m \u001b[0mpythonlib\u001b[0m\u001b[0;34m.\u001b[0m\u001b[0mtools\u001b[0m\u001b[0;34m.\u001b[0m\u001b[0mdatetools\u001b[0m \u001b[0;32mimport\u001b[0m \u001b[0mgetDateList\u001b[0m\u001b[0;34m\u001b[0m\u001b[0;34m\u001b[0m\u001b[0m\n",
      "\u001b[0;31mUnboundLocalError\u001b[0m: local variable 'datelist' referenced before assignment"
     ]
    }
   ],
   "source": [
    "# 1) Load a task\n",
    "expt = \"lines5\"\n",
    "animal = \"Pancho\"\n",
    "\n",
    "FD, exptMetaDat = loadMultDataForExpt(expt,animal, whichdates=[-1], metadatonly=False)\n",
    "PD = loadProbeDatWrapper(FD, exptMetaDat)\n",
    "P = ProbedatTaskmodel(PD)\n",
    "\n",
    "\n",
    "# === preprocess to prepare tasks\n",
    "Tasks = P.extractTasksAsClass(\"all\")\n",
    "\n",
    "\n",
    "# === pull out an ind for example. tell me what kind of task to get.\n",
    "Pp = P.pandas()\n",
    "np.where(Pp[\"task_stagecategory\"]==\"3linePlusL\")\n",
    "# np.where(Pp[\"task_stagecategory\"]==\"linePlusL\")"
   ]
  },
  {
   "cell_type": "code",
   "execution_count": null,
   "metadata": {},
   "outputs": [],
   "source": [
    "# === what ind to process for example?\n",
    "ind = 117\n",
    "\n",
    "# == CONVERT TASK INTO BINARY IMAGE\n",
    "from pythonlib.drawmodel.primitives import prog2pxl\n",
    "\n",
    "canvas_max_WH = 400\n",
    "image_WH = 105\n",
    "# image_WH = 48\n",
    "T = Tasks[ind]\n",
    "p = T.Strokes\n",
    "I = prog2pxl(p, WHdraw=canvas_max_WH*2, WH=image_WH, smoothing=1)\n",
    "\n",
    "# plot strokes\n",
    "fig, ax = plt.subplots(figsize=(10,10))\n",
    "plotDatStrokes(p, ax, each_stroke_separate=True)\n",
    "\n",
    "# plot\n",
    "plt.figure()\n",
    "plt.imshow(I)\n",
    "\n",
    "fig, ax = plt.subplots()\n",
    "T.plotTaskOnAx(ax)\n",
    "\n",
    "# plot hist of values\n",
    "plt.figure()\n",
    "plt.hist(I[:], log=True)\n",
    "\n",
    "# binarize\n",
    "I = np.array(I>0.5)\n",
    "\n",
    "# plot\n",
    "plt.figure()\n",
    "plt.imshow(I)\n",
    "plt.title(\"after binarize\")\n",
    "\n",
    "print(I.shape)\n",
    "\n"
   ]
  },
  {
   "cell_type": "code",
   "execution_count": null,
   "metadata": {},
   "outputs": [],
   "source": [
    "# === TESTING, PASSING IN JUNCTIONS BY HAND, AND \"SNAPPING\" TO SKELETON\n",
    "# TO HAND INPUT CORNERS AS JUNCTIONS.\n",
    "\n",
    "# 1) coordinates, in monkey sketchpad space\n",
    "\n",
    "# 2) convert coordinate to skeletion image space\n",
    "\n",
    "# 3) pass into parsing\n",
    "import matlab.engine\n",
    "eng = matlab.engine.start_matlab()\n",
    "bpl_path = os.environ['BPL_PATH']\n",
    "eng.addpath(eng.genpath(bpl_path), nargout=0)\n",
    "img = matlab.logical(I.tolist())\n",
    "J = eng.test_random_parses_LT(img)\n",
    "J = np.asarray(J)\n",
    "\n",
    "\n",
    "# - plot junctions.\n",
    "plt.figure()\n",
    "plt.imshow(J)\n",
    "np.sum(J)\n",
    "\n",
    "\n",
    "\n",
    "\n"
   ]
  },
  {
   "cell_type": "code",
   "execution_count": 3,
   "metadata": {},
   "outputs": [
    {
     "ename": "NameError",
     "evalue": "name 'I' is not defined",
     "output_type": "error",
     "traceback": [
      "\u001b[0;31m---------------------------------------------------------------------------\u001b[0m",
      "\u001b[0;31mNameError\u001b[0m                                 Traceback (most recent call last)",
      "\u001b[0;32m<ipython-input-3-9d025b815ed9>\u001b[0m in \u001b[0;36m<module>\u001b[0;34m\u001b[0m\n\u001b[0;32m----> 1\u001b[0;31m \u001b[0mIthis\u001b[0m \u001b[0;34m=\u001b[0m \u001b[0mnp\u001b[0m\u001b[0;34m.\u001b[0m\u001b[0mzeros_like\u001b[0m\u001b[0;34m(\u001b[0m\u001b[0mI\u001b[0m\u001b[0;34m)\u001b[0m\u001b[0;34m\u001b[0m\u001b[0;34m\u001b[0m\u001b[0m\n\u001b[0m\u001b[1;32m      2\u001b[0m \u001b[0mstrokes\u001b[0m \u001b[0;34m=\u001b[0m \u001b[0mTasks\u001b[0m\u001b[0;34m[\u001b[0m\u001b[0mind\u001b[0m\u001b[0;34m]\u001b[0m\u001b[0;34m.\u001b[0m\u001b[0mStrokes\u001b[0m\u001b[0;34m\u001b[0m\u001b[0;34m\u001b[0m\u001b[0m\n\u001b[1;32m      3\u001b[0m \u001b[0msketchpad_edges\u001b[0m \u001b[0;34m=\u001b[0m \u001b[0mnp\u001b[0m\u001b[0;34m.\u001b[0m\u001b[0marray\u001b[0m\u001b[0;34m(\u001b[0m\u001b[0;34m[\u001b[0m\u001b[0;34m[\u001b[0m\u001b[0;34m-\u001b[0m\u001b[0mcanvas_max_WH\u001b[0m\u001b[0;34m,\u001b[0m \u001b[0mcanvas_max_WH\u001b[0m\u001b[0;34m]\u001b[0m\u001b[0;34m,\u001b[0m \u001b[0;34m[\u001b[0m\u001b[0;34m-\u001b[0m\u001b[0mcanvas_max_WH\u001b[0m\u001b[0;34m,\u001b[0m \u001b[0mcanvas_max_WH\u001b[0m\u001b[0;34m]\u001b[0m\u001b[0;34m]\u001b[0m\u001b[0;34m)\u001b[0m\u001b[0;34m\u001b[0m\u001b[0;34m\u001b[0m\u001b[0m\n\u001b[1;32m      4\u001b[0m \u001b[0mimage_edges\u001b[0m \u001b[0;34m=\u001b[0m \u001b[0mnp\u001b[0m\u001b[0;34m.\u001b[0m\u001b[0marray\u001b[0m\u001b[0;34m(\u001b[0m\u001b[0;34m[\u001b[0m\u001b[0;34m[\u001b[0m\u001b[0;36m1\u001b[0m\u001b[0;34m,\u001b[0m \u001b[0mimage_WH\u001b[0m\u001b[0;34m-\u001b[0m\u001b[0;36m1\u001b[0m\u001b[0;34m]\u001b[0m\u001b[0;34m,\u001b[0m \u001b[0;34m[\u001b[0m\u001b[0;36m1\u001b[0m\u001b[0;34m,\u001b[0m \u001b[0mimage_WH\u001b[0m\u001b[0;34m-\u001b[0m\u001b[0;36m1\u001b[0m\u001b[0;34m]\u001b[0m\u001b[0;34m]\u001b[0m\u001b[0;34m)\u001b[0m\u001b[0;34m\u001b[0m\u001b[0;34m\u001b[0m\u001b[0m\n\u001b[1;32m      5\u001b[0m \u001b[0;31m# image_edges = np.array([[0, image_WH], [0, image_WH]])\u001b[0m\u001b[0;34m\u001b[0m\u001b[0;34m\u001b[0m\u001b[0;34m\u001b[0m\u001b[0m\n",
      "\u001b[0;31mNameError\u001b[0m: name 'I' is not defined"
     ]
    }
   ],
   "source": [
    "\n",
    "    \n",
    "Ithis = np.zeros_like(I)\n",
    "strokes = Tasks[ind].Strokes\n",
    "sketchpad_edges = np.array([[-canvas_max_WH, canvas_max_WH], [-canvas_max_WH, canvas_max_WH]])\n",
    "image_edges = np.array([[1, image_WH-1], [1, image_WH-1]])\n",
    "# image_edges = np.array([[0, image_WH], [0, image_WH]])\n",
    "\n",
    "pts_all = []\n",
    "\n",
    "for pts in strokes:\n",
    "    pts_image_inds = convStrokecoordToImagecoord(pts, sketchpad_edges, image_edges)\n",
    "    \n",
    "    pts_all.append(pts_image_inds)\n",
    "    for pt in pts_image_inds:\n",
    "#         print(pt)\n",
    "        Ithis[pt[0], pt[1]] = True\n",
    "    \n",
    "plt.figure()\n",
    "plt.imshow(Ithis)\n",
    "    \n",
    "    \n",
    "# - also plot the bitmap strokes\n",
    "plt.figure(figsize=(15,15))\n",
    "plt.imshow(I)\n",
    "# - overlay circles where where stroke inds are extracted\n",
    "pts_all = np.concatenate(pts_all)\n",
    "plt.scatter(pts_all[:,1], pts_all[:,0], marker=\"x\")\n"
   ]
  },
  {
   "cell_type": "code",
   "execution_count": null,
   "metadata": {},
   "outputs": [],
   "source": [
    "# === collect extra junctions, all stroke endpoints\n",
    "Ithis = np.zeros_like(I)\n",
    "strokes = Tasks[ind].Strokes\n",
    "sketchpad_edges = np.array([[-canvas_max_WH, canvas_max_WH], [-canvas_max_WH, canvas_max_WH]])\n",
    "image_edges = np.array([[1, image_WH-1], [1, image_WH-1]])\n",
    "\n",
    "extra_junctions = []\n",
    "for pts in strokes:\n",
    "    pts_image_inds = convStrokecoordToImagecoord(pts, sketchpad_edges, image_edges)\n",
    "    extra_junctions.append(pts_image_inds[0])\n",
    "    extra_junctions.append(pts_image_inds[-1])\n",
    "    \n",
    "extra_junctions = np.stack(extra_junctions, axis=0)\n",
    "print(extra_junctions)"
   ]
  },
  {
   "cell_type": "code",
   "execution_count": null,
   "metadata": {},
   "outputs": [],
   "source": [
    "# == for each pt in extra junction, find the nearest 1 in the image\n",
    "\n",
    "# get list of pts that are 1 in the image\n",
    "tmp = np.where(I)\n",
    "pts_in_image = np.c_[tmp[0].T, tmp[1].T]\n",
    "\n",
    "# get pairwise distance between extra junctions and pts in image, \n",
    "# in order to get min\n",
    "from scipy.\n"
   ]
  },
  {
   "cell_type": "code",
   "execution_count": null,
   "metadata": {},
   "outputs": [],
   "source": [
    "for row in extra_junctions:\n",
    "    i, j = row\n",
    "    print(I[i-2:i+3, j-2:j+3])\n",
    "    "
   ]
  },
  {
   "cell_type": "code",
   "execution_count": null,
   "metadata": {},
   "outputs": [],
   "source": [
    "# PICK OUT single extra junction by eye, for testing.\n",
    "print(I[45, 37])\n",
    "extra_junctions = np.array([46, 36])\n",
    "\n",
    "# print(I[34, 51])\n",
    "# extra_junctions = np.array([34, 51])"
   ]
  },
  {
   "cell_type": "code",
   "execution_count": null,
   "metadata": {},
   "outputs": [],
   "source": [
    "# === PARSE USING PYBPL\n",
    "import math\n",
    "import imageio\n",
    "import numpy as np\n",
    "import matplotlib.pylab as plt\n",
    "\n",
    "from pybpl.util import dist_along_traj\n",
    "from pybpl.matlab.bottomup import generate_random_parses\n",
    "\n",
    "\n",
    "\n",
    "def plot_stroke(ax, stk, color, lw=2):\n",
    "    if len(stk) > 1 and dist_along_traj(stk) > 0.01:\n",
    "        ax.plot(stk[:,0], -stk[:,1], color=color, linewidth=lw)\n",
    "    else:\n",
    "        ax.plot(stk[0,0], -stk[0,1], color=color, linewidth=lw, marker='.')\n",
    "\n",
    "def plot_parse(ax, strokes, lw=2):\n",
    "    ns = len(strokes)\n",
    "    colors = ['r','g','b','m','c']\n",
    "    for i in range(ns):\n",
    "        plot_stroke(ax, strokes[i], colors[i], lw)\n",
    "    ax.set_xticks([])\n",
    "    ax.set_yticks([])\n",
    "    ax.set_xlim(0,105)\n",
    "    ax.set_ylim(105,0)\n",
    "\n",
    "    \n",
    "\n",
    "# load image to numpy binary array\n",
    "# img = imageio.imread('./image_H.jpg')\n",
    "img = I\n",
    "# generate random parses\n",
    "parses = generate_random_parses(img, seed=3, max_ntrials=150, max_nwalk=150,\n",
    "                                        max_nstroke=100, ver=\"lucas\", \n",
    "                                        extra_junctions=extra_junctions)\n",
    "# parses = generate_random_parses(img, seed=3, ver=\"lucas\")\n",
    "# parses = generate_random_parses(img, seed=3,max_ntrials=150, max_nwalk=150,\n",
    "#                                         max_nstroke=100, ver=\"reuben\")"
   ]
  },
  {
   "cell_type": "code",
   "execution_count": null,
   "metadata": {},
   "outputs": [],
   "source": []
  },
  {
   "cell_type": "code",
   "execution_count": null,
   "metadata": {},
   "outputs": [],
   "source": [
    "# plot parsing results\n",
    "nparse = len(parses)\n",
    "n = math.ceil(nparse/10)\n",
    "m = 10\n",
    "fig, axes = plt.subplots(n,m+1, figsize=(2*(m+1), 2*n), squeeze=False)\n",
    "\n",
    "# first column\n",
    "axes[0,0].imshow(img, cmap=plt.cm.binary)\n",
    "axes[0,0].set_xticks([]); axes[0,0].set_yticks([])\n",
    "axes[0,0].set_title('Input')\n",
    "for i in range(1,n):\n",
    "    axes[i,0].set_axis_off()\n",
    "# remaining_columns\n",
    "for i in range(n):\n",
    "    for j in range(1,m+1):\n",
    "        ix = i*m + (j-1)\n",
    "        if ix >= nparse:\n",
    "            axes[i,j].set_axis_off()\n",
    "            continue\n",
    "        try:\n",
    "            plot_parse(axes[i,j], parses[ix])\n",
    "        except IndexError:\n",
    "            print(ix)\n",
    "            continue\n",
    "plt.subplots_adjust(hspace=0., wspace=0.)\n",
    "plt.show()"
   ]
  },
  {
   "cell_type": "code",
   "execution_count": null,
   "metadata": {},
   "outputs": [],
   "source": [
    "# plot parsing results\n",
    "nparse = len(parses)\n",
    "n = math.ceil(nparse/10)\n",
    "m = 10\n",
    "fig, axes = plt.subplots(n,m+1, figsize=(2*(m+1), 2*n), squeeze=False)\n",
    "\n",
    "# first column\n",
    "axes[0,0].imshow(img, cmap=plt.cm.binary)\n",
    "axes[0,0].set_xticks([]); axes[0,0].set_yticks([])\n",
    "axes[0,0].set_title('Input')\n",
    "for i in range(1,n):\n",
    "    axes[i,0].set_axis_off()\n",
    "# remaining_columns\n",
    "for i in range(n):\n",
    "    for j in range(1,m+1):\n",
    "        ix = i*m + (j-1)\n",
    "        if ix >= nparse:\n",
    "            axes[i,j].set_axis_off()\n",
    "            continue\n",
    "        try:\n",
    "            plot_parse(axes[i,j], parses[ix])\n",
    "        except IndexError:\n",
    "            print(ix)\n",
    "            continue\n",
    "plt.subplots_adjust(hspace=0., wspace=0.)\n",
    "plt.show()"
   ]
  },
  {
   "cell_type": "code",
   "execution_count": null,
   "metadata": {},
   "outputs": [],
   "source": [
    "# === 2) Given Task, general purpose parsing function\n",
    "\n",
    "n = len(parses)\n",
    "ncols = 4\n",
    "nrows = int(np.ceil(n/ncols))\n",
    "fig, axes = plt.subplots(nrows, ncols, figsize=(ncols*3, nrows*3))\n",
    "\n",
    "for p, ax in zip(parses, axes.flatten()):\n",
    "#     ax.set_xlim([0, 105])\n",
    "#     ax.set_ylim([-105, 0])\n",
    "#     plotDatStrokes(p, ax)\n",
    "    p = fakeTimesteps(p, p[0], \"in_order\")\n",
    "    plotDatStrokesTimecourse(p, ax, plotver=\"raw\")\n",
    "fig, axes = plt.subplots(nrows, ncols, figsize=(ncols*3, nrows*3))\n",
    "for p, ax in zip(parses, axes.flatten()):\n",
    "    ax.set_xlim([0, 105])\n",
    "    ax.set_ylim([-105, 0])\n",
    "    plotDatStrokes(p, ax)\n",
    "#     p = fakeTimesteps(p, p[0], \"in_order\")\n",
    "#     plotDatStrokesTimecourse(p, ax, plotver=\"raw\")\n",
    "    \n",
    "#     print(p)\n",
    "#     assert False\n",
    "# fig, ax = plt.subplots()\n",
    "# plotDatStrokes(parses[0], ax, each_stroke_separate=True)"
   ]
  },
  {
   "cell_type": "code",
   "execution_count": null,
   "metadata": {},
   "outputs": [],
   "source": [
    "# == POSTPROCESSING\n",
    "# see \"get_topK_parses\" in GNS/experiments/classification\n",
    "# NOTE: not actually working below. just copying for note and to \n",
    "# implement in future.\n",
    "\n",
    "# 1) Fit splines\n",
    "base_parses = [process_parse(parse, device) for parse in base_parses]\n",
    "\n",
    "\n",
    "# Get top K parses, allowing for permutations and ordering flips, \n",
    "# and scoring using GNS model:\n",
    "np.random.seed(seed)\n",
    "n = len(base_parses)\n",
    "parses = []; log_probs = []\n",
    "for i in range(n):\n",
    "    parses_i, log_probs_i = search_parse(\n",
    "        base_parses[i], score_fn, configs_per, trials_per)\n",
    "    parses.extend(parses_i)\n",
    "    log_probs.append(log_probs_i)\n",
    "log_probs = torch.cat(log_probs)\n",
    "\n",
    "# Refine to unique\n",
    "log_probs, idx = np.unique(log_probs.cpu().numpy(), return_index=True)\n",
    "log_probs = torch.from_numpy(log_probs).flip(dims=[0])\n",
    "idx = torch.from_numpy(idx).flip(dims=[0])\n",
    "parses = [parses[i] for i in idx]\n"
   ]
  },
  {
   "cell_type": "markdown",
   "metadata": {},
   "source": [
    "### GOOD (task strokes --> image --> parses)\n"
   ]
  },
  {
   "cell_type": "code",
   "execution_count": 21,
   "metadata": {},
   "outputs": [],
   "source": [
    "import numpy as np\n",
    "\n",
    "# max width or hiegh (whichever one greater), num pixels for\n",
    "# half of page, so that sketchpad will be square with edges in \n",
    "# both dimensions of : (-WH, WH)\n",
    "canvas_max_WH = 400 \n",
    "\n",
    "# num pixels per dimension for the output image\n",
    "image_WH = 105 # I think 105 is used for pyBPL\n"
   ]
  },
  {
   "cell_type": "code",
   "execution_count": 22,
   "metadata": {},
   "outputs": [],
   "source": [
    "T = Tasks[100]\n",
    "strokes = T.Strokes\n"
   ]
  },
  {
   "cell_type": "code",
   "execution_count": 23,
   "metadata": {},
   "outputs": [
    {
     "name": "stderr",
     "output_type": "stream",
     "text": [
      "<string>:6: RuntimeWarning: Converting input from bool to <class 'numpy.uint8'> for compatibility.\n",
      "<string>:6: RuntimeWarning: Converting input from bool to <class 'numpy.uint8'> for compatibility.\n"
     ]
    },
    {
     "name": "stdout",
     "output_type": "stream",
     "text": [
      "(105, 105)\n"
     ]
    },
    {
     "data": {
      "image/png": "[encoded data removed]",
      "text/plain": [
       "<Figure size 720x720 with 1 Axes>"
      ]
     },
     "metadata": {
      "needs_background": "light"
     },
     "output_type": "display_data"
    },
    {
     "data": {
      "image/png": "[encoded data removed]",
      "text/plain": [
       "<Figure size 432x288 with 1 Axes>"
      ]
     },
     "metadata": {
      "needs_background": "light"
     },
     "output_type": "display_data"
    },
    {
     "data": {
      "image/png": "[encoded data removed]",
      "text/plain": [
       "<Figure size 432x288 with 1 Axes>"
      ]
     },
     "metadata": {
      "needs_background": "light"
     },
     "output_type": "display_data"
    }
   ],
   "source": [
    "# == CONVERT TASK INTO BINARY IMAGE\n",
    "from pythonlib.drawmodel.primitives import prog2pxl\n",
    "\n",
    "I = prog2pxl(strokes, WHdraw=canvas_max_WH*2, WH=image_WH, smoothing=1)\n",
    "I = np.array(I>0.5) # binarize\n",
    "\n",
    "# ----- PLOTS\n",
    "# plot strokes\n",
    "fig, ax = plt.subplots(figsize=(10,10))\n",
    "plotDatStrokes(p, ax, each_stroke_separate=True)\n",
    "\n",
    "# plot hist of values\n",
    "plt.figure()\n",
    "plt.hist(I[:], log=True)\n",
    "\n",
    "# plot\n",
    "plt.figure()\n",
    "plt.imshow(I)\n",
    "plt.title(\"after binarize\")\n",
    "\n",
    "print(I.shape)\n",
    "\n"
   ]
  },
  {
   "cell_type": "code",
   "execution_count": 24,
   "metadata": {},
   "outputs": [
    {
     "name": "stdout",
     "output_type": "stream",
     "text": [
      "[[43 48]\n",
      " [24 68]\n",
      " [44 39]\n",
      " [66 26]\n",
      " [44 39]\n",
      " [44 58]]\n"
     ]
    }
   ],
   "source": [
    "# === Get endpoints of segments in vectorized image (i..e, strokes), to force\n",
    "# parsing to incorporate corners. is ok to also pass in endpoints, but those will\n",
    "# be ignore by parsing since they will be found anyway.\n",
    "    \n",
    "sketchpad_edges = np.array([[-canvas_max_WH, canvas_max_WH], [-canvas_max_WH, canvas_max_WH]])\n",
    "image_edges = np.array([[1, image_WH-1], [1, image_WH-1]]) # 1 on edges, since there is a slight border.\n",
    "\n",
    "extra_junctions = []\n",
    "for pts in strokes:\n",
    "    pts_image_inds = convStrokecoordToImagecoord(pts, sketchpad_edges, image_edges)\n",
    "    extra_junctions.append(pts_image_inds[0])\n",
    "    extra_junctions.append(pts_image_inds[-1])\n",
    "    \n",
    "extra_junctions = np.stack(extra_junctions, axis=0)\n",
    "print(extra_junctions)"
   ]
  },
  {
   "cell_type": "code",
   "execution_count": 29,
   "metadata": {},
   "outputs": [],
   "source": [
    "# === PARSE USING PYBPL\n",
    "from pybpl.matlab.bottomup import generate_random_parses\n",
    "img = I\n",
    "# generate random parses\n",
    "parses = generate_random_parses(img, seed=3, max_ntrials=150, max_nwalk=150,\n",
    "                                        max_nstroke=100, ver=\"lucas\", \n",
    "                                        extra_junctions=extra_junctions)\n",
    "# parses = generate_random_parses(img, seed=3, ver=\"lucas\")\n",
    "# parses = generate_random_parses(img, seed=3,max_ntrials=150, max_nwalk=150,\n",
    "#                                         max_nstroke=100, ver=\"reuben\")"
   ]
  },
  {
   "cell_type": "code",
   "execution_count": 31,
   "metadata": {},
   "outputs": [
    {
     "data": {
      "image/png": "[encoded data removed]",
      "text/plain": [
       "<Figure size 1584x864 with 66 Axes>"
      ]
     },
     "metadata": {
      "needs_background": "light"
     },
     "output_type": "display_data"
    }
   ],
   "source": [
    "# == PLOT PARSES (from pyBPL)\n",
    "import math\n",
    "import imageio\n",
    "import numpy as np\n",
    "import matplotlib.pylab as plt\n",
    "from pybpl.util import dist_along_traj\n",
    "\n",
    "\n",
    "def plot_stroke(ax, stk, color, lw=2):\n",
    "    if len(stk) > 1 and dist_along_traj(stk) > 0.01:\n",
    "        ax.plot(stk[:,0], -stk[:,1], color=color, linewidth=lw)\n",
    "    else:\n",
    "        ax.plot(stk[0,0], -stk[0,1], color=color, linewidth=lw, marker='.')\n",
    "\n",
    "def plot_parse(ax, strokes, lw=2):\n",
    "    ns = len(strokes)\n",
    "    colors = ['r','g','b','m','c']\n",
    "    for i in range(ns):\n",
    "        plot_stroke(ax, strokes[i], colors[i], lw)\n",
    "    ax.set_xticks([])\n",
    "    ax.set_yticks([])\n",
    "    ax.set_xlim(0,105)\n",
    "    ax.set_ylim(105,0)\n",
    "\n",
    "# plot parsing results\n",
    "nparse = len(parses)\n",
    "n = math.ceil(nparse/10)\n",
    "m = 10\n",
    "fig, axes = plt.subplots(n,m+1, figsize=(2*(m+1), 2*n), squeeze=False)\n",
    "\n",
    "# first column\n",
    "axes[0,0].imshow(img, cmap=plt.cm.binary)\n",
    "axes[0,0].set_xticks([]); axes[0,0].set_yticks([])\n",
    "axes[0,0].set_title('Input')\n",
    "for i in range(1,n):\n",
    "    axes[i,0].set_axis_off()\n",
    "# remaining_columns\n",
    "for i in range(n):\n",
    "    for j in range(1,m+1):\n",
    "        ix = i*m + (j-1)\n",
    "        if ix >= nparse:\n",
    "            axes[i,j].set_axis_off()\n",
    "            continue\n",
    "        try:\n",
    "            plot_parse(axes[i,j], parses[ix])\n",
    "        except IndexError:\n",
    "            print(ix)\n",
    "            continue\n",
    "plt.subplots_adjust(hspace=0., wspace=0.)\n",
    "plt.show()\n",
    "\n"
   ]
  },
  {
   "cell_type": "code",
   "execution_count": null,
   "metadata": {},
   "outputs": [],
   "source": []
  }
 ],
 "metadata": {
  "kernelspec": {
   "display_name": "Python 3",
   "language": "python",
   "name": "python3"
  },
  "language_info": {
   "codemirror_mode": {
    "name": "ipython",
    "version": 3
   },
   "file_extension": ".py",
   "mimetype": "text/x-python",
   "name": "python",
   "nbconvert_exporter": "python",
   "pygments_lexer": "ipython3",
   "version": "3.8.5"
  }
 },
 "nbformat": 4,
 "nbformat_minor": 4
}
