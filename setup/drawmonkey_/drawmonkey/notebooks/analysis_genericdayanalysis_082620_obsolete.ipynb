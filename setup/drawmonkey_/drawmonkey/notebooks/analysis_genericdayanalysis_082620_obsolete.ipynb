{
 "cells": [
  {
   "cell_type": "code",
   "execution_count": null,
   "metadata": {},
   "outputs": [],
   "source": [
    "\"\"\" \n",
    "setting up generic day analysis, iterate over multiple days\n",
    "\n",
    "# TO DO\n",
    "# 1) use generic HD to allow comparison across days\n",
    "    ( this also allows beh analysis without affect of online changes in params)\n",
    "# 2) Across-day analysi.\n",
    "\n",
    "\n",
    "9/12/20 - Updated to plota ll trials, and to plot block-realted mean stats\n",
    "\n",
    "9/20/20 -\n",
    "MOVED TO tools/preprocess.py. Makes this obsolete\n",
    "\"\"\""
   ]
  },
  {
   "cell_type": "code",
   "execution_count": 1,
   "metadata": {},
   "outputs": [
    {
     "name": "stdout",
     "output_type": "stream",
     "text": [
      "/data1/code/python/drawmonkey\n"
     ]
    }
   ],
   "source": [
    "%load_ext autoreload\n",
    "%autoreload 2\n",
    "\n",
    "%cd .."
   ]
  },
  {
   "cell_type": "code",
   "execution_count": 2,
   "metadata": {},
   "outputs": [],
   "source": [
    "# TO DO\n",
    "# 1) use generic HD to allow comparison across days\n",
    "# 2) Across-day analysi.\n"
   ]
  },
  {
   "cell_type": "code",
   "execution_count": 3,
   "metadata": {},
   "outputs": [
    {
     "name": "stdout",
     "output_type": "stream",
     "text": [
      "NOTE: need to not overwrite strokes_all_task, because then the orders saved will stop being accurate. Modify\n"
     ]
    }
   ],
   "source": [
    "\n",
    "from tools.utils import * \n",
    "from tools.plots import *\n",
    "from tools.analy import *\n",
    "from tools.calc import *\n",
    "from tools.analyplot import *\n",
    "from tools.preprocess import *\n",
    "from tools.dayanalysis import *\n",
    "\n",
    "from pythonlib.drawmodel.analysis import *\n",
    "from pythonlib.tools.stroketools import *"
   ]
  },
  {
   "cell_type": "code",
   "execution_count": null,
   "metadata": {
    "scrolled": true
   },
   "outputs": [],
   "source": [
    "# expt = \"pilot\"\n",
    "# expt = \"lines2\"\n",
    "AD = (\n",
    "    (\"Pancho\", 200913, \"lines4\", 1),\n",
    "    (\"Pancho\", 200914, \"lines4\", 1),\n",
    "    (\"Pancho\", 200914, \"lines4\", 2),\n",
    "    (\"Red\", 200913, \"lines4\", 1),\n",
    "    (\"Red\", 200913, \"lines4\", 2),\n",
    "    (\"Red\", 200914, \"lines4\", 1),\n",
    "    (\"Red\", 200914, \"lines4\", 2),\n",
    "    (\"Red\", 200914, \"lines4\", 3),\n",
    "    (\"Red\", 200914, \"lines4\", 4),\n",
    ")\n",
    "\n",
    "for animal, date, expt, session in AD:\n",
    "    fd = loadSingleData(animal, date, expt, session, resave_as_dict=False, load_resaved_data=True, \n",
    "                          resave_overwrite=False)\n",
    "    \n",
    "    if fd is None:\n",
    "        continue\n",
    "        \n",
    "    # setup saving dir for figs\n",
    "    SAVEDIRDAY = f\"{fd['params']['figuredir']}/dayanalysis\"\n",
    "    import os\n",
    "    os.makedirs(SAVEDIRDAY, exist_ok=True)\n",
    "\n",
    "    # 1) overview\n",
    "    df = extractSessionDf(fd)\n",
    "    \n",
    "    # ==== get features to plot.\n",
    "    featurestoplot = []\n",
    "    for key, val in getTrialsBlockParams(fd, 1)[\"behEval\"][\"beh_eval\"].items():\n",
    "        if val[\"weight\"][0][0]>0:\n",
    "            featurestoplot.append(val[\"feature\"])\n",
    "#         if val[\"feature\"] ==\"hausdorff\" and val[\"weight\"][0][0]>0:\n",
    "#             featurestoplot.append(\"hausdorff\")\n",
    "#         if val[\"feature\"] ==\"frac_touched\" and val[\"weight\"][0][0]>0:\n",
    "#             featurestoplot.append(\"frac_touched\")\n",
    "    featurestoplot.append(\"score_offline\")\n",
    "        \n",
    "    fig1, fig2, fig3, fig4 = plotOverview_(df, featurestoplot=featurestoplot)\n",
    "    fig1.savefig(f\"{SAVEDIRDAY}/overview1.pdf\")\n",
    "    fig2.savefig(f\"{SAVEDIRDAY}/overview2.pdf\")\n",
    "    fig3.savefig(f\"{SAVEDIRDAY}/overview3.pdf\")\n",
    "    fig4.savefig(f\"{SAVEDIRDAY}/overview4.pdf\")\n",
    "    plt.close()\n",
    "    \n",
    "    # 2) relationship between reward and factors that go into reward\n",
    "    figs = plotReward(df, featurestoplot=featurestoplot)\n",
    "    for i, f in enumerate(figs):\n",
    "        f.savefig(f\"{SAVEDIRDAY}/reward_score_{i}.pdf\")\n",
    "\n",
    "    # 3) PLOT BEHAVIOR FOR TRIALS SORTED BY SCORE\n",
    "    import copy\n",
    "    scoretypes = copy.copy(featurestoplot)\n",
    "    scoretypes.extend([\"behscore\", \"reward\"])\n",
    "    for score_type in scoretypes:\n",
    "        FIGS = plotBehSortedByScore(df, fd, score_type)\n",
    "        for ver, figs in FIGS.items():\n",
    "            for i, f in enumerate(figs):\n",
    "                f.savefig(f\"{SAVEDIRDAY}/trialsSortedByScore_{score_type}_{ver}_{i}_.pdf\")\n",
    "            \n",
    "    # 4) Plot behavior subsampling in chronological order\n",
    "    trials = [t for t in getIndsTrials(fd) if getTrialsFixationSuccess(fd, t)]\n",
    "    Nrand = 80\n",
    "    fig = plotMultTrialsSimple(fd, trials, zoom=True, strokes_ver=\"peanuts\", plot_fix=False, rand_subset=Nrand)\n",
    "    fig.savefig(f\"{SAVEDIRDAY}/trialsRandomChronOrder.pdf\")\n",
    "\n",
    "    # 5) ==== plot all trials in chron order\n",
    "    trials = [t for t in getIndsTrials(fd) if getTrialsFixationSuccess(fd, t)]\n",
    "    NplotPerFig = 80\n",
    "    nfigs = int(np.ceil(len(trials)/NplotPerFig))\n",
    "    for n in range(nfigs):\n",
    "        if n==nfigs-1:\n",
    "            idx = range(n*NplotPerFig, len(trials))\n",
    "            trialsthis = [trials[i] for i in idx]\n",
    "        else:\n",
    "            idx = range(n*NplotPerFig, (n+1)*NplotPerFig)\n",
    "            trialsthis = [trials[i] for i in idx]\n",
    "\n",
    "        fig = plotMultTrialsSimple(fd, trialsthis, zoom=True, strokes_ver=\"peanuts\", plot_fix=False)\n",
    "        fig.savefig(f\"{SAVEDIRDAY}/trialsAllChronOrder-{n}.pdf\")\n",
    "\n",
    "    # 5) TASK VISUALIZATIONS, SCHEDULE, REPETITION\n",
    "    figs = plotTaskSchedules(df)\n",
    "    for i, f in enumerate(figs):\n",
    "        f.savefig(f\"{SAVEDIRDAY}/taskSchedule{i}.pdf\")\n",
    "    plt.close()\n"
   ]
  },
  {
   "cell_type": "code",
   "execution_count": null,
   "metadata": {},
   "outputs": [],
   "source": [
    "trials = [t for t in getIndsTrials(fd) if getTrialsFixationSuccess(fd, t)]\n",
    "NplotPerFig = 10\n",
    "nfigs = int(np.ceil(len(trials)/NplotPerFig))\n",
    "for n in range(nfigs):\n",
    "    if n==nfigs-1:\n",
    "        idx = range(n*NplotPerFig, len(trials))\n",
    "        trialsthis = [trials[i] for i in idx]\n",
    "    else:\n",
    "        idx = range(n*NplotPerFig, (n+1)*NplotPerFig)\n",
    "        trialsthis = [trials[i] for i in idx]\n",
    "\n",
    "    fig = plotMultTrialsSimple(fd, trialsthis, zoom=True, strokes_ver=\"peanuts\", plot_fix=False)\n",
    "    assert False"
   ]
  },
  {
   "cell_type": "code",
   "execution_count": null,
   "metadata": {
    "scrolled": true
   },
   "outputs": [],
   "source": [
    "df = extractSessionDf(fd)\n",
    "\n",
    "# ==== get features to plot.\n",
    "featurestoplot = []\n",
    "for key, val in getTrialsBlockParams(fd, 1)[\"behEval\"][\"beh_eval\"].items():\n",
    "    if val[\"weight\"][0][0]>0:\n",
    "        featurestoplot.append(val[\"feature\"])\n",
    "#         if val[\"feature\"] ==\"hausdorff\" and val[\"weight\"][0][0]>0:\n",
    "#             featurestoplot.append(\"hausdorff\")\n",
    "#         if val[\"feature\"] ==\"frac_touched\" and val[\"weight\"][0][0]>0:\n",
    "#             featurestoplot.append(\"frac_touched\")\n",
    "featurestoplot.append(\"score_offline\")\n",
    "\n",
    "fig1, fig2 = plotOverview_(df, featurestoplot=featurestoplot)\n",
    "# fig1.savefig(f\"{SAVEDIRDAY}/overview1.pdf\")\n",
    "# fig2.savefig(f\"{SAVEDIRDAY}/overview2.pdf\")\n"
   ]
  },
  {
   "cell_type": "code",
   "execution_count": null,
   "metadata": {},
   "outputs": [],
   "source": [
    "if False:\n",
    "    animal = \"Pancho\"\n",
    "    expt = \"pilot\"\n",
    "    date = 200822\n",
    "    session = 1\n",
    "\n",
    "    fd = loadSingleData(animal, date, expt, session, resave_as_dict=False, load_resaved_data=True, \n",
    "                              resave_overwrite=False)\n",
    "\n",
    "    ## ==== [testing] stroke based hd\n",
    "    from pythonlib.tools.stroketools import distanceDTW\n",
    "    t = random.sample(getIndsTrials(fd),1)[0]\n",
    "\n",
    "    for ass in [True, False]:\n",
    "        print(f\"assymetric: {ass}\")\n",
    "        plotTrialSimple(fd, t, zoom=True, plot_fix=False, plotver=\"strokes\", \n",
    "                        use_peanut_params={'replaynum': 1, 'active': True})\n",
    "\n",
    "        strokes_beh = getTrialsStrokesByPeanuts(fd, t, replaynum=1)\n",
    "        strokes_task = getTrialsTaskAsStrokes(fd, t)\n",
    "        print(distanceDTW(strokes_beh, strokes_task[::-1], ver=\"segments\", asymmetric=ass))\n",
    "        print(distanceDTW(strokes_beh, strokes_task, ver=\"segments\", asymmetric=ass))\n",
    "\n",
    "        plt.figure(figsize=(10,10))\n",
    "        ax = plt.subplot(211)\n",
    "        plotDatStrokes(strokes_beh, ax=ax)\n",
    "        plotDatStrokes(strokes_task[::-1], ax=ax)\n",
    "\n",
    "        ax = plt.subplot(212)\n",
    "        plotDatStrokes(strokes_beh, ax=ax)\n",
    "        plotDatStrokes(strokes_task, ax=ax)\n"
   ]
  },
  {
   "cell_type": "code",
   "execution_count": null,
   "metadata": {},
   "outputs": [],
   "source": [
    "## plotting distrubtions for all beh eval factors within the day\n",
    "animal = \"Pancho\"\n",
    "expt = \"lines2\"\n",
    "date = 200904\n",
    "session = 2\n",
    "\n",
    "\n",
    "fd = loadSingleData(animal, date, expt, session, resave_as_dict=False, load_resaved_data=True, \n",
    "                          resave_overwrite=False)\n"
   ]
  },
  {
   "cell_type": "code",
   "execution_count": null,
   "metadata": {},
   "outputs": [],
   "source": []
  },
  {
   "cell_type": "code",
   "execution_count": null,
   "metadata": {
    "scrolled": false
   },
   "outputs": [],
   "source": [
    "%matplotlib notebook\n",
    "plotTrialSingleOverview(fd, 170);"
   ]
  },
  {
   "cell_type": "code",
   "execution_count": null,
   "metadata": {},
   "outputs": [],
   "source": [
    "getTrialsOutcomesWrapper(fd, 170)"
   ]
  },
  {
   "cell_type": "code",
   "execution_count": null,
   "metadata": {},
   "outputs": [],
   "source": [
    "[plotTrialSimple(fd, t) for t in range(102, 106)]"
   ]
  },
  {
   "cell_type": "code",
   "execution_count": null,
   "metadata": {},
   "outputs": [],
   "source": [
    "X = [getTrialsOutcomesWrapper(fd, t)[\"beh_evaluation\"][\"output\"][\"dist_total\"][\"value\"][0][0] for t in getIndsTrials(fd) if getTrialsFixationSuccess(fd, t)]"
   ]
  },
  {
   "cell_type": "code",
   "execution_count": null,
   "metadata": {},
   "outputs": [],
   "source": [
    "plt.figure()\n",
    "plt.hist(X, 50)"
   ]
  },
  {
   "cell_type": "code",
   "execution_count": null,
   "metadata": {},
   "outputs": [],
   "source": [
    "plt.figure()\n",
    "plt.hist(X, 50)"
   ]
  },
  {
   "cell_type": "code",
   "execution_count": null,
   "metadata": {},
   "outputs": [],
   "source": [
    "[print(f\"{t} - {getTrialsBlockParamsHotkeyUpdated(fd, t)['task_staging']['task_scheduler']}\") for t in getIndsTrials(fd)]\n"
   ]
  },
  {
   "cell_type": "code",
   "execution_count": null,
   "metadata": {},
   "outputs": [],
   "source": [
    "# === save trials rpograms so can resynthesize in matlab task\n",
    "\n",
    "getTrialsTask(fd, 1)[\"TaskNew\"][\"Task\"][\"program\"]\n",
    "\n",
    "\n",
    "# RPobably best way is to save a list of trial numbers, open those in matlab, then save those tasks."
   ]
  },
  {
   "cell_type": "markdown",
   "metadata": {},
   "source": [
    "## TO DO:\n",
    "(1) get all permutations\n",
    "(2) normalize by num strokes.\n",
    "(3) systematic - compare to old version."
   ]
  }
 ],
 "metadata": {
  "kernelspec": {
   "display_name": "Python 3",
   "language": "python",
   "name": "python3"
  },
  "language_info": {
   "codemirror_mode": {
    "name": "ipython",
    "version": 3
   },
   "file_extension": ".py",
   "mimetype": "text/x-python",
   "name": "python",
   "nbconvert_exporter": "python",
   "pygments_lexer": "ipython3",
   "version": "3.7.9"
  }
 },
 "nbformat": 4,
 "nbformat_minor": 2
}
