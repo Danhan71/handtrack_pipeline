{
 "cells": [
  {
   "cell_type": "code",
   "execution_count": 1,
   "metadata": {},
   "outputs": [
    {
     "data": {
      "text/plain": [
       "' \\nLook at things during done-button, lines5 task.\\nLearning, effect of colors, etc.\\n\\n'"
      ]
     },
     "execution_count": 1,
     "metadata": {},
     "output_type": "execute_result"
    }
   ],
   "source": [
    "\"\"\" \n",
    "Look at things during done-button, lines5 task.\n",
    "Learning, effect of colors, etc.\n",
    "\n",
    "\n",
    "\n",
    "\"\"\""
   ]
  },
  {
   "cell_type": "code",
   "execution_count": 2,
   "metadata": {},
   "outputs": [
    {
     "name": "stdout",
     "output_type": "stream",
     "text": [
      "/data1/code/python/drawmonkey\n"
     ]
    }
   ],
   "source": [
    "%load_ext autoreload\n",
    "%autoreload 2\n",
    "\n",
    "%cd .."
   ]
  },
  {
   "cell_type": "code",
   "execution_count": 36,
   "metadata": {},
   "outputs": [],
   "source": [
    "from tools.utils import * \n",
    "from tools.plots import *\n",
    "from tools.analy import *\n",
    "from tools.calc import *\n",
    "from tools.analyplot import *\n",
    "from tools.preprocess import *\n",
    "from tools.dayanalysis import *\n",
    "\n",
    "from pythonlib.drawmodel.analysis import *\n",
    "from pythonlib.tools.stroketools import *"
   ]
  },
  {
   "cell_type": "code",
   "execution_count": 4,
   "metadata": {},
   "outputs": [
    {
     "name": "stdout",
     "output_type": "stream",
     "text": [
      "('lines5', 'Red', 200921)\n",
      "did not find any glob match to /data2/animals/Red/200921/200921_*_lines5_Red_0.h5!!\n",
      "- No h5 file for Red, 200921, lines5, 0 - returning None!\n",
      "found one matching filename: ['/data2/animals/Red/200921/200921_135553_lines5_Red_1.h5']\n",
      "found one matching filename: ['/data2/animals/Red/200921/200921_135553_lines5_Red_1.pkl']\n",
      "-- loaded presaved data: /data2/animals/Red/200921/200921_135553_lines5_Red_1.pkl\n",
      "appending fd for sess 1\n",
      "did not find any glob match to /data2/animals/Red/200921/200921_*_lines5_Red_2.h5!!\n",
      "- No h5 file for Red, 200921, lines5, 2 - returning None!\n",
      "did not find any glob match to /data2/animals/Red/200921/200921_*_lines5_Red_3.h5!!\n",
      "- No h5 file for Red, 200921, lines5, 3 - returning None!\n",
      "did not find any glob match to /data2/animals/Red/200921/200921_*_lines5_Red_4.h5!!\n",
      "- No h5 file for Red, 200921, lines5, 4 - returning None!\n",
      "did not find any glob match to /data2/animals/Red/200921/200921_*_lines5_Red_5.h5!!\n",
      "- No h5 file for Red, 200921, lines5, 5 - returning None!\n",
      "did not find any glob match to /data2/animals/Red/200921/200921_*_lines5_Red_6.h5!!\n",
      "- No h5 file for Red, 200921, lines5, 6 - returning None!\n",
      "did not find any glob match to /data2/animals/Red/200921/200921_*_lines5_Red_7.h5!!\n",
      "- No h5 file for Red, 200921, lines5, 7 - returning None!\n",
      "did not find any glob match to /data2/animals/Red/200921/200921_*_lines5_Red_8.h5!!\n",
      "- No h5 file for Red, 200921, lines5, 8 - returning None!\n",
      "did not find any glob match to /data2/animals/Red/200921/200921_*_lines5_Red_9.h5!!\n",
      "- No h5 file for Red, 200921, lines5, 9 - returning None!\n",
      "===== SUMMARY\n",
      "--\n",
      "Red-200921-1: ntrials: 987\n",
      "\n",
      "saving at /data2/analyses/notebook/probes/Red_200921\n",
      "got 986 total trials\n",
      "('lines5', 'Pancho', 200921)\n",
      "did not find any glob match to /data2/animals/Pancho/200921/200921_*_lines5_Pancho_0.h5!!\n",
      "- No h5 file for Pancho, 200921, lines5, 0 - returning None!\n",
      "found one matching filename: ['/data2/animals/Pancho/200921/200921_141055_lines5_Pancho_1.h5']\n",
      "found one matching filename: ['/data2/animals/Pancho/200921/200921_141055_lines5_Pancho_1.pkl']\n",
      "-- loaded presaved data: /data2/animals/Pancho/200921/200921_141055_lines5_Pancho_1.pkl\n",
      "appending fd for sess 1\n",
      "did not find any glob match to /data2/animals/Pancho/200921/200921_*_lines5_Pancho_2.h5!!\n",
      "- No h5 file for Pancho, 200921, lines5, 2 - returning None!\n",
      "did not find any glob match to /data2/animals/Pancho/200921/200921_*_lines5_Pancho_3.h5!!\n",
      "- No h5 file for Pancho, 200921, lines5, 3 - returning None!\n",
      "did not find any glob match to /data2/animals/Pancho/200921/200921_*_lines5_Pancho_4.h5!!\n",
      "- No h5 file for Pancho, 200921, lines5, 4 - returning None!\n",
      "did not find any glob match to /data2/animals/Pancho/200921/200921_*_lines5_Pancho_5.h5!!\n",
      "- No h5 file for Pancho, 200921, lines5, 5 - returning None!\n",
      "did not find any glob match to /data2/animals/Pancho/200921/200921_*_lines5_Pancho_6.h5!!\n",
      "- No h5 file for Pancho, 200921, lines5, 6 - returning None!\n",
      "did not find any glob match to /data2/animals/Pancho/200921/200921_*_lines5_Pancho_7.h5!!\n",
      "- No h5 file for Pancho, 200921, lines5, 7 - returning None!\n",
      "did not find any glob match to /data2/animals/Pancho/200921/200921_*_lines5_Pancho_8.h5!!\n",
      "- No h5 file for Pancho, 200921, lines5, 8 - returning None!\n",
      "did not find any glob match to /data2/animals/Pancho/200921/200921_*_lines5_Pancho_9.h5!!\n",
      "- No h5 file for Pancho, 200921, lines5, 9 - returning None!\n",
      "===== SUMMARY\n",
      "--\n",
      "Pancho-200921-1: ntrials: 812\n",
      "\n",
      "saving at /data2/analyses/notebook/probes/Pancho_200921\n",
      "got 811 total trials\n"
     ]
    }
   ],
   "source": [
    "A = [\n",
    "    (\"lines5\", \"Red\", 200921),\n",
    "    (\"lines5\", \"Pancho\", 200921)]\n",
    "\n",
    "for (expt, animal, date) in A:\n",
    "\n",
    "    dattoget = [(expt, animal, date)]\n",
    "    FD = loadMultData(dattoget)\n",
    "\n",
    "    # saving dir\n",
    "#     SAVEDIR = f\"{FD[0]['fd']['params']['figuredir_notebook']}/analysis_line2_090720/multday_{animal}_{sdate}_to_{edate}\"\n",
    "    SAVEDIR = f\"{FD[0]['fd']['params']['figuredir_notebook']}/probes/{animal}_{date}\"\n",
    "\n",
    "    import os\n",
    "    os.makedirs(SAVEDIR, exist_ok=True)\n",
    "    print(f\"saving at {SAVEDIR}\")\n",
    "\n",
    "    # ==== Flatten all trials across days x animals\n",
    "    # for each trial collect relevant information\n",
    "    from analysis.line2 import PROBEDATfromFD\n",
    "    PROBEDAT = PROBEDATfromFD(FD)\n",
    "\n",
    "\n"
   ]
  },
  {
   "cell_type": "markdown",
   "metadata": {},
   "source": [
    "## qwuantification, across sessions single day"
   ]
  },
  {
   "cell_type": "code",
   "execution_count": 10,
   "metadata": {},
   "outputs": [
    {
     "data": {
      "text/plain": [
       "{'linePlusL_1-resynth-Pancho_200903_1-1-1',\n",
       " 'linePlusL_1-resynth-Pancho_200903_1-1-63',\n",
       " 'linePlusL_10-resynth-Pancho_200903_1-1-44',\n",
       " 'linePlusL_2-resynth-Pancho_200903_1-1-12',\n",
       " 'linePlusL_2-resynth-Pancho_200903_1-1-32',\n",
       " 'linePlusL_3-resynth-Pancho_200903_1-1-15',\n",
       " 'linePlusL_3-resynth-Pancho_200903_1-1-38',\n",
       " 'linePlusL_3-resynth-Pancho_200903_1-1-51',\n",
       " 'linePlusL_4-resynth-Pancho_200903_1-1-83',\n",
       " 'linePlusL_6-resynth-Pancho_200903_1-1-55',\n",
       " 'linePlusL_6-resynth-Pancho_200903_1-1-62',\n",
       " 'linePlusL_7-resynth-Pancho_200903_1-1-24',\n",
       " 'linePlusL_7-resynth-Pancho_200903_1-1-36',\n",
       " 'linePlusL_7-resynth-Pancho_200903_1-1-68',\n",
       " 'linePlusLv2_11-savedset-1',\n",
       " 'linePlusLv2_119-savedset-1',\n",
       " 'linePlusLv2_13-savedset-1',\n",
       " 'linePlusLv2_141-savedset-1',\n",
       " 'linePlusLv2_155-savedset-1',\n",
       " 'linePlusLv2_16-savedset-1',\n",
       " 'linePlusLv2_18-savedset-1',\n",
       " 'linePlusLv2_22-savedset-1',\n",
       " 'linePlusLv2_25-savedset-1',\n",
       " 'linePlusLv2_26-savedset-1',\n",
       " 'linePlusLv2_3-savedset-1',\n",
       " 'linePlusLv2_33-savedset-1',\n",
       " 'linePlusLv2_44-savedset-1',\n",
       " 'linePlusLv2_45-savedset-1',\n",
       " 'linePlusLv2_46-savedset-1',\n",
       " 'linePlusLv2_5-savedset-1',\n",
       " 'linePlusLv2_51-savedset-1',\n",
       " 'linePlusLv2_54-savedset-1',\n",
       " 'linePlusLv2_58-savedset-1',\n",
       " 'linePlusLv2_59-savedset-1',\n",
       " 'linePlusLv2_61-savedset-1',\n",
       " 'linePlusLv2_64-savedset-1',\n",
       " 'linePlusLv2_69-savedset-1',\n",
       " 'linePlusLv2_7-savedset-1',\n",
       " 'linePlusLv2_76-savedset-1',\n",
       " 'linePlusLv2_79-savedset-1',\n",
       " 'linePlusLv2_80-savedset-1',\n",
       " 'linePlusLv2_83-savedset-1',\n",
       " 'linePlusLv2_94-savedset-1',\n",
       " 'linePlusLv2_95-savedset-1',\n",
       " 'linePlusLv2_97-savedset-1'}"
      ]
     },
     "execution_count": 10,
     "metadata": {},
     "output_type": "execute_result"
    }
   ],
   "source": [
    "# 1) Plot stats, conditioned on task, across trials.\n",
    "# SKIP THIS, since generic day analysis baseically does this.\n",
    "# fixed tasks\n"
   ]
  },
  {
   "cell_type": "markdown",
   "metadata": {},
   "source": [
    "## correlation between beahvior sequence and color?"
   ]
  },
  {
   "cell_type": "code",
   "execution_count": 55,
   "metadata": {},
   "outputs": [
    {
     "name": "stdout",
     "output_type": "stream",
     "text": [
      "-- date: 200921\n",
      "found this trial(day): 49, assigned idx: 0\n",
      "found this trial(day): 121, assigned idx: 1\n",
      "found this trial(day): 206, assigned idx: 2\n",
      "found this trial(day): 227, assigned idx: 3\n",
      "found this trial(day): 320, assigned idx: 4\n",
      "found this trial(day): 331, assigned idx: 5\n",
      "found this trial(day): 378, assigned idx: 6\n",
      "found this trial(day): 479, assigned idx: 7\n",
      "found this trial(day): 531, assigned idx: 8\n",
      "found this trial(day): 557, assigned idx: 9\n"
     ]
    }
   ],
   "source": [
    "from analysis.line2 import *\n",
    "\n",
    "C = probeDatIndexWithinDay(PROBEDAT, \"linePlusLv2_3-savedset-1\")[1]\n"
   ]
  },
  {
   "cell_type": "code",
   "execution_count": 57,
   "metadata": {},
   "outputs": [],
   "source": [
    "import seaborn as sns\n",
    "import pandas as pd\n",
    "dframe = pd.DataFrame(PROBEDAT).drop(columns=['filedata'])\n"
   ]
  },
  {
   "cell_type": "code",
   "execution_count": 49,
   "metadata": {},
   "outputs": [
    {
     "data": {
      "text/plain": [
       "<seaborn.axisgrid.FacetGrid at 0x7fd7be6bfd90>"
      ]
     },
     "execution_count": 49,
     "metadata": {},
     "output_type": "execute_result"
    },
    {
     "data": {
      "image/png": "[encoded data removed]",
      "text/plain": [
       "<Figure size 360x360 with 1 Axes>"
      ]
     },
     "metadata": {
      "needs_background": "light"
     },
     "output_type": "display_data"
    }
   ],
   "source": [
    "DFthis = dframe[dframe[\"random_task\"]==False]\n",
    "sns.catplot(x=\"trial_day\", y=\"modelcomp\", data=DFthis)"
   ]
  },
  {
   "cell_type": "markdown",
   "metadata": {},
   "source": [
    "## below obsolete - replaced with above, which compactly gets FD and PROBEDAT"
   ]
  }
 ],
 "metadata": {
  "kernelspec": {
   "display_name": "Python 3",
   "language": "python",
   "name": "python3"
  },
  "language_info": {
   "codemirror_mode": {
    "name": "ipython",
    "version": 3
   },
   "file_extension": ".py",
   "mimetype": "text/x-python",
   "name": "python",
   "nbconvert_exporter": "python",
   "pygments_lexer": "ipython3",
   "version": "3.8.5"
  }
 },
 "nbformat": 4,
 "nbformat_minor": 2
}
