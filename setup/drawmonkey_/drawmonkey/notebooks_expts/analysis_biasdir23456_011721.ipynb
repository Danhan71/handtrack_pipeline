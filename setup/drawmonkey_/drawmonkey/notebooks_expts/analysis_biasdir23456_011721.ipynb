{
 "cells": [
  {
   "cell_type": "code",
   "execution_count": null,
   "metadata": {},
   "outputs": [],
   "source": [
    "\"\"\" \n",
    "Copied from biasdir2,\n",
    "should work for all biasdir 2+\n",
    "Should replace bviasdir2 and 3\n",
    "1. most analyses are in analysis_devo_task... for latest code]\n",
    "2. here is additional stuff (i) touch positionl (ii) timecoures.\n",
    "TO DO: combine them. Use analysis_devo for extracting data, and then add the below as additional plotting.\n",
    "\"\"\"\n"
   ]
  },
  {
   "cell_type": "code",
   "execution_count": 1,
   "metadata": {},
   "outputs": [
    {
     "name": "stdout",
     "output_type": "stream",
     "text": [
      "/data1/code/python/drawmonkey\n"
     ]
    }
   ],
   "source": [
    "%load_ext autoreload\n",
    "%autoreload 2\n",
    "\n",
    "%cd .."
   ]
  },
  {
   "cell_type": "code",
   "execution_count": 2,
   "metadata": {},
   "outputs": [
    {
     "name": "stdout",
     "output_type": "stream",
     "text": [
      "NOTE: need to not overwrite strokes_all_task, because then the orders saved will stop being accurate. Modify\n"
     ]
    }
   ],
   "source": [
    "from tools.utils import * \n",
    "from tools.plots import *\n",
    "from tools.analy import *\n",
    "from tools.calc import *\n",
    "from tools.analyplot import *\n",
    "from tools.preprocess import *\n",
    "from tools.dayanalysis import *\n",
    "from analysis.line2 import *\n",
    "from analysis.modelexpt import *\n",
    "\n",
    "from pythonlib.drawmodel.analysis import *\n",
    "from pythonlib.tools.stroketools import *\n",
    "from analysis.probedatTaskmodel import *"
   ]
  },
  {
   "cell_type": "markdown",
   "metadata": {},
   "source": [
    "## PLAN\n",
    "1. Individual stroke directions are same regardless of overall sequence?\n",
    "2. Within-day switching (like the summary plot for lines5, but separate by within day stage.\n",
    "\n"
   ]
  },
  {
   "cell_type": "markdown",
   "metadata": {},
   "source": [
    "## SINGLE ANIMAL ANALYSIS - prototyping"
   ]
  },
  {
   "cell_type": "code",
   "execution_count": 56,
   "metadata": {
    "scrolled": false
   },
   "outputs": [
    {
     "name": "stdout",
     "output_type": "stream",
     "text": [
      "This is metadat:\n",
      "{'sdate': 210108, 'edate': 210108, 'strokmodel_kind': None, 'strokmodel_tstamp': None, 'datecategories': {'210108': 1}, 'dates_for_summary': ['210108'], 'matchedstrokes': None, 'exptnames': ['biasdir3'], 'tasknames_G1': [], 'tasknames_G2': ['3line'], 'tasknames_G3': ['2line', '4line'], 'description': None, 'expt': 'biasdir3', 'task_train_test': {'probe1_liketrain': 'train', 'probe1_nostrokeconstraint': 'train', 'probe2_liketrain': 'train', 'probe2_nostrokeconstraint': 'train', 'probe3_hdpos': 'test', 'probe1': 'train', 'probe2': 'train', 'probe3': 'test', 'probe4': 'test', 'train': 'train'}}\n",
      "\n",
      "Getting these dates:\n",
      "['210108']\n",
      "Pancho 210108 biasdir3 0\n",
      "- No h5 file for Pancho, 210108, biasdir3, 0 - returning None!\n",
      "Pancho 210108 biasdir3 1\n",
      "-- loaded presaved data: /data2/animals/Pancho/210108/210108_151859_biasdir3_Pancho_1.pkl\n",
      "got 515 total trials\n",
      "appending fd for sess 1\n",
      "Pancho 210108 biasdir3 2\n",
      "- No h5 file for Pancho, 210108, biasdir3, 2 - returning None!\n",
      "Pancho 210108 biasdir3 3\n",
      "- No h5 file for Pancho, 210108, biasdir3, 3 - returning None!\n",
      "Pancho 210108 biasdir3 4\n",
      "- No h5 file for Pancho, 210108, biasdir3, 4 - returning None!\n",
      "Pancho 210108 biasdir3 5\n",
      "- No h5 file for Pancho, 210108, biasdir3, 5 - returning None!\n",
      "Pancho 210108 biasdir3 6\n",
      "- No h5 file for Pancho, 210108, biasdir3, 6 - returning None!\n",
      "Pancho 210108 biasdir3 7\n",
      "- No h5 file for Pancho, 210108, biasdir3, 7 - returning None!\n",
      "Pancho 210108 biasdir3 8\n",
      "- No h5 file for Pancho, 210108, biasdir3, 8 - returning None!\n",
      "Pancho 210108 biasdir3 9\n",
      "- No h5 file for Pancho, 210108, biasdir3, 9 - returning None!\n",
      "===== SUMMARY\n",
      "--\n",
      "Pancho-210108-1: ntrials: 516\n",
      "\n",
      "MAKE SURE TO USE loadProbeDatWrapper\n",
      "got 515 total trials\n",
      "PROBLEM: need to make direction a param, diff biasdir have eitehr horiz or vert\n"
     ]
    }
   ],
   "source": [
    "expt = \"biasdir3\"\n",
    "animal = \"Pancho\"\n",
    "if False:\n",
    "    dattoget = [\n",
    "        (expt, \"Red\", \"210107\")]\n",
    "\n",
    "    FD = loadMultData(dattoget)\n",
    "    print(\"len(FD)\")\n",
    "    print(len(FD))\n",
    "    \n",
    "else:\n",
    "    # saved exptdata\n",
    "    FD, exptMetaDat = loadMultDataForExpt(expt, animal)\n",
    "# PROBEDAT = PROBEDATfromFD(FD)\n",
    "PROBEDAT = loadProbeDatWrapper(FD, exptMetaDat)\n",
    "Probedat = ProbedatTaskmodel(PROBEDAT)\n",
    "\n",
    "print(\"PROBLEM: need to make direction a param, diff biasdir have eitehr horiz or vert\")"
   ]
  },
  {
   "cell_type": "markdown",
   "metadata": {},
   "source": [
    "### Starting location for each stroke, separated by blocks"
   ]
  },
  {
   "cell_type": "markdown",
   "metadata": {},
   "source": [
    "Conclusion: clear switching (blocks 3, 5, identical stimuli, only different is learned prior)\n",
    "    "
   ]
  },
  {
   "cell_type": "markdown",
   "metadata": {},
   "source": [
    "TO DO:\n",
    "- assign to stroke numbers (see processAssignStrokes) (see below, have assigned, but problem is the numbers are not ordered left --> right)"
   ]
  },
  {
   "cell_type": "markdown",
   "metadata": {},
   "source": [
    "## ASSIGN EACH STROKE TO GROUND TRUTH STROKE"
   ]
  },
  {
   "cell_type": "markdown",
   "metadata": {},
   "source": [
    "### Summarize first touch position over blocks"
   ]
  },
  {
   "cell_type": "code",
   "execution_count": 57,
   "metadata": {},
   "outputs": [
    {
     "name": "stdout",
     "output_type": "stream",
     "text": [
      "saving at /data2/analyses/notebook/analysis_biasdir23456/biasdir3/Pancho\n"
     ]
    }
   ],
   "source": [
    "SAVEDIR = f\"{FD[0]['fd']['params']['figuredir_notebook']}/analysis_biasdir23456/{expt}/{animal}\"\n",
    "import os\n",
    "os.makedirs(SAVEDIR, exist_ok=True)\n",
    "print(f\"saving at {SAVEDIR}\")\n"
   ]
  },
  {
   "cell_type": "code",
   "execution_count": 58,
   "metadata": {},
   "outputs": [],
   "source": [
    "########## GET LABELS FOR STROKES\n",
    "strokeslist_beh, tasks = Probedat.pd2strokes(Probedat.Probedat, return_all_trials=True)\n",
    "blokk_global = extractFeature(Probedat, feat=\"blokk\", returnlist=True)\n",
    "assert len(blokk_global)==len(strokeslist_beh)"
   ]
  },
  {
   "cell_type": "code",
   "execution_count": 59,
   "metadata": {},
   "outputs": [],
   "source": [
    "horiz=True\n",
    "\n",
    "# ==== CONVERT TASKS TO TASK CLASS OBJECTS\n",
    "from pythonlib.drawmodel.tasks import TaskClass\n",
    "tasks = [TaskClass(t) for t in tasks]\n",
    "\n",
    "\n",
    "# === 1) Assign each stroke to its corresponding task stroke.\n",
    "stroke_assignments = []\n",
    "for strokes_beh, T in zip(strokeslist_beh, tasks):\n",
    "    if len(strokes_beh)==0:\n",
    "        stroke_assignments.append([])\n",
    "    else:\n",
    "        A = T.behAssignClosestTaskStroke(strokes_beh)\n",
    "        stroke_assignments.append(A)\n",
    "\n",
    "# === 2) each task stroke, give it a label.\n",
    "def func(task):\n",
    "    # for each stroke, get its center's x coord\n",
    "    coms = getCentersOfMass(task[\"strokes\"])\n",
    "    \n",
    "    # rank their x positions (0 is leftmost,,,)\n",
    "    from pythonlib.tools.nptools import rankItems\n",
    "    if horiz:\n",
    "        idx = 0\n",
    "    else:\n",
    "        idx = 1\n",
    "    ranks = rankItems([c[idx] for c in coms])    \n",
    "    return ranks    \n",
    "[t.assignLabelToEachStroke(func) for t in tasks]\n",
    "    \n",
    "# === 3) each beh stroke can now get a label\n",
    "beh_stroke_labels = [T.TaskLabels[ass] for ass, T in zip(stroke_assignments, tasks)]\n",
    "\n",
    "######### GET OTHER DATA FOR EACH TRIAL\n",
    "indslist = Probedat.getIndsTrials()\n",
    "assert len(beh_stroke_labels)==len(indslist)\n",
    "assert len(blokk_global)==len(indslist)\n",
    "dat = []\n",
    "for i in indslist:\n",
    "    fd = Probedat.fd(i)\n",
    "    t = Probedat.t(i)[\"trial\"]\n",
    "#     if len(beh_stroke_labels[i])==0:\n",
    "#         print(getTrialsStrokesByPeanuts(fd, t))\n",
    "#         plotTrialSimpleTimecourse(fd,t)\n",
    "#         assert False\n",
    "    if getTrialsStrokesByPeanuts(fd, t):\n",
    "        dat.append({\n",
    "#             \"blokk\": getTrialsBlokk(fd, t),\n",
    "            \"blokk\": blokk_global[i],\n",
    "            \"block\": getTrialsBlock(fd, t),\n",
    "            \"bloque\": getTrialsBloque(fd, t),\n",
    "            \"trial\":t,\n",
    "            \"label\":beh_stroke_labels[i],\n",
    "            \"label_first_touch\":beh_stroke_labels[i][0]\n",
    "        })"
   ]
  },
  {
   "cell_type": "code",
   "execution_count": 60,
   "metadata": {},
   "outputs": [
    {
     "data": {
      "text/html": [
       "<div>\n",
       "<style scoped>\n",
       "    .dataframe tbody tr th:only-of-type {\n",
       "        vertical-align: middle;\n",
       "    }\n",
       "\n",
       "    .dataframe tbody tr th {\n",
       "        vertical-align: top;\n",
       "    }\n",
       "\n",
       "    .dataframe thead th {\n",
       "        text-align: right;\n",
       "    }\n",
       "</style>\n",
       "<table border=\"1\" class=\"dataframe\">\n",
       "  <thead>\n",
       "    <tr style=\"text-align: right;\">\n",
       "      <th></th>\n",
       "      <th>blokk</th>\n",
       "      <th>block</th>\n",
       "      <th>bloque</th>\n",
       "      <th>trial</th>\n",
       "      <th>label</th>\n",
       "      <th>label_first_touch</th>\n",
       "    </tr>\n",
       "  </thead>\n",
       "  <tbody>\n",
       "    <tr>\n",
       "      <th>0</th>\n",
       "      <td>0</td>\n",
       "      <td>1</td>\n",
       "      <td>1</td>\n",
       "      <td>5</td>\n",
       "      <td>[1, 0]</td>\n",
       "      <td>1</td>\n",
       "    </tr>\n",
       "    <tr>\n",
       "      <th>1</th>\n",
       "      <td>0</td>\n",
       "      <td>1</td>\n",
       "      <td>1</td>\n",
       "      <td>7</td>\n",
       "      <td>[1, 0]</td>\n",
       "      <td>1</td>\n",
       "    </tr>\n",
       "    <tr>\n",
       "      <th>2</th>\n",
       "      <td>0</td>\n",
       "      <td>1</td>\n",
       "      <td>1</td>\n",
       "      <td>10</td>\n",
       "      <td>[0, 1, 2]</td>\n",
       "      <td>0</td>\n",
       "    </tr>\n",
       "    <tr>\n",
       "      <th>3</th>\n",
       "      <td>0</td>\n",
       "      <td>1</td>\n",
       "      <td>1</td>\n",
       "      <td>11</td>\n",
       "      <td>[2, 0, 1]</td>\n",
       "      <td>2</td>\n",
       "    </tr>\n",
       "    <tr>\n",
       "      <th>4</th>\n",
       "      <td>0</td>\n",
       "      <td>1</td>\n",
       "      <td>1</td>\n",
       "      <td>12</td>\n",
       "      <td>[2, 1, 0]</td>\n",
       "      <td>2</td>\n",
       "    </tr>\n",
       "    <tr>\n",
       "      <th>...</th>\n",
       "      <td>...</td>\n",
       "      <td>...</td>\n",
       "      <td>...</td>\n",
       "      <td>...</td>\n",
       "      <td>...</td>\n",
       "      <td>...</td>\n",
       "    </tr>\n",
       "    <tr>\n",
       "      <th>417</th>\n",
       "      <td>33</td>\n",
       "      <td>6</td>\n",
       "      <td>58</td>\n",
       "      <td>503</td>\n",
       "      <td>[2, 1, 0]</td>\n",
       "      <td>2</td>\n",
       "    </tr>\n",
       "    <tr>\n",
       "      <th>418</th>\n",
       "      <td>34</td>\n",
       "      <td>7</td>\n",
       "      <td>59</td>\n",
       "      <td>505</td>\n",
       "      <td>[0]</td>\n",
       "      <td>0</td>\n",
       "    </tr>\n",
       "    <tr>\n",
       "      <th>419</th>\n",
       "      <td>35</td>\n",
       "      <td>6</td>\n",
       "      <td>60</td>\n",
       "      <td>509</td>\n",
       "      <td>[2, 1]</td>\n",
       "      <td>2</td>\n",
       "    </tr>\n",
       "    <tr>\n",
       "      <th>420</th>\n",
       "      <td>35</td>\n",
       "      <td>6</td>\n",
       "      <td>60</td>\n",
       "      <td>510</td>\n",
       "      <td>[2, 1]</td>\n",
       "      <td>2</td>\n",
       "    </tr>\n",
       "    <tr>\n",
       "      <th>421</th>\n",
       "      <td>35</td>\n",
       "      <td>6</td>\n",
       "      <td>60</td>\n",
       "      <td>511</td>\n",
       "      <td>[2, 1, 0]</td>\n",
       "      <td>2</td>\n",
       "    </tr>\n",
       "  </tbody>\n",
       "</table>\n",
       "<p>422 rows × 6 columns</p>\n",
       "</div>"
      ],
      "text/plain": [
       "     blokk  block  bloque  trial      label  label_first_touch\n",
       "0        0      1       1      5     [1, 0]                  1\n",
       "1        0      1       1      7     [1, 0]                  1\n",
       "2        0      1       1     10  [0, 1, 2]                  0\n",
       "3        0      1       1     11  [2, 0, 1]                  2\n",
       "4        0      1       1     12  [2, 1, 0]                  2\n",
       "..     ...    ...     ...    ...        ...                ...\n",
       "417     33      6      58    503  [2, 1, 0]                  2\n",
       "418     34      7      59    505        [0]                  0\n",
       "419     35      6      60    509     [2, 1]                  2\n",
       "420     35      6      60    510     [2, 1]                  2\n",
       "421     35      6      60    511  [2, 1, 0]                  2\n",
       "\n",
       "[422 rows x 6 columns]"
      ]
     },
     "execution_count": 60,
     "metadata": {},
     "output_type": "execute_result"
    }
   ],
   "source": [
    "### SUMMARIZE, for each blokk, get prob for each touch location being first.\n",
    "\n",
    "df = pd.DataFrame(dat)\n",
    "\n",
    "df"
   ]
  },
  {
   "cell_type": "code",
   "execution_count": 61,
   "metadata": {},
   "outputs": [
    {
     "data": {
      "text/html": [
       "<div>\n",
       "<style scoped>\n",
       "    .dataframe tbody tr th:only-of-type {\n",
       "        vertical-align: middle;\n",
       "    }\n",
       "\n",
       "    .dataframe tbody tr th {\n",
       "        vertical-align: top;\n",
       "    }\n",
       "\n",
       "    .dataframe thead th {\n",
       "        text-align: right;\n",
       "    }\n",
       "</style>\n",
       "<table border=\"1\" class=\"dataframe\">\n",
       "  <thead>\n",
       "    <tr style=\"text-align: right;\">\n",
       "      <th></th>\n",
       "      <th>blokk</th>\n",
       "      <th>level_1</th>\n",
       "      <th>label</th>\n",
       "      <th>block</th>\n",
       "      <th>prob</th>\n",
       "    </tr>\n",
       "  </thead>\n",
       "  <tbody>\n",
       "    <tr>\n",
       "      <th>0</th>\n",
       "      <td>0</td>\n",
       "      <td>0</td>\n",
       "      <td>0</td>\n",
       "      <td>1</td>\n",
       "      <td>0.111111</td>\n",
       "    </tr>\n",
       "    <tr>\n",
       "      <th>1</th>\n",
       "      <td>0</td>\n",
       "      <td>1</td>\n",
       "      <td>1</td>\n",
       "      <td>1</td>\n",
       "      <td>0.444444</td>\n",
       "    </tr>\n",
       "    <tr>\n",
       "      <th>2</th>\n",
       "      <td>0</td>\n",
       "      <td>2</td>\n",
       "      <td>2</td>\n",
       "      <td>1</td>\n",
       "      <td>0.444444</td>\n",
       "    </tr>\n",
       "    <tr>\n",
       "      <th>3</th>\n",
       "      <td>1</td>\n",
       "      <td>0</td>\n",
       "      <td>0</td>\n",
       "      <td>2</td>\n",
       "      <td>0.100000</td>\n",
       "    </tr>\n",
       "    <tr>\n",
       "      <th>4</th>\n",
       "      <td>1</td>\n",
       "      <td>1</td>\n",
       "      <td>1</td>\n",
       "      <td>2</td>\n",
       "      <td>0.316667</td>\n",
       "    </tr>\n",
       "    <tr>\n",
       "      <th>...</th>\n",
       "      <td>...</td>\n",
       "      <td>...</td>\n",
       "      <td>...</td>\n",
       "      <td>...</td>\n",
       "      <td>...</td>\n",
       "    </tr>\n",
       "    <tr>\n",
       "      <th>103</th>\n",
       "      <td>34</td>\n",
       "      <td>1</td>\n",
       "      <td>1</td>\n",
       "      <td>7</td>\n",
       "      <td>0.000000</td>\n",
       "    </tr>\n",
       "    <tr>\n",
       "      <th>104</th>\n",
       "      <td>34</td>\n",
       "      <td>2</td>\n",
       "      <td>2</td>\n",
       "      <td>7</td>\n",
       "      <td>0.000000</td>\n",
       "    </tr>\n",
       "    <tr>\n",
       "      <th>105</th>\n",
       "      <td>35</td>\n",
       "      <td>0</td>\n",
       "      <td>0</td>\n",
       "      <td>6</td>\n",
       "      <td>0.000000</td>\n",
       "    </tr>\n",
       "    <tr>\n",
       "      <th>106</th>\n",
       "      <td>35</td>\n",
       "      <td>1</td>\n",
       "      <td>1</td>\n",
       "      <td>6</td>\n",
       "      <td>0.000000</td>\n",
       "    </tr>\n",
       "    <tr>\n",
       "      <th>107</th>\n",
       "      <td>35</td>\n",
       "      <td>2</td>\n",
       "      <td>2</td>\n",
       "      <td>6</td>\n",
       "      <td>1.000000</td>\n",
       "    </tr>\n",
       "  </tbody>\n",
       "</table>\n",
       "<p>108 rows × 5 columns</p>\n",
       "</div>"
      ],
      "text/plain": [
       "     blokk  level_1 label  block      prob\n",
       "0        0        0     0      1  0.111111\n",
       "1        0        1     1      1  0.444444\n",
       "2        0        2     2      1  0.444444\n",
       "3        1        0     0      2  0.100000\n",
       "4        1        1     1      2  0.316667\n",
       "..     ...      ...   ...    ...       ...\n",
       "103     34        1     1      7  0.000000\n",
       "104     34        2     2      7  0.000000\n",
       "105     35        0     0      6  0.000000\n",
       "106     35        1     1      6  0.000000\n",
       "107     35        2     2      6  1.000000\n",
       "\n",
       "[108 rows x 5 columns]"
      ]
     },
     "execution_count": 61,
     "metadata": {},
     "output_type": "execute_result"
    }
   ],
   "source": [
    "# def F(x):\n",
    "#     dat = []\n",
    "#     for pos in [0, 1, 2]:\n",
    "#         dat.append(sum(x[\"label_first_touch\"]==pos))\n",
    "#     dat_norm = [d/sum(dat) for d in dat]\n",
    "#     return pd.DataFrame(dat_norm)\n",
    "def F(x):\n",
    "    dat = []\n",
    "    for pos in [0, 1, 2]:\n",
    "        total = len(x[\"label_first_touch\"])\n",
    "        dat.append(\n",
    "            {\"label\":str(pos),\n",
    "             \"block\":x[\"block\"].values[0],\n",
    "             \"prob\":sum(x[\"label_first_touch\"]==pos)/total})\n",
    "\n",
    "    return pd.DataFrame(dat)\n",
    "    \n",
    "df2 = df.groupby([\"blokk\"]).apply(F).reset_index()\n",
    "df2"
   ]
  },
  {
   "cell_type": "code",
   "execution_count": 62,
   "metadata": {
    "scrolled": false
   },
   "outputs": [
    {
     "name": "stdout",
     "output_type": "stream",
     "text": [
      "These are blocks: [1, 2, 3, 4, 5, 6, 7, 8]\n"
     ]
    },
    {
     "name": "stderr",
     "output_type": "stream",
     "text": [
      "/home/lucast4/miniconda3/envs/drag2/lib/python3.8/site-packages/seaborn/_core.py:163: FutureWarning: elementwise comparison failed; returning scalar instead, but in the future will perform elementwise comparison\n",
      "  if palette in QUAL_PALETTES:\n",
      "/home/lucast4/miniconda3/envs/drag2/lib/python3.8/site-packages/seaborn/_core.py:163: FutureWarning: elementwise comparison failed; returning scalar instead, but in the future will perform elementwise comparison\n",
      "  if palette in QUAL_PALETTES:\n",
      "/home/lucast4/miniconda3/envs/drag2/lib/python3.8/site-packages/seaborn/_core.py:163: FutureWarning: elementwise comparison failed; returning scalar instead, but in the future will perform elementwise comparison\n",
      "  if palette in QUAL_PALETTES:\n",
      "/home/lucast4/miniconda3/envs/drag2/lib/python3.8/site-packages/seaborn/_core.py:163: FutureWarning: elementwise comparison failed; returning scalar instead, but in the future will perform elementwise comparison\n",
      "  if palette in QUAL_PALETTES:\n",
      "/home/lucast4/miniconda3/envs/drag2/lib/python3.8/site-packages/seaborn/_core.py:163: FutureWarning: elementwise comparison failed; returning scalar instead, but in the future will perform elementwise comparison\n",
      "  if palette in QUAL_PALETTES:\n",
      "/home/lucast4/miniconda3/envs/drag2/lib/python3.8/site-packages/seaborn/_core.py:163: FutureWarning: elementwise comparison failed; returning scalar instead, but in the future will perform elementwise comparison\n",
      "  if palette in QUAL_PALETTES:\n",
      "/home/lucast4/miniconda3/envs/drag2/lib/python3.8/site-packages/seaborn/_core.py:163: FutureWarning: elementwise comparison failed; returning scalar instead, but in the future will perform elementwise comparison\n",
      "  if palette in QUAL_PALETTES:\n",
      "/home/lucast4/miniconda3/envs/drag2/lib/python3.8/site-packages/seaborn/_core.py:163: FutureWarning: elementwise comparison failed; returning scalar instead, but in the future will perform elementwise comparison\n",
      "  if palette in QUAL_PALETTES:\n",
      "/home/lucast4/miniconda3/envs/drag2/lib/python3.8/site-packages/seaborn/_core.py:163: FutureWarning: elementwise comparison failed; returning scalar instead, but in the future will perform elementwise comparison\n",
      "  if palette in QUAL_PALETTES:\n",
      "/home/lucast4/miniconda3/envs/drag2/lib/python3.8/site-packages/seaborn/_core.py:163: FutureWarning: elementwise comparison failed; returning scalar instead, but in the future will perform elementwise comparison\n",
      "  if palette in QUAL_PALETTES:\n",
      "/home/lucast4/miniconda3/envs/drag2/lib/python3.8/site-packages/seaborn/_core.py:163: FutureWarning: elementwise comparison failed; returning scalar instead, but in the future will perform elementwise comparison\n",
      "  if palette in QUAL_PALETTES:\n",
      "/home/lucast4/miniconda3/envs/drag2/lib/python3.8/site-packages/seaborn/_core.py:163: FutureWarning: elementwise comparison failed; returning scalar instead, but in the future will perform elementwise comparison\n",
      "  if palette in QUAL_PALETTES:\n",
      "/home/lucast4/miniconda3/envs/drag2/lib/python3.8/site-packages/seaborn/_core.py:163: FutureWarning: elementwise comparison failed; returning scalar instead, but in the future will perform elementwise comparison\n",
      "  if palette in QUAL_PALETTES:\n",
      "/home/lucast4/miniconda3/envs/drag2/lib/python3.8/site-packages/seaborn/_core.py:163: FutureWarning: elementwise comparison failed; returning scalar instead, but in the future will perform elementwise comparison\n",
      "  if palette in QUAL_PALETTES:\n",
      "/home/lucast4/miniconda3/envs/drag2/lib/python3.8/site-packages/seaborn/_core.py:163: FutureWarning: elementwise comparison failed; returning scalar instead, but in the future will perform elementwise comparison\n",
      "  if palette in QUAL_PALETTES:\n",
      "/home/lucast4/miniconda3/envs/drag2/lib/python3.8/site-packages/seaborn/_core.py:163: FutureWarning: elementwise comparison failed; returning scalar instead, but in the future will perform elementwise comparison\n",
      "  if palette in QUAL_PALETTES:\n"
     ]
    },
    {
     "data": {
      "image/png": "[encoded data removed]",
      "text/plain": [
       "<Figure size 648x1728 with 8 Axes>"
      ]
     },
     "metadata": {
      "needs_background": "light"
     },
     "output_type": "display_data"
    }
   ],
   "source": [
    "# === PLOT\n",
    "from pythonlib.drawmodel.strokePlots import getStrokeColors\n",
    "blocklist = sorted(list(set(df2[\"block\"].values)))\n",
    "print(f\"These are blocks: {blocklist}\")\n",
    "\n",
    "if False:\n",
    "    plt.figure(figsize=(15,7))\n",
    "    sns.catplot(data=df2, x=\"blokk\", y=\"prob\", hue=\"label\", aspect=2, row=\"block\", sharex=True, height=3, \n",
    "               palette=getStrokeColors(5)[0])\n",
    "\n",
    "if False:\n",
    "    sns.relplot(data=df2, x=\"blokk\", y=\"prob\", hue=\"label\", aspect=2, row=\"block\", height=3, kind=\"line\")\n",
    "\n",
    "\n",
    "from pythonlib.tools.snstools import relPlotOverlayLineScatter\n",
    "g = relPlotOverlayLineScatter(df2, \"blokk\", \"prob\", hue=\"label\", row=\"block\", palette = getStrokeColors(5)[0])\n",
    "g.savefig(f\"{SAVEDIR}/timecourse.pdf\")"
   ]
  },
  {
   "cell_type": "code",
   "execution_count": 63,
   "metadata": {},
   "outputs": [
    {
     "data": {
      "text/plain": [
       "1"
      ]
     },
     "execution_count": 63,
     "metadata": {},
     "output_type": "execute_result"
    }
   ],
   "source": [
    "kk=0\n",
    "trials = df[df[\"blokk\"]==kk][\"trial\"].values\n",
    "labels = df[df[\"blokk\"]==kk][\"label\"].values\n",
    "getTrialsBlock(fd, 10)"
   ]
  },
  {
   "cell_type": "code",
   "execution_count": 68,
   "metadata": {},
   "outputs": [
    {
     "data": {
      "text/plain": [
       "array([array([2, 1]), array([2, 1]), array([2, 1, 0])], dtype=object)"
      ]
     },
     "execution_count": 68,
     "metadata": {},
     "output_type": "execute_result"
    }
   ],
   "source": [
    "labels"
   ]
  },
  {
   "cell_type": "code",
   "execution_count": 77,
   "metadata": {},
   "outputs": [
    {
     "data": {
      "text/plain": [
       "array([[0.        , 1.        , 1.        , 1.        ],\n",
       "       [0.50196078, 0.49803922, 1.        , 1.        ],\n",
       "       [1.        , 0.        , 1.        , 1.        ],\n",
       "       [1.        , 0.        , 1.        , 1.        ]])"
      ]
     },
     "execution_count": 77,
     "metadata": {},
     "output_type": "execute_result"
    }
   ],
   "source": [
    "pcollist = makeColors(3, 1, CMAP)\n",
    "pcollist = np.concatenate((pcollist, pcollist[2,:][None, :]), axis=0)"
   ]
  },
  {
   "cell_type": "code",
   "execution_count": 78,
   "metadata": {},
   "outputs": [],
   "source": [
    "## HACK, to make the last (4) stroke have same color as the 3rd, or else the rightmost will not look \n",
    "# like the rightmost.\n",
    "# FIX: plot by gradient...\n",
    "\n",
    "pcollist = makeColors(3, 1, CMAP)\n",
    "\n",
    "pcollist = np.concatenate((pcollist, pcollist[2,:][None, :]), axis=0)"
   ]
  },
  {
   "cell_type": "code",
   "execution_count": 79,
   "metadata": {
    "scrolled": false
   },
   "outputs": [
    {
     "data": {
      "image/png": "[encoded data removed]",
      "text/plain": [
       "<Figure size 720x2592 with 36 Axes>"
      ]
     },
     "metadata": {
      "needs_background": "light"
     },
     "output_type": "display_data"
    }
   ],
   "source": [
    "# === PLOT, POSITIONS OF FIRST TOUCH.\n",
    "# -- Initialize one figure for each blokk\n",
    "from pythonlib.tools.plottools import makeColors\n",
    "CMAP = \"cool\"\n",
    "\n",
    "df = pd.DataFrame(dat)\n",
    "bkklist = set(df[\"blokk\"])\n",
    "naxes = len(bkklist)\n",
    "ncols = 3\n",
    "nrows = int(np.ceil(naxes/ncols))\n",
    "fig, axes = plt.subplots(nrows, ncols, figsize=(10, nrows*3))\n",
    "\n",
    "for i, kk in enumerate(bkklist):\n",
    "    trials = df[df[\"blokk\"]==kk][\"trial\"].values\n",
    "    labels = df[df[\"blokk\"]==kk][\"label\"].values\n",
    "    ax = axes.flatten()[i]\n",
    "    ax = plotGetBlankCanvas(fd, ax, no_xylim=True)[0]\n",
    "    \n",
    "    \n",
    "    for t, label in zip(trials, labels):\n",
    "        if getTrialsFixationSuccess(fd, t):\n",
    "#             print(t)\n",
    "#             assert False\n",
    "            \n",
    "            # === SANITY ChECK\n",
    "            strokes = getTrialsStrokesByPeanuts(fd, t)\n",
    "            \n",
    "            if len(strokes)==0:\n",
    "                print(getTrialsOutcomesWrapper(fd, t)[\"online_abort\"][\"failure_mode\"])\n",
    "                continue\n",
    "                \n",
    "            # -- assign first beh pt to a target stroke number.\n",
    "#             if False:\n",
    "#                 # old vrsion, just based on the storke order.\n",
    "#                 strokes_task = getTrialsTaskAsStrokes(fd, t)\n",
    "#                 strokenum = assignStrokenumFromTask(strokes, strokes_task)[0][0]\n",
    "#             else:\n",
    "#                 print(beh_stroke_labels[i], len(strokes))\n",
    "            strokenum = label[0]\n",
    "                \n",
    "            if False:\n",
    "                pcol = \"k\"\n",
    "            elif False:\n",
    "                pcol = getStrokeColors(5)[0][strokenum]\n",
    "            else:\n",
    "# #                 Ns = max([max(l) for l in labels])\n",
    "#                 pcollist = makeColors(3, 1, CMAP)\n",
    "#                 pcollist = np.concatenate((pcollist, pcollist[2,:][None, :]), axis=0)        \n",
    "                pcol = pcollist[strokenum]\n",
    "                \n",
    "#             pcol = plot\n",
    "            pos0 = strokes[0][0, [0,1]]\n",
    "            ax.plot(pos0[0], pos0[1], 'o', color=pcol, alpha=0.5)\n",
    "            \n",
    "            # -- title\n",
    "            bk = getTrialsBlock(fd, t)\n",
    "#             bq = getTrialsBloque(fd, t)\n",
    "            ax.set_title(f\"bk{bk}\")\n",
    "#     plt.legend([1, 2, 3])\n",
    "fig.savefig(f\"{SAVEDIR}/first_touch_pos.pdf\")"
   ]
  },
  {
   "cell_type": "markdown",
   "metadata": {},
   "source": [
    "### SUMMARY PLOT ACROSS DAYS (EACH BLOKK ONE DOT)\n",
    "\n",
    "Separating by task kind"
   ]
  },
  {
   "cell_type": "markdown",
   "metadata": {},
   "source": [
    "### reaction/onset time, gap durations, etc."
   ]
  },
  {
   "cell_type": "markdown",
   "metadata": {},
   "source": [
    "1. Reaction time at onset of a new blokk - slower and then speeds up?\n",
    "2. inter-stroke intervals longer for against-bias?\n",
    "3. Reaction time slower for against bias?\n"
   ]
  },
  {
   "cell_type": "code",
   "execution_count": null,
   "metadata": {},
   "outputs": [],
   "source": [
    "# === Plot some example timecourses\n",
    "plot"
   ]
  },
  {
   "cell_type": "code",
   "execution_count": null,
   "metadata": {},
   "outputs": [],
   "source": [
    "for p in P.Probedat:\n",
    "    fd = p[\"filedata\"]\n",
    "    t = p[\"trial\"]\n",
    "    ontime = getTrialsOnsOffs(fd, t)[0][0]\n",
    "    p[\"ontime\"] = ontime\n",
    "df = P.pandas()\n",
    "import seaborn as sns\n",
    "\n",
    "sns.catplot(data=df, x=\"taskgroup\", y=\"ontime\", kind=\"boxen\",  hue=\"block\", aspect=3)\n",
    "plt.ylim([0, 10])\n",
    "\n",
    "sns.catplot(data=df, x=\"taskgroup\", y=\"ontime\", kind=\"point\", hue=\"block\")\n",
    "plt.ylim([0, 10])\n"
   ]
  },
  {
   "cell_type": "markdown",
   "metadata": {},
   "source": [
    "### how does stroke direction depend on sequence bias?"
   ]
  },
  {
   "cell_type": "code",
   "execution_count": null,
   "metadata": {},
   "outputs": [],
   "source": []
  },
  {
   "cell_type": "markdown",
   "metadata": {},
   "source": [
    "### End-state comfort effect?"
   ]
  },
  {
   "cell_type": "markdown",
   "metadata": {},
   "source": [
    "Is well-structured tasks, so easy to ask this."
   ]
  },
  {
   "cell_type": "markdown",
   "metadata": {},
   "source": [
    "## BELOW: MULTI-DAY STUFF, NOT YET DONE"
   ]
  },
  {
   "cell_type": "code",
   "execution_count": null,
   "metadata": {
    "scrolled": true
   },
   "outputs": [],
   "source": [
    "from analysis.probedatTaskmodel import *\n",
    "animal = \"Pancho\"\n",
    "expt = \"biasdir2\"\n",
    "FD, MD = loadMultDataForExpt(expt, animal, whichdates=\"all\", metadatonly=False)\n",
    "PROBEDAT = loadProbeDatWrapper(FD, MD, getnumstrokes=True)\n",
    "Probedat = ProbedatTaskmodel(PROBEDAT, MD)\n",
    "\n"
   ]
  },
  {
   "cell_type": "code",
   "execution_count": null,
   "metadata": {},
   "outputs": [],
   "source": [
    "                getTrialsOutcomesWrapper(fd, t)[\"online_abort\"][\"failure_mode\"]"
   ]
  },
  {
   "cell_type": "code",
   "execution_count": null,
   "metadata": {},
   "outputs": [],
   "source": [
    "\n",
    "\n",
    "ax = plotGetBlankCanvas(fd)\n",
    "for t in getIndsTrials(fd):\n",
    "    if getTrialsFixationSuccess(fd, t):\n",
    "        strokes = getTrialsStrokesByPeanuts(fd, t)\n",
    "\n",
    "        pos0 = strokes[0][0, [0,1]]\n",
    "        plt.plot(pos0[0], pos0[1], 'or')\n"
   ]
  },
  {
   "cell_type": "markdown",
   "metadata": {},
   "source": [
    "## Scores across days"
   ]
  },
  {
   "cell_type": "code",
   "execution_count": null,
   "metadata": {},
   "outputs": [],
   "source": [
    "valstoplot = [\"hausdorff_positive\", \"modelscore\", \"frac_touched\"]\n",
    "SEPARATE_BY_BLOCK = True # whether should make seperate tiemcourse plotes fore ach block num."
   ]
  },
  {
   "cell_type": "code",
   "execution_count": null,
   "metadata": {},
   "outputs": [],
   "source": [
    "# 1) Load data across days\n",
    "from pythonlib.tools.datetools import getDateList\n",
    "from analysis.line2 import PROBEDATfromFD\n",
    "import seaborn as sns\n",
    "import pandas as pd\n",
    "from analysis.line2 import probedat2strokefeats, getStandardizedTime\n",
    "from analysis.modelexpt import *\n",
    "\n",
    "for animal in [\"Red\", \"Pancho\"]:\n",
    "    expt = \"mem123\"\n",
    "    # for animal in [\"Pancho\", \"Red\"]:\n",
    "    # for animal in [\"Red\"]:\n",
    "    # for animal in [\"Red\"]:\n",
    "    # for animal in [\"Pancho\"]:\n",
    "\n",
    "    FD, MD = loadMultDataForExpt(expt, animal, whichdates=\"all\", metadatonly=False)\n",
    "\n",
    "    PROBEDAT = loadProbeDatWrapper(FD, MD, getnumstrokes=True)\n",
    "\n",
    "    from analysis.probedatTaskmodel import *\n",
    "    Probedat = ProbedatTaskmodel(PROBEDAT, MD)\n",
    "\n",
    "\n",
    "    # saving dir\n",
    "    SAVEDIR = f\"{FD[0]['fd']['params']['figuredir_notebook']}/analysis_modelexpt_multsession/{expt}/multday_{animal}_{MD['sdate']}_to_{MD['edate']}/taskmodel\"\n",
    "    import os\n",
    "    os.makedirs(SAVEDIR, exist_ok=True)\n",
    "    print(f\"saving at {SAVEDIR}\")\n",
    "\n",
    "    if MD[\"strokmodel_kind\"] is not None:\n",
    "        # ***************************************** COMPUTE MODEL SCORE OFFLIEN\n",
    "        PROBEDAT, fig = probedatOfflineScore(PROBEDAT, filtdict={\"random_task\":[False]}, \n",
    "                                       ploton=True)\n",
    "        fig.savefig(f\"{SAVEDIR}/offlineScorePairplot.pdf\")\n",
    "\n",
    "\n",
    "\n",
    "    # ********************************************************\n",
    "    # **************************** extract dataframe\n",
    "    if True:\n",
    "        # new version, all done within here.\n",
    "        DF = Probedat.pandas()\n",
    "    else:\n",
    "        # OLD\n",
    "        DF = pd.DataFrame(PROBEDAT)\n",
    "        from pythonlib.tools.pandastools import applyFunctionToAllRows\n",
    "        def F(x):\n",
    "            return np.floor(x[\"tval\"])+0.6\n",
    "        DF = applyFunctionToAllRows(DF, F, newcolname=\"tvalday\")\n",
    "\n",
    "        from pythonlib.tools.pandastools import applyFunctionToAllRows\n",
    "        # === flip score around 0 depending on epoch\n",
    "        def F(x):\n",
    "            if x[\"epoch\"]==1:\n",
    "                return x[\"modelcomp\"]\n",
    "            elif x[\"epoch\"]==2:\n",
    "                return -x[\"modelcomp\"]\n",
    "            else:\n",
    "                print(x[\"epoch\"])\n",
    "                assert False, \"which eopch?\"\n",
    "        DF = applyFunctionToAllRows(DF, F, newcolname=\"modelcompflipped\")\n",
    "\n",
    "        # === flip score around 0 depending on epoch\n",
    "        def F(x):\n",
    "            return -x[\"hausdorff\"]\n",
    "        DF = applyFunctionToAllRows(DF, F, newcolname=\"hausdorff_positive\")\n",
    "\n",
    "        ## ============ COMPARE TWO EPOCHS (ONE SCORE FOR EACH)\n",
    "        # first filter DF so that only keeps trials within the summary periods\n",
    "        datestokeep = MD[\"dates_for_summary\"]\n",
    "        DF = applyFunctionToAllRows(DF, F=lambda x: x[\"date\"] in datestokeep, newcolname=\"keepforsummary\")\n",
    "\n",
    "    # ********************************************************\n",
    "    # *********************************** PLOTS\n",
    "    # === GOOD PLOT, summarize task schedules.\n",
    "    fig = sns.catplot(x=\"date\", y=\"task_stagecategory\", col = \"random_task\", row=\"taskgroup\", hue=\"taskgroup\", sharex=True,sharey=False,\n",
    "                data=DF, height=10, aspect=2, orient=\"v\")\n",
    "    fig.savefig(f\"{SAVEDIR}/overview1.pdf\")\n",
    "\n",
    "    # ==== GOOD PLOT (scatter and means)\n",
    "    for y in valstoplot:\n",
    "        ALPHA=0.4\n",
    "        if y in [\"modelcomp\", \"modelcompflipped\"]:\n",
    "            YLIM=(-0.7, 0.7)\n",
    "        elif y==\"modelcomp_offline\":\n",
    "            YLIM=(-1,1)\n",
    "        elif y==\"hausdorff_positive\":\n",
    "            YLIM=np.percentile(DF[\"hausdorff_positive\"], q=[0.5, 99.5])\n",
    "        elif y==\"nstrokesactual\":\n",
    "            YLIM=np.percentile(DF[\"nstrokesactual\"], q=[0.5, 99.5])\n",
    "            YLIM = [YLIM[0]-0.5, YLIM[1]+0.5]\n",
    "            ALPHA=0.15\n",
    "        else:\n",
    "            YLIM = None\n",
    "\n",
    "\n",
    "        g = sns.FacetGrid(DF, row=\"task_stagecategory\", col=\"taskgroup\", height=4, aspect=2, \n",
    "                          sharex=True, sharey=True, ylim=YLIM)\n",
    "        g.map(sns.lineplot, \"tvalday\", y, **{\"err_style\":\"bars\", \"ci\":68, \"color\":\"k\", \"linewidth\":2})\n",
    "        g.map(sns.scatterplot, \"tval\", y, \"epoch\", **{\"marker\":\"x\", \n",
    "                                                      \"alpha\":ALPHA,\n",
    "                                                              \"s\":40, \n",
    "                                                              \"palette\":{1:\"r\", 2:\"b\"}})\n",
    "        g.map(plt.axhline, **{\"color\":[0.7, 0.7, 0.7]})\n",
    "        g.savefig(f\"{SAVEDIR}/alltimecourses-{y}-1.pdf\")\n",
    "\n",
    "        # == one plot for each block\n",
    "        blocks = set(DF[\"block\"])\n",
    "        if SEPARATE_BY_BLOCK:\n",
    "            for b in blocks:\n",
    "                DFblock = DF[DF[\"block\"]==b]\n",
    "                g = sns.FacetGrid(DFblock, row=\"task_stagecategory\", col=\"taskgroup\", height=4, aspect=2, \n",
    "                          sharex=True, sharey=True, ylim=YLIM)\n",
    "                g.map(sns.lineplot, \"tvalday\", y, **{\"err_style\":\"bars\", \"ci\":68, \"color\":\"k\", \"linewidth\":2})\n",
    "                g.map(sns.scatterplot, \"tval\", y, \"epoch\", **{\"marker\":\"x\", \n",
    "                                                              \"alpha\":ALPHA,\n",
    "                                                                      \"s\":40, \n",
    "                                                                      \"palette\":{1:\"r\", 2:\"b\"}})\n",
    "                g.map(plt.axhline, **{\"color\":[0.7, 0.7, 0.7]})\n",
    "                g.savefig(f\"{SAVEDIR}/alltimecourses-{y}-1-block{b}.pdf\")\n",
    "\n",
    "            plt.close(\"all\")\n",
    "\n",
    "        # === summary (epoch1 vs. epoch2)\n",
    "        DFsummary = DF[DF[\"keepforsummary\"]==True]\n",
    "        if len(DFsummary)>0:\n",
    "            g = sns.FacetGrid(DFsummary, row=\"task_stagecategory\", col=\"taskgroup\", height=4, aspect=1.2, \n",
    "                              sharex=False, sharey=True, ylim=YLIM)\n",
    "            g.map(sns.swarmplot, \"epoch\", y, \"epoch\", **{\"alpha\":ALPHA,\n",
    "                                                                  \"s\":4, \n",
    "                                                                  \"palette\":{1:\"r\", 2:\"b\"}})\n",
    "            g.map(sns.pointplot, \"epoch\", y, **{\"err_style\":\"bars\", \"ci\":68, \"color\":\"k\", \"linewidth\":1})\n",
    "            g.map(plt.axhline, **{\"color\":[0.7, 0.7, 0.7]})\n",
    "            g.savefig(f\"{SAVEDIR}/alltimecourses-{y}-summary.pdf\")\n",
    "\n",
    "            if SEPARATE_BY_BLOCK:\n",
    "                for b in blocks:\n",
    "                    DFsummaryblock = DFsummary[DFsummary[\"block\"]==b]\n",
    "                    g = sns.FacetGrid(DFsummaryblock, row=\"task_stagecategory\", col=\"taskgroup\", height=4, aspect=1.2, \n",
    "                                      sharex=False, sharey=True, ylim=YLIM)\n",
    "                    g.map(sns.swarmplot, \"epoch\", y, \"epoch\", **{\"alpha\":ALPHA,\n",
    "                                                                          \"s\":4, \n",
    "                                                                          \"palette\":{1:\"r\", 2:\"b\"}})\n",
    "                    g.map(sns.pointplot, \"epoch\", y, **{\"err_style\":\"bars\", \"ci\":68, \"color\":\"k\", \"linewidth\":1})\n",
    "                    g.map(plt.axhline, **{\"color\":[0.7, 0.7, 0.7]})\n",
    "                    g.savefig(f\"{SAVEDIR}/alltimecourses-{y}-summary-block{b}.pdf\")\n",
    "\n",
    "                plt.close(\"all\")\n",
    "\n",
    "\n",
    "    # ***************************************\n",
    "    # ***************************************\n",
    "    # [one plot for each unqiue task]\n",
    "\n",
    "    # === FIRST: THROW OUT RANDOM TASKS\n",
    "    DF = DF[DF[\"random_task\"]==False]\n",
    "\n",
    "    if len(DF)>0:\n",
    "        # ===== get dict of {taskgroup:[list of tasks]}\n",
    "        tasklist = set(DF[\"task_stagecategory\"])\n",
    "        taskgrouplist = set(DF[\"taskgroup\"])\n",
    "\n",
    "        taskgroupdict = {k:[] for k in set([P[\"taskgroup\"] for P in PROBEDAT])}\n",
    "        for P in PROBEDAT:\n",
    "            taskgroupdict[P[\"taskgroup\"]].append(P[\"task_stagecategory\"])\n",
    "\n",
    "        for k, v in taskgroupdict.items():\n",
    "            taskgroupdict[k] = sorted(set(v))\n",
    "\n",
    "\n",
    "        # === one figure per taskgroup.\n",
    "        for taskgroup, tasklist in taskgroupdict.items():\n",
    "            for task in tasklist:\n",
    "                DFthis = DF[(DF[\"taskgroup\"]==taskgroup) & (DF[\"task_stagecategory\"]==task)]\n",
    "                if len(DFthis)>0:\n",
    "                    for y in valstoplot:\n",
    "                        ALPHA=0.4\n",
    "                        if y in [\"modelcomp\", \"modelcompflipped\"]:\n",
    "                            YLIM=(-0.7, 0.7)\n",
    "                        elif y==\"modelcomp_offline\":\n",
    "                            YLIM=(-1,1)\n",
    "                        elif y==\"hausdorff_positive\":\n",
    "                            YLIM=np.percentile(DF[\"hausdorff_positive\"], q=[0.5, 99.5])\n",
    "                        elif y==\"nstrokesactual\":\n",
    "                            YLIM=np.percentile(DF[\"nstrokesactual\"], q=[0.5, 99.5])\n",
    "                            YLIM = [YLIM[0]-0.5, YLIM[1]+0.5]\n",
    "                            ALPHA=0.15\n",
    "\n",
    "                        g = sns.FacetGrid(DFthis, col=\"unique_task_name\", col_wrap=5, height=4, aspect=2, \n",
    "                                          sharex=True, sharey=True, ylim=YLIM)\n",
    "                        g.map(sns.lineplot, \"tvalday\", y, **{\"err_style\":\"bars\", \"ci\":68, \"color\":\"k\", \"linewidth\":2})\n",
    "                        g.map(sns.scatterplot, \"tval\", y, \"epoch\", **{\"marker\":\"x\", \n",
    "                                                                      \"alpha\":ALPHA,\n",
    "                                                                              \"s\":40, \n",
    "                                                                              \"palette\":{1:\"r\", 2:\"b\"}})\n",
    "                        g.map(plt.axhline, **{\"color\":[0.7, 0.7, 0.7]})\n",
    "                        g.savefig(f\"{SAVEDIR}/timecourses-{taskgroup}-{task}-{y}-1.pdf\")\n",
    "\n",
    "                        # === summary\n",
    "                        DFsummary = DFthis[DFthis[\"keepforsummary\"]==True]\n",
    "                        if len(DFsummary)>0:\n",
    "                            g = sns.FacetGrid(DFsummary, col=\"unique_task_name\", col_wrap=5, height=4, aspect=1.2, \n",
    "                              sharey=True, ylim=YLIM)\n",
    "                            g.map(sns.swarmplot, \"epoch\", y, \"epoch\", **{\"alpha\":ALPHA,\n",
    "                                                                                  \"s\":4, \n",
    "                                                                                  \"palette\":{1:\"r\", 2:\"b\"}})\n",
    "                            g.map(sns.pointplot, \"epoch\", y, **{\"err_style\":\"bars\", \"ci\":68, \"color\":\"k\", \"linewidth\":1})\n",
    "                            g.map(plt.axhline, **{\"color\":[0.7, 0.7, 0.7]})\n",
    "                            g.savefig(f\"{SAVEDIR}/timecourses-{taskgroup}-{task}-{y}-summary.pdf\")\n",
    "\n",
    "\n",
    "        # === ONE LINE PER UNIQUE TASK\n",
    "        DFsummary = DF[DF[\"keepforsummary\"]==True]\n",
    "\n",
    "        # aggregate over unique tasks\n",
    "        values = valstoplot\n",
    "        from pythonlib.tools.pandastools import aggregGeneral\n",
    "        DFsummary = aggregGeneral(DFsummary, [\"unique_task_name\", \"epoch\", \"taskgroup\"], values, nonnumercols=[\"task_stagecategory\"], aggmethod=[\"median\"])\n",
    "\n",
    "        # == only keep cases that have data for both epochs.\n",
    "        values_to_check = [1,2]\n",
    "        colname = \"epoch\"\n",
    "        group = \"unique_task_name\"\n",
    "        from pythonlib.tools.pandastools import filterGroupsSoNoGapsInData\n",
    "        DFsummary = filterGroupsSoNoGapsInData(DFsummary, group, colname, values_to_check)\n",
    "\n",
    "        # === PLOT\n",
    "        for y in values:\n",
    "            from pythonlib.tools.snstools import relplotOverlaid\n",
    "            fig = relplotOverlaid(DFsummary, \"unique_task_name\", \"k\",\n",
    "                           data=DFsummary, x=\"epoch\", y=y, col=\"taskgroup\", row=\"task_stagecategory\", \n",
    "                    hue=\"unique_task_name\", kind=\"line\")\n",
    "            fig.savefig(f\"{SAVEDIR}/summarypaired-{y}-1.pdf\")\n",
    "\n",
    "            fig = sns.catplot(data=DFsummary, x=\"epoch\", y=y, col=\"taskgroup\", row=\"task_stagecategory\",  kind=\"point\")\n",
    "            fig.savefig(f\"{SAVEDIR}/summarypaired-{y}-2.pdf\")"
   ]
  },
  {
   "cell_type": "markdown",
   "metadata": {},
   "source": [
    "## Plot task behaviors (below not done)"
   ]
  },
  {
   "cell_type": "code",
   "execution_count": null,
   "metadata": {},
   "outputs": [],
   "source": [
    "expt = \"mem123\"\n",
    "thingstoplot = [\"alltrials\", \"egtrials\"]\n"
   ]
  },
  {
   "cell_type": "code",
   "execution_count": null,
   "metadata": {},
   "outputs": [],
   "source": [
    "def plotalltrials(PROBEDATthis, fdlist, stage, datelist, tasklist):\n",
    "    tasklist = sorted(set([P[\"unique_task_name\"] for P in PROBEDATthis if P[\"task_stagecategory\"]==stage]))\n",
    "    if len(tasklist)>100:\n",
    "        assert False, \"why so many tasks for this stage?\"\n",
    "\n",
    "    # -- Plot 2d grid, separated by days\n",
    "    CAT1 = [\"date\", datelist]\n",
    "    CAT2 = [\"unique_task_name\", tasklist]\n",
    "    fdlist = None\n",
    "\n",
    "    # == 1) All behavior trials, all strokes overlaid\n",
    "    plotargs = {\"zoom\":True, \"plotver\":\"order\", \"markersize\":4, \"alpha\":0.25}\n",
    "    # fdlist = [P[\"filedata\"][0]() for P in PROBEDATthis]\n",
    "    # fdlist = [FD[P[\"ii\"]][\"fd\"] for P in PROBEDATthis]\n",
    "\n",
    "    fig = plotTrial2dGrid(PROBEDATthis, fdlist = fdlist, cat1 = CAT1, cat2 = CAT2, ver=\"beh\", plotargs=plotargs);\n",
    "    fig.savefig(f\"{SAVEDIR}/alltrials_datebycategory_beh_{stage}.pdf\")\n",
    "    fig = plotTrial2dGrid(PROBEDATthis, fdlist = fdlist, cat1 = CAT1, cat2 = CAT2, ver=\"task\", plotargs=plotargs);\n",
    "    fig.savefig(f\"{SAVEDIR}/alltrials_datebycategory_task_{stage}.pdf\")\n",
    "\n",
    "    # == 2) Split by stroke number (one plot for each stroke)\n",
    "    if False:\n",
    "        plotargs = {\"zoom\":True, \"plotver\":\"order\", \"markersize\":3, \"alpha\":0.2}\n",
    "        strokenums_to_plot_alone=list(range(max_strokenum+1))\n",
    "        overlay_stroke_mean=False\n",
    "\n",
    "        fig = plotTrial2dGrid(PROBEDATthis, fdlist = fdlist, cat1 = CAT1, cat2 = CAT2, ver=\"behtask\", \n",
    "                              plotargs=plotargs, strokenums_to_plot_alone=strokenums_to_plot_alone, \n",
    "                             overlay_stroke_mean = overlay_stroke_mean);\n",
    "        fig.savefig(f\"{SAVEDIR}/alltrials_datebycategory_eachstroke_beh_{stage}.pdf\")\n",
    "\n",
    "\n",
    "    # == 3) All strokes (faint) and overlay average\n",
    "    if False:\n",
    "        plotargs = {\"zoom\":True, \"plotver\":\"order\", \"markersize\":2, \"alpha\":0.15}\n",
    "\n",
    "        overlay_stroke_mean=True\n",
    "        fig = plotTrial2dGrid(PROBEDATthis, fdlist = fdlist, cat1 = CAT1, cat2 = CAT2, ver=\"beh\", \n",
    "                              plotargs=plotargs, overlay_stroke_mean=overlay_stroke_mean);\n",
    "        fig.savefig(f\"{SAVEDIR}/alltrials_datebycategory_strokemeans_{stage}.pdf\")\n"
   ]
  },
  {
   "cell_type": "code",
   "execution_count": null,
   "metadata": {},
   "outputs": [],
   "source": [
    "debug=False"
   ]
  },
  {
   "cell_type": "markdown",
   "metadata": {},
   "source": [
    "### actual"
   ]
  },
  {
   "cell_type": "code",
   "execution_count": null,
   "metadata": {
    "scrolled": true
   },
   "outputs": [],
   "source": [
    "# Plot same task across days\n",
    "\n",
    "# 1) Load data across days\n",
    "from pythonlib.tools.datetools import getDateList\n",
    "# expt = \"lines2\"\n",
    "for animal in [\"Pancho\", \"Red\"]:\n",
    "    \n",
    "    FD, MD = loadMultDataForExpt(expt, animal, whichdates=\"all\", metadatonly=False)\n",
    "    PROBEDAT = loadProbeDatWrapper(FD, MD, getnumstrokes=True)\n",
    "\n",
    "    # saving dir\n",
    "    sdate = MD[\"sdate\"]\n",
    "    edate = MD[\"edate\"]\n",
    "    SAVEDIR = f\"{FD[0]['fd']['params']['figuredir_notebook']}/analysis_modelexpt_multsession/{expt}/multday_{animal}_{sdate}_to_{edate}\"\n",
    "    import os\n",
    "    os.makedirs(SAVEDIR, exist_ok=True)\n",
    "    print(f\"saving at {SAVEDIR}\")\n",
    "\n",
    "    # get all fixed tasks of a particular kind\n",
    "    kindlist = set([P[\"kind\"] for P in PROBEDAT if P[\"random_task\"]==False])\n",
    "    task_per_kind = {}\n",
    "    for kind in kindlist:\n",
    "        tasklist = set([P[\"unique_task_name\"] for P in PROBEDAT if P[\"kind\"]==kind])\n",
    "        task_per_kind[kind]=sorted(tasklist)\n",
    "\n",
    "    print(\"tasks per kind found\")\n",
    "    for k, v in task_per_kind.items():\n",
    "        print(\"----\")\n",
    "        print(f\"=={k}\")\n",
    "        [print(vv) for vv in v]\n",
    "\n",
    "\n",
    "    ## PLOT - all trials, 2d grid sorted by date and task category\n",
    "    # only keep data for fixed tasks.\n",
    "    PROBEDATthis = [P for P in PROBEDAT if P[\"random_task\"]==False]\n",
    "    datelist = sorted(set([P[\"date\"] for P in PROBEDATthis]))\n",
    "    fdlist = None\n",
    "    \n",
    "    # for each stage, make a 2d grid plot (date x task)\n",
    "    if \"alltrials\" in thingstoplot:\n",
    "        # all categories that have fixed tasks\n",
    "        stagelist = set([P[\"task_stagecategory\"] for P in PROBEDATthis if P[\"random_task\"]==False])\n",
    "        for stage in stagelist:\n",
    "            plotalltrials(PROBEDATthis, fdlist, stage, datelist, tasklist)\n",
    "\n",
    "    # ==== PLOT ALL TRIALS\n",
    "    if \"egtrials\" in thingstoplot:\n",
    "        if debug:\n",
    "            # making plots for lab meeting..\n",
    "            tasklist = set([P[\"unique_task_name\"] for P in PROBEDATthis if P[\"random_task\"]==False\n",
    "               and (P[\"task_stagecategory\"] in [\"LplusL\", \"2linePlusL\", \"3linePlusL\"] or \"linePlusLv2_51\" in P[\"unique_task_name\"])])\n",
    "        else:\n",
    "            tasklist = set([P[\"unique_task_name\"] for P in PROBEDATthis if P[\"random_task\"]==False])\n",
    "        NMAX = 20 # trials to plot, starting from 1st trial int he day\n",
    "        for task in tasklist:\n",
    "\n",
    "            PD = [P for P in PROBEDATthis if P[\"random_task\"]==False and P[\"unique_task_name\"]==task]\n",
    "\n",
    "            for reverse in [False, True]:\n",
    "                # -- task presentation num as column\n",
    "                for P in PD:\n",
    "                    P[\"idx_today_uniquetask\"] = None\n",
    "                PD, countlist = probeDatIndexWithinDay(PD, task, reverse_order=reverse);\n",
    "\n",
    "                # -- how many examples to plot?\n",
    "                ntoplot = min((max(countlist), NMAX))\n",
    "\n",
    "                # -- Plot 2d grid, separated by days\n",
    "                CAT1 = [\"date\", datelist]\n",
    "                CAT2 = [\"idx_today_uniquetask\", range(ntoplot)]\n",
    "                fdlist = None\n",
    "\n",
    "                # == 1) All behavior trials, all strokes overlaid\n",
    "                plotargs = {\"zoom\":True, \"plotver\":\"order\", \"markersize\":8, \"alpha\":0.7}\n",
    "                plot_task_last_col = True\n",
    "                ver = \"beh\"\n",
    "\n",
    "                fig = plotTrial2dGrid(PD, fdlist = fdlist, cat1 = CAT1, cat2 = CAT2, ver=ver, \n",
    "                                      plotargs=plotargs, plot_task_last_col=plot_task_last_col);\n",
    "                if reverse:\n",
    "                    fig.savefig(f\"{SAVEDIR}/egtrials_datebyexample_revchronorder_{task}.pdf\")\n",
    "                else:\n",
    "                    fig.savefig(f\"{SAVEDIR}/egtrials_datebyexample_chronorder_{task}.pdf\")\n",
    "\n",
    "        plt.close(\"all\")"
   ]
  },
  {
   "cell_type": "markdown",
   "metadata": {
    "scrolled": false
   },
   "source": [
    "## Plot all tasks (no behavior)\n"
   ]
  },
  {
   "cell_type": "markdown",
   "metadata": {},
   "source": [
    "IN PROGRESS - not sure if this is good"
   ]
  },
  {
   "cell_type": "code",
   "execution_count": null,
   "metadata": {},
   "outputs": [],
   "source": [
    "# ************** PLOT ALL FIXED TASKS (collect across days)\n",
    "for TRAINTEST in [\"train\", \"test\"]:\n",
    "\n",
    "    # then plot all\n",
    "    tasknames = sorted(set([P[\"unique_task_name\"] for P in PROBEDAT\n",
    "                      if P[\"random_task\"]==False\n",
    "                            and task_train_test[P[\"kind\"]]==TRAINTEST]))\n",
    "\n",
    "    # get one index per taskname\n",
    "    fdlist = []\n",
    "    triallist =[]\n",
    "    titlelist = []\n",
    "    for task in tasknames:\n",
    "        fdlist.append([P[\"filedata\"] for P in PROBEDAT\n",
    "                        if P[\"unique_task_name\"]==task][0])\n",
    "        triallist.append([P[\"trial\"] for P in PROBEDAT\n",
    "                        if P[\"unique_task_name\"]==task][0])\n",
    "        titlelist.append(task)\n",
    "    print(titlelist)\n",
    "\n",
    "    fig = plotMultTrialsSimple(fdlist, trials_list=triallist, rand_subset=None, \n",
    "                               empty_title=False, zoom=True, plot_fix=True, alpha=1, titles=titlelist,\n",
    "                        plotargs={\"plot_task_stimulus\":True, \n",
    "                                \"plot_drawing_behavior\":False, \"nakedplot\":True,\n",
    "                               })\n",
    "    fig.savefig(f\"{SAVEDIR}/alltasks_fixed_alldays_{TRAINTEST}.pdf\")\n",
    "\n",
    "    \n",
    "    \n",
    "# *** FOR EACH DAY, PLOT SUBSET OF RANDOM TASKS.\n",
    "TRAINTEST = \"train\"\n",
    "for date in DATELIST:\n",
    "    print(f\"======= {date}\")\n",
    "    traintaskcats = sorted(set([P[\"task_stagecategory\"] for P in PROBEDAT \n",
    "                                if P[\"date\"]==date\n",
    "                               and P[\"random_task\"]==True\n",
    "                               and task_train_test[P[\"kind\"]]==TRAINTEST]))\n",
    "    for cat in traintaskcats:\n",
    "        print(f\"--- {cat}\")\n",
    "        \n",
    "        # then just plot example tasks\n",
    "        fdlist = [P[\"filedata\"] for P in PROBEDAT\n",
    "                          if P[\"date\"]==date\n",
    "                          and P[\"random_task\"]==True\n",
    "                        and P[\"task_stagecategory\"]==cat\n",
    "                 and task_train_test[P[\"kind\"]]==TRAINTEST]\n",
    "        triallist = [P[\"trial\"] for P in PROBEDAT\n",
    "                          if P[\"date\"]==date\n",
    "                          and P[\"random_task\"]==True\n",
    "                        and P[\"task_stagecategory\"]==cat\n",
    "                 and task_train_test[P[\"kind\"]]==TRAINTEST]\n",
    "        titlelist = [P[\"unique_task_name\"] for P in PROBEDAT\n",
    "                          if P[\"date\"]==date\n",
    "                          and P[\"random_task\"]==True\n",
    "                        and P[\"task_stagecategory\"]==cat\n",
    "                 and task_train_test[P[\"kind\"]]==TRAINTEST]\n",
    "\n",
    "        Nrand = 60\n",
    "        fig = plotMultTrialsSimple(fdlist, trials_list=triallist, rand_subset=Nrand, \n",
    "                                   empty_title=False, zoom=True, plot_fix=True, alpha=1, titles=titlelist,\n",
    "                            plotargs={\"plot_task_stimulus\":True, \n",
    "                                    \"plot_drawing_behavior\":False, \"nakedplot\":True,\n",
    "                                   })\n",
    "        fig.savefig(f\"{SAVEDIR}/alltasks-random-{date}-{cat}-{TRAINTEST}.pdf\")\n",
    "        plt.close()\n"
   ]
  },
  {
   "cell_type": "markdown",
   "metadata": {},
   "source": [
    "## PLOT ALL DRAWINGS"
   ]
  },
  {
   "cell_type": "markdown",
   "metadata": {},
   "source": [
    "#### See lines2 analysis"
   ]
  },
  {
   "cell_type": "markdown",
   "metadata": {},
   "source": [
    "## MOTOR STROKE MODEL"
   ]
  },
  {
   "cell_type": "markdown",
   "metadata": {},
   "source": [
    "####  - see lines2 analysis."
   ]
  },
  {
   "cell_type": "markdown",
   "metadata": {},
   "source": [
    "## END STATE COMFORT ANALYSIS"
   ]
  },
  {
   "cell_type": "markdown",
   "metadata": {},
   "source": [
    "#### See old code"
   ]
  }
 ],
 "metadata": {
  "kernelspec": {
   "display_name": "Python 3 (ipykernel)",
   "language": "python",
   "name": "python3"
  },
  "language_info": {
   "codemirror_mode": {
    "name": "ipython",
    "version": 3
   },
   "file_extension": ".py",
   "mimetype": "text/x-python",
   "name": "python",
   "nbconvert_exporter": "python",
   "pygments_lexer": "ipython3",
   "version": "3.7.10"
  }
 },
 "nbformat": 4,
 "nbformat_minor": 2
}
