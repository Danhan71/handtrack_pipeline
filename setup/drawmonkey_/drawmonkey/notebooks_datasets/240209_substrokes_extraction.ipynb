{
 "cells": [
  {
   "cell_type": "code",
   "execution_count": null,
   "id": "chicken-extraction",
   "metadata": {},
   "outputs": [],
   "source": [
    "\"\"\" \n",
    "2/9/24 - Extracting substrokes from dataset, and then creating \"fake\" dataset holding substrokes instad of strokes.\n",
    "In prepf ro nerual analysis.\n",
    "\"\"\"\n"
   ]
  },
  {
   "cell_type": "code",
   "execution_count": 1,
   "outputs": [
    {
     "name": "stdout",
     "output_type": "stream",
     "text": [
      "The autoreload extension is already loaded. To reload it, use:\n",
      "  %reload_ext autoreload\n"
     ]
    }
   ],
   "source": [
    "%load_ext autoreload\n",
    "%autoreload 2\n"
   ],
   "metadata": {
    "collapsed": false,
    "ExecuteTime": {
     "end_time": "2024-02-14T05:15:28.851291152Z",
     "start_time": "2024-02-14T05:15:28.845243394Z"
    }
   },
   "id": "c531f401fc5c663f"
  },
  {
   "cell_type": "code",
   "execution_count": 2,
   "id": "further-championship",
   "metadata": {
    "ExecuteTime": {
     "end_time": "2024-02-14T05:15:29.145892596Z",
     "start_time": "2024-02-14T05:15:29.129761197Z"
    }
   },
   "outputs": [],
   "source": [
    "# %cd ..\n",
    "# from tools.utils import * \n",
    "# from tools.plots import *\n",
    "# from tools.analy import *\n",
    "# from tools.calc import *\n",
    "# from tools.analyplot import *\n",
    "# from tools.preprocess import *\n",
    "# from tools.dayanalysis import *\n",
    "\n",
    "from pythonlib.drawmodel.analysis import *\n",
    "from pythonlib.tools.stroketools import *\n",
    "import pythonlib\n",
    "from pythonlib.dataset.dataset import load_dataset_notdaily_helper, load_dataset_daily_helper\n",
    "import pickle\n",
    "import seaborn as sns\n",
    "import os\n",
    "import seaborn as sns\n",
    "import matplotlib.pyplot as plt"
   ]
  },
  {
   "cell_type": "markdown",
   "id": "ef1f656b",
   "metadata": {},
   "source": [
    "##### Try loading a single dataset"
   ]
  },
  {
   "cell_type": "code",
   "execution_count": 3,
   "outputs": [],
   "source": [
    "import pythonlib.globals\n"
   ],
   "metadata": {
    "collapsed": false,
    "ExecuteTime": {
     "end_time": "2024-02-14T05:15:29.846026517Z",
     "start_time": "2024-02-14T05:15:29.835249595Z"
    }
   },
   "id": "8d5d1becaa43eacb"
  },
  {
   "cell_type": "code",
   "execution_count": 9,
   "id": "11943dd8",
   "metadata": {
    "scrolled": true,
    "ExecuteTime": {
     "end_time": "2024-02-14T05:19:00.227945329Z",
     "start_time": "2024-02-14T05:18:50.793725066Z"
    }
   },
   "outputs": [
    {
     "name": "stdout",
     "output_type": "stream",
     "text": [
      "Searching using this string:\n",
      "/home/lucast4/code/drawmonkey/expt_metadat/*220718-*Pancho.**\n",
      "Found this many paths:\n",
      "0\n",
      "Searching using this string:\n",
      "/home/lucast4/code/drawmonkey/expt_metadat_daily/*220718-*Pancho.**\n",
      "Found this many paths:\n",
      "1\n",
      "---\n",
      "/home/lucast4/code/drawmonkey/expt_metadat_daily/priminvar3d-220718-Pancho.yaml\n",
      "Loading this dataset Pancho priminvar3d 220718\n",
      "Searching using this string:\n",
      "/gorilla1/analyses/database/*Pancho-*priminvar3d-*220718-*/*dat*.pkl\n",
      "-- Splitting off dir from fname\n",
      "Found this many paths:\n",
      "0\n",
      "Searching using this string:\n",
      "/gorilla1/analyses/database/BEH/*Pancho-*priminvar3d-*220718-*/*dat*.pkl\n",
      "-- Splitting off dir from fname\n",
      "Found this many paths:\n",
      "1\n",
      "---\n",
      "/gorilla1/analyses/database/BEH/Pancho-priminvar3d-220718-230215_165517\n",
      "Searching using this string:\n",
      "/mnt/Freiwald_kgupta/kgupta/analyses/database/*Pancho-*priminvar3d-*220718-*/*dat*.pkl\n",
      "-- Splitting off dir from fname\n",
      "Found this many paths:\n",
      "0\n",
      "Searching using this string:\n",
      "/mnt/Freiwald_kgupta/kgupta/analyses/database/BEH/*Pancho-*priminvar3d-*220718-*/*dat*.pkl\n",
      "-- Splitting off dir from fname\n",
      "Found this many paths:\n",
      "1\n",
      "---\n",
      "/mnt/Freiwald_kgupta/kgupta/analyses/database/BEH/Pancho-priminvar3d-220718-230215_165517\n",
      "----------------\n",
      "Currently loading dataset pkl: /mnt/Freiwald_kgupta/kgupta/analyses/database/BEH/Pancho-priminvar3d-220718-230215_165517\n",
      ".. Done!\n",
      "Loaded metadat:\n",
      "{'sketchpad_edges': array([[-311.84, -224.8 ],\n",
      "       [ 311.84,  429.6 ]]), 'metadat_probedat': {'sdate': 220718, 'edate': 220718, 'strokmodel_kind': None, 'strokmodel_tstamp': None, 'datecategories': {'220718': 1}, 'dates_for_summary': [], 'matchedstrokes': None, 'exptnames': ['priminvar3d'], 'T1': [], 'G1': [], 'G2': [], 'G3': [], 'G4': [], 'description': '', 'finalized': False, 'good_expt': True, 'expt': 'priminvar3d', 'animal': 'Pancho', 'ssess': None, 'esess': None, 'task_train_test': {'probe1_liketrain': 'train', 'probe1_nostrokeconstraint': 'train', 'probe2_liketrain': 'train', 'probe2_nostrokeconstraint': 'train', 'probe3_hdpos': 'test', 'probe1': 'train', 'probe2': 'train', 'probe3': 'test', 'probe4': 'test', 'train': 'train'}}, 'filedata_params': {'pix_per_deg': array([[ 26.64621164],\n",
      "       [-26.64621164]]), 'resolution': (1024, 768), 'animal': 'Pancho', 'basedir': '/gorilla1/animals', 'sample_rate': array([500.]), 'beh_codes': {9: 'start', 10: 'fix cue', 11: 'fix cue visible', 13: 'frame skip', 14: 'manual rew', 15: 'guide', 16: 'FixationOnsetWTH', 17: 'FixationDoneSuccessWTH', 18: 'end', 19: 'FixationRaiseFailWTH', 20: 'go (draw)', 21: 'guide_on_GA', 30: 'DelayWhatIsThis', 40: 'GoWhatIsThis', 41: 'samp1 on', 42: 'samp1 off', 45: 'done', 46: 'post', 50: 'reward', 51: 'free reward', 61: 'DoneButtonVisible', 62: 'DoneButtonTouched', 63: 'DragAroundSuccess', 64: 'DragAroundAbort', 65: 'DragAroundFirstAbortNow', 70: 'hotkey_x', 71: 'DAstimevent_firstpres', 72: 'DAstimoff_finibeforepause', 73: 'DAstimoff_fini', 74: 'DAsamp1_visible_change', 75: 'DAnewpnutthisframe', 76: 'DAsound_samp1touched', 78: 'DAsound_gotallink', 80: 'ttl_trialon', 81: 'ttl_trialoff', 91: 'GAstimevent_firstpres', 92: 'GAstimoff_fini', 101: 'fix_square_on', 102: 'fix_square_off', 103: 'fix_square_on_pd', 111: 'photodiode_force_off', 120: 'DAsound_chunk', 121: 'DAsound_strokedone', 122: 'DAsound_chunkupdate', 123: 'DAsound_chunkdone', 124: 'DAsound_firstraise', 131: 'fix_cue_colored_on', 132: 'fix_cue_colored_on_v2', 133: 'fix_cue_colored_off', 134: 'fix_cue_colored_off_v2', 135: 'new_color_cue_off', 200: 'skipped_movie_frame'}, 'screen_hz': 59, 'screen_period': 0.01694915254237288}}\n",
      "Loading BlockParamsByDateSessBlock!\n",
      "----\n",
      "Resetting index\n",
      "=== CLEANING UP self.Dat ===== \n",
      "Deleted unused columns from self.Dat\n",
      "applying monkey train test names\n",
      "* UDPATEING onset of first stroke [too close to fixation] (trial, new onset index):\n",
      "-- CHECKING  origin\n",
      "--- idat, trialcode, strok inds to remove, len strokes beofre remofe, len strokes after:\n",
      "-- CHECKING  donepos\n",
      "--- idat, trialcode, strok inds to remove, len strokes beofre remofe, len strokes after:\n",
      "Updated columns: insummarydates, using Metadats\n",
      "Searching using this string:\n",
      "/gorilla1/analyses/database/TASKS_GENERAL/Pancho-priminvar3d-220718-all/*Tasks*pkl\n",
      "Found this many paths:\n",
      "1\n",
      "---\n",
      "/gorilla1/analyses/database/TASKS_GENERAL/Pancho-priminvar3d-220718-all/Tasks.pkl\n",
      "--- Loading tasks pkl file:  /gorilla1/analyses/database/TASKS_GENERAL/Pancho-priminvar3d-220718-all/Tasks.pkl\n",
      "added new column self.Dat[Task]\n",
      "=== CLEANING UP self.Dat (_cleanup_reloading_saved_state) ===== \n",
      "0 _behclass_alignsim_compute\n",
      "200 _behclass_alignsim_compute\n",
      "Running D._behclass_tokens_extract_datsegs\n",
      "0 _behclass_tokens_extract_datsegs\n",
      "200 _behclass_tokens_extract_datsegs\n",
      "stored in self.Dat[BehClass]\n",
      "- starting/ending len (grouping params):\n",
      "336\n",
      "336\n",
      "- starting/ending len (getting sequence):\n",
      "336\n",
      "336\n",
      "--- Removing nans\n",
      "start len: 336\n",
      "- num names for each col\n",
      "not removing nans, since columns=[]\n",
      "ADded new column: supervision_online\n",
      "Reassigned train/test, using key: probe\n",
      "and values:\n",
      "Train =  [0]\n",
      "Test =  [1]\n",
      " \n",
      "New distribution of train/test:\n",
      "train    336\n",
      "Name: monkey_train_or_test, dtype: int64\n",
      "Appended column: los_info\n",
      "Appended self.Dat[superv_SEQUENCE_SUP]\n",
      "Appended self.Dat[superv_SEQUENCE_ALPHA]\n",
      "Appended self.Dat[superv_COLOR_ON]\n",
      "Appended self.Dat[superv_COLOR_ITEMS_FADE_TO_DEFAULT_BINSTR]\n",
      "Appended self.Dat[superv_COLOR_METHOD]\n",
      "Appended self.Dat[superv_GUIDEDYN_ON]\n",
      "Appended self.Dat[superv_VISUALFB_METH]\n",
      "appended col to self.Dat:\n",
      "supervision_stage_new\n",
      "[taskgroup_reassign_by_mapper], reassigned values in column: taskgroup\n",
      "GROUPING epoch\n",
      "GROUPING_LEVELS ['220718']\n",
      "FEATURE_NAMES ['hdoffline', 'num_strokes_beh', 'num_strokes_task', 'circ', 'dist']\n",
      "SCORE_COL_NAMES []\n",
      "appended col to self.Dat:\n",
      "date_epoch\n",
      "Appended self.Dat[superv_SEQUENCE_SUP]\n",
      "Appended self.Dat[superv_COLOR_ON]\n",
      "Appended self.Dat[superv_COLOR_METHOD]\n",
      "Appended self.Dat[superv_COLOR_ITEMS_FADE_TO_DEFAULT_BINSTR]\n",
      "Appended self.Dat[superv_GUIDEDYN_ON]\n",
      "appended col to self.Dat:\n",
      "supervision_stage_concise\n",
      "Append column to self.Dat:  supervision_stage_semantic\n",
      "Extracted into self.Dat[epoch_orig]\n"
     ]
    },
    {
     "data": {
      "text/plain": "<Figure size 640x480 with 1 Axes>",
      "image/png": "[encoded data removed]"
     },
     "metadata": {},
     "output_type": "display_data"
    },
    {
     "data": {
      "text/plain": "<Figure size 640x480 with 1 Axes>",
      "image/png": "[encoded data removed]"
     },
     "metadata": {},
     "output_type": "display_data"
    }
   ],
   "source": [
    "# Load a daily dataset\n",
    "\n",
    "# animal = \"Diego\"\n",
    "# DATE = \"230619\"\n",
    "\n",
    "animal = \"Pancho\"\n",
    "DATE = \"220718\"\n",
    "\n",
    "# animal = \"Pancho\"\n",
    "# DATE = \"231116\"\n",
    "\n",
    "D = load_dataset_daily_helper(animal, DATE)"
   ]
  },
  {
   "cell_type": "markdown",
   "id": "293c59ec",
   "metadata": {},
   "source": [
    "#####"
   ]
  },
  {
   "cell_type": "markdown",
   "source": [
    "# Preprocess - smoothing strokes better for Diego"
   ],
   "metadata": {
    "collapsed": false
   },
   "id": "5235717ed72d8d31"
  },
  {
   "cell_type": "code",
   "execution_count": 11,
   "outputs": [],
   "source": [
    "list_strokes_filt = D.strokes_smooth_preprocess(window_time=0.35)\n",
    "D.Dat[\"strokes_beh\"] = list_strokes_filt"
   ],
   "metadata": {
    "collapsed": false,
    "ExecuteTime": {
     "end_time": "2024-02-14T05:19:26.469531211Z",
     "start_time": "2024-02-14T05:19:26.390972202Z"
    }
   },
   "id": "eedf836a57066c9f"
  },
  {
   "cell_type": "code",
   "execution_count": null,
   "outputs": [],
   "source": [
    "fig, axes, idxs = D.plotMultTrials2(20)"
   ],
   "metadata": {
    "collapsed": false
   },
   "id": "99afdf2abb2b01a3"
  },
  {
   "cell_type": "code",
   "execution_count": null,
   "outputs": [],
   "source": [
    "list_strokes = D.Dat.iloc[idxs][\"strokes_beh\"]\n",
    "D.plotMultStrokes(list_strokes, titles=idxs);\n",
    "# D.plot_strokes(strokes)"
   ],
   "metadata": {
    "collapsed": false
   },
   "id": "3ce78b2b89b8de21"
  },
  {
   "cell_type": "code",
   "execution_count": null,
   "outputs": [],
   "source": [
    "list_strokes = D.Dat.iloc[idxs][\"strokes_beh\"]\n",
    "D.plotMultStrokes(list_strokes, titles=idxs);\n",
    "# D.plot_strokes(strokes)"
   ],
   "metadata": {
    "collapsed": false
   },
   "id": "3156a13f375ef41b"
  },
  {
   "cell_type": "code",
   "execution_count": null,
   "outputs": [],
   "source": [
    "strokes = D.Dat.iloc[282][\"strokes_beh\"]\n"
   ],
   "metadata": {
    "collapsed": false
   },
   "id": "f9cce98bc362aaab"
  },
  {
   "cell_type": "code",
   "execution_count": null,
   "outputs": [],
   "source": [
    "fs = D.get_sample_rate_alltrials()"
   ],
   "metadata": {
    "collapsed": false
   },
   "id": "a4ecae65d747a0e3"
  },
  {
   "cell_type": "code",
   "execution_count": null,
   "outputs": [],
   "source": [
    "1000/10"
   ],
   "metadata": {
    "collapsed": false
   },
   "id": "d645a17ee8daf8de"
  },
  {
   "cell_type": "code",
   "execution_count": null,
   "outputs": [],
   "source": [
    "from pythonlib.drawmodel.strokePlots import plotDatStrokesWrapper"
   ],
   "metadata": {
    "collapsed": false
   },
   "id": "d25a12abbc88f592"
  },
  {
   "cell_type": "code",
   "execution_count": null,
   "outputs": [],
   "source": [
    "from pythonlib.tools.stroketools import strokesFilter, smoothStrokes\n",
    "\n",
    "# Apply smoothnig\n",
    "\n",
    "# do smoothing\n",
    "# window_type = \"flat\"\n",
    "window_type = \"hanning\"\n",
    "adapt_win_len=\"adapt\"\n",
    "\n",
    "strokes_filt = smoothStrokes(strokes, fs, \n",
    "    window_time=0.1, window_type=window_type,\n",
    "         adapt_win_len=adapt_win_len)\n",
    "\n",
    "fig, axes = plt.subplots(2,2)\n",
    "\n",
    "ax = axes.flatten()[0]\n",
    "\n",
    "from pythonlib.drawmodel.strokePlots import plotDatStrokesTimecourse\n",
    "ax = axes.flatten()[0]\n",
    "plotDatStrokesTimecourse(strokes, ax=ax)\n",
    "ax = axes.flatten()[1]\n",
    "plotDatStrokesTimecourse(strokes_filt, ax=ax)\n",
    "ax.set_title(\"strokesFilter() --> Filtered\")\n",
    "\n",
    "ax = axes.flatten()[2]\n",
    "plotDatStrokesWrapper(strokes, ax)\n",
    "\n",
    "ax = axes.flatten()[3]\n",
    "plotDatStrokesWrapper(strokes_filt, ax)\n",
    "\n",
    "# Find velocity\n",
    "\n",
    "strokesVelocity(strokes, fs, True, clean=True);\n",
    "strokesVelocity(strokes_filt, fs, True, clean=True);\n",
    "\n"
   ],
   "metadata": {
    "collapsed": false
   },
   "id": "d54d806d97de8a12"
  },
  {
   "cell_type": "code",
   "execution_count": null,
   "outputs": [],
   "source": [
    "filt_hi=8\n",
    "\n",
    "strokes_filt = strokesFilter(strokes, [None, filt_hi], fs, plotprepost=True, plotprepost_xy=True, DEBUG=True)\n",
    "\n",
    "fig, axes = plt.subplots(2,2)\n",
    "\n",
    "ax = axes.flatten()[0]\n",
    "\n",
    "from pythonlib.drawmodel.strokePlots import plotDatStrokesTimecourse\n",
    "ax = axes.flatten()[0]\n",
    "plotDatStrokesTimecourse(strokes, ax=ax)\n",
    "ax = axes.flatten()[1]\n",
    "plotDatStrokesTimecourse(strokes_filt, ax=ax)\n",
    "ax.set_title(\"strokesFilter() --> Filtered\")\n",
    "\n",
    "ax = axes.flatten()[2]\n",
    "plotDatStrokesWrapper(strokes, ax)\n",
    "\n",
    "ax = axes.flatten()[3]\n",
    "plotDatStrokesWrapper(strokes_filt, ax)\n"
   ],
   "metadata": {
    "collapsed": false
   },
   "id": "84b11517886c58ae"
  },
  {
   "cell_type": "code",
   "execution_count": null,
   "outputs": [],
   "source": [
    "# Find velocity\n",
    "\n",
    "strokesVelocity(strokes, fs, True, clean=True);\n",
    "strokesVelocity(strokes_filt, fs, True, clean=True);\n",
    "\n"
   ],
   "metadata": {
    "collapsed": false
   },
   "id": "a3e454ddf886e55f"
  },
  {
   "cell_type": "code",
   "execution_count": null,
   "outputs": [],
   "source": [
    "strokesVelocity"
   ],
   "metadata": {
    "collapsed": false
   },
   "id": "740fcbfcb2ddefae"
  },
  {
   "cell_type": "code",
   "execution_count": null,
   "outputs": [],
   "source": [],
   "metadata": {
    "collapsed": false
   },
   "id": "2c0701c634eaa972"
  },
  {
   "cell_type": "markdown",
   "source": [
    "\n",
    "##### Smoothing all strokes in dataset"
   ],
   "metadata": {
    "collapsed": false
   },
   "id": "e772cb841be424a9"
  },
  {
   "cell_type": "code",
   "execution_count": null,
   "outputs": [],
   "source": [
    "# 1) General preprocessing, smoothing\n",
    "from pythonlib.tools.stroketools import strokesFilter, smoothStrokes\n",
    "\n",
    "list_strokes = D.Dat[\"strokes_beh\"]\n",
    "\n",
    "# do smoothing\n",
    "# window_type = \"flat\"\n",
    "window_type = \"hanning\"\n",
    "adapt_win_len=\"adapt\"\n",
    "\n",
    "window_time = 0.15 # do in general;\n",
    "window_time = 0.3 # substrokes\n",
    "\n",
    "\n",
    "for strokes in list_strokes:    \n",
    "    strokes_filt = smoothStrokes(strokes, fs, \n",
    "        window_time=window_time, window_type=window_type,\n",
    "             adapt_win_len=adapt_win_len)\n",
    "        \n"
   ],
   "metadata": {
    "collapsed": false
   },
   "id": "611232748ddca6eb"
  },
  {
   "cell_type": "markdown",
   "source": [
    "# Splitting strokes into substrokes"
   ],
   "metadata": {
    "collapsed": false
   },
   "id": "53c9045dabacdf74"
  },
  {
   "cell_type": "code",
   "execution_count": null,
   "outputs": [],
   "source": [
    "from pythonlib.dataset.dataset_strokes import preprocess_dataset_to_datstrokes\n",
    "DS = preprocess_dataset_to_datstrokes(D, \"clean_one_to_one\")\n"
   ],
   "metadata": {
    "collapsed": false
   },
   "id": "bc96ecfce695654e"
  },
  {
   "cell_type": "code",
   "execution_count": null,
   "outputs": [],
   "source": [
    "# NOTE: methods to find \"average\" time series in space of DTW. basically what I am doing.\n",
    "# https://www.sciencedirect.com/science/article/pii/S003132031000453X"
   ],
   "metadata": {
    "collapsed": false
   },
   "id": "19e2b08c945ff943"
  },
  {
   "cell_type": "code",
   "execution_count": null,
   "outputs": [],
   "source": [
    "# Idea: a variation of DatStrokes, which uses actually substrokes\n"
   ],
   "metadata": {
    "collapsed": false
   },
   "id": "b8759043b0b1d20c"
  },
  {
   "cell_type": "code",
   "execution_count": null,
   "outputs": [],
   "source": [
    "# Approach - For a given stroke kind, Get median vel profile\n",
    "# DTW each trial to that template trial.\n",
    "\n",
    "# Segment each stroke using their alignement positsions. \n"
   ],
   "metadata": {
    "collapsed": false
   },
   "id": "5c8e53a50786960f"
  },
  {
   "cell_type": "code",
   "execution_count": null,
   "outputs": [],
   "source": [
    "# Cluster the substrokes"
   ],
   "metadata": {
    "collapsed": false
   },
   "id": "f3532a8d056a3154"
  },
  {
   "cell_type": "code",
   "execution_count": null,
   "outputs": [],
   "source": [
    "# Each substroke has a label (shape, substroke index in shape, substroke cluster)\n",
    "\n",
    "# Run all analyses on these substrokes as you would."
   ],
   "metadata": {
    "collapsed": false
   },
   "id": "672f3ba58b9f6071"
  },
  {
   "cell_type": "markdown",
   "source": [],
   "metadata": {
    "collapsed": false
   },
   "id": "81cbf3a556eb765"
  },
  {
   "cell_type": "markdown",
   "source": [
    "##### Helper, plot, to decide what window to use"
   ],
   "metadata": {
    "collapsed": false
   },
   "id": "c01be7be1f08cffd"
  },
  {
   "cell_type": "code",
   "execution_count": null,
   "outputs": [],
   "source": [
    "from pythonlib.dataset.substrokes import pipeline_wrapper, database_shape_segmentation_help_decide_values, database_shape_segmentation_get, _convert_inds_to_frac\n",
    "\n",
    "\n"
   ],
   "metadata": {
    "collapsed": false
   },
   "id": "b9468b8fbd0c161a"
  },
  {
   "cell_type": "code",
   "execution_count": null,
   "outputs": [],
   "source": [
    "# Then convert indices (out of 50) tofracs within stroke\n",
    "\n",
    "# Enter it by hand here\n",
    "Npts = 70\n",
    "_convert_inds_to_frac([15, 33], Npts)\n"
   ],
   "metadata": {
    "collapsed": false
   },
   "id": "692c31707bf0bc2c"
  },
  {
   "cell_type": "code",
   "execution_count": null,
   "outputs": [],
   "source": [
    "database_shape_segmentation = database_shape_segmentation_get(animal)\n",
    "\n",
    "# First, go thru each shape and check if exists\n",
    "list_shapes = DS.Dat[\"shape\"].unique().tolist()\n",
    "for shape in list_shapes:\n",
    "    if shape not in database_shape_segmentation:\n",
    "        database_shape_segmentation_help_decide_values(DS, shape, Npts)\n",
    "        assert False, \"FIX THIS SHAPE\""
   ],
   "metadata": {
    "collapsed": false
   },
   "id": "610a546cbf44b08c"
  },
  {
   "cell_type": "markdown",
   "source": [
    "# Run main data collection"
   ],
   "metadata": {
    "collapsed": false
   },
   "id": "eb5d7c192cdb34d2"
  },
  {
   "cell_type": "code",
   "execution_count": 12,
   "outputs": [
    {
     "name": "stdout",
     "output_type": "stream",
     "text": [
      "SAVING at:  /gorilla1/analyses/main/substrokes_preprocess/Pancho_220718_priminvar3d\n",
      "SMOOTHING STROKES, to preprocess\n",
      "*** RUNNING D.preprocessGood using these params:\n",
      "['beh_strokes_at_least_one', 'one_to_one_beh_task_strokes_allow_unfinished', 'no_supervision']\n",
      "-- Len of D, before applying this param: beh_strokes_at_least_one, ... 336\n",
      "after: 336\n",
      "-- Len of D, before applying this param: one_to_one_beh_task_strokes_allow_unfinished, ... 336\n",
      "after: 335\n",
      "-- Len of D, before applying this param: no_supervision, ... 335\n",
      "after: 335\n",
      "Removing these trials: \n",
      "[]\n",
      "self.Dat starting legnth:  335\n",
      "Modified self.Dat, keeping only the inputted inds\n",
      "self.Dat final legnth:  335\n",
      "Success! all gridloc identical!\n",
      "These are the x and y mappings, gridloc:loc\n",
      "x... {0: 0.05}\n",
      "y... {0: 0.05}\n",
      "0\n",
      "100\n",
      "200\n",
      "300\n",
      "This many strokes extracted:  335\n",
      "Appended epoch to self.Dat\n",
      "Appended character to self.Dat\n",
      "DONE!\n",
      "Added column: dist_beh_task_strok\n",
      "clean_preprocess_data...\n",
      "len of DS.Dat = 335, before running... stroke_too_short\n",
      "Doing...: stroke_too_short\n",
      "New len:  334\n",
      "len of DS.Dat = 334, before running... beh_task_dist_too_large\n",
      "Doing...: beh_task_dist_too_large\n",
      "New len:  334\n",
      "len of DS.Dat = 334, before running... stroke_too_quick\n",
      "Doing...: stroke_too_quick\n",
      "New len:  334\n",
      "clean_preprocess_data...\n",
      "len of DS.Dat = 334, before running... remove_if_multiple_behstrokes_per_taskstroke\n",
      "This many cases with >1 beh stroke needed to completed a task stroke:  0\n",
      "New len:  334\n",
      "Doign this shape/gridsize:  /gorilla1/analyses/main/substrokes_preprocess/Pancho_220718_priminvar3d/preprocess_each_shape/Lcentered-4-3-0-rig3_3x3_small rig3_3x3_small\n",
      "-- after restricting to window  [25]\n",
      "Keep (DTW score): 14  /  14\n",
      "Keep (out of winodw): 14  /  14\n",
      "Keep (overall): 14  /  14\n",
      "-- after restricting to window  [30]\n",
      "118.96551724137933\n",
      "118.96551724137933\n",
      "Keep (DTW score): 14  /  14\n",
      "Keep (out of winodw): 14  /  14\n",
      "Keep (overall): 14  /  14\n",
      "118.96551724137933\n",
      "Doign this shape/gridsize:  /gorilla1/analyses/main/substrokes_preprocess/Pancho_220718_priminvar3d/preprocess_each_shape/V-2-2-0-rig3_3x3_small rig3_3x3_small\n",
      "-- after restricting to window  [31]\n",
      "Keep (DTW score): 15  /  15\n",
      "Keep (out of winodw): 14  /  15\n",
      "Keep (overall): 14  /  15\n",
      "-- after restricting to window  [31]\n",
      "109.69793322734496\n",
      "109.87261146496813\n"
     ]
    },
    {
     "name": "stderr",
     "output_type": "stream",
     "text": [
      "\n",
      "KeyboardInterrupt\n",
      "\n"
     ]
    },
    {
     "name": "stdout",
     "output_type": "stream",
     "text": [
      "Error in callback <function _draw_all_if_interactive at 0x7f63e7c63b80> (for post_execute):\n"
     ]
    },
    {
     "name": "stderr",
     "output_type": "stream",
     "text": [
      "\n",
      "KeyboardInterrupt\n",
      "\n"
     ]
    },
    {
     "data": {
      "text/plain": "<Figure size 640x480 with 1 Axes>",
      "image/png": "[encoded data removed]"
     },
     "metadata": {},
     "output_type": "display_data"
    },
    {
     "name": "stdout",
     "output_type": "stream",
     "text": [
      "Error in callback <function flush_figures at 0x7f63e74f2c10> (for post_execute):\n"
     ]
    },
    {
     "name": "stderr",
     "output_type": "stream",
     "text": [
      "\n",
      "KeyboardInterrupt\n",
      "\n"
     ]
    }
   ],
   "source": [
    "from pythonlib.dataset.substrokes import pipeline_wrapper\n",
    "Dsubs, DSsubs, SAVEDIR = pipeline_wrapper(D)"
   ],
   "metadata": {
    "collapsed": false,
    "ExecuteTime": {
     "end_time": "2024-02-14T05:20:30.036448760Z",
     "start_time": "2024-02-14T05:20:15.049606001Z"
    }
   },
   "id": "fbe240b6e5430cb1"
  },
  {
   "cell_type": "code",
   "execution_count": null,
   "outputs": [],
   "source": [
    "Dsubs.Dat.loc[:, [\"trialcode\", \"strokes_beh\"]][:10]"
   ],
   "metadata": {
    "collapsed": false
   },
   "id": "4350129e6ed5143"
  },
  {
   "cell_type": "markdown",
   "source": [
    "##### Save the extracted substrokes"
   ],
   "metadata": {
    "collapsed": false
   },
   "id": "c5c654aa994a14e9"
  },
  {
   "cell_type": "code",
   "execution_count": null,
   "outputs": [],
   "source": [
    "# OK --> incorperated into pipeline already"
   ],
   "metadata": {
    "collapsed": false
   },
   "id": "c7fd319f3598766f"
  },
  {
   "cell_type": "code",
   "execution_count": null,
   "outputs": [],
   "source": [
    "pathdir = f\"{SAVEDIR}\"\n",
    "# pathdir = \n",
    "DSsubs.export_dat(SAVEDIR)\n",
    "Dsubs.save(SAVEDIR, [\"trialcode\", \"strokes_beh\"])\n",
    "DS.save(\"/tmp\", [\"trialcode\", \"strokes_beh\"])\n",
    "len(Dsubs.Dat)\n",
    "len(DS.Dataset.Dat)\n",
    "\n",
    "DS.Dataset.Dat[:2]"
   ],
   "metadata": {
    "collapsed": false
   },
   "id": "4490493048f0095"
  },
  {
   "cell_type": "markdown",
   "source": [
    "# Load extracted substrokes"
   ],
   "metadata": {
    "collapsed": false
   },
   "id": "6488f92493848bb4"
  },
  {
   "cell_type": "code",
   "execution_count": null,
   "outputs": [],
   "source": [
    "from pythonlib.dataset.substrokes import load_presaved_using_pipeline\n",
    "animal = \"Diego\"\n",
    "date = 230616\n",
    "D = load_dataset_daily_helper(animal, date)\n",
    "DSsubs, Dsubb = load_presaved_using_pipeline(D)\n"
   ],
   "metadata": {
    "collapsed": false
   },
   "id": "3c880e32aae6200e"
  },
  {
   "cell_type": "code",
   "execution_count": null,
   "outputs": [],
   "source": [],
   "metadata": {
    "collapsed": false
   },
   "id": "ee9e4e9682db1974"
  }
 ],
 "metadata": {
  "kernelspec": {
   "display_name": "Python 3 (ipykernel)",
   "language": "python",
   "name": "python3"
  },
  "language_info": {
   "codemirror_mode": {
    "name": "ipython",
    "version": 3
   },
   "file_extension": ".py",
   "mimetype": "text/x-python",
   "name": "python",
   "nbconvert_exporter": "python",
   "pygments_lexer": "ipython3",
   "version": "3.8.18"
  }
 },
 "nbformat": 4,
 "nbformat_minor": 5
}
