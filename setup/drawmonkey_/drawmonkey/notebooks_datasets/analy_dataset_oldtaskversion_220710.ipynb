{
 "cells": [
  {
   "cell_type": "code",
   "execution_count": null,
   "id": "chicken-extraction",
   "metadata": {},
   "outputs": [],
   "source": [
    "\"\"\" \n",
    "Summary plots, using old task representations. \n",
    "Motivated by Luca experiment (Kedar)\n",
    "\"\"\"\n"
   ]
  },
  {
   "cell_type": "code",
   "execution_count": 5,
   "id": "further-championship",
   "metadata": {},
   "outputs": [],
   "source": [
    "# %cd ..\n",
    "# from tools.utils import * \n",
    "# from tools.plots import *\n",
    "# from tools.analy import *\n",
    "# from tools.calc import *\n",
    "# from tools.analyplot import *\n",
    "# from tools.preprocess import *\n",
    "# from tools.dayanalysis import *\n",
    "\n",
    "from pythonlib.drawmodel.analysis import *\n",
    "from pythonlib.tools.stroketools import *\n",
    "import pythonlib\n",
    "from pythonlib.dataset.dataset import Dataset\n",
    "import pickle\n",
    "import os\n",
    "import seaborn as sns\n",
    "import matplotlib.pyplot as plt"
   ]
  },
  {
   "cell_type": "markdown",
   "id": "ef1f656b",
   "metadata": {},
   "source": [
    "##### Try loading a single dataset"
   ]
  },
  {
   "cell_type": "code",
   "execution_count": 6,
   "id": "e2834d18",
   "metadata": {},
   "outputs": [
    {
     "name": "stdout",
     "output_type": "stream",
     "text": [
      "Searching using this string:\n",
      "/home/lucast4/data2/analyses/database/*Luca*naive8luca5**/*dat*.pkl\n",
      "-- Splitting off dir from fname\n",
      "Found this many paths:\n",
      "0\n",
      "Searching using this string:\n",
      "/home/lucast4/data2/analyses/database/BEH/*Luca*naive8luca5**/*dat*.pkl\n",
      "-- Splitting off dir from fname\n",
      "Found this many paths:\n",
      "1\n",
      "---\n",
      "/home/lucast4/data2/analyses/database/BEH/Luca-naive8luca5-null-220710_175714\n",
      "----------------\n",
      "Currently loading: /home/lucast4/data2/analyses/database/BEH/Luca-naive8luca5-null-220710_175714\n",
      "Loaded metadat:\n",
      "{'sketchpad_edges': array([[-404., -532.],\n",
      "       [ 404.,  532.]]), 'metadat_probedat': {'sdate': 220630, 'edate': 220701, 'strokmodel_kind': None, 'strokmodel_tstamp': None, 'datecategories': {'220630': 1, '220701': 1}, 'dates_for_summary': [], 'matchedstrokes': None, 'exptnames': ['naive8luca5'], 'T1': [], 'G1': [], 'G2': [], 'G3': [], 'G4': [], 'description': '', 'finalized': False, 'good_expt': True, 'expt': 'naive8luca5', 'animal': 'Luca', 'ssess': None, 'esess': None, 'task_train_test': {'probe1_liketrain': 'train', 'probe1_nostrokeconstraint': 'train', 'probe2_liketrain': 'train', 'probe2_nostrokeconstraint': 'train', 'probe3_hdpos': 'test', 'probe1': 'train', 'probe2': 'train', 'probe3': 'test', 'probe4': 'test', 'train': 'train'}}, 'filedata_params': {'pix_per_deg': array([[ 26.64621164],\n",
      "       [-26.64621164]]), 'resolution': (1024, 768), 'animal': 'Luca', 'basedir': '/home/lucast4/data2/animals', 'sample_rate': array([1000.]), 'beh_codes': {9: 'start', 10: 'fix cue', 11: 'fix cue visible', 13: 'frame skip', 14: 'manual rew', 15: 'guide', 16: 'FixationOnsetWTH', 17: 'FixationDoneSuccessWTH', 18: 'end', 19: 'FixationRaiseFailWTH', 20: 'go (draw)', 21: 'guide_on_GA', 30: 'DelayWhatIsThis', 40: 'GoWhatIsThis', 41: 'samp1 on', 42: 'samp1 off', 45: 'done', 46: 'post', 50: 'reward', 51: 'free reward', 61: 'DoneButtonVisible', 62: 'DoneButtonTouched', 63: 'DragAroundSuccess', 64: 'DragAroundAbort', 65: 'DragAroundFirstAbortNow', 70: 'hotkey_x', 71: 'DAstimevent_firstpres', 72: 'DAstimoff_finibeforepause', 73: 'DAstimoff_fini', 74: 'DAsamp1_visible_change', 75: 'DAnewpnutthisframe', 76: 'DAsound_samp1touched', 78: 'DAsound_gotallink', 80: 'ttl_trialon', 81: 'ttl_trialoff', 91: 'GAstimevent_firstpres', 92: 'GAstimoff_fini', 101: 'fix_square_on', 102: 'fix_square_off', 103: 'fix_square_on_pd', 111: 'photodiode_force_off', 120: 'DAsound_chunk', 121: 'DAsound_strokedone', 122: 'DAsound_chunkupdate', 123: 'DAsound_chunkdone', 124: 'DAsound_firstraise', 200: 'skipped_movie_frame'}, 'screen_hz': 75, 'screen_period': 0.013333333333333334}}\n",
      "----\n",
      "Resetting index\n",
      "=== CLEANING UP self.Dat ===== \n",
      "Deleted unused columns from self.Dat\n",
      "applying monkey train test names\n",
      "resetting index\n",
      "Removed online aborts\n",
      "Updated columns: insummarydates, using Metadats\n"
     ]
    }
   ],
   "source": [
    "expt = \"naive8luca5\" #run for chunkbyshape1, chunkbyshape2\n",
    "animal = \"Luca\"\n",
    "# rulelist = get_rulelist(animal, expt)\n",
    "D = Dataset([])\n",
    "# D.load_dataset_helper(animal, expt, ver=\"mult\", rule=rulelist)\n",
    "D.load_dataset_helper(animal, expt)\n",
    "# D.load_tasks_helper()\n",
    "\n"
   ]
  },
  {
   "cell_type": "markdown",
   "id": "e4f8df54",
   "metadata": {},
   "source": [
    "##### Bin tasks based on task stroke features"
   ]
  },
  {
   "cell_type": "code",
   "execution_count": 67,
   "id": "e6d042e4",
   "metadata": {},
   "outputs": [
    {
     "data": {
      "text/plain": [
       "(<Figure size 144x180 with 1 Axes>, array([[<AxesSubplot:>]], dtype=object))"
      ]
     },
     "execution_count": 67,
     "metadata": {},
     "output_type": "execute_result"
    },
    {
     "data": {
      "image/png": "[encoded data removed]",
      "text/plain": [
       "<Figure size 864x216 with 4 Axes>"
      ]
     },
     "metadata": {
      "needs_background": "light"
     },
     "output_type": "display_data"
    },
    {
     "data": {
      "image/png": "[encoded data removed]",
      "text/plain": [
       "<Figure size 144x180 with 1 Axes>"
      ]
     },
     "metadata": {
      "needs_background": "light"
     },
     "output_type": "display_data"
    }
   ],
   "source": [
    "# Pick an example trial\n",
    "indtrial = 101\n",
    "\n",
    "# Plot it\n",
    "D.plotSingleTrial(indtrial)\n",
    "\n",
    "# Plot task using colors, to figure out what direction the task strokes are defined in.\n",
    "strokes_task = D.Dat.iloc[indtrial][\"strokes_task\"]\n",
    "D.plotMultStrokes([strokes_task])"
   ]
  },
  {
   "cell_type": "code",
   "execution_count": 68,
   "id": "fffd621d",
   "metadata": {},
   "outputs": [
    {
     "name": "stdout",
     "output_type": "stream",
     "text": [
      "1. length of task:  149.21395048588357\n",
      "2. angle between two segments (rad):  2.3521385311019163\n",
      "3. This is the vector for the arrowhead:  (-3.1954293362841213, -28.619334903277263)\n",
      "And the angle of the vector:  4.601196692263878\n",
      " ** Confirm these values make sense given the drawing plotted above\n"
     ]
    }
   ],
   "source": [
    "from pythonlib.behavior.strokeclass import StrokeClass\n",
    "from pythonlib.tools.vectools import angle_diff, get_vector_between_points, get_angle, bin_angle_by_direction\n",
    "\n",
    "# Extract task strokes\n",
    "Strokes = [StrokeClass(strok) for strok in D.Dat.iloc[indtrial][\"strokes_task\"]]\n",
    "\n",
    "# Extract three features (length, angle_between_segments (acuteness), angle_arrowhead (which way pointing)) \n",
    "# 1) length of each stroke segment\n",
    "list_len = [S.extract_single_feature('distcum') for S in Strokes]\n",
    "len_tot = np.sum(list_len)\n",
    "print(\"1. length of task: \", len_tot)\n",
    "\n",
    "# 2) Angle between two segments\n",
    "list_angle = [S.extract_single_feature('angle') for S in Strokes]\n",
    "# -- given each strok's angle, you can compute the angle between them\n",
    "from math import pi\n",
    "ad = pi - angle_diff(list_angle[0], list_angle[1])\n",
    "print(\"2. angle between two segments (rad): \", ad)\n",
    "\n",
    "# 3) Direction the \"arrowhead\" is pointing\n",
    "# vector pointing in direction of arrowhead\n",
    "pt1 = strokes_task[0][0,:2]\n",
    "pt2 = strokes_task[1][-1,:2]\n",
    "pt_arrow_1 = (pt1 + pt2)/2 # center of line connecting first and last pts of task\n",
    "pt_arrow_2 = strokes_task[1][0,:2] # pt at the tip of arrowhead\n",
    "vec_arrow = get_vector_between_points(pt_arrow_1, pt_arrow_2)\n",
    "angle_arrow = get_angle(vec_arrow)\n",
    "print(\"3. This is the vector for the arrowhead: \", vec_arrow)\n",
    "print(\"And the angle of the vector: \", angle_arrow)\n",
    "\n",
    "print(\" ** Confirm these values make sense given the drawing plotted above\")"
   ]
  },
  {
   "cell_type": "markdown",
   "id": "9c6ba75a",
   "metadata": {},
   "source": [
    "##### Bin tasks into categories"
   ]
  },
  {
   "cell_type": "code",
   "execution_count": 69,
   "id": "74751d6d",
   "metadata": {},
   "outputs": [
    {
     "data": {
      "image/png": "[encoded data removed]",
      "text/plain": [
       "<Figure size 432x288 with 1 Axes>"
      ]
     },
     "metadata": {
      "needs_background": "light"
     },
     "output_type": "display_data"
    }
   ],
   "source": [
    "# 4) To group tasks into categories based on their (length, angle_between_segments, angle_arrowhead), bin\n",
    "# each of these features. For example\n",
    "\n",
    "# Here is a fake distribution of angles. Replace this with distribution over tasks.\n",
    "list_angles = 2*pi*np.random.rand(100)\n",
    "\n",
    "# Bin tthe angles\n",
    "list_angles_binned = bin_angle_by_direction(list_angles, 4, binnames={1: 0, 2: 1, 3: 2, 4: 3, 5: np.nan});\n",
    "\n",
    "# Plot to see\n",
    "plt.figure()\n",
    "plt.plot(list_angles, list_angles_binned, 'ok')\n",
    "plt.xlabel('angle (rad)');\n",
    "plt.ylabel('angle (binned)');\n",
    "\n",
    "# TODO: represent each task using discrete features, e.g,, (length bin, angle bin, angle bin). if you have \n",
    "# 2, 2, 4 bins, this gives 16 total task categories. \n",
    "\n"
   ]
  },
  {
   "cell_type": "markdown",
   "id": "ecf0d4e5",
   "metadata": {},
   "source": [
    "##### TODO: Then, for each task category plot (1) drawings (2) scores."
   ]
  }
 ],
 "metadata": {
  "kernelspec": {
   "display_name": "Python 3 (ipykernel)",
   "language": "python",
   "name": "python3"
  },
  "language_info": {
   "codemirror_mode": {
    "name": "ipython",
    "version": 3
   },
   "file_extension": ".py",
   "mimetype": "text/x-python",
   "name": "python",
   "nbconvert_exporter": "python",
   "pygments_lexer": "ipython3",
   "version": "3.7.10"
  }
 },
 "nbformat": 4,
 "nbformat_minor": 5
}
