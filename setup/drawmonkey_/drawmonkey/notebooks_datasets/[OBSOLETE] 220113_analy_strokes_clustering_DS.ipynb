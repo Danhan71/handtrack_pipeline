{
 "cells": [
  {
   "cell_type": "code",
   "execution_count": null,
   "id": "4801d467",
   "metadata": {},
   "outputs": [],
   "source": [
    "\"\"\"\n",
    "OBSOLETE - all moved to 230623_STROKES_CLUSTERING_SIMILARITY\n",
    "(or deemed unimportant, or is present in other notebooks.)\n",
    "\"\"\""
   ]
  },
  {
   "cell_type": "code",
   "execution_count": 1,
   "id": "outer-structure",
   "metadata": {},
   "outputs": [
    {
     "data": {
      "text/plain": [
       "'\\n\\nGOAL IS FOR ALL MAIN STUFF TO GO INTO 230113_character_prims\\n\\nAlready moved all of 220406_analy_strokeclustering to that.\\n\\n\\n============= OLD NOTES:\\n========================\\nMAIN GOAL:\\n- clustering strokes.\\n\\nTODO:\\n- merge with 220406_analy_strokeclustering [WHICH IS OLDER, I THINK - noted on 1/4/23]\\n\\n'"
      ]
     },
     "execution_count": 1,
     "metadata": {},
     "output_type": "execute_result"
    }
   ],
   "source": [
    "\"\"\"\n",
    "\n",
    "GOAL IS FOR ALL MAIN STUFF TO GO INTO 230113_character_prims\n",
    "\n",
    "Already moved all of 220406_analy_strokeclustering to that.\n",
    "\n",
    "\n",
    "============= OLD NOTES:\n",
    "========================\n",
    "MAIN GOAL:\n",
    "- clustering strokes.\n",
    "\n",
    "TODO:\n",
    "- merge with 220406_analy_strokeclustering [WHICH IS OLDER, I THINK - noted on 1/4/23]\n",
    "\n",
    "\"\"\"\n",
    "\n"
   ]
  },
  {
   "cell_type": "code",
   "execution_count": 2,
   "id": "aging-movement",
   "metadata": {},
   "outputs": [],
   "source": [
    "from pythonlib.dataset.dataset_analy.primitives import *\n",
    "from pythonlib.dataset.dataset_preprocess.primitives import *\n",
    "from pythonlib.dataset.dataset import Dataset, load_dataset, load_dataset_daily_helper\n",
    "import numpy as np\n",
    "import matplotlib.pyplot as plt\n",
    "import pandas as pd\n",
    "import seaborn as sns"
   ]
  },
  {
   "cell_type": "markdown",
   "id": "1d44c473",
   "metadata": {},
   "source": [
    "\n",
    "## v2 [New], using PlanClass extracted primitives"
   ]
  },
  {
   "cell_type": "code",
   "execution_count": 3,
   "id": "6a0bebd5",
   "metadata": {
    "scrolled": true
   },
   "outputs": [
    {
     "name": "stdout",
     "output_type": "stream",
     "text": [
      "Searching using this string:\n",
      "/home/lucast4/code/drawmonkey/expt_metadat/*221217-*Pancho.**\n",
      "Found this many paths:\n",
      "0\n",
      "Searching using this string:\n",
      "/home/lucast4/code/drawmonkey/expt_metadat_daily/*221217-*Pancho.**\n",
      "Found this many paths:\n",
      "1\n",
      "---\n",
      "/home/lucast4/code/drawmonkey/expt_metadat_daily/priminvar3g-221217-Pancho.yaml\n",
      "Loading this dataset Pancho priminvar3g 221217\n",
      "Searching using this string:\n",
      "/gorilla1/analyses/database/*Pancho-*priminvar3g-*221217-*/*dat*.pkl\n",
      "-- Splitting off dir from fname\n",
      "Found this many paths:\n",
      "0\n",
      "Searching using this string:\n",
      "/gorilla1/analyses/database/BEH/*Pancho-*priminvar3g-*221217-*/*dat*.pkl\n",
      "-- Splitting off dir from fname\n",
      "Found this many paths:\n",
      "1\n",
      "---\n",
      "/gorilla1/analyses/database/BEH/Pancho-priminvar3g-221217-221218_212324\n",
      "Searching using this string:\n",
      "/mnt/Freiwald/kgupta/analyses/database/*Pancho-*priminvar3g-*221217-*/*dat*.pkl\n",
      "-- Splitting off dir from fname\n",
      "Found this many paths:\n",
      "0\n",
      "Searching using this string:\n",
      "/mnt/Freiwald/kgupta/analyses/database/BEH/*Pancho-*priminvar3g-*221217-*/*dat*.pkl\n",
      "-- Splitting off dir from fname\n",
      "Found this many paths:\n",
      "0\n",
      "----------------\n",
      "Currently loading dataset pkl: /gorilla1/analyses/database/BEH/Pancho-priminvar3g-221217-221218_212324\n",
      ".. Done!\n",
      "Loaded metadat:\n",
      "{'sketchpad_edges': array([[-311.84, -224.8 ],\n",
      "       [ 311.84,  429.6 ]]), 'metadat_probedat': {'sdate': '221217', 'edate': '221217', 'strokmodel_kind': None, 'strokmodel_tstamp': None, 'datecategories': {'221217': 1}, 'dates_for_summary': [], 'matchedstrokes': None, 'exptnames': ['priminvar3g'], 'T1': [], 'G1': [], 'G2': [], 'G3': [], 'G4': [], 'description': '', 'finalized': False, 'good_expt': True, 'expt': 'priminvar3g', 'animal': 'Pancho', 'ssess': None, 'esess': None, 'task_train_test': {'probe1_liketrain': 'train', 'probe1_nostrokeconstraint': 'train', 'probe2_liketrain': 'train', 'probe2_nostrokeconstraint': 'train', 'probe3_hdpos': 'test', 'probe1': 'train', 'probe2': 'train', 'probe3': 'test', 'probe4': 'test', 'train': 'train'}}, 'filedata_params': {'pix_per_deg': array([[ 26.64621164],\n",
      "       [-26.64621164]]), 'resolution': (1024, 768), 'animal': 'Pancho', 'basedir': '/gorilla1/animals', 'sample_rate': array([500.]), 'beh_codes': {9: 'start', 10: 'fix cue', 11: 'fix cue visible', 13: 'frame skip', 14: 'manual rew', 15: 'guide', 16: 'FixationOnsetWTH', 17: 'FixationDoneSuccessWTH', 18: 'end', 19: 'FixationRaiseFailWTH', 20: 'go (draw)', 21: 'guide_on_GA', 30: 'DelayWhatIsThis', 40: 'GoWhatIsThis', 41: 'samp1 on', 42: 'samp1 off', 45: 'done', 46: 'post', 50: 'reward', 51: 'free reward', 61: 'DoneButtonVisible', 62: 'DoneButtonTouched', 63: 'DragAroundSuccess', 64: 'DragAroundAbort', 65: 'DragAroundFirstAbortNow', 70: 'hotkey_x', 71: 'DAstimevent_firstpres', 72: 'DAstimoff_finibeforepause', 73: 'DAstimoff_fini', 74: 'DAsamp1_visible_change', 75: 'DAnewpnutthisframe', 76: 'DAsound_samp1touched', 78: 'DAsound_gotallink', 80: 'ttl_trialon', 81: 'ttl_trialoff', 91: 'GAstimevent_firstpres', 92: 'GAstimoff_fini', 101: 'fix_square_on', 102: 'fix_square_off', 103: 'fix_square_on_pd', 111: 'photodiode_force_off', 120: 'DAsound_chunk', 121: 'DAsound_strokedone', 122: 'DAsound_chunkupdate', 123: 'DAsound_chunkdone', 124: 'DAsound_firstraise', 131: 'fix_cue_colored_on', 132: 'fix_cue_colored_on_v2', 133: 'fix_cue_colored_off', 134: 'fix_cue_colored_off_v2', 135: 'new_color_cue_off', 200: 'skipped_movie_frame'}, 'screen_hz': 59, 'screen_period': 0.01694915254237288}}\n",
      "Loading BlockParamsByDateSessBlock!\n",
      "----\n",
      "Resetting index\n",
      "=== CLEANING UP self.Dat ===== \n",
      "Deleted unused columns from self.Dat\n",
      "applying monkey train test names\n",
      "resetting index\n",
      "Updated columns: insummarydates, using Metadats\n",
      "Extracted into self.Dat[epoch_orig]\n",
      "Searching using this string:\n",
      "/gorilla1/analyses/database/TASKS_GENERAL/Pancho-priminvar3g-221217-all/*Tasks*pkl\n",
      "Found this many paths:\n",
      "1\n",
      "---\n",
      "/gorilla1/analyses/database/TASKS_GENERAL/Pancho-priminvar3g-221217-all/Tasks.pkl\n",
      "--- Loading tasks pkl file:  /gorilla1/analyses/database/TASKS_GENERAL/Pancho-priminvar3g-221217-all/Tasks.pkl\n",
      "added new column self.Dat[Task]\n",
      "- starting/ending len (grouping params):\n",
      "893\n",
      "893\n",
      "- starting/ending len (getting sequence):\n",
      "893\n",
      "893\n",
      "--- Removing nans\n",
      "start len: 893\n",
      "- num names for each col\n",
      "not removing nans, since columns=[]\n",
      "Reassigned train/test, using key: probe\n",
      "and values:\n",
      "Train =  [0]\n",
      "Test =  [1]\n",
      " \n",
      "New distribution of train/test:\n",
      "train    893\n",
      "Name: monkey_train_or_test, dtype: int64\n",
      "Appended column: los_info\n",
      "Appended self.Dat[superv_SEQUENCE_SUP]\n",
      "Appended self.Dat[superv_SEQUENCE_ALPHA]\n",
      "Appended self.Dat[superv_COLOR_ON]\n",
      "Appended self.Dat[superv_COLOR_METHOD]\n",
      "Appended self.Dat[superv_GUIDEDYN_ON]\n",
      "Appended self.Dat[superv_VISUALFB_METH]\n",
      "appended col to self.Dat:\n",
      "supervision_stage_new\n",
      "[taskgroup_reassign_by_mapper], reassigned values in column: taskgroup\n",
      "GROUPING epoch\n",
      "GROUPING_LEVELS ['221217']\n",
      "FEATURE_NAMES ['hdoffline', 'num_strokes', 'circ', 'dist']\n",
      "SCORE_COL_NAMES []\n",
      "appended col to self.Dat:\n",
      "date_epoch\n",
      "Appended self.Dat[superv_SEQUENCE_SUP]\n",
      "Appended self.Dat[superv_COLOR_ON]\n",
      "Appended self.Dat[superv_COLOR_METHOD]\n",
      "Appended self.Dat[superv_GUIDEDYN_ON]\n",
      "appended col to self.Dat:\n",
      "supervision_stage_concise\n"
     ]
    }
   ],
   "source": [
    "# a = \"Pancho\"\n",
    "# e = \"priminvar3\"\n",
    "# r = \"null\"\n",
    "\n",
    "# animal = \"Pancho\"\n",
    "# date = \"220918\"\n",
    "\n",
    "animal = \"Pancho\"\n",
    "date = \"221217\"\n",
    "\n",
    "# animal = \"Diego\"\n",
    "# date = \"230418\"\n",
    "\n",
    "# animal = \"Diego\"\n",
    "# date = \"230223\"\n",
    "\n",
    "# animal = \"Diego\"\n",
    "# date = \"230616\"\n",
    "\n",
    "\n",
    "\n",
    "# expt = \"primpractice5\" \n",
    "# animal = \"Pancho\"\n",
    "# D = Dataset([])\n",
    "# # rulelist = get_rulelist(animal, expt)\n",
    "# rulelist = [\"221216\"]\n",
    "\n",
    "# D.load_dataset_helper(animal, expt, ver=\"mult\", rule=rulelist)\n",
    "\n",
    "D = load_dataset_daily_helper(animal, date)\n"
   ]
  },
  {
   "cell_type": "code",
   "execution_count": null,
   "id": "74afaf49",
   "metadata": {},
   "outputs": [],
   "source": [
    "# Prune datset for devo\n",
    "if False:\n",
    "    nsub = 500\n",
    "    import random\n",
    "    inds = sorted(random.sample(range(len(D.Dat)), nsub))\n",
    "\n",
    "    D = D.subsetDataset(inds)"
   ]
  },
  {
   "cell_type": "markdown",
   "id": "9f156a39",
   "metadata": {},
   "source": [
    "##### Cluster based on concat of visual and motor similarity\n",
    "\n",
    "Goal: prune redundant tasks"
   ]
  },
  {
   "cell_type": "markdown",
   "id": "c8c8d9b8",
   "metadata": {},
   "source": [
    "### ======== BELOW: before 1/4/23"
   ]
  },
  {
   "cell_type": "markdown",
   "id": "b4096a7f",
   "metadata": {},
   "source": [
    "### CHECKING that strokes in chars match strokes in prims"
   ]
  },
  {
   "cell_type": "markdown",
   "id": "4ff67a41",
   "metadata": {},
   "source": [
    "See code below in clustering, based on params can be flexible about prims and what strokes extract from chars\n",
    "TODO\n",
    "- check that prims (before averaging) are similar\n",
    "- prims, check that they are single strokes (if multiple strokes, then how deal with this?)\n"
   ]
  },
  {
   "cell_type": "markdown",
   "id": "d830bcf0",
   "metadata": {},
   "source": [
    "## CLUSTERING (quick)"
   ]
  },
  {
   "cell_type": "code",
   "execution_count": null,
   "id": "7f618bc3",
   "metadata": {},
   "outputs": [],
   "source": [
    "from pythonlib.tools.clustertools import *\n",
    "\n",
    "# Goal: quick look at distribution of beh strokes, organized by similarity to hard coded prims\n",
    "\n",
    "# --- PARAMS\n",
    "DO_PREPROCESS = False"
   ]
  },
  {
   "cell_type": "code",
   "execution_count": null,
   "id": "d1942db9",
   "metadata": {},
   "outputs": [],
   "source": [
    "# 0) Preprocess strokes - centerize at stroke onset\n",
    "if DO_PREPROCESS:\n",
    "    DS._process_strokes()"
   ]
  },
  {
   "cell_type": "code",
   "execution_count": null,
   "id": "691d5170",
   "metadata": {},
   "outputs": [],
   "source": [
    "# pull out individual strokes from "
   ]
  },
  {
   "cell_type": "code",
   "execution_count": null,
   "id": "1a5936ae",
   "metadata": {},
   "outputs": [],
   "source": [
    "# 2) cluster sim matrix\n",
    "DEBUG=True\n",
    "gmm_n_mixtures = [8,10,12,14]\n",
    "perplist = [35]\n",
    "\n",
    "### MODEL the sim matrix\n",
    "\n",
    "if DEBUG:\n",
    "    DAT = clusterSimMatrix(simmat, gmm_n_mixtures=[4], perplist = [35])\n",
    "else:\n",
    "    DAT = clusterSimMatrix(simmat, gmm_n_mixtures=gmm_n_mixtures, perplist=perplist)\n"
   ]
  },
  {
   "cell_type": "code",
   "execution_count": null,
   "id": "2158e0b8",
   "metadata": {},
   "outputs": [],
   "source": [
    "df_basis.iloc[1]"
   ]
  },
  {
   "cell_type": "markdown",
   "id": "f9b76022",
   "metadata": {},
   "source": [
    "# ================== OLD"
   ]
  },
  {
   "cell_type": "code",
   "execution_count": null,
   "id": "dda85235",
   "metadata": {},
   "outputs": [],
   "source": [
    "# Extraction is obsolete, but some of the plots (the concepts) might be useful to keep in mind, not yet done for above"
   ]
  },
  {
   "cell_type": "markdown",
   "id": "560cf18f",
   "metadata": {},
   "source": [
    "# v1 - [OLD] using T.Objects"
   ]
  },
  {
   "cell_type": "code",
   "execution_count": null,
   "id": "96c97b72",
   "metadata": {
    "scrolled": true
   },
   "outputs": [],
   "source": [
    "a = \"Pancho\"\n",
    "e = \"primcat12\"\n",
    "r = \"null\"\n",
    "\n",
    "D = Dataset([])\n",
    "D.load_dataset_helper(a, e, rule=r)\n",
    "D.load_tasks_helper()\n"
   ]
  },
  {
   "cell_type": "markdown",
   "id": "211a6ce7",
   "metadata": {},
   "source": [
    "#### Extract shapes/primitives and spatial params"
   ]
  },
  {
   "cell_type": "code",
   "execution_count": null,
   "id": "2bbe9555",
   "metadata": {},
   "outputs": [],
   "source": [
    "D = preprocess(D, a, e, recenter=False)\n"
   ]
  },
  {
   "cell_type": "code",
   "execution_count": null,
   "id": "1c764db8",
   "metadata": {},
   "outputs": [],
   "source": [
    "D.Dat.iloc[0]"
   ]
  },
  {
   "cell_type": "markdown",
   "id": "642ac14c",
   "metadata": {},
   "source": [
    "#### Plot primitives, organized by spatial location"
   ]
  },
  {
   "cell_type": "markdown",
   "id": "635720cd",
   "metadata": {},
   "source": [
    "##### Find all cases of a task primitive and return is location and scale"
   ]
  },
  {
   "cell_type": "code",
   "execution_count": null,
   "id": "85f924af",
   "metadata": {},
   "outputs": [],
   "source": [
    "print(\"OBSOLETE - See code below for updated way to get each beh stroke, including its datseg\")\n",
    "\n",
    "# Figure out what kind of task this is\n",
    "\n",
    "HACK = True # hand entry of blocks\n",
    "blockdict = {}\n",
    "blockdict[\"warmup\"] = [1,2,3]\n",
    "blockdict[\"prims_in_grid\"] = [4,5,7, 8, 10, 11, 13, 14] # prims in grid\n",
    "blockdict[\"prims_in_rel\"] = [6, 9, 12, 15] # prims rel\n",
    "blockdict[\"motifs_in_grid\"] = [16, 17, 19, 20, 22, 23] # motifs grid\n",
    "blockdict[\"characters\"] = [18, 21, 24] \n",
    "\n",
    "def _task_kind(blocknum):\n",
    "    for k, v in blockdict.items():\n",
    "        if blocknum in v:\n",
    "            return k\n",
    "    assert False, \"didnt find\"\n",
    "_task_kind(D.Dat.iloc[ind][\"block\"])\n",
    "\n",
    "\n",
    "\n",
    "# Extract all taskstrokes (ignore behavior for now)\n",
    "\n",
    "def row_get_primlist(datrow):\n",
    "    T = datrow[\"Task\"]\n",
    "    return T.Primitives\n",
    "#     T.Primitives[0].convert_to_primtuple(True, True)\n",
    "\n",
    "DAT_TASKPRIMS = []\n",
    "for ind in range(len(D.Dat)):\n",
    "    \n",
    "    primlist = row_get_primlist(D.Dat.iloc[ind])\n",
    "    for p in primlist:\n",
    "        DAT_TASKPRIMS.append({\n",
    "            'Prim':p,\n",
    "        })\n",
    "        for k, v in p.extract_as(\"params\").items():\n",
    "            DAT_TASKPRIMS[-1][k] = v\n",
    "        \n",
    "        # Get spatial scale\n",
    "        x = p.Stroke.extract_spatial_dimensions(scale_convert_to_int=True)\n",
    "        for k, v, in x.items():\n",
    "            DAT_TASKPRIMS[-1][k] = v\n",
    "            \n",
    "        # Which task kind?\n",
    "        block = D.Dat.iloc[ind][\"block\"]\n",
    "        task_kind = _task_kind(block)\n",
    "        DAT_TASKPRIMS[-1][\"task_kind\"] = task_kind\n",
    "        DAT_TASKPRIMS[-1][\"block\"] = block\n",
    "                    \n",
    "\n",
    "print(len(DAT_TASKPRIMS))\n",
    "\n",
    "# generate a table with features\n",
    "df = pd.DataFrame(DAT_TASKPRIMS)\n",
    "\n",
    "# Plot\n",
    "df\n"
   ]
  },
  {
   "cell_type": "markdown",
   "id": "fecabc1b",
   "metadata": {},
   "source": [
    "##### Pull out all behaviora strokes and plot, sorting in some reasonable fashion"
   ]
  },
  {
   "cell_type": "code",
   "execution_count": null,
   "id": "5f5666bf",
   "metadata": {
    "scrolled": true
   },
   "outputs": [],
   "source": [
    "D.behclass_generate_alltrials()"
   ]
  },
  {
   "cell_type": "code",
   "execution_count": null,
   "id": "92a419bc",
   "metadata": {},
   "outputs": [],
   "source": [
    "# Extract motor features for all strokes\n",
    "ind = 301\n",
    "Beh = D.Dat.iloc[ind][\"BehClass\"]"
   ]
  },
  {
   "cell_type": "code",
   "execution_count": null,
   "id": "45068229",
   "metadata": {},
   "outputs": [],
   "source": [
    "S = Beh.Strokes[0]\n",
    "S.extract_single_feature('displacement')"
   ]
  },
  {
   "cell_type": "code",
   "execution_count": null,
   "id": "0c51f60c",
   "metadata": {},
   "outputs": [],
   "source": [
    "print(\"OBSOLETE - see below for extracting each beh prim, and its associated task stroke\")\n",
    "\n",
    "# Collect all beh strokes\n",
    "list_features = [\"circularity\", \"distcum\", \"displacement\", \"angle\"]\n",
    "\n",
    "def row_get_primlist(datrow):\n",
    "    Beh = datrow[\"BehClass\"]\n",
    "    return Beh.Strokes\n",
    "\n",
    "DAT_TASKPRIMS = []\n",
    "for ind in range(len(D.Dat)):\n",
    "    \n",
    "    primlist = row_get_primlist(D.Dat.iloc[ind])\n",
    "    for stroke in primlist:\n",
    "        DAT_TASKPRIMS.append({\n",
    "            'Stroke':stroke,\n",
    "        })\n",
    "        \n",
    "        # grid size\n",
    "        T = D.Dat.iloc[ind][\"Task\"]\n",
    "        DAT_TASKPRIMS[-1][\"gridsize\"] = T.PlanDat[\"TaskGridClass\"][\"Gridname\"]\n",
    "        \n",
    "        # get features for this stroke\n",
    "        for f in list_features:\n",
    "            DAT_TASKPRIMS[-1][f] = stroke.extract_single_feature(f)\n",
    "            \n",
    "        # Which task kind?\n",
    "        block = D.Dat.iloc[ind][\"block\"]\n",
    "        task_kind = _task_kind(block)\n",
    "        DAT_TASKPRIMS[-1][\"task_kind\"] = task_kind\n",
    "        DAT_TASKPRIMS[-1][\"block\"] = block\n",
    "        \n",
    "        \n",
    "                    \n",
    "\n",
    "print(len(DAT_TASKPRIMS))\n",
    "\n",
    "# generate a table with features\n",
    "df = pd.DataFrame(DAT_TASKPRIMS)\n",
    "\n",
    "\n",
    "df = df[df[\"task_kind\"]!=\"warmup\"]\n"
   ]
  },
  {
   "cell_type": "code",
   "execution_count": null,
   "id": "6afa85f8",
   "metadata": {},
   "outputs": [],
   "source": [
    "print(\"GRIDSIZES for different task kinds\")\n",
    "for task_kind in df[\"task_kind\"].unique().tolist():\n",
    "    print(\"***\", task_kind)\n",
    "    print(df[df[\"task_kind\"]==task_kind][\"gridsize\"].value_counts())"
   ]
  },
  {
   "cell_type": "code",
   "execution_count": null,
   "id": "c32264c8",
   "metadata": {},
   "outputs": [],
   "source": [
    "sdir = f\"{SDIR}/behstrokes_motor_distributions\"\n",
    "os.makedirs(sdir, exist_ok=True)\n",
    "\n",
    "# Get dfthis holding prims only from one grid, (but all chars)\n",
    "for GRIDSIZE in df[\"gridsize\"].unique().tolist():\n",
    "    dfprims = df[(df[\"task_kind\"]==\"prims_in_grid\") & (df[\"gridsize\"]==GRIDSIZE)]\n",
    "    dfchars = df[(df[\"task_kind\"]==\"characters\")]\n",
    "    dfthis = pd.concat([dfprims, dfchars])\n",
    "    fig = sns.pairplot(data = dfthis, vars=list_features, hue=\"task_kind\", size=5, kind=\"kde\")\n",
    "    fig.savefig(f\"{sdir}/allstrokes_prims_gridsize_{GRIDSIZE}.pdf\")\n",
    "    "
   ]
  },
  {
   "cell_type": "code",
   "execution_count": null,
   "id": "7fb1c257",
   "metadata": {},
   "outputs": [],
   "source": [
    "# PLOTS\n",
    "# tasks_to_plot = [\"prims_in_grid\", \"motifs_in_grid\", \"characters\"]\n",
    "tasks_to_plot = [\"prims_in_grid\", \"characters\"]\n",
    "dfthis = df[df[\"task_kind\"].isin(tasks_to_plot)]\n",
    "# sns.pairplot(data = dfthis, vars=list_features, hue=\"task_kind\", size=5)\n",
    "sns.pairplot(data = dfthis, vars=list_features, hue=\"task_kind\", size=5, kind=\"kde\")\n",
    "# sns.pairplot(data = dfthis, vars=list_features, hue=\"task_kind\", size=5, kind=\"kde\",  diag_kws={\"stat\":\"probability\"})"
   ]
  },
  {
   "cell_type": "markdown",
   "id": "b5ef8de8",
   "metadata": {},
   "source": [
    "##### Gross overview, distribution of stroke motor parameters, sorted by task-level params (i.e., not yet assign to beh stroke)"
   ]
  },
  {
   "cell_type": "code",
   "execution_count": null,
   "id": "e6d686ba",
   "metadata": {
    "scrolled": false
   },
   "outputs": [],
   "source": [
    "# fig = sns.displot(data = dfthis, x = \"distcum\", y=\"task_kind\")\n",
    "# fig = sns.catplot(data = dfthis, x = \"distcum\", y=\"task_kind\", kind=\"boxen\")\n",
    "for f in list_features:\n",
    "    fig1 = sns.catplot(data = dfthis, x = f, y=\"task_kind\", hue=\"gridsize\", kind=\"boxen\")\n",
    "    fig2 = sns.catplot(data = dfthis, x = f, y=\"task_kind\", hue=\"gridsize\", kind=\"point\")\n",
    "# fig = sns.displot(data = dfthis, x = \"distcum\", y=\"task_kind\", hue=\"gridsize\")\n",
    "# fig = sns.catplot(data = dfthis, x = \"distcum\", y=\"task_kind\", kind=\"point\")\n",
    "    fig1.savefig(f\"{sdir}/allstrokes_dist_{f}_1.pdf\")\n",
    "    fig2.savefig(f\"{sdir}/allstrokes_dist_{f}_2.pdf\")    \n",
    "\n"
   ]
  },
  {
   "cell_type": "markdown",
   "id": "1864d7d6",
   "metadata": {},
   "source": [
    "##### Find all cases of a given behavioral stroke (with an assignment to a given prim) and return its size and center and sequence\n",
    "\n",
    "Including when prim is alone and in context of a \"character\" or \"motif\"\n"
   ]
  },
  {
   "cell_type": "markdown",
   "id": "0378815d",
   "metadata": {},
   "source": [
    "### Other older stuff"
   ]
  },
  {
   "cell_type": "markdown",
   "id": "6f4e2a63",
   "metadata": {},
   "source": [
    "##### For each taskstroke, pull out all beh associated with it"
   ]
  },
  {
   "cell_type": "code",
   "execution_count": null,
   "id": "f2c1ec0a",
   "metadata": {},
   "outputs": [],
   "source": [
    "token1 = {'shape': 'line-4',\n",
    "  'shape_oriented': 'line-4',\n",
    "  'gridloc': (1, -1),\n",
    "  'rel_from_prev': 'start',\n",
    "  'rel_to_next': 'far'}\n",
    "token2 = {'shape': 'squiggle3-2',\n",
    "  'shape_oriented': 'squiggle3-2',\n",
    "  'gridloc': (0, 1),\n",
    "  'rel_from_prev': 'far',\n",
    "  'rel_to_next': 'far'}"
   ]
  },
  {
   "cell_type": "code",
   "execution_count": null,
   "id": "602b5be8",
   "metadata": {},
   "outputs": [],
   "source": [
    "# For each taskstroke, get its associated beh\n",
    "Beh.alignsim_find_motif_in_beh_specific([token1, token2])\n",
    "Beh.alignsim_find_motif_in_beh_specific_byindices([2])"
   ]
  },
  {
   "cell_type": "code",
   "execution_count": null,
   "id": "acbc18bc",
   "metadata": {},
   "outputs": [],
   "source": [
    "# Extract all taskstrokes and associate prim features\n"
   ]
  },
  {
   "cell_type": "code",
   "execution_count": null,
   "id": "c49b0b5b",
   "metadata": {},
   "outputs": [],
   "source": []
  },
  {
   "cell_type": "markdown",
   "id": "b8b7578a",
   "metadata": {},
   "source": [
    "##### Info about prims on this exptm"
   ]
  },
  {
   "cell_type": "code",
   "execution_count": null,
   "id": "28feed95",
   "metadata": {},
   "outputs": [],
   "source": [
    "# - distribtuion of unique prims\n",
    "\n",
    "# - for each prim, distribution of locations, scales, rotations"
   ]
  },
  {
   "cell_type": "code",
   "execution_count": null,
   "id": "9c86b113",
   "metadata": {},
   "outputs": [],
   "source": []
  },
  {
   "cell_type": "markdown",
   "id": "efe9e6ef",
   "metadata": {},
   "source": [
    "#### Plot primitives, organized by spatial location"
   ]
  }
 ],
 "metadata": {
  "kernelspec": {
   "display_name": "Python 3 (ipykernel)",
   "language": "python",
   "name": "python3"
  },
  "language_info": {
   "codemirror_mode": {
    "name": "ipython",
    "version": 3
   },
   "file_extension": ".py",
   "mimetype": "text/x-python",
   "name": "python",
   "nbconvert_exporter": "python",
   "pygments_lexer": "ipython3",
   "version": "3.8.13"
  }
 },
 "nbformat": 4,
 "nbformat_minor": 5
}
