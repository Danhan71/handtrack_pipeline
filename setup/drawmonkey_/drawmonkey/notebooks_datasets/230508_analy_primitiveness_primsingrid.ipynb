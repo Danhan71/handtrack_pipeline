{
 "cells": [
  {
   "cell_type": "code",
   "execution_count": null,
   "id": "f53bd3ab",
   "metadata": {},
   "outputs": [],
   "source": [
    "\"\"\"\n",
    "\n",
    "5/8/23 - for Luca, primsingridrand8, checking primitiveness\n",
    "Prims in grid, comapring trained vs. held out prims, on various metrics.\n",
    "\n",
    "Derived from:\n",
    "220710_analy_spatial_timecourse_exploration(prims in grid)\n",
    "\n",
    "\"\"\""
   ]
  },
  {
   "cell_type": "code",
   "execution_count": null,
   "id": "aging-movement",
   "metadata": {},
   "outputs": [],
   "source": [
    "from pythonlib.dataset.dataset_analy.primitives import *\n",
    "from pythonlib.dataset.dataset_preprocess.primitives import *\n",
    "from pythonlib.dataset.dataset import Dataset, load_dataset, load_dataset_daily_helper\n",
    "import numpy as np\n",
    "import matplotlib.pyplot as plt\n",
    "import pandas as pd\n",
    "import seaborn as sns"
   ]
  },
  {
   "cell_type": "markdown",
   "id": "a7130b24",
   "metadata": {},
   "source": [
    "##### Extract dataset"
   ]
  },
  {
   "cell_type": "code",
   "execution_count": null,
   "id": "f3226df7",
   "metadata": {},
   "outputs": [],
   "source": [
    "# Daily.\n"
   ]
  },
  {
   "cell_type": "code",
   "execution_count": null,
   "id": "74f192a7",
   "metadata": {},
   "outputs": [],
   "source": [
    "### DAILY\n",
    "\n",
    "# - good prims in grid\n",
    "# expt = \"primsingridrand3\" #run for chunkbyshape1, chunkbyshape2\n",
    "# animal = \"Pancho\"\n",
    "# D = Dataset([])\n",
    "# # rulelist = get_rulelist(animal, expt)\n",
    "# rulelist = [\"221129\"]\n",
    "\n",
    "# - good single prims (first novel set)\n",
    "# expt = \"priminvar3j\" #run for chunkbyshape1, chunkbyshape2\n",
    "# animal = \"Pancho\"\n",
    "# D = Dataset([])\n",
    "# # rulelist = get_rulelist(animal, expt)\n",
    "# rulelist = [\"221220\"]\n",
    "\n",
    "# - good single prims (second novel set)\n",
    "# expt = \"priminvar3l\" \n",
    "# animal = \"Pancho\"\n",
    "# D = Dataset([])\n",
    "# # rulelist = get_rulelist(animal, expt)\n",
    "# rulelist = [\"230103\"]\n",
    "\n",
    "# # - good single prims (second novel set)\n",
    "# expt = \"priminvar3l\" \n",
    "# animal = \"Pancho\"\n",
    "# D = Dataset([])\n",
    "# # rulelist = get_rulelist(animal, expt)\n",
    "# rulelist = [\"230103\"]\n",
    "\n",
    "# - good single prims (second novel set)\n",
    "expt = \"primsingridrand8c\" \n",
    "animal = \"Luca\"\n",
    "D = Dataset([])\n",
    "# rulelist = get_rulelist(animal, expt)\n",
    "rulelist = [\"null\"]\n",
    "\n",
    "D.load_dataset_helper(animal, expt, ver=\"mult\", rule=rulelist)"
   ]
  },
  {
   "cell_type": "code",
   "execution_count": null,
   "id": "6a0bebd5",
   "metadata": {
    "scrolled": true
   },
   "outputs": [],
   "source": [
    "\n",
    "animal = \"Pancho\"\n",
    "date = \"231013\"\n",
    "D = load_dataset_daily_helper(animal, date)\n",
    "\n",
    "# animal = \"Luca\"\n",
    "# date = \"230512\"\n",
    "# D = load_dataset_daily_helper(animal, date)\n"
   ]
  },
  {
   "cell_type": "markdown",
   "id": "0c1528e2",
   "metadata": {},
   "source": [
    "### Analysis of primitiveness (compare to held-out prims)"
   ]
  },
  {
   "cell_type": "code",
   "execution_count": null,
   "id": "75f1e9b5",
   "metadata": {},
   "outputs": [],
   "source": [
    "sorted(DS.Dat[\"shape\"].unique())"
   ]
  },
  {
   "cell_type": "code",
   "execution_count": null,
   "id": "4e1834a0",
   "metadata": {},
   "outputs": [],
   "source": [
    "shapes_new = ['Lcentered-4-5-0',\n",
    " 'Lcentered-4-6-0',\n",
    " 'Lcentered-4-7-0',\n",
    " 'Lcentered-4-8-0',\n",
    " 'V-2-5-0',\n",
    " 'V-2-6-0',\n",
    " 'V-2-7-0',\n",
    " 'V-2-8-0',\n",
    " 'arcdeep-4-5-0',\n",
    " 'arcdeep-4-6-0',\n",
    " 'arcdeep-4-7-0',\n",
    " 'arcdeep-4-8-0',\n",
    " 'squiggle3-3-3-0',\n",
    " 'squiggle3-3-3-1',\n",
    " 'squiggle3-3-4-0',\n",
    " 'squiggle3-3-4-1',\n",
    " 'zigzagSq-1-3-0',\n",
    " 'zigzagSq-1-3-1',\n",
    " 'zigzagSq-1-4-0',\n",
    " 'zigzagSq-1-4-1',\n",
    "  'usquare-1-5-0',\n",
    " 'usquare-1-6-0',\n",
    " 'usquare-1-7-0',\n",
    " 'usquare-1-8-0',\n",
    "  'novelprim--3531657314892039516-x-x-x',\n",
    " 'novelprim--3886937845288933887-x-x-x',\n",
    " 'novelprim--4770565012864804579-x-x-x',\n",
    " 'novelprim--4867594547874663584-x-x-x',\n",
    " 'novelprim--5536312624043272329-x-x-x',\n",
    " 'novelprim--5828157531384982241-x-x-x',\n",
    " 'novelprim--6139623801654936110-x-x-x',\n",
    " 'novelprim--7236183461596591465-x-x-x',\n",
    " 'novelprim-1684884245886376335-x-x-x',\n",
    " 'novelprim-1811194683053106164-x-x-x',\n",
    " 'novelprim-2031587099573027164-x-x-x',\n",
    " 'novelprim-2091448547807224416-x-x-x',\n",
    " 'novelprim-2150313140741004817-x-x-x',\n",
    " 'novelprim-230939179765814339-x-x-x',\n",
    " 'novelprim-2884198190824745515-x-x-x',\n",
    " 'novelprim-3878725124961073529-x-x-x',\n",
    " 'novelprim-5875207375553881481-x-x-x',\n",
    " 'novelprim-6947421670321073870-x-x-x',\n",
    " 'novelprim-7046543876990446192-x-x-x',\n",
    " 'novelprim-7714241414911348562-x-x-x',\n",
    " 'novelprim-7917967344212836440-x-x-x',\n",
    " 'novelprim-7968180747241057764-x-x-x',\n",
    " 'novelprim-9022047153982979639-x-x-x',\n",
    " 'novelprim-964158852107236271-x-x-x',\n",
    "'novelprim--6327754755703413345-x-x-x',\n",
    "'novelprim--1899955218875038355-x-x-x',\n",
    "'novelprim-5437426042665082240-x-x-x',\n",
    "'novelprim--5865612931775597538-x-x-x',\n",
    "'novelprim-7990315407956246637-x-x-x',\n",
    "'novelprim--3226699380069214158-x-x-x',\n",
    "'novelprim--9215621621290546583-x-x-x',\n",
    "'novelprim--8544369061351896597-x-x-x',\n",
    "'novelprim--4501086679151490823-x-x-x',\n",
    "'novelprim--535975420347511555-x-x-x',\n",
    "'novelprim--540582080053307896-x-x-x',\n",
    "'novelprim--1772015462435189008-x-x-x',\n",
    "'novelprim--6937684193279667210-x-x-x',\n",
    "'novelprim--9093562399645514091-x-x-x',\n",
    "'novelprim-2406001758418420101-x-x-x',\n",
    "'novelprim--8648492574476693948-x-x-x',\n",
    "'novelprim--3869671221567743074-x-x-x',\n",
    "'novelprim-4976697633315040126-x-x-x',\n",
    "'novelprim--2246353953945952747-x-x-x',\n",
    "'novelprim-7040088465081554406-x-x-x',\n",
    "'novelprim--516325927818251301-x-x-x',\n",
    "'novelprim--1634568574947128024-x-x-x',\n",
    "'novelprim-241849673289863076-x-x-x',\n",
    "'novelprim-4204123064585339370-x-x-x',\n",
    "  'novelprim--122404065119951363-x-x-x',\n",
    " 'novelprim--1311360225737600639-x-x-x',\n",
    " 'novelprim--2436360356895237113-x-x-x',\n",
    " 'novelprim--3199470292653634972-x-x-x',\n",
    " 'novelprim--374363838774436472-x-x-x',\n",
    " 'novelprim--3867453712286788327-x-x-x',\n",
    " 'novelprim--4390852960054460885-x-x-x',\n",
    " 'novelprim--4706969843474645353-x-x-x',\n",
    " 'novelprim--4786921281689651156-x-x-x',\n",
    " 'novelprim--5088812596400868394-x-x-x',\n",
    " 'novelprim--5929361325902190799-x-x-x',\n",
    " 'novelprim--6371184575973675529-x-x-x',\n",
    " 'novelprim--7269301436336619058-x-x-x',\n",
    " 'novelprim--7468009599647195577-x-x-x',\n",
    " 'novelprim-2337734595573598206-x-x-x',\n",
    " 'novelprim-306499643898838601-x-x-x',\n",
    " 'novelprim-4472978980071246876-x-x-x',\n",
    " 'novelprim-5245981826645989435-x-x-x',\n",
    " 'novelprim-529987542396919926-x-x-x',\n",
    " 'novelprim-7807682765438954595-x-x-x',\n",
    " 'novelprim-7942674552857507785-x-x-x',\n",
    " 'novelprim-8177612049807438250-x-x-x',\n",
    " 'novelprim-826461462781021565-x-x-x',\n",
    " 'novelprim-8582528880355064961-x-x-x']\n",
    "\n",
    "shapes_old = ['Lcentered-4-1-0',\n",
    " 'Lcentered-4-2-0',\n",
    " 'Lcentered-4-3-0',\n",
    " 'Lcentered-4-4-0',\n",
    " 'V-2-1-0',\n",
    " 'V-2-2-0',\n",
    " 'V-2-3-0',\n",
    " 'V-2-4-0',\n",
    " 'arcdeep-4-1-0',\n",
    " 'arcdeep-4-2-0',\n",
    " 'arcdeep-4-3-0',\n",
    " 'arcdeep-4-4-0',\n",
    " 'circle-6-1-0',\n",
    " 'dot-2-1-0',\n",
    " 'squiggle3-3-1-0',\n",
    " 'squiggle3-3-1-1',\n",
    " 'squiggle3-3-2-0',\n",
    " 'squiggle3-3-2-1',\n",
    " 'usquare-1-1-0',\n",
    " 'usquare-1-2-0',\n",
    " 'usquare-1-3-0',\n",
    " 'usquare-1-4-0',\n",
    " 'zigzagSq-1-1-0',\n",
    " 'zigzagSq-1-1-1',\n",
    " 'zigzagSq-1-2-0',\n",
    " 'zigzagSq-1-2-1']\n",
    "\n",
    "assert len([s for s in shapes_new if s in shapes_old])==0\n",
    "\n",
    "# make dict\n",
    "shape_dict = {}\n",
    "for s in shapes_new:\n",
    "    shape_dict[s] = \"new\"\n",
    "for s in shapes_old:\n",
    "    shape_dict[s] = \"old\"\n"
   ]
  },
  {
   "cell_type": "code",
   "execution_count": null,
   "id": "eb2d9809",
   "metadata": {},
   "outputs": [],
   "source": [
    "for s in shapes_new:\n",
    "    print(s, ' --- ',  sum(DS.Dat[\"shape\"]==s))"
   ]
  },
  {
   "cell_type": "markdown",
   "id": "1fe38783",
   "metadata": {},
   "source": [
    "### Applying code to Prim Categorization (old vs. new)"
   ]
  },
  {
   "cell_type": "code",
   "execution_count": null,
   "id": "8ed25315",
   "metadata": {},
   "outputs": [],
   "source": [
    "# Do as in below for microstim, but pass in map_shape_to_newold in \n",
    "# extract_grouplevel_motor_stats and \n",
    "# extract_triallevel_motor_stats\n"
   ]
  },
  {
   "cell_type": "markdown",
   "id": "fc47b47a",
   "metadata": {},
   "source": [
    "### Applying code to Prim Categorization (microstim)"
   ]
  },
  {
   "cell_type": "code",
   "execution_count": null,
   "id": "9efe3fe6",
   "metadata": {},
   "outputs": [],
   "source": [
    "# First, extract dataset \n",
    "\n",
    "from pythonlib.dataset.dataset_analy.primitivenessv2 import preprocess_plot_pipeline\n",
    "\n",
    "PLOT=True\n",
    "DS, SAVEDIR, dfres, grouping = preprocess_plot_pipeline(D, PLOT=PLOT)\n",
    "\n",
    "\n",
    "# Prune contexts?\n",
    "from pythonlib.tools.pandastools import extract_with_levels_of_conjunction_vars\n",
    "df, _ = extract_with_levels_of_conjunction_vars(DS.Dat, contrast, [\"sh_loc_idx\", \"block\"], n_min=2, \n",
    "                                                lenient_allow_data_if_has_n_levels=2, prune_levels_with_low_n=True)\n",
    "\n",
    "\n",
    "from pythonlib.dataset.dataset_analy.primitivenessv2 import plot_triallevel_results\n",
    "plot_triallevel_results(DS, \"epoch\", \"/tmp\")\n",
    "\n",
    "\n",
    "# GOOD PLOTS"
   ]
  },
  {
   "cell_type": "markdown",
   "id": "ddfa3d1f",
   "metadata": {},
   "source": [
    "### OLD"
   ]
  },
  {
   "cell_type": "code",
   "execution_count": null,
   "id": "d9b32308",
   "metadata": {},
   "outputs": [],
   "source": [
    "# Keep only the abstract shapes that have both old and new rotations.\n",
    "from pythonlib.tools.pandastools import grouping_get_inner_items\n",
    "groupdict = grouping_get_inner_items(dfsim, \"shapeabstract\", \"new_or_old\")\n",
    "shapeabstract_keep = [shape for shape, old_new in groupdict.items() if len(old_new)>1]\n",
    "shapeabstract_keep "
   ]
  },
  {
   "cell_type": "code",
   "execution_count": null,
   "id": "8c881e2c",
   "metadata": {},
   "outputs": [],
   "source": [
    "# 2) Consistency of image"
   ]
  }
 ],
 "metadata": {
  "kernelspec": {
   "display_name": "Python 3 (ipykernel)",
   "language": "python",
   "name": "python3"
  },
  "language_info": {
   "codemirror_mode": {
    "name": "ipython",
    "version": 3
   },
   "file_extension": ".py",
   "mimetype": "text/x-python",
   "name": "python",
   "nbconvert_exporter": "python",
   "pygments_lexer": "ipython3",
   "version": "3.8.13"
  }
 },
 "nbformat": 4,
 "nbformat_minor": 5
}
