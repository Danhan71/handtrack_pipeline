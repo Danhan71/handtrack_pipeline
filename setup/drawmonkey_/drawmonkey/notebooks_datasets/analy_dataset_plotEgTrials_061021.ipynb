{
 "cells": [
  {
   "cell_type": "code",
   "execution_count": 2,
   "id": "sensitive-girlfriend",
   "metadata": {},
   "outputs": [
    {
     "data": {
      "text/plain": [
       "' General purpose for plotting specific trials for figures.\\nrelated to CRCNS plots (grid plots)\\n- SHould make any plots using fd or Probedat obsolete.\\n'"
      ]
     },
     "execution_count": 2,
     "metadata": {},
     "output_type": "execute_result"
    }
   ],
   "source": [
    "\"\"\" General purpose for plotting specific trials for figures.\n",
    "related to CRCNS plots (grid plots)\n",
    "- SHould make any plots using fd or Probedat obsolete.\n",
    "\"\"\"\n"
   ]
  },
  {
   "cell_type": "code",
   "execution_count": 3,
   "id": "ranging-scholar",
   "metadata": {},
   "outputs": [
    {
     "name": "stdout",
     "output_type": "stream",
     "text": [
      "/data1/code/python/drawmonkey\n",
      "NOTE: need to not overwrite strokes_all_task, because then the orders saved will stop being accurate. Modify\n"
     ]
    }
   ],
   "source": [
    "\n",
    "%cd ..\n",
    "from tools.utils import * \n",
    "from tools.plots import *\n",
    "from tools.analy import *\n",
    "from tools.calc import *\n",
    "from tools.analyplot import *\n",
    "from tools.preprocess import *\n",
    "from tools.dayanalysis import *\n",
    "\n",
    "from pythonlib.drawmodel.analysis import *\n",
    "from pythonlib.tools.stroketools import *"
   ]
  },
  {
   "cell_type": "code",
   "execution_count": 4,
   "id": "invalid-mason",
   "metadata": {},
   "outputs": [],
   "source": [
    "from pythonlib.dataset.dataset import Dataset\n",
    "import pickle\n",
    "import os\n"
   ]
  },
  {
   "cell_type": "code",
   "execution_count": 6,
   "id": "ranking-richards",
   "metadata": {},
   "outputs": [
    {
     "name": "stdout",
     "output_type": "stream",
     "text": [
      "Did not load data!!!\n",
      "HERE0\n",
      "Searching using this string:\n",
      "/data2/analyses/database//*Pancho*primitives2*/*dat*.pkl\n",
      "-- Splitting off dir from fname\n",
      "Found this many paths:\n",
      "0\n",
      "Searching using this string:\n",
      "/data2/analyses/database/BEH/*Pancho*primitives2*/*dat*.pkl\n",
      "-- Splitting off dir from fname\n",
      "Found this many paths:\n",
      "1\n",
      "---\n",
      "/data2/analyses/database/BEH/Pancho-primitives2-formodeling-210610_220241\n",
      "HERE1\n",
      "----------------\n",
      "Currently loading: /data2/analyses/database/BEH/Pancho-primitives2-formodeling-210610_220241\n",
      "Loaded metadat:\n",
      "{'sketchpad_edges': array([[-311.84, -224.8 ],\n",
      "       [ 311.84,  429.6 ]]), 'metadat_probedat': {'sdate': 210606, 'edate': 210608, 'strokmodel_kind': None, 'strokmodel_tstamp': None, 'datecategories': {'210606': 1, '210607': 1, '210608': 1}, 'dates_for_summary': [], 'matchedstrokes': None, 'exptnames': ['primitives2'], 'T1': [], 'G1': [], 'G2': [], 'G3': [], 'G4': [], 'description': '', 'finalized': False, 'good_expt': False, 'expt': 'primitives2', 'task_train_test': {'probe1_liketrain': 'train', 'probe1_nostrokeconstraint': 'train', 'probe2_liketrain': 'train', 'probe2_nostrokeconstraint': 'train', 'probe3_hdpos': 'test', 'probe1': 'train', 'probe2': 'train', 'probe3': 'test', 'probe4': 'test', 'train': 'train'}}, 'filedata_params': {'pix_per_deg': array([[ 26.64621164],\n",
      "       [-26.64621164]]), 'resolution': (1024, 768), 'animal': 'Pancho', 'basedir': '/data2/animals', 'sample_rate': array([125.]), 'beh_codes': {9: 'start', 10: 'fix cue', 11: 'fix cue visible', 13: 'frame skip', 14: 'manual rew', 15: 'guide', 16: 'FixationOnsetWTH', 17: 'FixationDoneSuccessWTH', 19: 'FixationRaiseFailWTH', 18: 'end', 20: 'go (draw)', 21: 'guide_on_GA', 41: 'samp1 on', 42: 'samp1 off', 45: 'done', 46: 'post', 50: 'reward', 51: 'free reward', 61: 'DoneButtonVisible', 62: 'DoneButtonTouched', 63: 'DragAroundSuccess'}, 'screen_hz': 60, 'screen_period': 0.016666666666666666}}\n",
      "----\n",
      "Resetting index\n",
      "=== CLEANING UP self.Dat ===== \n",
      "Deleted unused columns from self.Dat\n",
      "applying monkey train test names\n",
      "resetting index\n",
      "HERE2\n"
     ]
    }
   ],
   "source": [
    "## LOAD\n",
    "a = \"Pancho\"\n",
    "e = \"primitives2\"\n",
    "m = None\n",
    "\n",
    "D = Dataset([])\n",
    "D.load_dataset_helper(a, e)\n",
    "\n",
    "# SDIR_MAIN = f\"/data2/analyses/main/simple_summary/{animal}-{expt}\"\n",
    "# os.makedirs(SDIR_MAIN, exist_ok=True)\n",
    "\n",
    "        "
   ]
  },
  {
   "cell_type": "code",
   "execution_count": 66,
   "id": "eligible-finish",
   "metadata": {},
   "outputs": [],
   "source": [
    "## savedir\n",
    "from pythonlib.tools.expttools import makeTimeStamp\n",
    "ts = makeTimeStamp()\n",
    "SDIR_MAIN = f\"/data2/analyses/main/example_trials/{a}-{e}-{ts}\"\n",
    "os.makedirs(SDIR_MAIN, exist_ok=True)\n",
    "\n"
   ]
  },
  {
   "cell_type": "code",
   "execution_count": 9,
   "id": "guided-religion",
   "metadata": {},
   "outputs": [
    {
     "data": {
      "text/plain": [
       "_arc          431\n",
       "_L            234\n",
       "_square       223\n",
       "_circle       128\n",
       "_triangle1    111\n",
       "_zigzag        66\n",
       "dot            62\n",
       "_line          45\n",
       "_squiggle1     38\n",
       "Name: character, dtype: int64"
      ]
     },
     "execution_count": 9,
     "metadata": {},
     "output_type": "execute_result"
    }
   ],
   "source": [
    "D.Dat[\"character\"].value_counts()"
   ]
  },
  {
   "cell_type": "code",
   "execution_count": 46,
   "id": "prospective-matrix",
   "metadata": {},
   "outputs": [
    {
     "data": {
      "text/plain": [
       "[962, 1131]"
      ]
     },
     "execution_count": 46,
     "metadata": {},
     "output_type": "execute_result"
    }
   ],
   "source": [
    "trial_list = [\n",
    "    \"210608-1-391\",\n",
    "    \"210608-1-575\"\n",
    "]\n",
    "\n",
    "# find inds for these trials\n",
    "dfout = D.findPandas(\"trialcode\", trial_list, reset_index=False)\n",
    "indexes = dfout.index.tolist()\n",
    "indexes"
   ]
  },
  {
   "cell_type": "code",
   "execution_count": 49,
   "id": "infectious-survival",
   "metadata": {},
   "outputs": [
    {
     "data": {
      "text/plain": [
       "['recenter']"
      ]
     },
     "execution_count": 49,
     "metadata": {},
     "output_type": "execute_result"
    }
   ],
   "source": [
    "# First recenter\n",
    "D.preprocessGood(params=[\"recenter\"])"
   ]
  },
  {
   "cell_type": "code",
   "execution_count": 68,
   "id": "cutting-recommendation",
   "metadata": {},
   "outputs": [
    {
     "data": {
      "image/png": "[encoded data removed]",
      "text/plain": [
       "<Figure size 288x180 with 2 Axes>"
      ]
     },
     "metadata": {
      "needs_background": "light"
     },
     "output_type": "display_data"
    },
    {
     "data": {
      "image/png": "[encoded data removed]",
      "text/plain": [
       "<Figure size 288x180 with 2 Axes>"
      ]
     },
     "metadata": {
      "needs_background": "light"
     },
     "output_type": "display_data"
    }
   ],
   "source": [
    "# Given list of trials, plot them in a grid\n",
    "# Top row: stimulus\n",
    "# Bottom row, behavior.\n",
    "\n",
    "fig_task = D.plotMultTrials(indexes, which_strokes='strokes_task', naked_axes=True);\n",
    "fig_beh = D.plotMultTrials(indexes, which_strokes='strokes_beh', naked_axes=True, add_stroke_number=False);\n",
    "\n"
   ]
  },
  {
   "cell_type": "code",
   "execution_count": 72,
   "id": "hourly-physiology",
   "metadata": {},
   "outputs": [],
   "source": [
    "# save\n",
    "from pythonlib.tools.expttools import writeDictToYaml\n",
    "tmp = {\"trials\":trial_list}\n",
    "sdir = f\"{SDIR_MAIN}/primitives\"\n",
    "os.makedirs(sdir, exist_ok=True)\n",
    "writeDictToYaml(tmp, f\"{sdir}/trials.yaml\")\n",
    "fig_task.savefig(f\"{sdir}/task.pdf\")\n",
    "fig_beh.savefig(f\"{sdir}/beh.pdf\")"
   ]
  }
 ],
 "metadata": {
  "kernelspec": {
   "display_name": "Python 3",
   "language": "python",
   "name": "python3"
  },
  "language_info": {
   "codemirror_mode": {
    "name": "ipython",
    "version": 3
   },
   "file_extension": ".py",
   "mimetype": "text/x-python",
   "name": "python",
   "nbconvert_exporter": "python",
   "pygments_lexer": "ipython3",
   "version": "3.7.10"
  }
 },
 "nbformat": 4,
 "nbformat_minor": 5
}
