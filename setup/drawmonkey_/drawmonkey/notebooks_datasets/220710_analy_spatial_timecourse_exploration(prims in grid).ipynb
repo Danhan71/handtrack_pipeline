{
 "cells": [
  {
   "cell_type": "code",
   "execution_count": null,
   "id": "f53bd3ab",
   "metadata": {},
   "outputs": [],
   "source": [
    "\"\"\"\n",
    "2/22/23 - GOOD STATE\n",
    "see dataset_analy.prims_in_grid, \n",
    "Added to drawmonkey.\n",
    "For each shape/location, make drawings, and plot scores (beh-task diff)\n",
    "\n",
    "#############################\n",
    "CONTINUEING FROM\n",
    "analy_spatial_timecourse_exploration_KEDAR, but leaving state of that code unchanged (for kedar).\n",
    "\n",
    "Goal here is analysis of individual prims, quality of beh, etc.\n",
    "\"\"\""
   ]
  },
  {
   "cell_type": "code",
   "execution_count": null,
   "id": "outer-structure",
   "metadata": {},
   "outputs": [],
   "source": [
    "\"\"\"\n",
    "Branched from analy_spatial_220113. Motivated by setting up code for Kedar to do analysis across days of\n",
    "Diego learning, conditioned on each prim kind.\n",
    "\n",
    "Here are methods to plot across time scores and drawings.\n",
    "\n",
    "\"\"\""
   ]
  },
  {
   "cell_type": "code",
   "execution_count": 2,
   "id": "aging-movement",
   "metadata": {},
   "outputs": [],
   "source": [
    "from pythonlib.dataset.dataset_analy.primitives import *\n",
    "from pythonlib.dataset.dataset_preprocess.primitives import *\n",
    "from pythonlib.dataset.dataset import Dataset, load_dataset, load_dataset_daily_helper\n",
    "import numpy as np\n",
    "import matplotlib.pyplot as plt\n",
    "import pandas as pd\n",
    "import seaborn as sns"
   ]
  },
  {
   "cell_type": "markdown",
   "id": "a7130b24",
   "metadata": {},
   "source": [
    "##### Extract dataset"
   ]
  },
  {
   "cell_type": "code",
   "execution_count": null,
   "id": "74f192a7",
   "metadata": {},
   "outputs": [],
   "source": [
    "### DAILY\n",
    "\n",
    "# - good prims in grid\n",
    "# expt = \"primsingridrand3\" #run for chunkbyshape1, chunkbyshape2\n",
    "# animal = \"Pancho\"\n",
    "# D = Dataset([])\n",
    "# # rulelist = get_rulelist(animal, expt)\n",
    "# rulelist = [\"221129\"]\n",
    "\n",
    "# - good single prims (first novel set)\n",
    "# expt = \"priminvar3j\" #run for chunkbyshape1, chunkbyshape2\n",
    "# animal = \"Pancho\"\n",
    "# D = Dataset([])\n",
    "# # rulelist = get_rulelist(animal, expt)\n",
    "# rulelist = [\"221220\"]\n",
    "\n",
    "# - good single prims (second novel set)\n",
    "# expt = \"priminvar3l\" \n",
    "# animal = \"Pancho\"\n",
    "# D = Dataset([])\n",
    "# # rulelist = get_rulelist(animal, expt)\n",
    "# rulelist = [\"230103\"]\n",
    "\n",
    "# - good single prims (second novel set)\n",
    "expt = \"priminvar3l\" \n",
    "animal = \"Pancho\"\n",
    "D = Dataset([])\n",
    "# rulelist = get_rulelist(animal, expt)\n",
    "rulelist = [\"230103\"]\n",
    "\n",
    "D.load_dataset_helper(animal, expt, ver=\"mult\", rule=rulelist)"
   ]
  },
  {
   "cell_type": "code",
   "execution_count": 3,
   "id": "6a0bebd5",
   "metadata": {
    "scrolled": true
   },
   "outputs": [
    {
     "name": "stdout",
     "output_type": "stream",
     "text": [
      "Searching using this string:\n",
      "/home/lucast4/code/drawmonkey/expt_metadat/*230507-*Luca.**\n",
      "Found this many paths:\n",
      "0\n",
      "Searching using this string:\n",
      "/home/lucast4/code/drawmonkey/expt_metadat_daily/*230507-*Luca.**\n",
      "Found this many paths:\n",
      "1\n",
      "---\n",
      "/home/lucast4/code/drawmonkey/expt_metadat_daily/primsingridrand8b-230507-Luca.yaml\n",
      "Loading this dataset Luca primsingridrand8b 230507\n",
      "Searching using this string:\n",
      "/gorilla1/analyses/database/*Luca-*primsingridrand8b-*230507-*/*dat*.pkl\n",
      "-- Splitting off dir from fname\n",
      "Found this many paths:\n",
      "0\n",
      "Searching using this string:\n",
      "/gorilla1/analyses/database/BEH/*Luca-*primsingridrand8b-*230507-*/*dat*.pkl\n",
      "-- Splitting off dir from fname\n",
      "Found this many paths:\n",
      "0\n",
      "Searching using this string:\n",
      "/mnt/Freiwald/kgupta/analyses/database/*Luca-*primsingridrand8b-*230507-*/*dat*.pkl\n",
      "-- Splitting off dir from fname\n",
      "Found this many paths:\n",
      "0\n",
      "Searching using this string:\n",
      "/mnt/Freiwald/kgupta/analyses/database/BEH/*Luca-*primsingridrand8b-*230507-*/*dat*.pkl\n",
      "-- Splitting off dir from fname\n",
      "Found this many paths:\n",
      "1\n",
      "---\n",
      "/mnt/Freiwald/kgupta/analyses/database/BEH/Luca-primsingridrand8b-230507-230507_183147\n",
      "----------------\n",
      "Currently loading dataset pkl: /mnt/Freiwald/kgupta/analyses/database/BEH/Luca-primsingridrand8b-230507-230507_183147\n",
      ".. Done!\n",
      "Loaded metadat:\n",
      "{'sketchpad_edges': array([[-311.84, -224.8 ],\n",
      "       [ 311.84,  429.6 ]]), 'metadat_probedat': {'sdate': '230507', 'edate': '230507', 'strokmodel_kind': None, 'strokmodel_tstamp': None, 'datecategories': {'230507': 1}, 'dates_for_summary': [], 'matchedstrokes': None, 'exptnames': ['primsingridrand8b'], 'T1': [], 'G1': [], 'G2': [], 'G3': [], 'G4': [], 'description': '', 'finalized': False, 'good_expt': True, 'expt': 'primsingridrand8b', 'animal': 'Luca', 'ssess': None, 'esess': None, 'task_train_test': {'probe1_liketrain': 'train', 'probe1_nostrokeconstraint': 'train', 'probe2_liketrain': 'train', 'probe2_nostrokeconstraint': 'train', 'probe3_hdpos': 'test', 'probe1': 'train', 'probe2': 'train', 'probe3': 'test', 'probe4': 'test', 'train': 'train'}}, 'filedata_params': {'pix_per_deg': array([[ 26.64621164],\n",
      "       [-26.64621164]]), 'resolution': (1024, 768), 'animal': 'Luca', 'basedir': '/home/kgg/mnt/Freiwald/kgupta/macaque_data', 'sample_rate': array([125.]), 'beh_codes': {9: 'start', 10: 'fix cue', 11: 'fix cue visible', 13: 'frame skip', 14: 'manual rew', 15: 'guide', 16: 'FixationOnsetWTH', 17: 'FixationDoneSuccessWTH', 18: 'end', 19: 'FixationRaiseFailWTH', 20: 'go (draw)', 21: 'guide_on_GA', 30: 'DelayWhatIsThis', 40: 'GoWhatIsThis', 41: 'samp1 on', 42: 'samp1 off', 45: 'done', 46: 'post', 50: 'reward', 51: 'free reward', 61: 'DoneButtonVisible', 62: 'DoneButtonTouched', 63: 'DragAroundSuccess', 64: 'DragAroundAbort', 65: 'DragAroundFirstAbortNow', 70: 'hotkey_x', 71: 'DAstimevent_firstpres', 72: 'DAstimoff_finibeforepause', 73: 'DAstimoff_fini', 74: 'DAsamp1_visible_change', 75: 'DAnewpnutthisframe', 76: 'DAsound_samp1touched', 78: 'DAsound_gotallink', 80: 'ttl_trialon', 81: 'ttl_trialoff', 91: 'GAstimevent_firstpres', 92: 'GAstimoff_fini', 101: 'fix_square_on', 102: 'fix_square_off', 103: 'fix_square_on_pd', 111: 'photodiode_force_off', 120: 'DAsound_chunk', 121: 'DAsound_strokedone', 122: 'DAsound_chunkupdate', 123: 'DAsound_chunkdone', 124: 'DAsound_firstraise', 131: 'fix_cue_colored_on', 132: 'fix_cue_colored_on_v2', 133: 'fix_cue_colored_off', 134: 'fix_cue_colored_off_v2', 135: 'new_color_cue_off', 200: 'skipped_movie_frame'}, 'screen_hz': 60, 'screen_period': 0.016666666666666666}}\n",
      "Loading BlockParamsByDateSessBlock!\n",
      "----\n",
      "Resetting index\n",
      "=== CLEANING UP self.Dat ===== \n",
      "Deleted unused columns from self.Dat\n",
      "applying monkey train test names\n",
      "resetting index\n",
      "Updated columns: insummarydates, using Metadats\n",
      "Extracted into self.Dat[epoch_orig]\n",
      "Searching using this string:\n",
      "/gorilla1/analyses/database/TASKS_GENERAL/Luca-primsingridrand8b-230507-all/*Tasks*pkl\n",
      "Found this many paths:\n",
      "0\n",
      "Searching using this string:\n",
      "/mnt/Freiwald/kgupta/analyses/database/TASKS_GENERAL/Luca-primsingridrand8b-230507-all/*Tasks*pkl\n",
      "Found this many paths:\n",
      "1\n",
      "---\n",
      "/mnt/Freiwald/kgupta/analyses/database/TASKS_GENERAL/Luca-primsingridrand8b-230507-all/Tasks.pkl\n",
      "--- Loading tasks pkl file:  /mnt/Freiwald/kgupta/analyses/database/TASKS_GENERAL/Luca-primsingridrand8b-230507-all/Tasks.pkl\n",
      "added new column self.Dat[Task]\n",
      "- starting/ending len (grouping params):\n",
      "310\n",
      "310\n",
      "- starting/ending len (getting sequence):\n",
      "310\n",
      "310\n",
      "--- Removing nans\n",
      "start len: 310\n",
      "- num names for each col\n",
      "not removing nans, since columns=[]\n",
      "Reassigned train/test, using key: probe\n",
      "and values:\n",
      "Train =  [0]\n",
      "Test =  [1]\n",
      " \n",
      "New distribution of train/test:\n",
      "train    232\n",
      "test      78\n",
      "Name: monkey_train_or_test, dtype: int64\n",
      "Appended column: los_info\n",
      "Appended self.Dat[superv_SEQUENCE_SUP]\n",
      "Appended self.Dat[superv_SEQUENCE_ALPHA]\n",
      "Appended self.Dat[superv_COLOR_ON]\n",
      "Appended self.Dat[superv_COLOR_METHOD]\n",
      "Appended self.Dat[superv_GUIDEDYN_ON]\n",
      "Appended self.Dat[superv_VISUALFB_METH]\n",
      "appended col to self.Dat:\n",
      "supervision_stage_new\n",
      "[taskgroup_reassign_by_mapper], reassigned values in column: taskgroup\n",
      "GROUPING epoch\n",
      "GROUPING_LEVELS ['230507']\n",
      "FEATURE_NAMES ['hdoffline', 'num_strokes', 'circ', 'dist']\n",
      "SCORE_COL_NAMES []\n",
      "appended col to self.Dat:\n",
      "date_epoch\n",
      "Appended self.Dat[superv_SEQUENCE_SUP]\n",
      "Appended self.Dat[superv_COLOR_ON]\n",
      "Appended self.Dat[superv_COLOR_METHOD]\n",
      "Appended self.Dat[superv_GUIDEDYN_ON]\n",
      "appended col to self.Dat:\n",
      "supervision_stage_concise\n"
     ]
    }
   ],
   "source": [
    "\n",
    "animal = \"Luca\"\n",
    "date = \"230507\"\n",
    "D = load_dataset_daily_helper(animal, date)\n"
   ]
  },
  {
   "cell_type": "code",
   "execution_count": 4,
   "id": "7a220860",
   "metadata": {},
   "outputs": [],
   "source": [
    "from pythonlib.dataset.dataset_analy.prims_in_grid import *\n",
    "\n"
   ]
  },
  {
   "cell_type": "markdown",
   "id": "c2c218fa",
   "metadata": {},
   "source": [
    "##### Peprocess D"
   ]
  },
  {
   "cell_type": "code",
   "execution_count": 23,
   "id": "7710e8c5",
   "metadata": {},
   "outputs": [
    {
     "name": "stdout",
     "output_type": "stream",
     "text": [
      "remove_online_abort, WRONG, shoudl actually just remove the stroke that triggered it\n",
      "-- Len of D, before applying this param: remove_online_abort, ... 310\n",
      "after: 212\n",
      "-- Len of D, before applying this param: probes_only, ... 212\n",
      "after: 78\n"
     ]
    },
    {
     "data": {
      "text/plain": [
       "['remove_online_abort', 'probes_only']"
      ]
     },
     "execution_count": 23,
     "metadata": {},
     "output_type": "execute_result"
    }
   ],
   "source": [
    "params = [\"remove_online_abort\", \"probes_only\"]\n",
    "print(\"remove_online_abort, WRONG, shoudl actually just remove the stroke that triggered it\")\n",
    "D.preprocessGood(params=params)"
   ]
  },
  {
   "cell_type": "markdown",
   "id": "32daca37",
   "metadata": {},
   "source": [
    "##### Extract each stroke"
   ]
  },
  {
   "cell_type": "code",
   "execution_count": 24,
   "id": "c240d649",
   "metadata": {},
   "outputs": [
    {
     "name": "stdout",
     "output_type": "stream",
     "text": [
      "SAVING at:  /gorilla1/analyses/main/prims_in_grid/Luca_primsingridrand8b_230507\n",
      "Removing these trials: \n",
      "[]\n",
      "self.Dat starting legnth:  78\n",
      "Modified self.Dat, keeping only the inputted inds\n",
      "self.Dat final legnth:  78\n",
      "0\n",
      "This many strokes extracted:  313\n",
      "Appended character to self.Dat\n"
     ]
    }
   ],
   "source": [
    "DS, SAVEDIR = preprocess_dataset(D)"
   ]
  },
  {
   "cell_type": "code",
   "execution_count": 25,
   "id": "ae0e95b9",
   "metadata": {},
   "outputs": [
    {
     "name": "stdout",
     "output_type": "stream",
     "text": [
      "clean_preprocess_data...\n",
      "len of DS.Dat = 313, before running... stroke_too_short\n",
      "Doing...: stroke_too_short\n",
      "New len:  312\n"
     ]
    }
   ],
   "source": [
    "methods = [\"stroke_too_short\"]\n",
    "params = {\n",
    "    \"min_stroke_length\":60\n",
    "}\n",
    "DS.clean_preprocess_data(methods=methods, params=params)"
   ]
  },
  {
   "cell_type": "code",
   "execution_count": 26,
   "id": "c9883125",
   "metadata": {},
   "outputs": [
    {
     "data": {
      "text/plain": [
       "<AxesSubplot:>"
      ]
     },
     "execution_count": 26,
     "metadata": {},
     "output_type": "execute_result"
    },
    {
     "data": {
      "image/png": "[encoded data removed]",
      "text/plain": [
       "<Figure size 640x480 with 1 Axes>"
      ]
     },
     "metadata": {},
     "output_type": "display_data"
    }
   ],
   "source": [
    "DS.Dat[\"distcum\"].hist(bins=100)"
   ]
  },
  {
   "cell_type": "markdown",
   "id": "ec7c9de6",
   "metadata": {},
   "source": [
    "### Plots of drawings"
   ]
  },
  {
   "cell_type": "markdown",
   "id": "077ccea1",
   "metadata": {},
   "source": [
    "##### For each shape, plot one example stroke at each location"
   ]
  },
  {
   "cell_type": "code",
   "execution_count": null,
   "id": "45439d3f",
   "metadata": {},
   "outputs": [],
   "source": [
    "DS.Dat[\"shape\"].value_counts()"
   ]
  },
  {
   "cell_type": "code",
   "execution_count": null,
   "id": "fe89a0ab",
   "metadata": {
    "scrolled": false
   },
   "outputs": [],
   "source": [
    "DS.plotshape_multshapes_egstrokes_grouped_in_subplots(key_subplots=\"shape_oriented\", \n",
    "                                                      key_to_extract_stroke_variations_in_single_subplot=\"gridloc\",\n",
    "                                                      n_examples=20\n",
    "                                                     );"
   ]
  },
  {
   "cell_type": "code",
   "execution_count": null,
   "id": "9524ba21",
   "metadata": {
    "scrolled": false
   },
   "outputs": [],
   "source": [
    "# plot, overlaying shapes regardless of gridloc\n",
    "DS.plotshape_multshapes_egstrokes(n_examples_total_per_shape= 20)"
   ]
  },
  {
   "cell_type": "code",
   "execution_count": null,
   "id": "94b9518d",
   "metadata": {
    "scrolled": true
   },
   "outputs": [],
   "source": [
    "DS.plotwrap_timecourse_vels_grouped_by_shape(5, savedir=\"/tmp\", also_plot_example_strokes=True)"
   ]
  },
  {
   "cell_type": "code",
   "execution_count": null,
   "id": "a2b7ba70",
   "metadata": {},
   "outputs": [],
   "source": [
    "SAVEDIR = \"/tmp\"\n",
    "plotdrawings_all(DS, SAVEDIR)"
   ]
  },
  {
   "cell_type": "code",
   "execution_count": null,
   "id": "a8d5aab8",
   "metadata": {
    "scrolled": false
   },
   "outputs": [],
   "source": [
    "if False:\n",
    "    # Not needed, above is better (breaks into locations too)\n",
    "    key_subplots = \"shape_char\"\n",
    "    DS.plotshape_multshapes_egstrokes(key_subplots = key_subplots,\n",
    "                n_examples_total_per_shape = 10, color_by=None, list_shape=None);\n",
    "\n",
    "\n",
    "    # For each shape, overlay n plots at each location\n",
    "    DS.plotshape_singleshape_egstrokes_overlaid(shape=\"Lcentered-4-1-0\", nplot=2)\n",
    "\n",
    "    ##### For each beh stroke, plot it overlayed on its taskstroke\n",
    "    inds = random.sample(range(len(DS.Dat)), 10)\n",
    "    DS.plot_beh_and_aligned_task_strokes(inds, True)"
   ]
  },
  {
   "cell_type": "code",
   "execution_count": null,
   "id": "1aa3d910",
   "metadata": {},
   "outputs": [],
   "source": [
    "# Debugging stuff\n",
    "if False:\n",
    "    # Figure out the prims (base prims, motifs, chars).\n",
    "    import random\n",
    "    ind = random.randrange(0, len(D.Dat))\n",
    "\n",
    "    T = D.Dat.iloc[ind][\"Task\"]\n",
    "    Beh = D.Dat.iloc[ind][\"BehClass\"]\n",
    "\n",
    "    # chunks summarize\n",
    "    CLC = T.ChunksListClass\n",
    "    CLC.print_summary()\n",
    "\n",
    "    D.plotSingleTrial(ind, task_add_num=True)\n",
    "    T.plotStrokes(ordinal=True)\n",
    "    print(T.PlanDat[\"PrimsCategories\"])"
   ]
  },
  {
   "cell_type": "code",
   "execution_count": null,
   "id": "a652f736",
   "metadata": {},
   "outputs": [],
   "source": [
    "plotscore_all(DS, SAVEDIR)"
   ]
  },
  {
   "cell_type": "markdown",
   "id": "dafdacd1",
   "metadata": {},
   "source": [
    "### OLDER STUFF"
   ]
  },
  {
   "cell_type": "markdown",
   "id": "2f7071a2",
   "metadata": {},
   "source": [
    "##### Only keep taskstrokes that are gotten with single beh stroke"
   ]
  },
  {
   "cell_type": "code",
   "execution_count": null,
   "id": "e23e1c1c",
   "metadata": {},
   "outputs": [],
   "source": [
    "methods = [\"remove_if_multiple_behstrokes_per_taskstroke\", \"prune_if_shape_has_low_n_trials\"]\n",
    "\n",
    "params = {}\n",
    "params[\"prune_if_shape_has_low_n_trials\"] = [5]\n",
    "\n",
    "DS.clean_preprocess_data(methods, params)"
   ]
  },
  {
   "cell_type": "markdown",
   "id": "b8957d88",
   "metadata": {},
   "source": [
    "##### Prims in grid - behavioral quality"
   ]
  },
  {
   "cell_type": "markdown",
   "id": "9bb94f8c",
   "metadata": {},
   "source": [
    "##### Using Task dataset"
   ]
  },
  {
   "cell_type": "code",
   "execution_count": null,
   "id": "7b996ae5",
   "metadata": {},
   "outputs": [],
   "source": [
    "from pythonlib.dataset.dataset_strokes import DatStrokes\n",
    "# Success rate for each task prim\n",
    "\n",
    "# 1) for each task prim, collect whether it was gotten (or skipped)\n",
    "# 2) for each task prim, its distribution over ranks.\n",
    "# 3) For each task prim, its quality\n",
    "\n",
    "DS = DatStrokes(D, \"task\")"
   ]
  },
  {
   "cell_type": "code",
   "execution_count": null,
   "id": "3edb3684",
   "metadata": {
    "scrolled": true
   },
   "outputs": [],
   "source": [
    "# (Not behavior) Distributions of parameters\n",
    "%matplotlib inline\n",
    "from pythonlib.dataset.dataset_analy.primitives_task import plotscatter_locations_each_shape\n",
    "\n",
    "plotscatter_locations_each_shape(DS)\n"
   ]
  },
  {
   "cell_type": "code",
   "execution_count": null,
   "id": "4627d7d8",
   "metadata": {},
   "outputs": [],
   "source": [
    "Plot pairwise distributions of shape, ordinal, location, etc.\n"
   ]
  },
  {
   "cell_type": "markdown",
   "id": "bfe3c05e",
   "metadata": {},
   "source": [
    "### List distribution of extracted shapes,  locations, and their combinations"
   ]
  },
  {
   "cell_type": "markdown",
   "id": "b5a88492",
   "metadata": {},
   "source": [
    "### Scatter plots"
   ]
  },
  {
   "cell_type": "markdown",
   "id": "52d4e05d",
   "metadata": {},
   "source": [
    "##### for each shape, plot its distribution in spatial locaitons (in task) (and coloring by either size or task kind)"
   ]
  },
  {
   "cell_type": "code",
   "execution_count": null,
   "id": "fdd68ee7",
   "metadata": {
    "scrolled": true
   },
   "outputs": [],
   "source": [
    "%matplotlib inline\n",
    "from pythonlib.dataset.dataset_analy.primitives_task import plotscatter_locations_each_shape\n",
    "\n",
    "plotscatter_locations_each_shape(DS)\n"
   ]
  },
  {
   "cell_type": "code",
   "execution_count": null,
   "id": "97fbca60",
   "metadata": {},
   "outputs": [],
   "source": [
    "from pythonlib.tools.pandastools import convert_to_2d_dataframe\n",
    "convert_to_2d_dataframe(DS.Dat, col1=\"shape_oriented\", col2=\"gridloc\", plot_heatmap=True);"
   ]
  },
  {
   "cell_type": "markdown",
   "id": "bd668266",
   "metadata": {},
   "source": [
    "### TIMECOURSE PLOTS - scalars"
   ]
  },
  {
   "cell_type": "code",
   "execution_count": null,
   "id": "0b2f975c",
   "metadata": {},
   "outputs": [],
   "source": [
    "# Return list of shapes, ordered by score\n",
    "# - for each shape, get the mean score.\n",
    "\n",
    "from pythonlib.tools.pandastools import aggregGeneral\n",
    "dfagg_shapes = aggregGeneral(DS.Dat, group = ['shape_oriented'], values = ['dist_beh_task_strok']).sort_values(\"dist_beh_task_strok\")"
   ]
  },
  {
   "cell_type": "markdown",
   "id": "17748ab2",
   "metadata": {},
   "source": [
    "##### What variables affect score?"
   ]
  },
  {
   "cell_type": "code",
   "execution_count": null,
   "id": "f94ebcc6",
   "metadata": {},
   "outputs": [],
   "source": [
    "\n",
    "# 1) task kind\n",
    "fig = sns.catplot(data = DS.Dat, x=\"shape_oriented\", y=\"dist_beh_task_strok\", kind=\"bar\", hue=\"task_kind\")\n",
    "rotateLabel(fig) \n"
   ]
  },
  {
   "cell_type": "code",
   "execution_count": null,
   "id": "964510a8",
   "metadata": {},
   "outputs": [],
   "source": [
    "# 1) which rank (beh stroke)\n",
    "# fig = sns.catplot(data = DS.Dat, x=\"shape_oriented\", y=\"dist_beh_task_strok\", kind=\"bar\", hue=\"stroke_index\")\n",
    "# rotateLabel(fig) \n",
    "fig = sns.catplot(data = DS.Dat, x=\"stroke_index\", y=\"dist_beh_task_strok\", kind=\"point\", hue=\"shape_oriented\")\n",
    "rotateLabel(fig) \n"
   ]
  },
  {
   "cell_type": "code",
   "execution_count": null,
   "id": "14701f05",
   "metadata": {},
   "outputs": [],
   "source": [
    "DS.Dat[\"dataset_trialcode\"].isin(good_trialcodes)"
   ]
  },
  {
   "cell_type": "code",
   "execution_count": null,
   "id": "7c0a84aa",
   "metadata": {},
   "outputs": [],
   "source": [
    "b# only consider trials where he got to N strokes\n",
    "N = 3 # how many strokes?\n",
    "from pythonlib.tools.pandastools import grouping_get_inner_items\n",
    "groupdict = grouping_get_inner_items(DS.Dat, \"dataset_trialcode\", \"stroke_index\")\n",
    "def _has_desired_inds(inds):\n",
    "    return max(inds)>=N-1\n",
    "\n",
    "good_trialcodes = [trialcode for trialcode, stroke_inds in groupdict.items() if _has_desired_inds(stroke_inds)]\n",
    "\n",
    "dfthis = DS.Dat[DS.Dat[\"dataset_trialcode\"].isin(good_trialcodes)]\n",
    "\n",
    "fig = sns.catplot(data = dfthis, x=\"stroke_index\", y=\"dist_beh_task_strok\", kind=\"point\", hue=\"shape_oriented\")\n",
    "rotateLabel(fig) \n",
    "\n",
    "fig = sns.catplot(data = dfthis, x=\"shape_oriented\", y=\"dist_beh_task_strok\", kind=\"point\", hue=\"stroke_index\")\n",
    "rotateLabel(fig) \n"
   ]
  },
  {
   "cell_type": "markdown",
   "id": "78290b44",
   "metadata": {},
   "source": [
    "### Relating drawings to peanut pnut size"
   ]
  },
  {
   "cell_type": "code",
   "execution_count": null,
   "id": "bf0e99a2",
   "metadata": {},
   "outputs": [],
   "source": [
    "DS.Dat[\"shape_oriented\"]"
   ]
  },
  {
   "cell_type": "code",
   "execution_count": null,
   "id": "e5e70c09",
   "metadata": {
    "scrolled": false
   },
   "outputs": [],
   "source": [
    "# For each shape, split into (pnut size, supervision)\n",
    "\n",
    "filt_dict = {\"shape_oriented\":[\"arcdeep-2-0\"]}\n",
    "DS.plot_egstrokes_grouped_in_subplots(key_subplots=\"pnut_ext\", filtdict=filt_dict);"
   ]
  },
  {
   "cell_type": "code",
   "execution_count": null,
   "id": "36ee4a33",
   "metadata": {},
   "outputs": [],
   "source": [
    "# Peanut size\n",
    "DS.dataset_append_column(\"pnut_ext\")\n",
    "DS.dataset_append_column(\"supervision_stage_new\")\n",
    "DS.dataset_append_column(\"tval_fake\")\n",
    "dfthis = DS.Dat"
   ]
  },
  {
   "cell_type": "code",
   "execution_count": null,
   "id": "448fc32f",
   "metadata": {
    "scrolled": false
   },
   "outputs": [],
   "source": [
    "fig = sns.relplot(data = dfthis, x=\"pnut_ext\", y=\"dist_beh_task_strok\", kind=\"line\", col=\"shape_oriented\", \n",
    "                 col_wrap=4, hue=\"supervision_stage_new\")\n",
    "fig = sns.relplot(data = dfthis, x=\"pnut_ext\", y=\"dist_beh_task_strok\", kind=\"scatter\", col=\"shape_oriented\", \n",
    "                 col_wrap=4, hue=\"supervision_stage_new\")\n"
   ]
  },
  {
   "cell_type": "code",
   "execution_count": null,
   "id": "2c9e812e",
   "metadata": {},
   "outputs": [],
   "source": [
    "fig = sns.catplot(data = dfthis, x=\"pnut_ext\", y=\"dist_beh_task_strok\", kind=\"bar\", col=\"shape_oriented\", \n",
    "                 col_wrap=4, hue=\"supervision_stage_new\")\n",
    "# TODO: only keep those pnut sizes that have both supervision stages.,\n"
   ]
  },
  {
   "cell_type": "code",
   "execution_count": null,
   "id": "b1c9335f",
   "metadata": {},
   "outputs": [],
   "source": [
    "# Time during expt\n",
    "dfthis = DS.Dat\n",
    "fig = sns.relplot(data = dfthis, x=\"tvalfake\", y=\"dist_beh_task_strok\", kind=\"scatter\", col=\"shape_oriented\", \n",
    "                 col_wrap=4)\n"
   ]
  },
  {
   "cell_type": "markdown",
   "id": "8721f978",
   "metadata": {},
   "source": [
    "##### Plot timecourse of scores for each stroke"
   ]
  },
  {
   "cell_type": "code",
   "execution_count": null,
   "id": "154672e8",
   "metadata": {},
   "outputs": [],
   "source": [
    "# 1) plot some scalar ascore across time\n",
    "score_var = \"distcum\"\n",
    "\n",
    "DS.dataset_append_column(\"tvalfake\")\n",
    "dfthis = DS.dataset_slice_by_mult({\"shape_oriented\":[\"circle-1-0\"]})\n",
    "sns.scatterplot(data=dfthis, x=\"tvalfake\", y=score_var)"
   ]
  },
  {
   "cell_type": "markdown",
   "id": "75d30a90",
   "metadata": {},
   "source": [
    "### Plot timecourse of stroke drawings across expt"
   ]
  },
  {
   "cell_type": "code",
   "execution_count": null,
   "id": "13753bd9",
   "metadata": {},
   "outputs": [],
   "source": [
    "import random\n",
    "shape_to_plot = \"V-1-0\"\n",
    "\n",
    "# 1) Take only single prims, or prims on grid\n",
    "F = {\"task_kind\":[\"prims_single\", \"prims_on_grid\"], \"shape_oriented\":[shape_to_plot]}\n",
    "inds = DS.dataset_slice_by_mult(F, return_indices=True)\n",
    "\n",
    "# 2) take random sorted subset\n",
    "ntoplot = 20\n",
    "inds_sub = sorted(random.sample(inds, ntoplot))\n",
    "\n",
    "# 3) Plot examples over time\n",
    "tvals = DS.Dat.iloc[inds_sub][\"tvalfake\"].tolist()\n",
    "DS.plot_multiple(inds_sub, titles=tvals)"
   ]
  },
  {
   "cell_type": "markdown",
   "id": "33c33c90",
   "metadata": {},
   "source": [
    "##### Plot example strokes for each block, in sequence over the course of the day.\n"
   ]
  },
  {
   "cell_type": "code",
   "execution_count": null,
   "id": "72183c30",
   "metadata": {},
   "outputs": [],
   "source": [
    "assert False, \"move to Dataset\"\n",
    "# extract bloques\n",
    "# - order by actual trial\n",
    "assert np.all(np.diff(D.Dat[\"tvalfake\"])>0), \"sort first\"\n",
    "# - find changes\n",
    "from pythonlib.tools.listtools import extract_novel_unique_items_in_order\n",
    "\n",
    "# Bloques are only defined within a session\n",
    "blocks = D.Dat[\"block\"].tolist()\n",
    "blocks_within_session = False\n",
    "\n",
    "if blocks_within_session:\n",
    "    assert False, \"code it, run this for each session\"\n",
    "    \n",
    "blocks_mapped_to, bloques = extract_novel_unique_items_in_order(blocks)\n",
    "\n",
    "plt.figure()\n",
    "plt.plot(bloques, blocks_mapped_to, 'ok')"
   ]
  },
  {
   "cell_type": "code",
   "execution_count": null,
   "id": "36c3c271",
   "metadata": {},
   "outputs": [],
   "source": [
    "# Plot example strokes here.\n"
   ]
  },
  {
   "cell_type": "markdown",
   "id": "df69b443",
   "metadata": {},
   "source": [
    "### CLUSTERING shapes (Comparing beh across shapes)"
   ]
  },
  {
   "cell_type": "code",
   "execution_count": null,
   "id": "38f70eaf",
   "metadata": {},
   "outputs": [],
   "source": [
    "# OBSOLETE --> all moved to clustering in 220113_analy_strokes_clustering_DS"
   ]
  },
  {
   "cell_type": "markdown",
   "id": "8c2f6fda",
   "metadata": {},
   "source": [
    "### OTHER THINGS"
   ]
  },
  {
   "cell_type": "markdown",
   "id": "04db83f1",
   "metadata": {},
   "source": [
    "##### Plot each stroke"
   ]
  },
  {
   "cell_type": "code",
   "execution_count": null,
   "id": "4fa844f2",
   "metadata": {},
   "outputs": [],
   "source": [
    "# Plot (beh)\n",
    "list_strok = dfdat[\"strok\"].values.tolist()\n",
    "list_shape = dfdat[\"shape\"].values.tolist()\n",
    "fig, axes = DS.plot_multiple_strok(list_strok, overlay=False, titles=list_shape, ncols=6)\n"
   ]
  },
  {
   "cell_type": "code",
   "execution_count": null,
   "id": "98172dda",
   "metadata": {},
   "outputs": [],
   "source": [
    "list_strok = dfdat[\"strok_task\"].values.tolist()\n",
    "list_shape = dfdat[\"shape\"].values.tolist()\n",
    "fig, axes = DS.plot_multiple_strok(list_strok, overlay=False, titles=list_shape, ncols=6)\n"
   ]
  },
  {
   "cell_type": "markdown",
   "id": "c16bb04b",
   "metadata": {},
   "source": [
    "## Positions of first touch for each stroke"
   ]
  },
  {
   "cell_type": "code",
   "execution_count": null,
   "id": "d15fcd40",
   "metadata": {},
   "outputs": [],
   "source": []
  },
  {
   "cell_type": "code",
   "execution_count": null,
   "id": "e56005a0",
   "metadata": {},
   "outputs": [],
   "source": [
    "def F(x):\n",
    "    return x[\"strok\"][0][:2]\n",
    "    \n",
    "DS.Dat = applyFunctionToAllRows(DS.Dat, F, 'pt_first_touch')\n",
    "\n",
    "\n",
    "# keep only specific location and size\n",
    "print(DS.Dat[\"gridloc\"].value_counts())\n",
    "print(DS.Dat[\"gridsize\"].value_counts())\n",
    "\n",
    "gloc = (0,0)\n",
    "dfthis = DS.Dat[DS.Dat[\"gridloc\"]==gloc]\n",
    "\n",
    "gsize = \"rig3_3x3_small\"\n",
    "dfthis = dfthis[dfthis[\"gridsize\"]==gsize]\n",
    "\n",
    "print(\"N= \", len(dfthis))\n",
    "\n",
    "# CONFIRM SAME LOC AND SIZE\n",
    "print(dfthis[\"gridloc\"].value_counts())\n",
    "print(dfthis[\"gridsize\"].value_counts())"
   ]
  },
  {
   "cell_type": "markdown",
   "id": "b53589d8",
   "metadata": {},
   "source": [
    "##### Organize them into \"sets\" based on expected location of first touch."
   ]
  },
  {
   "cell_type": "code",
   "execution_count": null,
   "id": "f3e7d126",
   "metadata": {},
   "outputs": [],
   "source": [
    "from pythonlib.tools.pandastools import grouping_get_inner_items, extract_trials_spanning_variable\n",
    "from pythonlib.tools.plottools import subplot_helper\n",
    "\n",
    "\n",
    "n = 15\n",
    "outdict, levels = extract_trials_spanning_variable(dfthis, \"shape_oriented\", n_examples=n, return_as_dict=True,\n",
    "                                                  method_if_not_enough_examples = \"prune_subset\")\n",
    "\n",
    "getax, figholder, nplots = subplot_helper(5, 10, len(outdict), SIZE=4)\n",
    "\n",
    "for i, (shape, list_inds) in enumerate(outdict.items()):\n",
    "    ax = getax(i)\n",
    "    \n",
    "    # get all pts\n",
    "    pts = DS.Dat.iloc[list_inds][\"pt_first_touch\"]\n",
    "    \n",
    "    for pt in pts:\n",
    "        ax.plot(pt[0], pt[1], 'x');\n",
    "    \n",
    "    # plot the task\n",
    "    strok_task = DS.extract_strokes(inds=[list_inds[0]], ver_behtask =\"task\")[0]\n",
    "    ax.plot(strok_task[:,0], strok_task[:,1], '-.k')\n",
    "    \n",
    "    \n",
    "    ax.grid()\n",
    "    ax.set_title(shape)\n",
    "\n",
    "# plot all shapes in order\n",
    "DS.plot_examples_grid(col_levels=levels)"
   ]
  },
  {
   "cell_type": "markdown",
   "id": "b1619054",
   "metadata": {},
   "source": [
    "# =============== [OLD]"
   ]
  },
  {
   "cell_type": "markdown",
   "id": "aaa2ecec",
   "metadata": {},
   "source": [
    "### SCORE EACH PRIMITIVE"
   ]
  },
  {
   "cell_type": "markdown",
   "id": "195a1f7f",
   "metadata": {},
   "source": [
    "Each element is a single task stroke (datseg) and its associated beh prims"
   ]
  },
  {
   "cell_type": "code",
   "execution_count": null,
   "id": "8630af0c",
   "metadata": {},
   "outputs": [],
   "source": [
    "# 1) how many strokes required?\n",
    "# 2) stroke match to image\n",
    "\n",
    "D.behclass_generate_alltrials()\n",
    "D.behclass_alignsim_compute()"
   ]
  },
  {
   "cell_type": "code",
   "execution_count": null,
   "id": "03df66e7",
   "metadata": {},
   "outputs": [],
   "source": [
    "D.plotSingleTrial();"
   ]
  },
  {
   "cell_type": "code",
   "execution_count": null,
   "id": "196fc8c3",
   "metadata": {
    "scrolled": false
   },
   "outputs": [],
   "source": [
    "ind = 201\n",
    "D.plotSingleTrial(ind)\n",
    "Beh = D.Dat.iloc[ind][\"BehClass\"]\n",
    "Beh.alignsim_extract_datsegs_both_beh_task()"
   ]
  },
  {
   "cell_type": "code",
   "execution_count": null,
   "id": "960ce7f8",
   "metadata": {},
   "outputs": [],
   "source": []
  },
  {
   "cell_type": "code",
   "execution_count": null,
   "id": "b75e7930",
   "metadata": {},
   "outputs": [],
   "source": [
    "# Go thru each task stroke, extract them like bag of taskstrokes.\n",
    "DS = DatStrokes(D, \"task\")"
   ]
  },
  {
   "cell_type": "code",
   "execution_count": null,
   "id": "1a651636",
   "metadata": {},
   "outputs": [],
   "source": [
    "# For each task stroke, compute things\n",
    "\n",
    "# 1) number of beh strokes matched to it\n",
    "def F(x): \n",
    "    return len(x[\"aligned_beh_inds\"])\n",
    "\n",
    "DS.Dat = applyFunctionToAllRows(DS.Dat, F, 'num_beh_strokes')"
   ]
  },
  {
   "cell_type": "code",
   "execution_count": null,
   "id": "db079d6c",
   "metadata": {},
   "outputs": [],
   "source": [
    "# Compute the match between each task stroke and its aligned beh strokes.\n",
    "\n",
    "ind = 100\n",
    "DS.Dat.iloc[ind]"
   ]
  },
  {
   "cell_type": "code",
   "execution_count": null,
   "id": "0f7e82c8",
   "metadata": {},
   "outputs": [],
   "source": [
    "from pythonlib.tools.snstools import rotateLabel\n",
    "\n",
    "# sns.catplot(data=DS.Dat, x=\"shape_oriented\", y=\"num_beh_strokes\", kind=\"boxen\", aspect=2)\n",
    "fig = sns.catplot(data=DS.Dat, x=\"shape_oriented\", y=\"num_beh_strokes\", kind=\"point\", aspect=2.5)\n",
    "rotateLabel(fig)\n",
    "fig = sns.catplot(data=DS.Dat, x=\"shape_oriented\", y=\"num_beh_strokes\", kind=\"strip\", aspect=2.5)\n",
    "rotateLabel(fig)"
   ]
  },
  {
   "cell_type": "code",
   "execution_count": null,
   "id": "a47b7fc1",
   "metadata": {},
   "outputs": [],
   "source": [
    "# # Plot distributions of scores for each prim\n",
    "# fig = sns.catplot(data=DS.Dat, x=\"shape_oriented\", y=\"task_beh_dist\", aspect=2.5)\n",
    "# rotateLabel(fig)\n",
    "# fig = sns.catplot(data=DS.Dat, x=\"shape_oriented\", y=\"task_beh_dist\", kind=\"violin\", aspect=2.5)\n",
    "# rotateLabel(fig)"
   ]
  },
  {
   "cell_type": "code",
   "execution_count": null,
   "id": "78224166",
   "metadata": {},
   "outputs": [],
   "source": [
    "# # Does score depend onlocation?\n",
    "# # Plot distributions of scores for each prim\n",
    "# fig = sns.catplot(data=DS.Dat, x=\"gridloc\", y=\"task_beh_dist\", aspect=2.5)\n",
    "# rotateLabel(fig)\n",
    "# fig = sns.catplot(data=DS.Dat, x=\"gridloc\", y=\"task_beh_dist\", kind=\"point\", aspect=2.5)\n",
    "# rotateLabel(fig)\n",
    "# fig = sns.catplot(data=DS.Dat, x=\"gridloc\", y=\"num_beh_strokes\", aspect=2.5)\n",
    "# rotateLabel(fig)\n",
    "# fig = sns.catplot(data=DS.Dat, x=\"gridloc\", y=\"num_beh_strokes\", kind=\"point\", aspect=2.5)\n",
    "# rotateLabel(fig)"
   ]
  },
  {
   "cell_type": "code",
   "execution_count": null,
   "id": "5f238a8c",
   "metadata": {},
   "outputs": [],
   "source": [
    "# Plot a single example of each stroke\n",
    "DS.plot_egstrokes_grouped_in_subplots(key_to_extract_stroke_variations_in_single_subplot=None,\n",
    "                                      n_examples = 1)\n",
    "                  "
   ]
  },
  {
   "cell_type": "code",
   "execution_count": null,
   "id": "2c351320",
   "metadata": {},
   "outputs": [],
   "source": [
    "# Input here:\n",
    "shape = \"V-1-0\"\n",
    "nplot = 5\n",
    "ver_behtask = \"beh\"\n",
    "\n",
    "# Extract and plot\n",
    "F = {\"task_kind\":[\"prims_on_grid\"], \"shape_oriented\":[shape]}\n",
    "inds = DS.dataset_slice_by_mult(F, return_indices=True)\n",
    "if len(inds)>nplot:\n",
    "    inds = random.sample(inds, nplot)\n",
    "DS.plot_strokes_overlaid(inds[:nplot], ver_behtask=ver_behtask)"
   ]
  },
  {
   "cell_type": "code",
   "execution_count": null,
   "id": "a03898b5",
   "metadata": {},
   "outputs": [],
   "source": [
    "# Order the prims from best to worst.\n",
    "\n"
   ]
  },
  {
   "cell_type": "markdown",
   "id": "e44ca716",
   "metadata": {},
   "source": [
    "### IN PROGRESS BELOW"
   ]
  },
  {
   "cell_type": "markdown",
   "id": "e8589927",
   "metadata": {},
   "source": [
    "##### Plot distributions as histograms"
   ]
  },
  {
   "cell_type": "code",
   "execution_count": null,
   "id": "78443fc9",
   "metadata": {},
   "outputs": [],
   "source": [
    "\n",
    "\n",
    "list_date = [DS.dataset_extract('date', i) for i in range(len(DS.Dat))]\n",
    "DS.Dat[\"date\"] = list_date"
   ]
  },
  {
   "cell_type": "code",
   "execution_count": null,
   "id": "c42cdf52",
   "metadata": {},
   "outputs": [],
   "source": [
    "DS.Dat[\"date\"].value_counts()"
   ]
  },
  {
   "cell_type": "code",
   "execution_count": null,
   "id": "8f4910e9",
   "metadata": {},
   "outputs": [],
   "source": [
    "from pythonlib.tools.pandastools import filterPandas\n",
    "F = {\n",
    "    \"task_kind\":[\"prims_single\", \"prims_on_grid\"],\n",
    "}\n",
    "dfthis = filterPandas(DS.Dat, F)\n",
    "\n",
    "fig = sns.catplot(data=dfthis, col = \"gridloc\", kind=\"count\", x=\"shape_oriented\", row=\"date\", hue=\"task_kind\")\n",
    "rotateLabel(fig)\n",
    "fig.savefig(\"/tmp/fig.pdf\")"
   ]
  },
  {
   "cell_type": "code",
   "execution_count": null,
   "id": "86d1fbe0",
   "metadata": {},
   "outputs": [],
   "source": [
    "fig = sns.catplot(data=dfthis, col = \"gridloc\", kind=\"count\", x=\"shape_oriented\", hue=\"task_kind\")\n",
    "rotateLabel(fig)\n",
    "fig.savefig(\"/tmp/fig.pdf\")"
   ]
  },
  {
   "cell_type": "code",
   "execution_count": null,
   "id": "838c6eb1",
   "metadata": {},
   "outputs": [],
   "source": [
    "fig = sns.catplot(data=dfthis,  kind=\"count\", x=\"shape_oriented\", row=\"date\", hue=\"task_kind\")\n",
    "rotateLabel(fig)\n",
    "fig.savefig(\"/tmp/fig.pdf\")"
   ]
  }
 ],
 "metadata": {
  "kernelspec": {
   "display_name": "Python 3 (ipykernel)",
   "language": "python",
   "name": "python3"
  },
  "language_info": {
   "codemirror_mode": {
    "name": "ipython",
    "version": 3
   },
   "file_extension": ".py",
   "mimetype": "text/x-python",
   "name": "python",
   "nbconvert_exporter": "python",
   "pygments_lexer": "ipython3",
   "version": "3.8.13"
  }
 },
 "nbformat": 4,
 "nbformat_minor": 5
}
