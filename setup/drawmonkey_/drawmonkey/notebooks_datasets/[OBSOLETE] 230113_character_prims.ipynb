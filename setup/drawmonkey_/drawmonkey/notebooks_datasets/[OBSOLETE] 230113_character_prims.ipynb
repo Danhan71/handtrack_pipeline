{
 "cells": [
  {
   "cell_type": "code",
   "execution_count": null,
   "id": "321c1628",
   "metadata": {},
   "outputs": [],
   "source": [
    "\"\"\"\n",
    "OBSOLETE, on 6/24/23, all moved to \n",
    "230623_STROKES_CLUSTERING_SIMILARITY\n",
    "\"\"\""
   ]
  },
  {
   "cell_type": "code",
   "execution_count": 1,
   "id": "f53bd3ab",
   "metadata": {},
   "outputs": [
    {
     "data": {
      "text/plain": [
       "'\\nExtracting strokiness of charcters.\\ni..e, primitives used in characters.\\n- similarity to prims\\n- clustering/categirizing.\\n- good vs. bad characters\\n\\nBuilding from 220710_analy_spatial_timecourse_exploration\\n\\n'"
      ]
     },
     "execution_count": 1,
     "metadata": {},
     "output_type": "execute_result"
    }
   ],
   "source": [
    "\"\"\"\n",
    "Extracting strokiness of charcters.\n",
    "i..e, primitives used in characters.\n",
    "- similarity to prims\n",
    "- clustering/categirizing.\n",
    "- good vs. bad characters\n",
    "\n",
    "Building from 220710_analy_spatial_timecourse_exploration\n",
    "\n",
    "\"\"\""
   ]
  },
  {
   "cell_type": "code",
   "execution_count": 2,
   "id": "aging-movement",
   "metadata": {},
   "outputs": [],
   "source": [
    "from pythonlib.dataset.dataset_analy.primitives import *\n",
    "from pythonlib.dataset.dataset_preprocess.primitives import *\n",
    "from pythonlib.dataset.dataset import Dataset, load_dataset, load_dataset_daily_helper\n",
    "import numpy as np\n",
    "import matplotlib.pyplot as plt\n",
    "import pandas as pd\n",
    "import seaborn as sns"
   ]
  },
  {
   "cell_type": "markdown",
   "id": "a7130b24",
   "metadata": {},
   "source": [
    "##### Extract dataset"
   ]
  },
  {
   "cell_type": "code",
   "execution_count": null,
   "id": "cd132090",
   "metadata": {},
   "outputs": [],
   "source": [
    "# - Daily\n",
    "# expt = \"charstrokeseqpan1\" #run for chunkbyshape1, chunkbyshape2\n",
    "# animal = \"Pancho\"\n",
    "# D = Dataset([])\n",
    "# # rulelist = get_rulelist(animal, expt)\n",
    "# rulelist = [\"230113\"]\n",
    "\n",
    "# - All days (main)\n",
    "# expt = \"charstrokeseqpan1\" #run for chunkbyshape1, chunkbyshape2\n",
    "# animal = \"Pancho\"\n",
    "# D = Dataset([])\n",
    "# # rulelist = get_rulelist(animal, expt)\n",
    "# rulelist = [\"null\"]\n",
    "\n",
    "# CHARACTER EXPTS\n",
    "\n",
    "# expt = \"charnovel3c\" #run for chunkbyshape1, chunkbyshape2\n",
    "# animal = \"Pancho\"\n",
    "# D = Dataset([])\n",
    "# # rulelist = get_rulelist(animal, expt)\n",
    "# rulelist = [\"220624\"]\n",
    "\n",
    "# expt = \"charnovel2b\" #run for chunkbyshape1, chunkbyshape2\n",
    "# animal = \"Pancho\"\n",
    "# D = Dataset([])\n",
    "# # rulelist = get_rulelist(animal, expt)\n",
    "# rulelist = [\"220616\"]\n",
    "\n",
    "# expt = \"charpsychorel1\" #run for chunkbyshape1, chunkbyshape2\n",
    "# animal = \"Pancho\"\n",
    "# D = Dataset([])\n",
    "# # rulelist = get_rulelist(animal, expt)\n",
    "# rulelist = [\"220630\"]\n",
    "\n",
    "# expt = \"charheldout1b\" #run for chunkbyshape1, chunkbyshape2\n",
    "# animal = \"Pancho\"\n",
    "# D = Dataset([])\n",
    "# # rulelist = get_rulelist(animal, expt)\n",
    "# rulelist = [\"220628\"]\n",
    "\n",
    "# expt = \"charnovel1\" #run for chunkbyshape1, chunkbyshape2\n",
    "# animal = \"Pancho\"\n",
    "# D = Dataset([])\n",
    "# # rulelist = get_rulelist(animal, expt)\n",
    "# rulelist = [\"220614\"]\n",
    "\n",
    "# expt = \"charneuraltrain1d\" #run for chunkbyshape1, chunkbyshape2\n",
    "# animal = \"Pancho\"\n",
    "# D = Dataset([])\n",
    "# # rulelist = get_rulelist(animal, expt)\n",
    "# rulelist = [\"220603\"]\n",
    "\n",
    "# expt = \"charneuraltrain1b\" #run for chunkbyshape1, chunkbyshape2\n",
    "# animal = \"Pancho\"\n",
    "# D = Dataset([])\n",
    "# # rulelist = get_rulelist(animal, expt)\n",
    "# rulelist = [\"220531\"]\n",
    "\n",
    "# expt = \"charstrokeseqpan1b\" #run for chunkbyshape1, chunkbyshape2\n",
    "# animal = \"Pancho\"\n",
    "# D = Dataset([])\n",
    "# # rulelist = get_rulelist(animal, expt)\n",
    "# rulelist = [\"230114\"]\n",
    "\n",
    "# # expt = \"charstrokeseqpan3\" #run for chunkbyshape1, chunkbyshape2\n",
    "# animal = \"Pancho\"\n",
    "# D = Dataset([])\n",
    "# # rulelist = [\"230122\"]\n",
    "# date = \"230122\"\n",
    "\n",
    "# \n",
    "# animal = \"Pancho\"\n",
    "# date = \"230125\"\n",
    "\n",
    "\n",
    "## Prims\n",
    "animal = \"Pancho\"\n",
    "date = \"220918\""
   ]
  },
  {
   "cell_type": "code",
   "execution_count": 23,
   "id": "da31b7e4",
   "metadata": {},
   "outputs": [],
   "source": [
    "## Diego\n",
    "animal = \"Diego\"\n",
    "date = \"230421\""
   ]
  },
  {
   "cell_type": "code",
   "execution_count": 24,
   "id": "6a0bebd5",
   "metadata": {
    "scrolled": true
   },
   "outputs": [
    {
     "name": "stdout",
     "output_type": "stream",
     "text": [
      "Searching using this string:\n",
      "/home/lucast4/code/drawmonkey/expt_metadat/*230421-*Diego.**\n",
      "Found this many paths:\n",
      "0\n",
      "Searching using this string:\n",
      "/home/lucast4/code/drawmonkey/expt_metadat_daily/*230421-*Diego.**\n",
      "Found this many paths:\n",
      "1\n",
      "---\n",
      "/home/lucast4/code/drawmonkey/expt_metadat_daily/charstrokeseqdiego1-230421-Diego.yaml\n",
      "Loading this dataset Diego charstrokeseqdiego1 230421\n",
      "Searching using this string:\n",
      "/gorilla1/analyses/database/*Diego-*charstrokeseqdiego1-*230421-*/*dat*.pkl\n",
      "-- Splitting off dir from fname\n",
      "Found this many paths:\n",
      "0\n",
      "Searching using this string:\n",
      "/gorilla1/analyses/database/BEH/*Diego-*charstrokeseqdiego1-*230421-*/*dat*.pkl\n",
      "-- Splitting off dir from fname\n",
      "Found this many paths:\n",
      "0\n",
      "Searching using this string:\n",
      "/mnt/Freiwald/kgupta/analyses/database/*Diego-*charstrokeseqdiego1-*230421-*/*dat*.pkl\n",
      "-- Splitting off dir from fname\n",
      "Found this many paths:\n",
      "0\n",
      "Searching using this string:\n",
      "/mnt/Freiwald/kgupta/analyses/database/BEH/*Diego-*charstrokeseqdiego1-*230421-*/*dat*.pkl\n",
      "-- Splitting off dir from fname\n",
      "Found this many paths:\n",
      "1\n",
      "---\n",
      "/mnt/Freiwald/kgupta/analyses/database/BEH/Diego-charstrokeseqdiego1-230421-230421_214417\n",
      "----------------\n",
      "Currently loading dataset pkl: /mnt/Freiwald/kgupta/analyses/database/BEH/Diego-charstrokeseqdiego1-230421-230421_214417\n",
      ".. Done!\n",
      "Loaded metadat:\n",
      "{'sketchpad_edges': array([[-311.84, -224.8 ],\n",
      "       [ 311.84,  429.6 ]]), 'metadat_probedat': {'sdate': 230421, 'edate': 230421, 'strokmodel_kind': None, 'strokmodel_tstamp': None, 'datecategories': {'230421': 1}, 'dates_for_summary': [], 'matchedstrokes': None, 'exptnames': ['charstrokeseqdiego1', 'charstrokeseqdiego1b'], 'T1': [], 'G1': [], 'G2': [], 'G3': [], 'G4': [], 'description': '', 'finalized': False, 'good_expt': True, 'expt': 'charstrokeseqdiego1', 'animal': 'Diego', 'ssess': None, 'esess': None, 'task_train_test': {'probe1_liketrain': 'train', 'probe1_nostrokeconstraint': 'train', 'probe2_liketrain': 'train', 'probe2_nostrokeconstraint': 'train', 'probe3_hdpos': 'test', 'probe1': 'train', 'probe2': 'train', 'probe3': 'test', 'probe4': 'test', 'train': 'train'}}, 'filedata_params': {'pix_per_deg': array([[ 26.64621164],\n",
      "       [-26.64621164]]), 'resolution': (1024, 768), 'animal': 'Diego', 'basedir': '/home/kgg/mnt/Freiwald/kgupta/macaque_data', 'sample_rate': array([500.]), 'beh_codes': {9: 'start', 10: 'fix cue', 11: 'fix cue visible', 13: 'frame skip', 14: 'manual rew', 15: 'guide', 16: 'FixationOnsetWTH', 17: 'FixationDoneSuccessWTH', 18: 'end', 19: 'FixationRaiseFailWTH', 20: 'go (draw)', 21: 'guide_on_GA', 30: 'DelayWhatIsThis', 40: 'GoWhatIsThis', 41: 'samp1 on', 42: 'samp1 off', 45: 'done', 46: 'post', 50: 'reward', 51: 'free reward', 61: 'DoneButtonVisible', 62: 'DoneButtonTouched', 63: 'DragAroundSuccess', 64: 'DragAroundAbort', 65: 'DragAroundFirstAbortNow', 70: 'hotkey_x', 71: 'DAstimevent_firstpres', 72: 'DAstimoff_finibeforepause', 73: 'DAstimoff_fini', 74: 'DAsamp1_visible_change', 75: 'DAnewpnutthisframe', 76: 'DAsound_samp1touched', 78: 'DAsound_gotallink', 80: 'ttl_trialon', 81: 'ttl_trialoff', 91: 'GAstimevent_firstpres', 92: 'GAstimoff_fini', 101: 'fix_square_on', 102: 'fix_square_off', 103: 'fix_square_on_pd', 111: 'photodiode_force_off', 120: 'DAsound_chunk', 121: 'DAsound_strokedone', 122: 'DAsound_chunkupdate', 123: 'DAsound_chunkdone', 124: 'DAsound_firstraise', 131: 'fix_cue_colored_on', 132: 'fix_cue_colored_on_v2', 133: 'fix_cue_colored_off', 134: 'fix_cue_colored_off_v2', 135: 'new_color_cue_off', 200: 'skipped_movie_frame'}, 'screen_hz': 59, 'screen_period': 0.01694915254237288}}\n",
      "Loading BlockParamsByDateSessBlock!\n",
      "----\n",
      "Resetting index\n",
      "=== CLEANING UP self.Dat ===== \n",
      "Deleted unused columns from self.Dat\n",
      "applying monkey train test names\n",
      "resetting index\n",
      "Updated columns: insummarydates, using Metadats\n",
      "Extracted into self.Dat[epoch_orig]\n",
      "Searching using this string:\n",
      "/gorilla1/analyses/database/TASKS_GENERAL/Diego-charstrokeseqdiego1-230421-all/*Tasks*pkl\n",
      "Found this many paths:\n",
      "0\n",
      "Searching using this string:\n",
      "/mnt/Freiwald/kgupta/analyses/database/TASKS_GENERAL/Diego-charstrokeseqdiego1-230421-all/*Tasks*pkl\n",
      "Found this many paths:\n",
      "1\n",
      "---\n",
      "/mnt/Freiwald/kgupta/analyses/database/TASKS_GENERAL/Diego-charstrokeseqdiego1-230421-all/Tasks.pkl\n",
      "--- Loading tasks pkl file:  /mnt/Freiwald/kgupta/analyses/database/TASKS_GENERAL/Diego-charstrokeseqdiego1-230421-all/Tasks.pkl\n",
      "added new column self.Dat[Task]\n",
      "- starting/ending len (grouping params):\n",
      "669\n",
      "669\n",
      "- starting/ending len (getting sequence):\n",
      "669\n",
      "669\n",
      "--- Removing nans\n",
      "start len: 669\n",
      "- num names for each col\n",
      "not removing nans, since columns=[]\n",
      "Reassigned train/test, using key: probe\n",
      "and values:\n",
      "Train =  [0]\n",
      "Test =  [1]\n",
      " \n",
      "New distribution of train/test:\n",
      "train    669\n",
      "Name: monkey_train_or_test, dtype: int64\n",
      "Appended column: los_info\n",
      "Appended self.Dat[superv_SEQUENCE_SUP]\n",
      "Appended self.Dat[superv_SEQUENCE_ALPHA]\n",
      "Appended self.Dat[superv_COLOR_ON]\n",
      "Appended self.Dat[superv_COLOR_METHOD]\n",
      "Appended self.Dat[superv_GUIDEDYN_ON]\n",
      "Appended self.Dat[superv_VISUALFB_METH]\n",
      "appended col to self.Dat:\n",
      "supervision_stage_new\n",
      "[taskgroup_reassign_by_mapper], reassigned values in column: taskgroup\n",
      "GROUPING epoch\n",
      "GROUPING_LEVELS ['230421']\n",
      "FEATURE_NAMES ['hdoffline', 'num_strokes', 'circ', 'dist']\n",
      "SCORE_COL_NAMES []\n",
      "appended col to self.Dat:\n",
      "date_epoch\n",
      "Appended self.Dat[superv_SEQUENCE_SUP]\n",
      "Appended self.Dat[superv_COLOR_ON]\n",
      "Appended self.Dat[superv_COLOR_METHOD]\n",
      "Appended self.Dat[superv_GUIDEDYN_ON]\n",
      "appended col to self.Dat:\n",
      "supervision_stage_concise\n"
     ]
    }
   ],
   "source": [
    "# D.load_dataset_helper(animal, expt, ver=\"mult\", rule=rulelist)\n",
    "\n",
    "D = load_dataset_daily_helper(animal, date)"
   ]
  },
  {
   "cell_type": "code",
   "execution_count": null,
   "id": "78d8bbba",
   "metadata": {},
   "outputs": [],
   "source": [
    "### Load main dataset\n",
    "animal = \"Pancho\"\n",
    "expt = \"priminvar3\"\n",
    "rulelist = None\n",
    "D = load_dataset(animal, expt, rulelist)\n"
   ]
  },
  {
   "cell_type": "code",
   "execution_count": null,
   "id": "77a70d15",
   "metadata": {},
   "outputs": [],
   "source": [
    "# Prune dataset \n",
    "D.Dat[\"task_kind\"]\n"
   ]
  },
  {
   "cell_type": "code",
   "execution_count": 11,
   "id": "ff0dbbf3",
   "metadata": {},
   "outputs": [
    {
     "data": {
      "text/plain": [
       "['Diego']"
      ]
     },
     "execution_count": 11,
     "metadata": {},
     "output_type": "execute_result"
    }
   ],
   "source": [
    "D.animals()"
   ]
  },
  {
   "cell_type": "markdown",
   "id": "b0f5409f",
   "metadata": {},
   "source": [
    "### [BELOW IS CARRIED OVER FROM PREVIOUS NOTEBOOK [1/16/23]]"
   ]
  },
  {
   "cell_type": "markdown",
   "id": "bd668266",
   "metadata": {},
   "source": [
    "### TIMECOURSE PLOTS - scalars"
   ]
  }
 ],
 "metadata": {
  "kernelspec": {
   "display_name": "Python 3 (ipykernel)",
   "language": "python",
   "name": "python3"
  },
  "language_info": {
   "codemirror_mode": {
    "name": "ipython",
    "version": 3
   },
   "file_extension": ".py",
   "mimetype": "text/x-python",
   "name": "python",
   "nbconvert_exporter": "python",
   "pygments_lexer": "ipython3",
   "version": "3.8.13"
  }
 },
 "nbformat": 4,
 "nbformat_minor": 5
}
