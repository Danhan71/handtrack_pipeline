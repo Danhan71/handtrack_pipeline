{
 "cells": [
  {
   "cell_type": "code",
   "execution_count": null,
   "id": "610e6cac",
   "metadata": {},
   "outputs": [],
   "source": [
    "\"\"\"\n",
    "12/19/22 - Converting code for Planner model (i.e,, continuous parses, as used for glc), to more general work\n",
    "for any model comparison. e.g., also for use with discrete models (e.g., \"diagnostic models\")\n",
    "\n",
    "\"\"\""
   ]
  },
  {
   "cell_type": "code",
   "execution_count": 2,
   "id": "95d59e94",
   "metadata": {},
   "outputs": [],
   "source": [
    "from pythonlib.behmodel.multiple_behmodel_handler import MultBehModelHandler\n",
    "# from pythonlib.dataset.modeling.beh_model_comparison import plots_cross_prior_and_model_anynum\n",
    "from pythonlib.behmodelholder.beh_model_holder import BehModelHolder\n",
    "\n",
    "import pandas as pd\n",
    "import numpy as np\n",
    "\n",
    "from pythonlib.dataset.dataset import Dataset, load_dataset, load_dataset_daily_helper\n",
    "from pythonlib.dataset.dataset_preprocess.general import preprocessDat\n",
    "import numpy as np\n",
    "import matplotlib.pyplot as plt\n",
    "from pythonlib.dataset.analy_dlist import concatDatasets\n",
    "import pandas as pd\n",
    "import seaborn as sns\n",
    "import os"
   ]
  },
  {
   "cell_type": "code",
   "execution_count": null,
   "id": "5b5dc1d1",
   "metadata": {},
   "outputs": [],
   "source": [
    "# a = \"Diego\"\n",
    "# e = \"neuralbiasdir5c\"\n",
    "# r = \"221114\"\n",
    "\n",
    "# D = Dataset([])\n",
    "# D.load_dataset_helper(a, e, rule=r)\n",
    "# D.load_tasks_helper()\n",
    "# D.behclass_preprocess_wrapper() # extract behclass info and add to D\n",
    "\n",
    "# expt = \"shapesequence2\"\n",
    "# animal = \"Diego\"\n",
    "# rulelist = [\"null\"]\n",
    "# D = Dataset([])\n",
    "\n",
    "# D.load_dataset_helper(animal, expt, ver=\"mult\", rule=rulelist)\n",
    "\n",
    "##\n",
    "# animal = \"Pancho\"\n",
    "# date = 220831 # ss\n",
    "# D = load_dataset_daily_helper(animal, date)\n",
    "\n"
   ]
  },
  {
   "cell_type": "code",
   "execution_count": 4,
   "id": "ac29427d",
   "metadata": {},
   "outputs": [
    {
     "name": "stdout",
     "output_type": "stream",
     "text": [
      "Searching using this string:\n",
      "/home/lucast4/code/drawmonkey/expt_metadat/*gridlinecircleGOOD-*Diego.**\n",
      "Found this many paths:\n",
      "1\n",
      "---\n",
      "/home/lucast4/code/drawmonkey/expt_metadat/gridlinecircleGOOD-null-Diego.yaml\n",
      "Searching using this string:\n",
      "/gorilla1/analyses/database/*Diego-*gridlinecircleGOOD-*null-*/*dat*.pkl\n",
      "-- Splitting off dir from fname\n",
      "Found this many paths:\n",
      "0\n",
      "Searching using this string:\n",
      "/gorilla1/analyses/database/BEH/*Diego-*gridlinecircleGOOD-*null-*/*dat*.pkl\n",
      "-- Splitting off dir from fname\n",
      "Found this many paths:\n",
      "0\n",
      "Searching using this string:\n",
      "/mnt/Freiwald/kgupta/analyses/database/*Diego-*gridlinecircleGOOD-*null-*/*dat*.pkl\n",
      "-- Splitting off dir from fname\n",
      "Found this many paths:\n",
      "0\n",
      "Searching using this string:\n",
      "/mnt/Freiwald/kgupta/analyses/database/BEH/*Diego-*gridlinecircleGOOD-*null-*/*dat*.pkl\n",
      "-- Splitting off dir from fname\n",
      "Found this many paths:\n",
      "2\n",
      "---\n",
      "/mnt/Freiwald/kgupta/analyses/database/BEH/Diego-gridlinecircleGOOD-null-230214_140750\n",
      "---\n",
      "/mnt/Freiwald/kgupta/analyses/database/BEH/Diego-gridlinecircleGOOD-null-230214_160615\n",
      "----------------\n",
      "Currently loading dataset pkl: /mnt/Freiwald/kgupta/analyses/database/BEH/Diego-gridlinecircleGOOD-null-230214_160615\n",
      ".. Done!\n",
      "Loaded metadat:\n",
      "{'sketchpad_edges': array([[-311.84, -224.8 ],\n",
      "       [ 311.84,  429.6 ]]), 'metadat_probedat': {'sdate': '230110', 'edate': '230129', 'strokmodel_kind': None, 'strokmodel_tstamp': None, 'datecategories': {'230110': 1, '230111': 1, '230112': 1, '230113': 1, '230114': 1, '230115': 1, '230116': 1, '230117': 1, '230118': 1, '230119': 1, '230120': 1, '230121': 1, '230122': 1, '230123': 1, '230124': 1, '230125': 1, '230126': 1, '230127': 1, '230128': 1, '230129': 1}, 'dates_for_summary': [], 'matchedstrokes': None, 'exptnames': ['gridlinecircle3', 'gridlinecircle3b', 'gridlinecircle3c', 'gridlinecircle3d', 'gridlinecircle3e', 'gridlinecircle3f', 'gridlinecircle3g', 'gridlinecircle3h', 'gridlinecircleGOOD'], 'T1': [], 'G1': [], 'G2': [], 'G3': [], 'G4': [], 'description': '', 'finalized': False, 'good_expt': True, 'expt': 'gridlinecircleGOOD', 'animal': 'Diego', 'ssess': None, 'esess': None, 'task_train_test': {'probe1_liketrain': 'train', 'probe1_nostrokeconstraint': 'train', 'probe2_liketrain': 'train', 'probe2_nostrokeconstraint': 'train', 'probe3_hdpos': 'test', 'probe1': 'train', 'probe2': 'train', 'probe3': 'test', 'probe4': 'test', 'train': 'train'}}, 'filedata_params': {'pix_per_deg': array([[ 26.64621164],\n",
      "       [-26.64621164]]), 'resolution': (1024, 768), 'animal': 'Diego', 'basedir': '/home/kgg/mnt/Freiwald/kgupta/macaque_data', 'sample_rate': array([125.]), 'beh_codes': {9: 'start', 10: 'fix cue', 11: 'fix cue visible', 13: 'frame skip', 14: 'manual rew', 15: 'guide', 16: 'FixationOnsetWTH', 17: 'FixationDoneSuccessWTH', 18: 'end', 19: 'FixationRaiseFailWTH', 20: 'go (draw)', 21: 'guide_on_GA', 30: 'DelayWhatIsThis', 40: 'GoWhatIsThis', 41: 'samp1 on', 42: 'samp1 off', 45: 'done', 46: 'post', 50: 'reward', 51: 'free reward', 61: 'DoneButtonVisible', 62: 'DoneButtonTouched', 63: 'DragAroundSuccess', 64: 'DragAroundAbort', 65: 'DragAroundFirstAbortNow', 70: 'hotkey_x', 71: 'DAstimevent_firstpres', 72: 'DAstimoff_finibeforepause', 73: 'DAstimoff_fini', 74: 'DAsamp1_visible_change', 75: 'DAnewpnutthisframe', 76: 'DAsound_samp1touched', 78: 'DAsound_gotallink', 80: 'ttl_trialon', 81: 'ttl_trialoff', 91: 'GAstimevent_firstpres', 92: 'GAstimoff_fini', 101: 'fix_square_on', 102: 'fix_square_off', 103: 'fix_square_on_pd', 111: 'photodiode_force_off', 120: 'DAsound_chunk', 121: 'DAsound_strokedone', 122: 'DAsound_chunkupdate', 123: 'DAsound_chunkdone', 124: 'DAsound_firstraise', 131: 'fix_cue_colored_on', 132: 'fix_cue_colored_on_v2', 133: 'fix_cue_colored_off', 134: 'fix_cue_colored_off_v2', 135: 'new_color_cue_off', 200: 'skipped_movie_frame'}, 'screen_hz': 60, 'screen_period': 0.016666666666666666}}\n",
      "Loading BlockParamsByDateSessBlock!\n",
      "----\n",
      "Resetting index\n",
      "=== CLEANING UP self.Dat ===== \n",
      "Deleted unused columns from self.Dat\n",
      "applying monkey train test names\n",
      "resetting index\n",
      "Updated columns: insummarydates, using Metadats\n",
      "Searching using this string:\n",
      "/gorilla1/analyses/database/TASKS_GENERAL/Diego-gridlinecircleGOOD-null-all/*Tasks*pkl\n",
      "Found this many paths:\n",
      "0\n",
      "Searching using this string:\n",
      "/mnt/Freiwald/kgupta/analyses/database/TASKS_GENERAL/Diego-gridlinecircleGOOD-null-all/*Tasks*pkl\n",
      "Found this many paths:\n",
      "1\n",
      "---\n",
      "/mnt/Freiwald/kgupta/analyses/database/TASKS_GENERAL/Diego-gridlinecircleGOOD-null-all/Tasks.pkl\n",
      "--- Loading tasks pkl file:  /mnt/Freiwald/kgupta/analyses/database/TASKS_GENERAL/Diego-gridlinecircleGOOD-null-all/Tasks.pkl\n",
      "added new column self.Dat[Task]\n",
      "- starting/ending len (grouping params):\n",
      "7791\n",
      " \n",
      "*** Rules/epochs reassigning using the following rules:\n",
      "{(None, None): 'base', ('direction', '3.14'): 'L', ('direction', '0.00'): 'R', ('directionv2', ('lr',)): 'R', ('directionv2', ('rl',)): 'L', ('directionv2', ('ud',)): 'D', ('directionv2', ('du',)): 'U', ('directionv2', ('right',)): 'R', ('directionv2', ('left',)): 'L', ('directionv2', ('down',)): 'D', ('directionv2', ('up',)): 'U', ('directionv2', ('topright',)): 'TR', ('prot_prims_in_order', ('line-8-3', 'V-2-4', 'Lcentered-4-3')): 'lVL1', ('prot_prims_in_order', ('Lcentered-4-3', 'V-2-4', 'line-8-3')): 'LVl1', ('prot_prims_in_order', ('V-2-4', 'line-8-3', 'Lcentered-4-3')): 'VlL1', ('prot_prims_in_order', ('line-8-3', 'line-8-4', 'V-2-4')): 'llV1', ('prot_prims_in_order', ('line-9-3', 'line-9-4', 'Lcentered-6-8')): 'llV1', ('prot_prims_in_order', ('line-8-3', 'line-13-13', 'line-8-4', 'line-13-14', 'V-2-4', 'V2-2-4')): 'llV1', ('prot_prims_in_order', ('line-8-3', 'line-13-13', 'line-8-4', 'line-13-14', 'V-2-4', 'V2-2-4', 'V2-2-2')): 'llV1', ('prot_prims_in_order', ('V2-2-2', 'V2-2-4', 'V-2-4', 'line-13-14', 'line-8-4', 'line-13-13', 'line-8-3')): 'llV1R', ('prot_prims_chunks_in_order', ('line-8-4', 'line-8-3')): 'AnBm1a', ('prot_prims_chunks_in_order', ('line-8-1', 'line-8-2')): 'AnBm2', ('prot_prims_chunks_in_order', ('line-8-4', 'line-11-1', 'line-8-3', 'line-11-2')): 'AnBm1b', ('prot_prims_chunks_in_order', ('line-11-1', 'line-11-2')): 'AnBmHV', ('prot_prims_chunks_in_order', ('squiggle3-3-1', 'V-2-4')): 'AnBm0', ('hack_220829', ('hack_220829',)): '(AB)n', ('prot_prims_in_order_AND_directionv2', ('line-8-4', 'line-11-1', 'line-8-3', 'line-11-2', 'topright')): 'AnBmTR', ('prot_prims_in_order_AND_directionv2', ('line', 'circle', 'right')): 'LCr1', ('prot_prims_in_order_AND_directionv2', ('circle', 'line', 'right')): 'CLr1', ('prot_prims_in_order_AND_directionv2', ('line', 'arcdeep', 'circle', 'right')): 'LCr2', ('prot_prims_in_order_AND_directionv2', ('circle', 'arcdeep', 'line', 'right')): 'CLr2', ('shape_chunk_concrete', ('lolli', ('D', 'R'))): 'LolDR', ('randomize_strokes', ('randomize_strokes',)): 'rndstr'}\n",
      "Modified D.Dat[epoch]\n",
      "These counts for epochs levels: \n",
      "LolDR    3808\n",
      "CLr2     2079\n",
      "LCr1     1037\n",
      "LCr2      867\n",
      "Name: epoch, dtype: int64\n",
      "These counts for epoch_rule_tasksequencer levels: \n",
      "LolDR    3808\n",
      "CLr2     2079\n",
      "LCr1     1037\n",
      "LCr2      867\n",
      "Name: epoch_rule_tasksequencer, dtype: int64\n",
      " \n",
      "appended col to self.Dat:\n",
      "epoch_color\n",
      "Reassigned rules taking conjucntion of old rules x color instruction\n",
      "New epochs\n",
      "LolDR|0    3808\n",
      "CLr2|0     2079\n",
      "LCr1|0     1037\n",
      "LCr2|0      867\n",
      "Name: epoch_color, dtype: int64\n",
      "For these epochs, replacing epoch with epoch_color:\n",
      "[]\n",
      "7791\n",
      "- starting/ending len (getting sequence):\n",
      "7791\n",
      "7791\n",
      "--- Removing nans\n",
      "start len: 7791\n",
      "- num names for each col\n",
      "not removing nans, since columns=[]\n",
      "ADded new column: supervision_online\n",
      "Reassigned train/test, using key: supervision_online\n",
      "and values:\n",
      "Train =  [True]\n",
      "Test =  [False]\n",
      " \n",
      "New distribution of train/test:\n",
      "test     5882\n",
      "train    1909\n",
      "Name: monkey_train_or_test, dtype: int64\n",
      "Appended column: los_info\n",
      "Appended self.Dat[superv_SEQUENCE_SUP]\n",
      "Appended self.Dat[superv_SEQUENCE_ALPHA]\n",
      "Appended self.Dat[superv_COLOR_ON]\n",
      "Appended self.Dat[superv_COLOR_METHOD]\n",
      "Appended self.Dat[superv_GUIDEDYN_ON]\n",
      "Appended self.Dat[superv_VISUALFB_METH]\n",
      "appended col to self.Dat:\n",
      "supervision_stage_new\n",
      "stored in self.Dat[BehClass]\n",
      "0\n",
      "200\n",
      "400\n",
      "600\n",
      "800\n",
      "1000\n",
      "1200\n",
      "1400\n",
      "1600\n",
      "1800\n",
      "2000\n",
      "2200\n",
      "2400\n",
      "2600\n",
      "2800\n",
      "3000\n",
      "3200\n",
      "3400\n",
      "3600\n",
      "3800\n",
      "4000\n",
      "4200\n",
      "4400\n",
      "4600\n",
      "4800\n"
     ]
    },
    {
     "name": "stdout",
     "output_type": "stream",
     "text": [
      "5000\n",
      "5200\n",
      "5400\n",
      "5600\n",
      "5800\n",
      "6000\n",
      "6200\n",
      "6400\n",
      "6600\n",
      "6800\n",
      "7000\n",
      "7200\n",
      "7400\n",
      "7600\n",
      "Running D.behclass_tokens_extract_datsegs\n",
      "0\n",
      "200\n",
      "400\n",
      "600\n",
      "800\n",
      "1000\n",
      "1200\n",
      "1400\n",
      "1600\n",
      "1800\n",
      "2000\n",
      "2200\n",
      "2400\n",
      "2600\n",
      "2800\n",
      "3000\n",
      "3200\n",
      "3400\n",
      "3600\n",
      "3800\n",
      "4000\n",
      "4200\n",
      "4400\n",
      "4600\n",
      "4800\n",
      "5000\n",
      "5200\n",
      "5400\n",
      "5600\n",
      "5800\n",
      "6000\n",
      "6200\n",
      "6400\n",
      "6600\n",
      "6800\n",
      "7000\n",
      "7200\n",
      "7400\n",
      "7600\n",
      "Appended self.Dat[superv_SEQUENCE_SUP]\n",
      "Appended self.Dat[superv_COLOR_ON]\n",
      "Appended self.Dat[superv_COLOR_METHOD]\n",
      "Appended self.Dat[superv_GUIDEDYN_ON]\n",
      "appended col to self.Dat:\n",
      "supervision_stage_concise\n",
      "probe task in epoch:  gridlinecircle-11-1-826876 LCr1\n",
      "probe task in epoch:  gridlinecircle-11-1-826876 LCr2\n",
      "probe task in epoch:  gridlinecircle-11-1-826876 CLr2\n",
      "probe task in epoch:  gridlinecircle-11-2-238511 LCr1\n",
      "probe task in epoch:  gridlinecircle-11-2-238511 LCr2\n",
      "probe task in epoch:  gridlinecircle-11-2-238511 CLr2\n",
      "probe task in epoch:  gridlinecircle-11-27-472810 LCr1\n",
      "probe task in epoch:  gridlinecircle-11-27-472810 LCr2\n",
      "probe task in epoch:  gridlinecircle-11-27-472810 CLr2\n",
      "probe task in epoch:  gridlinecircle-11-27-472810 LolDR\n",
      "probe task in epoch:  gridlinecircle-11-3-929613 LCr1\n",
      "probe task in epoch:  gridlinecircle-11-3-929613 LCr2\n",
      "probe task in epoch:  gridlinecircle-11-3-929613 CLr2\n",
      "probe task in epoch:  gridlinecircle-11-3-929613 LolDR\n",
      "probe task in epoch:  gridlinecircle-11-39-484604 LCr1\n",
      "probe task in epoch:  gridlinecircle-11-39-484604 LCr2\n",
      "probe task in epoch:  gridlinecircle-11-39-484604 CLr2\n",
      "probe task in epoch:  gridlinecircle-11-39-484604 LolDR\n",
      "probe task in epoch:  gridlinecircle-11-4-140041 LCr1\n",
      "probe task in epoch:  gridlinecircle-11-4-140041 LCr2\n",
      "probe task in epoch:  gridlinecircle-11-4-140041 CLr2\n",
      "probe task in epoch:  gridlinecircle-11-40-161036 LCr1\n",
      "probe task in epoch:  gridlinecircle-11-40-161036 LCr2\n",
      "probe task in epoch:  gridlinecircle-11-40-161036 CLr2\n",
      "probe task in epoch:  gridlinecircle-11-40-161036 LolDR\n",
      "probe task in epoch:  gridlinecircle-11-41-408540 LCr1\n",
      "probe task in epoch:  gridlinecircle-11-41-408540 LCr2\n",
      "probe task in epoch:  gridlinecircle-11-41-408540 CLr2\n",
      "probe task in epoch:  gridlinecircle-11-6-591237 LCr1\n",
      "probe task in epoch:  gridlinecircle-11-6-591237 LCr2\n",
      "probe task in epoch:  gridlinecircle-11-6-591237 CLr2\n",
      "probe task in epoch:  gridlinecircle-11-7-194276 LCr1\n",
      "probe task in epoch:  gridlinecircle-11-7-194276 LCr2\n",
      "probe task in epoch:  gridlinecircle-11-7-194276 CLr2\n",
      "probe task in epoch:  gridlinecircle-11-7-194276 LolDR\n",
      "probe task in epoch:  gridlinecircle-12-1-380046 LCr1\n",
      "probe task in epoch:  gridlinecircle-12-1-380046 LCr2\n",
      "probe task in epoch:  gridlinecircle-12-1-380046 CLr2\n",
      "probe task in epoch:  gridlinecircle-12-1-380046 LolDR\n",
      "probe task in epoch:  gridlinecircle-12-11-390587 LCr1\n",
      "probe task in epoch:  gridlinecircle-12-11-390587 LCr2\n",
      "probe task in epoch:  gridlinecircle-12-11-390587 CLr2\n",
      "probe task in epoch:  gridlinecircle-12-12-368308 LolDR\n",
      "probe task in epoch:  gridlinecircle-12-17-354506 LCr1\n",
      "probe task in epoch:  gridlinecircle-12-17-354506 LCr2\n",
      "probe task in epoch:  gridlinecircle-12-17-354506 CLr2\n",
      "probe task in epoch:  gridlinecircle-12-17-354506 LolDR\n",
      "probe task in epoch:  gridlinecircle-12-18-371659 LolDR\n",
      "probe task in epoch:  gridlinecircle-12-2-354529 LolDR\n",
      "probe task in epoch:  gridlinecircle-12-23-348823 LolDR\n",
      "probe task in epoch:  gridlinecircle-12-28-357999 LolDR\n",
      "probe task in epoch:  gridlinecircle-12-33-403005 LolDR\n",
      "probe task in epoch:  gridlinecircle-12-36-351535 LCr1\n",
      "probe task in epoch:  gridlinecircle-12-36-351535 LCr2\n",
      "probe task in epoch:  gridlinecircle-12-36-351535 CLr2\n",
      "probe task in epoch:  gridlinecircle-12-37-340426 LCr1\n",
      "probe task in epoch:  gridlinecircle-12-37-340426 LCr2\n",
      "probe task in epoch:  gridlinecircle-12-37-340426 CLr2\n",
      "probe task in epoch:  gridlinecircle-12-37-340426 LolDR\n",
      "probe task in epoch:  gridlinecircle-12-38-378424 LolDR\n",
      "probe task in epoch:  gridlinecircle-12-40-369450 LCr1\n",
      "probe task in epoch:  gridlinecircle-12-40-369450 LCr2\n",
      "probe task in epoch:  gridlinecircle-12-40-369450 CLr2\n",
      "probe task in epoch:  gridlinecircle-12-40-369450 LolDR\n",
      "probe task in epoch:  gridlinecircle-12-41-381137 LCr1\n",
      "probe task in epoch:  gridlinecircle-12-41-381137 LCr2\n",
      "probe task in epoch:  gridlinecircle-12-41-381137 CLr2\n",
      "probe task in epoch:  gridlinecircle-12-41-381137 LolDR\n",
      "probe task in epoch:  gridlinecircle-12-42-380791 LolDR\n",
      "probe task in epoch:  gridlinecircle-12-45-389159 LCr1\n",
      "probe task in epoch:  gridlinecircle-12-45-389159 LCr2\n",
      "probe task in epoch:  gridlinecircle-12-45-389159 CLr2\n",
      "probe task in epoch:  gridlinecircle-12-47-354375 LolDR\n",
      "probe task in epoch:  gridlinecircle-12-7-348195 LolDR\n",
      "probe task in epoch:  gridlinecircle-13-1-205572 LCr1\n",
      "probe task in epoch:  gridlinecircle-13-1-205572 LCr2\n",
      "probe task in epoch:  gridlinecircle-13-1-205572 CLr2\n",
      "probe task in epoch:  gridlinecircle-13-12-103760 LCr1\n",
      "probe task in epoch:  gridlinecircle-13-12-103760 LCr2\n",
      "probe task in epoch:  gridlinecircle-13-12-103760 CLr2\n",
      "probe task in epoch:  gridlinecircle-13-2-412986 LCr1\n",
      "probe task in epoch:  gridlinecircle-13-2-412986 LCr2\n",
      "probe task in epoch:  gridlinecircle-13-2-412986 CLr2\n",
      "probe task in epoch:  gridlinecircle-13-3-728386 LCr1\n",
      "probe task in epoch:  gridlinecircle-13-3-728386 LCr2\n",
      "probe task in epoch:  gridlinecircle-13-3-728386 CLr2\n",
      "probe task in epoch:  gridlinecircle-13-59-497058 LCr1\n",
      "probe task in epoch:  gridlinecircle-13-59-497058 LCr2\n",
      "probe task in epoch:  gridlinecircle-13-59-497058 CLr2\n",
      "probe task in epoch:  gridlinecircle-13-7-322285 LCr1\n",
      "probe task in epoch:  gridlinecircle-13-7-322285 LCr2\n",
      "probe task in epoch:  gridlinecircle-13-7-322285 CLr2\n",
      "probe task in epoch:  gridlinecircle-13-8-973887 LCr1\n",
      "probe task in epoch:  gridlinecircle-13-8-973887 LCr2\n",
      "probe task in epoch:  gridlinecircle-13-8-973887 CLr2\n",
      "probe task in epoch:  gridlinecircle-15-1-712632 LolDR\n",
      "probe task in epoch:  gridlinecircle-15-10-193861 LolDR\n",
      "probe task in epoch:  gridlinecircle-15-11-734977 LCr2\n",
      "probe task in epoch:  gridlinecircle-15-11-734977 CLr2\n",
      "probe task in epoch:  gridlinecircle-15-11-734977 LolDR\n",
      "probe task in epoch:  gridlinecircle-15-14-560982 LolDR\n",
      "probe task in epoch:  gridlinecircle-15-15-817917 LolDR\n",
      "probe task in epoch:  gridlinecircle-15-17-043265 LCr2\n",
      "probe task in epoch:  gridlinecircle-15-17-043265 CLr2\n",
      "probe task in epoch:  gridlinecircle-15-17-043265 LolDR\n",
      "probe task in epoch:  gridlinecircle-15-18-741488 LolDR\n",
      "probe task in epoch:  gridlinecircle-15-2-856540 LCr2\n",
      "probe task in epoch:  gridlinecircle-15-2-856540 CLr2\n",
      "probe task in epoch:  gridlinecircle-15-2-856540 LolDR\n",
      "probe task in epoch:  gridlinecircle-15-5-882497 LolDR\n",
      "probe task in epoch:  gridlinecircle-15-6-165590 LCr2\n",
      "probe task in epoch:  gridlinecircle-15-6-165590 CLr2\n",
      "probe task in epoch:  gridlinecircle-15-6-165590 LolDR\n",
      "probe task in epoch:  gridlinecircle-15-7-767446 LCr2\n",
      "probe task in epoch:  gridlinecircle-15-7-767446 CLr2\n",
      "probe task in epoch:  gridlinecircle-15-7-767446 LolDR\n",
      "probe task in epoch:  gridlinecircle-15-9-106175 LCr2\n",
      "probe task in epoch:  gridlinecircle-15-9-106175 CLr2\n",
      "probe task in epoch:  gridlinecircle-15-9-106175 LolDR\n",
      "probe task in epoch:  gridlinecircle-16-28-342041 LCr2\n",
      "probe task in epoch:  gridlinecircle-16-28-342041 CLr2\n",
      "probe task in epoch:  gridlinecircle-16-28-342041 LolDR\n",
      "probe task in epoch:  gridlinecircle-16-3-010175 LCr2\n",
      "probe task in epoch:  gridlinecircle-16-3-010175 CLr2\n",
      "probe task in epoch:  gridlinecircle-16-3-010175 LolDR\n",
      "probe task in epoch:  gridlinecircle-16-39-027397 LCr2\n",
      "probe task in epoch:  gridlinecircle-16-39-027397 CLr2\n",
      "probe task in epoch:  gridlinecircle-16-39-027397 LolDR\n",
      "probe task in epoch:  gridlinecircle-16-53-449263 LCr2\n",
      "probe task in epoch:  gridlinecircle-16-53-449263 CLr2\n",
      "probe task in epoch:  gridlinecircle-16-53-449263 LolDR\n",
      "probe task in epoch:  gridlinecircle-16-65-913198 LCr2\n",
      "probe task in epoch:  gridlinecircle-16-65-913198 CLr2\n",
      "probe task in epoch:  gridlinecircle-16-65-913198 LolDR\n",
      "probe task in epoch:  gridlinecircle-16-86-434085 LCr2\n",
      "probe task in epoch:  gridlinecircle-16-86-434085 CLr2\n",
      "probe task in epoch:  gridlinecircle-16-86-434085 LolDR\n",
      "probe task in epoch:  gridlinecircle-17-105-296778 LCr2\n",
      "probe task in epoch:  gridlinecircle-17-105-296778 CLr2\n",
      "probe task in epoch:  gridlinecircle-17-105-296778 LolDR\n",
      "probe task in epoch:  gridlinecircle-17-11-242142 LCr2\n",
      "probe task in epoch:  gridlinecircle-17-11-242142 CLr2\n",
      "probe task in epoch:  gridlinecircle-17-144-418069 LCr2\n",
      "probe task in epoch:  gridlinecircle-17-144-418069 CLr2\n",
      "probe task in epoch:  gridlinecircle-17-144-418069 LolDR\n"
     ]
    },
    {
     "name": "stdout",
     "output_type": "stream",
     "text": [
      "probe task in epoch:  gridlinecircle-17-183-324052 LCr2\n",
      "probe task in epoch:  gridlinecircle-17-183-324052 CLr2\n",
      "probe task in epoch:  gridlinecircle-17-183-324052 LolDR\n",
      "probe task in epoch:  gridlinecircle-17-198-336587 LCr2\n",
      "probe task in epoch:  gridlinecircle-17-198-336587 CLr2\n",
      "probe task in epoch:  gridlinecircle-17-198-336587 LolDR\n",
      "probe task in epoch:  gridlinecircle-17-21-332318 LCr2\n",
      "probe task in epoch:  gridlinecircle-17-21-332318 CLr2\n",
      "probe task in epoch:  gridlinecircle-17-21-332318 LolDR\n",
      "probe task in epoch:  gridlinecircle-17-36-503332 LCr2\n",
      "probe task in epoch:  gridlinecircle-17-36-503332 CLr2\n",
      "probe task in epoch:  gridlinecircle-17-4-264308 LCr2\n",
      "probe task in epoch:  gridlinecircle-17-4-264308 CLr2\n",
      "probe task in epoch:  gridlinecircle-17-43-230791 LCr2\n",
      "probe task in epoch:  gridlinecircle-17-43-230791 CLr2\n",
      "probe task in epoch:  gridlinecircle-17-50-469995 LCr2\n",
      "probe task in epoch:  gridlinecircle-17-50-469995 CLr2\n",
      "probe task in epoch:  gridlinecircle-17-6-416876 LCr2\n",
      "probe task in epoch:  gridlinecircle-17-6-416876 CLr2\n",
      "probe task in epoch:  gridlinecircle-17-6-416876 LolDR\n",
      "probe task in epoch:  gridlinecircle-17-72-409887 LCr2\n",
      "probe task in epoch:  gridlinecircle-17-72-409887 CLr2\n",
      "probe task in epoch:  gridlinecircle-17-72-409887 LolDR\n",
      "probe task in epoch:  gridlinecircle-17-87-451821 LCr2\n",
      "probe task in epoch:  gridlinecircle-17-87-451821 CLr2\n",
      "probe task in epoch:  gridlinecircle-17-87-451821 LolDR\n",
      "probe task in epoch:  gridlinecircle-2-1-764780 LCr1\n",
      "probe task in epoch:  gridlinecircle-2-1-764780 LCr2\n",
      "probe task in epoch:  gridlinecircle-2-1-764780 CLr2\n",
      "probe task in epoch:  gridlinecircle-2-1-764780 LolDR\n",
      "probe task in epoch:  gridlinecircle-2-12-139767 LCr1\n",
      "probe task in epoch:  gridlinecircle-2-12-139767 LCr2\n",
      "probe task in epoch:  gridlinecircle-2-12-139767 CLr2\n",
      "probe task in epoch:  gridlinecircle-2-12-139767 LolDR\n",
      "probe task in epoch:  gridlinecircle-2-17-828332 LCr1\n",
      "probe task in epoch:  gridlinecircle-2-17-828332 LCr2\n",
      "probe task in epoch:  gridlinecircle-2-17-828332 CLr2\n",
      "probe task in epoch:  gridlinecircle-2-17-828332 LolDR\n",
      "probe task in epoch:  gridlinecircle-2-8-877890 LCr1\n",
      "probe task in epoch:  gridlinecircle-2-8-877890 LCr2\n",
      "probe task in epoch:  gridlinecircle-2-8-877890 CLr2\n",
      "probe task in epoch:  gridlinecircle-2-8-877890 LolDR\n",
      "probe task in epoch:  gridlinecircle-24-1-796327 LolDR\n",
      "probe task in epoch:  gridlinecircle-24-7-491399 LolDR\n",
      "probe task in epoch:  gridlinecircle-25-1-354970 LolDR\n",
      "probe task in epoch:  gridlinecircle-25-12-391614 LolDR\n",
      "probe task in epoch:  gridlinecircle-25-17-790587 LolDR\n",
      "probe task in epoch:  gridlinecircle-25-3-360853 LolDR\n",
      "probe task in epoch:  gridlinecircle-3-10-978914 LCr1\n",
      "probe task in epoch:  gridlinecircle-3-10-978914 LCr2\n",
      "probe task in epoch:  gridlinecircle-3-10-978914 CLr2\n",
      "probe task in epoch:  gridlinecircle-3-10-978914 LolDR\n",
      "probe task in epoch:  gridlinecircle-3-17-336213 LCr1\n",
      "probe task in epoch:  gridlinecircle-3-17-336213 LCr2\n",
      "probe task in epoch:  gridlinecircle-3-17-336213 CLr2\n",
      "probe task in epoch:  gridlinecircle-3-17-336213 LolDR\n",
      "probe task in epoch:  gridlinecircle-3-24-993653 LolDR\n",
      "probe task in epoch:  gridlinecircle-3-28-620303 LCr1\n",
      "probe task in epoch:  gridlinecircle-3-28-620303 LCr2\n",
      "probe task in epoch:  gridlinecircle-3-28-620303 CLr2\n",
      "probe task in epoch:  gridlinecircle-3-28-620303 LolDR\n",
      "probe task in epoch:  gridlinecircle-3-3-371353 LolDR\n",
      "probe task in epoch:  gridlinecircle-3-31-526155 LolDR\n",
      "probe task in epoch:  gridlinecircle-3-40-290107 LolDR\n",
      "probe task in epoch:  gridlinecircle-4-1-781113 LolDR\n",
      "probe task in epoch:  gridlinecircle-4-14-742554 LCr1\n",
      "probe task in epoch:  gridlinecircle-4-14-742554 LCr2\n",
      "probe task in epoch:  gridlinecircle-4-14-742554 CLr2\n",
      "probe task in epoch:  gridlinecircle-4-14-742554 LolDR\n",
      "probe task in epoch:  gridlinecircle-4-16-702765 LolDR\n",
      "probe task in epoch:  gridlinecircle-4-22-075707 LCr1\n",
      "probe task in epoch:  gridlinecircle-4-22-075707 LCr2\n",
      "probe task in epoch:  gridlinecircle-4-22-075707 CLr2\n",
      "probe task in epoch:  gridlinecircle-4-22-075707 LolDR\n",
      "probe task in epoch:  gridlinecircle-4-29-860051 LolDR\n",
      "probe task in epoch:  gridlinecircle-4-37-363972 LCr1\n",
      "probe task in epoch:  gridlinecircle-4-37-363972 LCr2\n",
      "probe task in epoch:  gridlinecircle-4-37-363972 CLr2\n",
      "probe task in epoch:  gridlinecircle-4-37-363972 LolDR\n",
      "probe task in epoch:  gridlinecircle-4-38-365254 LolDR\n",
      "probe task in epoch:  gridlinecircle-5-1-251847 LolDR\n",
      "probe task in epoch:  gridlinecircle-5-10-536176 LolDR\n",
      "probe task in epoch:  gridlinecircle-5-11-128983 LCr1\n",
      "probe task in epoch:  gridlinecircle-5-11-128983 LCr2\n",
      "probe task in epoch:  gridlinecircle-5-11-128983 CLr2\n",
      "probe task in epoch:  gridlinecircle-5-11-128983 LolDR\n",
      "probe task in epoch:  gridlinecircle-5-23-251847 LCr1\n",
      "probe task in epoch:  gridlinecircle-5-23-251847 LCr2\n",
      "probe task in epoch:  gridlinecircle-5-23-251847 CLr2\n",
      "probe task in epoch:  gridlinecircle-5-23-251847 LolDR\n",
      "probe task in epoch:  gridlinecircle-5-24-127265 LCr1\n",
      "probe task in epoch:  gridlinecircle-5-24-127265 LCr2\n",
      "probe task in epoch:  gridlinecircle-5-24-127265 CLr2\n",
      "probe task in epoch:  gridlinecircle-5-24-127265 LolDR\n",
      "probe task in epoch:  gridlinecircle-5-3-925109 LolDR\n",
      "probe task in epoch:  gridlinecircle-5-7-960082 LolDR\n",
      "probe task in epoch:  gridlinecircle-6-14-780785 LCr1\n",
      "probe task in epoch:  gridlinecircle-6-14-780785 LCr2\n",
      "probe task in epoch:  gridlinecircle-6-14-780785 CLr2\n",
      "probe task in epoch:  gridlinecircle-6-14-780785 LolDR\n",
      "probe task in epoch:  gridlinecircle-6-24-257195 LCr1\n",
      "probe task in epoch:  gridlinecircle-6-24-257195 LCr2\n",
      "probe task in epoch:  gridlinecircle-6-24-257195 CLr2\n",
      "probe task in epoch:  gridlinecircle-6-24-257195 LolDR\n",
      "probe task in epoch:  gridlinecircle-6-8-741832 LCr1\n",
      "probe task in epoch:  gridlinecircle-6-8-741832 LCr2\n",
      "probe task in epoch:  gridlinecircle-6-8-741832 CLr2\n",
      "probe task in epoch:  gridlinecircle-6-8-741832 LolDR\n",
      "probe task in epoch:  gridlinecircle-7-10-992607 LolDR\n",
      "probe task in epoch:  gridlinecircle-7-17-370626 LCr1\n",
      "probe task in epoch:  gridlinecircle-7-17-370626 LCr2\n",
      "probe task in epoch:  gridlinecircle-7-17-370626 CLr2\n",
      "probe task in epoch:  gridlinecircle-7-17-370626 LolDR\n",
      "probe task in epoch:  gridlinecircle-7-18-992607 LCr1\n",
      "probe task in epoch:  gridlinecircle-7-18-992607 LCr2\n",
      "probe task in epoch:  gridlinecircle-7-18-992607 CLr2\n",
      "probe task in epoch:  gridlinecircle-7-18-992607 LolDR\n",
      "probe task in epoch:  gridlinecircle-7-20-735600 LolDR\n",
      "probe task in epoch:  gridlinecircle-7-24-341520 LolDR\n",
      "probe task in epoch:  gridlinecircle-7-31-289797 LolDR\n",
      "probe task in epoch:  gridlinecircle-7-6-341520 LolDR\n",
      "probe task in epoch:  gridlinecircle-8-14-997095 LolDR\n",
      "probe task in epoch:  gridlinecircle-8-16-023425 LolDR\n",
      "probe task in epoch:  gridlinecircle-8-2-062361 LolDR\n",
      "probe task in epoch:  gridlinecircle-8-26-993383 LCr1\n",
      "probe task in epoch:  gridlinecircle-8-26-993383 LCr2\n",
      "probe task in epoch:  gridlinecircle-8-26-993383 CLr2\n",
      "probe task in epoch:  gridlinecircle-8-26-993383 LolDR\n",
      "probe task in epoch:  gridlinecircle-8-27-986207 LolDR\n",
      "probe task in epoch:  gridlinecircle-8-48-364217 LCr1\n",
      "probe task in epoch:  gridlinecircle-8-48-364217 LCr2\n",
      "probe task in epoch:  gridlinecircle-8-48-364217 CLr2\n",
      "probe task in epoch:  gridlinecircle-8-48-364217 LolDR\n",
      "probe task in epoch:  gridlinecircle-8-6-997095 LolDR\n",
      "probe task in epoch:  gridlinecircle-9-1-260040 LCr1\n",
      "probe task in epoch:  gridlinecircle-9-1-260040 LCr2\n",
      "probe task in epoch:  gridlinecircle-9-1-260040 CLr2\n",
      "probe task in epoch:  gridlinecircle-9-12-031969 LCr1\n",
      "probe task in epoch:  gridlinecircle-9-12-031969 LCr2\n",
      "probe task in epoch:  gridlinecircle-9-12-031969 CLr2\n",
      "probe task in epoch:  gridlinecircle-9-2-906211 LCr1\n",
      "probe task in epoch:  gridlinecircle-9-2-906211 LCr2\n",
      "probe task in epoch:  gridlinecircle-9-2-906211 CLr2\n",
      "probe task in epoch:  gridlinecircle-9-2-906211 LolDR\n",
      "probe task in epoch:  gridlinecircle-9-22-247697 LCr1\n",
      "probe task in epoch:  gridlinecircle-9-22-247697 LCr2\n",
      "probe task in epoch:  gridlinecircle-9-22-247697 CLr2\n",
      "probe task in epoch:  gridlinecircle-9-30-004789 LCr1\n",
      "probe task in epoch:  gridlinecircle-9-30-004789 LCr2\n",
      "probe task in epoch:  gridlinecircle-9-30-004789 CLr2\n",
      "probe task in epoch:  gridlinecircle-9-35-016100 LCr1\n",
      "probe task in epoch:  gridlinecircle-9-35-016100 LCr2\n",
      "probe task in epoch:  gridlinecircle-9-35-016100 CLr2\n",
      "probe task in epoch:  gridlinecircle-9-37-133353 LCr1\n",
      "probe task in epoch:  gridlinecircle-9-37-133353 LCr2\n",
      "probe task in epoch:  gridlinecircle-9-37-133353 CLr2\n",
      "probe task in epoch:  gridlinecircle-9-38-838937 LCr1\n",
      "probe task in epoch:  gridlinecircle-9-38-838937 LCr2\n",
      "probe task in epoch:  gridlinecircle-9-38-838937 CLr2\n",
      "probe task in epoch:  gridlinecircle-9-4-227204 LCr1\n",
      "probe task in epoch:  gridlinecircle-9-4-227204 LCr2\n",
      "probe task in epoch:  gridlinecircle-9-4-227204 CLr2\n",
      "probe task in epoch:  gridlinecircle-9-41-624708 LCr1\n"
     ]
    },
    {
     "name": "stdout",
     "output_type": "stream",
     "text": [
      "probe task in epoch:  gridlinecircle-9-41-624708 LCr2\n",
      "probe task in epoch:  gridlinecircle-9-41-624708 CLr2\n",
      "probe task in epoch:  gridlinecircle-9-47-899097 LCr1\n",
      "probe task in epoch:  gridlinecircle-9-47-899097 LCr2\n",
      "probe task in epoch:  gridlinecircle-9-47-899097 CLr2\n",
      "probe task in epoch:  gridlinecircle-9-47-899097 LolDR\n",
      "probe task in epoch:  gridlinecircle-9-50-754917 LCr1\n",
      "probe task in epoch:  gridlinecircle-9-50-754917 LCr2\n",
      "probe task in epoch:  gridlinecircle-9-50-754917 CLr2\n",
      "probe task in epoch:  gridlinecircle-9-6-967403 LCr1\n",
      "probe task in epoch:  gridlinecircle-9-6-967403 LCr2\n",
      "probe task in epoch:  gridlinecircle-9-6-967403 CLr2\n",
      "probe task in epoch:  gridlinecircle-9-9-671402 LCr1\n",
      "probe task in epoch:  gridlinecircle-9-9-671402 LCr2\n",
      "probe task in epoch:  gridlinecircle-9-9-671402 CLr2\n",
      "probe task in epoch:  gridlinecircle-9-9-671402 LolDR\n",
      "[taskgroup_reassign_by_mapper], reassigned values in column: taskgroup\n",
      "[taskgroup_reassign_by_mapper], reassigned values in column: taskgroup\n",
      "GROUPING epoch\n",
      "GROUPING_LEVELS ['LCr1', 'LCr2', 'CLr2', 'LolDR']\n",
      "FEATURE_NAMES ['hdoffline', 'num_strokes', 'circ', 'dist']\n",
      "SCORE_COL_NAMES []\n",
      "appended col to self.Dat:\n",
      "date_epoch\n",
      "Appended self.Dat[superv_SEQUENCE_SUP]\n",
      "Appended self.Dat[superv_COLOR_ON]\n",
      "Appended self.Dat[superv_COLOR_METHOD]\n",
      "Appended self.Dat[superv_GUIDEDYN_ON]\n",
      "appended col to self.Dat:\n",
      "supervision_stage_concise\n",
      "MERGING EPOCHS...\n",
      "Merging these epochs: ['LCr1', 'LCr2'] ... into this: LCr2\n"
     ]
    }
   ],
   "source": [
    "# Load main dataset\n",
    "animal = \"Diego\"\n",
    "expt = \"gridlinecircleGOOD\"\n",
    "rulelist = None\n",
    "D = load_dataset(animal, expt, rulelist)\n"
   ]
  },
  {
   "cell_type": "code",
   "execution_count": 39,
   "id": "ee7a059f",
   "metadata": {},
   "outputs": [
    {
     "name": "stdout",
     "output_type": "stream",
     "text": [
      "SAVING at:  /gorilla1/analyses/main/grammar/Diego_gridlinecircleGOOD_null\n",
      "/gorilla1/analyses/main/grammar/Diego_gridlinecircleGOOD_null/discrete_rules\n"
     ]
    }
   ],
   "source": [
    "SDIR = D.make_savedir_for_analysis_figures(\"grammar\")\n",
    "savedir= f\"{SDIR}/discrete_rules\"\n",
    "os.makedirs(savedir, exist_ok=True) \n",
    "print(savedir)\n"
   ]
  },
  {
   "cell_type": "markdown",
   "id": "e8da6211",
   "metadata": {},
   "source": [
    "##### [Optional] merge epochs"
   ]
  },
  {
   "cell_type": "code",
   "execution_count": 45,
   "id": "497dff67",
   "metadata": {},
   "outputs": [],
   "source": [
    "D.supervision_epochs_merge_these([\"LCr1\", \"LCr2\"], \"LCr2\")"
   ]
  },
  {
   "cell_type": "markdown",
   "id": "bf19b55f",
   "metadata": {},
   "source": [
    "##### Cleanup"
   ]
  },
  {
   "cell_type": "code",
   "execution_count": null,
   "id": "6f72f3cb",
   "metadata": {},
   "outputs": [],
   "source": [
    "# [OPTIONAL] Only keep days with probe tasks\n",
    "\n",
    "print(\"old length: \", len(D.Dat))\n",
    "grpdict = D.grouping_get_inner_items(\"date\", \"probe\")\n",
    "dates_good = [date for date, probes in grpdict.items() if len(probes)>1]\n",
    "print(grpdict)\n",
    "print(\"Dates with probe tasks: \", dates_good)\n",
    "D.filterPandas({\"date\":dates_good}, \"modify\")\n",
    "print(\"new length: \", len(D.Dat))"
   ]
  },
  {
   "cell_type": "code",
   "execution_count": 28,
   "id": "154c312e",
   "metadata": {},
   "outputs": [
    {
     "data": {
      "text/plain": [
       "['no_supervision', 'remove_online_abort']"
      ]
     },
     "execution_count": 28,
     "metadata": {},
     "output_type": "execute_result"
    }
   ],
   "source": [
    "params = [\"no_supervision\", \"remove_online_abort\"]\n",
    "D.preprocessGood(params =params)"
   ]
  },
  {
   "cell_type": "code",
   "execution_count": null,
   "id": "a6ae71ed",
   "metadata": {},
   "outputs": [],
   "source": []
  },
  {
   "cell_type": "markdown",
   "id": "ef278f59",
   "metadata": {},
   "source": [
    "##### Modeling scores"
   ]
  },
  {
   "cell_type": "code",
   "execution_count": null,
   "id": "73c1eb65",
   "metadata": {},
   "outputs": [],
   "source": []
  },
  {
   "cell_type": "code",
   "execution_count": 56,
   "id": "48929e43",
   "metadata": {},
   "outputs": [
    {
     "name": "stdout",
     "output_type": "stream",
     "text": [
      "SAVING at:  /gorilla1/analyses/main/grammar/Diego_gridlinecircleGOOD_null\n",
      "Got these sets of blocks:  [[22, 23]]\n"
     ]
    },
    {
     "ename": "AssertionError",
     "evalue": "didnt find this rule in any sets: LCr1",
     "output_type": "error",
     "traceback": [
      "\u001b[0;31m---------------------------------------------------------------------------\u001b[0m",
      "\u001b[0;31mAssertionError\u001b[0m                            Traceback (most recent call last)",
      "Input \u001b[0;32mIn [56]\u001b[0m, in \u001b[0;36m<cell line: 2>\u001b[0;34m()\u001b[0m\n\u001b[1;32m      1\u001b[0m \u001b[38;5;66;03m# Preprocess -- extract all parses\u001b[39;00m\n\u001b[0;32m----> 2\u001b[0m bm \u001b[38;5;241m=\u001b[39m \u001b[43mD\u001b[49m\u001b[38;5;241;43m.\u001b[39;49m\u001b[43mgrammar_wrapper_extract\u001b[49m\u001b[43m(\u001b[49m\u001b[43m)\u001b[49m\n",
      "File \u001b[0;32m/gorilla1/code/pythonlib/pythonlib/dataset/dataset.py:5297\u001b[0m, in \u001b[0;36mDataset.grammar_wrapper_extract\u001b[0;34m(self, return_as_bmh_object)\u001b[0m\n\u001b[1;32m   5292\u001b[0m \u001b[38;5;124;03m\"\"\" Extract grammar data for each trial\u001b[39;00m\n\u001b[1;32m   5293\u001b[0m \u001b[38;5;124;03mRETURNS:\u001b[39;00m\n\u001b[1;32m   5294\u001b[0m \u001b[38;5;124;03m- bm, beh_model_holder, with dataset (rows) matching self.Dat\u001b[39;00m\n\u001b[1;32m   5295\u001b[0m \u001b[38;5;124;03m\"\"\"\u001b[39;00m\n\u001b[1;32m   5296\u001b[0m \u001b[38;5;28;01mfrom\u001b[39;00m \u001b[38;5;21;01mpythonlib\u001b[39;00m\u001b[38;5;21;01m.\u001b[39;00m\u001b[38;5;21;01mdataset\u001b[39;00m\u001b[38;5;21;01m.\u001b[39;00m\u001b[38;5;21;01mdataset_analy\u001b[39;00m\u001b[38;5;21;01m.\u001b[39;00m\u001b[38;5;21;01mgrammar\u001b[39;00m \u001b[38;5;28;01mimport\u001b[39;00m preprocess_dataset\n\u001b[0;32m-> 5297\u001b[0m bm, _, _ \u001b[38;5;241m=\u001b[39m \u001b[43mpreprocess_dataset\u001b[49m\u001b[43m(\u001b[49m\u001b[38;5;28;43mself\u001b[39;49m\u001b[43m,\u001b[49m\u001b[43m \u001b[49m\u001b[43mreturn_as_bmh_object\u001b[49m\u001b[38;5;241;43m=\u001b[39;49m\u001b[43mreturn_as_bmh_object\u001b[49m\u001b[43m)\u001b[49m\n\u001b[1;32m   5298\u001b[0m \u001b[38;5;28;01mreturn\u001b[39;00m bm\n",
      "File \u001b[0;32m/gorilla1/code/pythonlib/pythonlib/dataset/dataset_analy/grammar.py:61\u001b[0m, in \u001b[0;36mpreprocess_dataset\u001b[0;34m(D, grammar_recompute_parses, grammar_correct_rule, DEBUG, how_define_correct_order, reset_grammar_dat, return_as_bmh_object)\u001b[0m\n\u001b[1;32m     57\u001b[0m     list_rules \u001b[38;5;241m=\u001b[39m []\n\u001b[1;32m     58\u001b[0m \u001b[38;5;28;01melse\u001b[39;00m:\n\u001b[1;32m     59\u001b[0m     \u001b[38;5;66;03m# 2) get additional rules (hypotheses)\u001b[39;00m\n\u001b[1;32m     60\u001b[0m     \u001b[38;5;66;03m## Test each beh against hypothetical rules (discrete models)\u001b[39;00m\n\u001b[0;32m---> 61\u001b[0m     list_rules \u001b[38;5;241m=\u001b[39m \u001b[43mrules_related_rulestrings_extract_auto\u001b[49m\u001b[43m(\u001b[49m\u001b[43mD\u001b[49m\u001b[43m)\u001b[49m\n\u001b[1;32m     63\u001b[0m \u001b[38;5;28;01mif\u001b[39;00m return_as_bmh_object\u001b[38;5;241m==\u001b[39m\u001b[38;5;28;01mFalse\u001b[39;00m:\n\u001b[1;32m     64\u001b[0m     \u001b[38;5;66;03m# cannot do this...\u001b[39;00m\n\u001b[1;32m     65\u001b[0m     recompute_success_using_acceptable_scorers \u001b[38;5;241m=\u001b[39m \u001b[38;5;28;01mFalse\u001b[39;00m\n",
      "File \u001b[0;32m/gorilla1/code/pythonlib/pythonlib/dataset/modeling/discrete.py:1145\u001b[0m, in \u001b[0;36mrules_related_rulestrings_extract_auto\u001b[0;34m(D)\u001b[0m\n\u001b[1;32m   1140\u001b[0m \u001b[38;5;124;03m\"\"\" Helper to try to extract all relevant rules, based on:\u001b[39;00m\n\u001b[1;32m   1141\u001b[0m \u001b[38;5;124;03m(i) the groundt truth rules in D< and (ii) related rules that\u001b[39;00m\n\u001b[1;32m   1142\u001b[0m \u001b[38;5;124;03mare alternative huypotjeses to those rules\u001b[39;00m\n\u001b[1;32m   1143\u001b[0m \u001b[38;5;124;03m\"\"\"\u001b[39;00m\n\u001b[1;32m   1144\u001b[0m list_rules \u001b[38;5;241m=\u001b[39m D\u001b[38;5;241m.\u001b[39mDat[\u001b[38;5;124m\"\u001b[39m\u001b[38;5;124mepoch_rule_tasksequencer\u001b[39m\u001b[38;5;124m\"\u001b[39m]\u001b[38;5;241m.\u001b[39munique()\u001b[38;5;241m.\u001b[39mtolist()\n\u001b[0;32m-> 1145\u001b[0m \u001b[38;5;28;01mreturn\u001b[39;00m \u001b[43m_rules_related_rulestrings_extract_auto\u001b[49m\u001b[43m(\u001b[49m\u001b[43mlist_rules\u001b[49m\u001b[43m)\u001b[49m\n",
      "File \u001b[0;32m/gorilla1/code/pythonlib/pythonlib/dataset/modeling/discrete.py:1195\u001b[0m, in \u001b[0;36m_rules_related_rulestrings_extract_auto\u001b[0;34m(list_rules)\u001b[0m\n\u001b[1;32m   1193\u001b[0m list_rules_related \u001b[38;5;241m=\u001b[39m[]\n\u001b[1;32m   1194\u001b[0m \u001b[38;5;28;01mfor\u001b[39;00m rulethis \u001b[38;5;129;01min\u001b[39;00m list_rules:\n\u001b[0;32m-> 1195\u001b[0m     list_rules_related\u001b[38;5;241m.\u001b[39mextend(\u001b[43m_find_related_rules\u001b[49m\u001b[43m(\u001b[49m\u001b[43mrulethis\u001b[49m\u001b[43m)\u001b[49m)\n\u001b[1;32m   1197\u001b[0m \u001b[38;5;66;03m# 3) combine\u001b[39;00m\n\u001b[1;32m   1198\u001b[0m \u001b[38;5;66;03m# list_rules_all = list_rules + list_rules_related\u001b[39;00m\n\u001b[1;32m   1199\u001b[0m list_rules_all \u001b[38;5;241m=\u001b[39m list_rules_related\n",
      "File \u001b[0;32m/gorilla1/code/pythonlib/pythonlib/dataset/modeling/discrete.py:1190\u001b[0m, in \u001b[0;36m_rules_related_rulestrings_extract_auto.<locals>._find_related_rules\u001b[0;34m(rulethis)\u001b[0m\n\u001b[1;32m   1188\u001b[0m         FOUND \u001b[38;5;241m=\u001b[39m \u001b[38;5;28;01mTrue\u001b[39;00m\n\u001b[1;32m   1189\u001b[0m         related_rules\u001b[38;5;241m.\u001b[39mextend(rule_set)\n\u001b[0;32m-> 1190\u001b[0m \u001b[38;5;28;01massert\u001b[39;00m FOUND, \u001b[38;5;124mf\u001b[39m\u001b[38;5;124m\"\u001b[39m\u001b[38;5;124mdidnt find this rule in any sets: \u001b[39m\u001b[38;5;132;01m{\u001b[39;00mrulethis\u001b[38;5;132;01m}\u001b[39;00m\u001b[38;5;124m\"\u001b[39m\n\u001b[1;32m   1191\u001b[0m \u001b[38;5;28;01mreturn\u001b[39;00m \u001b[38;5;28mlist\u001b[39m(\u001b[38;5;28mset\u001b[39m(related_rules))\n",
      "\u001b[0;31mAssertionError\u001b[0m: didnt find this rule in any sets: LCr1"
     ]
    }
   ],
   "source": [
    "# Preprocess -- extract all parses\n",
    "bm = D.grammar_wrapper_extract()"
   ]
  },
  {
   "cell_type": "markdown",
   "id": "d258b518",
   "metadata": {},
   "source": [
    "##### Categorize tasks into probe kinds"
   ]
  },
  {
   "cell_type": "code",
   "execution_count": null,
   "id": "8603b94a",
   "metadata": {
    "scrolled": true
   },
   "outputs": [],
   "source": [
    "if True:\n",
    "    from pythonlib.dataset.dataset_preprocess.probes import compute_features_each_probe\n",
    "    dict_probe_features, dict_probe_kind, list_tasks_probe = compute_features_each_probe(D)\n",
    "    D.Dat[\"taskgroup\"].value_counts()"
   ]
  },
  {
   "cell_type": "code",
   "execution_count": null,
   "id": "19ef007c",
   "metadata": {},
   "outputs": [],
   "source": [
    "dict_probe_features"
   ]
  },
  {
   "cell_type": "markdown",
   "id": "c4399742",
   "metadata": {},
   "source": [
    "##### categorize each task based on the sequence"
   ]
  },
  {
   "cell_type": "code",
   "execution_count": null,
   "id": "d28cce6b",
   "metadata": {},
   "outputs": [],
   "source": [
    "# e.g., AAABB, etc.\n",
    "# This is a more fine-grained version of taskgroup."
   ]
  },
  {
   "cell_type": "code",
   "execution_count": null,
   "id": "7829d2df",
   "metadata": {},
   "outputs": [],
   "source": [
    "# for each task, have a feature vector\n",
    "# an abstract property of this task. \n",
    "\n",
    "D.Dat[\"probe\"]\n",
    "D.Dat[\"taskgroup\"]\n",
    "D.Dat[\"supervision_stage_concise\"]\n"
   ]
  },
  {
   "cell_type": "code",
   "execution_count": null,
   "id": "50f1346c",
   "metadata": {},
   "outputs": [],
   "source": [
    "# shape "
   ]
  },
  {
   "cell_type": "code",
   "execution_count": null,
   "id": "60f4bdc3",
   "metadata": {},
   "outputs": [],
   "source": [
    "ind = 100\n",
    "T = D.Dat.iloc[ind][\"Task\"]\n",
    "T.get_task_category()\n"
   ]
  },
  {
   "cell_type": "code",
   "execution_count": null,
   "id": "60f36cec",
   "metadata": {},
   "outputs": [],
   "source": [
    "D.Dat[\"epoch\"]\n"
   ]
  },
  {
   "cell_type": "code",
   "execution_count": null,
   "id": "cbdfb042",
   "metadata": {},
   "outputs": [],
   "source": [
    "# Given a rule, get the relevant features\n",
    "D.Dat[\"epoch\"]\n",
    "\n",
    "shapes_in_order = []\n",
    "\n",
    "for sh in shapes_in_order:\n",
    "    \n",
    "    \n",
    "    \n"
   ]
  },
  {
   "cell_type": "code",
   "execution_count": null,
   "id": "13beb9c9",
   "metadata": {},
   "outputs": [],
   "source": [
    "# from pythonlib.dataset.modeling.discrete import rules_related_rulestrings_extract_auto, map_from_rulestring_to_ruledict, map_epoch_rule_to_acceptable_rulestrings\n",
    "from pythonlib.dataset.modeling.discrete import tasks_categorize_based_on_rule\n",
    "\n",
    "rule = \"AnBm1a\"\n",
    "OUT = tasks_categorize_based_on_rule(D, rule)\n",
    "dfout = pd.DataFrame(OUT)\n",
    "\n",
    "\n",
    "from pythonlib.tools.pandastools import grouping_get_inner_items, grouping_print_n_samples\n",
    "grouping_get_inner_items(bm.Dat, \"taskcat_by_rule\", \"taskgroup\")\n",
    "\n",
    "# grouping_print_n_samples(bm.Dat, [\"taskcat_by_rule\", \"taskgroup\"])\n",
    "\n",
    "grouping_get_inner_items(bm.Dat, \"taskcat_by_rule\", \"probe\")\n",
    "grouping_get_inner_items(bm.Dat, \"probe\", \"taskcat_by_rule\")\n",
    "\n",
    "%matplotlib inline\n",
    "# Plot\n",
    "# - assigne column\n",
    "taskcat = \"ss-shapes_ngram\"\n",
    "\n",
    "bm.Dat[\"taskcat_by_rule\"] = dfout[taskcat]\n",
    "bm.plot_score_cross_prior_model_splitby(bm.Dat, split_by=\"taskcat_by_rule\")"
   ]
  },
  {
   "cell_type": "code",
   "execution_count": null,
   "id": "366f5256",
   "metadata": {},
   "outputs": [],
   "source": [
    "##### Count "
   ]
  },
  {
   "cell_type": "markdown",
   "id": "d3112a8c",
   "metadata": {},
   "source": [
    "\n",
    "##### Subsample tasks"
   ]
  },
  {
   "cell_type": "code",
   "execution_count": null,
   "id": "54313f50",
   "metadata": {},
   "outputs": [],
   "source": [
    "D.subsampleTrials(1, 1)"
   ]
  },
  {
   "cell_type": "markdown",
   "id": "2d0b77d5",
   "metadata": {},
   "source": [
    "##### Develop new rules --> find chunks"
   ]
  },
  {
   "cell_type": "code",
   "execution_count": null,
   "id": "aea072e2",
   "metadata": {},
   "outputs": [],
   "source": [
    "ind = 100\n",
    "Task = D.Dat.iloc[ind][\"Task\"]\n",
    "tokens = Task.tokens_generate()\n",
    "P = tokens[0][\"Prim\"]\n",
    "P.extract_as(\"shape\")"
   ]
  },
  {
   "cell_type": "code",
   "execution_count": null,
   "id": "d1d59de9",
   "metadata": {},
   "outputs": [],
   "source": [
    "D.plotSingleTrial(ind, task_add_num=True)"
   ]
  },
  {
   "cell_type": "code",
   "execution_count": null,
   "id": "ac0613c4",
   "metadata": {
    "scrolled": false
   },
   "outputs": [],
   "source": [
    "from pythonlib.chunks.chunks import find_chunks_hier, sample_all_possible_chunks\n",
    "RULE = \"ch-dir2-(AB)n\"\n",
    "find_chunks_hier(Task, None, RULE, DEBUG=False)"
   ]
  },
  {
   "cell_type": "code",
   "execution_count": null,
   "id": "20030d06",
   "metadata": {},
   "outputs": [],
   "source": [
    "# list_groups = [[0, 1], [1,2], [3,4]]\n",
    "list_groups = [[1,2]]\n",
    "list_possible_inds = list(range(len(Task.Strokes)))\n",
    "list_hier = sample_all_possible_chunks(list_groups, list_possible_inds)\n",
    "for hier in list_hier:\n",
    "    print(hier)"
   ]
  },
  {
   "cell_type": "markdown",
   "id": "305cffdc",
   "metadata": {},
   "source": [
    "##### Plot "
   ]
  },
  {
   "cell_type": "code",
   "execution_count": null,
   "id": "c0d9e0b0",
   "metadata": {},
   "outputs": [],
   "source": [
    "D.Dat[\"epoch\"].value_counts()"
   ]
  },
  {
   "cell_type": "code",
   "execution_count": null,
   "id": "f202da3e",
   "metadata": {},
   "outputs": [],
   "source": [
    "from pythonlib.dataset.dataset_analy.grammar import preprocess_dataset\n",
    "bm, list_blocksets_with_contiguous_probes, SDIR = preprocess_dataset(D, reset_grammar_dat=True)"
   ]
  },
  {
   "cell_type": "code",
   "execution_count": null,
   "id": "103153c4",
   "metadata": {
    "scrolled": false
   },
   "outputs": [],
   "source": [
    "ind = 102\n",
    "display(bm.Dat.iloc[ind])\n",
    "display(bm.Dat.iloc[ind][\"parsesdict\"])\n",
    "%matplotlib inline \n",
    "D.sequence_extract_beh_and_task(ind, True)"
   ]
  },
  {
   "cell_type": "code",
   "execution_count": null,
   "id": "f4d9b38d",
   "metadata": {},
   "outputs": [],
   "source": [
    "# find cases with nstrokesdiff from train\n",
    "for i in range(len(D.Dat)):\n",
    "    strokes = D.Dat.iloc[i][\"strokes_task\"]\n",
    "    if len(strokes)==4:\n",
    "        print(i)"
   ]
  },
  {
   "cell_type": "code",
   "execution_count": null,
   "id": "0a7d2729",
   "metadata": {
    "scrolled": false
   },
   "outputs": [],
   "source": [
    "bm.plotwrapper_overview_all()"
   ]
  },
  {
   "cell_type": "code",
   "execution_count": null,
   "id": "41db4e61",
   "metadata": {},
   "outputs": [],
   "source": [
    "name1=bm.colnames_extract_scores()[0]\n",
    "name2=bm.colnames_extract_scores()[1]\n",
    "bm.plot_score_scatter_compare_models(name1, name2)"
   ]
  },
  {
   "cell_type": "code",
   "execution_count": null,
   "id": "d5b0f88d",
   "metadata": {},
   "outputs": [],
   "source": [
    "# OPTIONAL: Add learning-related params\n",
    "# grammar-data preprocessing (adds columns to D.Dat)\n",
    "from pythonlib.dataset.dataset_analy.grammar import preprocess_dataset\n",
    "dfGramScore, list_blocksets_with_contiguous_probes, SDIR = preprocess_dataset(D)\n"
   ]
  },
  {
   "cell_type": "code",
   "execution_count": null,
   "id": "9e7cbdb9",
   "metadata": {},
   "outputs": [],
   "source": [
    "##### "
   ]
  },
  {
   "cell_type": "code",
   "execution_count": null,
   "id": "8bbe7f7f",
   "metadata": {},
   "outputs": [],
   "source": [
    "D.grouping_get_inner_items(\"monkey_train_or_test\", \"probe\")"
   ]
  },
  {
   "cell_type": "markdown",
   "id": "ba25fd36",
   "metadata": {},
   "source": [
    "##### TODO: add Timecourse plots (see \"learning.py\")"
   ]
  },
  {
   "cell_type": "code",
   "execution_count": null,
   "id": "a47436c2",
   "metadata": {},
   "outputs": [],
   "source": [
    "\n",
    "\n",
    "\n",
    "D.taskgroup_char_ntrials_print_save(savedir)\n",
    "\n",
    "# Separate plots for each taskgroup\n",
    "import os \n",
    "\n",
    "# combine in single plot (all taskgroups)\n",
    "%matplotlib inline\n",
    "sdir = f\"{savedir}/score_epoch_x_rule_splitby\"\n",
    "os.makedirs(sdir, exist_ok=True)\n",
    "\n",
    "for split_by in [\"taskgroup\", \"isprobe\"]:\n",
    "    fig = bm.plot_score_cross_prior_model_splitby(split_by=split_by)\n",
    "    fig.savefig(f\"{sdir}/splitby_{split_by}-trialdat.pdf\")\n"
   ]
  },
  {
   "cell_type": "markdown",
   "id": "ea794ce0",
   "metadata": {},
   "source": [
    "### OLDER"
   ]
  },
  {
   "cell_type": "code",
   "execution_count": null,
   "id": "5e71bacc",
   "metadata": {},
   "outputs": [],
   "source": [
    "# Goal for final pipeline:\n",
    "\n",
    "1. df = D.grammar_generate_search_all_parses(list_rule, map_epochname_to_rulename, params) # generate df\n",
    "# Note: the idea is we could gneerate df using other methods for beh-model comparison. but they\n",
    "# all generate a similar datastructure df.\n",
    "2. bm = BehModelHolder(df, dict_modelclass_to_rules) # role: make plots of all combinations of (animal_epoch x model_rule) [2 x 4 in your case]\n",
    "3. bm.plotwrapper_overview_all() # generate plots.\n",
    "\n",
    "# have this work for shapesequence2, neuralbiasdir\n",
    "\n",
    "# mark where expt-specific code needs to be changed\n"
   ]
  },
  {
   "cell_type": "markdown",
   "id": "127d26fd",
   "metadata": {},
   "source": [
    "### OLDER CODE (before 1/21/23) - goal is to replace with above (KGG wrote)"
   ]
  },
  {
   "cell_type": "markdown",
   "id": "d2ee7a3b",
   "metadata": {},
   "source": [
    "##### Generate a fake dataset "
   ]
  },
  {
   "cell_type": "code",
   "execution_count": null,
   "id": "29698d74",
   "metadata": {},
   "outputs": [],
   "source": [
    "import random\n",
    "# list_rule = [\"rank\", \"chain\", \"left\", \"right\"]\n",
    "# list_class = [\"shape\", \"shape\", \"direction\", \"direction\"]\n",
    "\n",
    "list_character = [\"1\", \"2\", \"3\"]\n",
    "dict_modelclass_to_rules = {\n",
    "    \"discrete\":[\"shaperank\", \"shapechain\", \"dirleft\", \"dirright\", \"shape1\", \"shape2\"],\n",
    "    \"mkvsmk\":[\"dirleft\", \"dirright\", \"shape1\", \"shape2\"],\n",
    "}\n",
    "list_epoch = [\"shape1\", \"shape2\"]\n",
    "dat = []\n",
    "date = \"221212\"\n",
    "sess = 1\n",
    "ct = 0\n",
    "ntrials = 4\n",
    "for _ in range(ntrials):\n",
    "    for char in list_character:\n",
    "        for epoch in list_epoch:\n",
    "            dat.append(\n",
    "                {\n",
    "                 \"epoch\":epoch,\n",
    "                 \"character\":char\n",
    "                })\n",
    "            for mclass, list_rules in dict_modelclass_to_rules.items():\n",
    "                for rule in list_rules:\n",
    "                        dat[-1][f\"behmodpost_{rule}_{mclass}\"] = random.random()\n",
    "                        dat[-1][\"trialcode\"] = f\"{date}-{sess}-{ct}\"\n",
    "                        ct+=1\n",
    "\n",
    "data = pd.DataFrame(dat)\n",
    "BM = BehModelHolder(data, dict_modelclass_to_rules)\n",
    "\n"
   ]
  },
  {
   "cell_type": "code",
   "execution_count": null,
   "id": "b38f437d",
   "metadata": {},
   "outputs": [],
   "source": [
    "data"
   ]
  },
  {
   "cell_type": "markdown",
   "id": "9dfba318",
   "metadata": {},
   "source": [
    "\n",
    "##### TODO\n",
    "\n",
    "1. Input long form. Note: previously inputted wide form becuase inputs DataSet directly, where each row is a trial.\n",
    "Decide whether to write wrapper to take in wide form --> long form before input. (see BM._input_data_long_form)\n",
    "\n",
    "3. Consolidate all summary/overview plots of model vs. beh (each model/beh). This is currently spread across:\n",
    "- beh_model_comparison:\n",
    "--- plots_cross_prior_and_model_combined [TODO, move to anynum]\n",
    "--- plots_cross_prior_and_model [DONE - all moved to anynum]\n",
    "--- plots_cross_prior_and_model_anynum\n",
    "DONE!! \n",
    "[note: Compute samemod minus diff mod this is obsolete, more general is to compute alignment]\n",
    "\n",
    "TODO: clean up the code to produce the plots\n",
    "\n",
    "4. Plots to generate more detailed summaries of parses:\n",
    "--- stats across parses: MBH.plot_datxmodel_overview_results [more relevant to looking at distributions across parses] (calls BehModelHandler.plot_overview_results)\n",
    "--- Drawings of each parse: plot_overview_trial\n",
    "--- Also see everything in BehModelHandler (works with parses)\n",
    "--- Also see everything in BehModel (works with parses)\n",
    "\n",
    "5. Plots to summarize alignemnts:\n",
    "-- Pull in MBH.plot_summary_alignments()\n",
    "-- Pull in MBH.analy_compute_alignment_wrapper(ploton=True)\n",
    "\n",
    "6. Make computing alignments a more general process:\n",
    "PROBLEM: This requires that at least one of the \"rule\" for model is same as epoch. This cant be done if rule is something like \"rank\" vs. \"chain\".\n",
    "\n",
    "TODO: alignemnet currently is only within a modelclass. expand across modelclasses.\n",
    "\n",
    "3. Replace MBH so that is calls the new BM (this contains all abstract code for dealing with models and score).\n",
    "\n",
    "4. Decide whether there should be general code for working with parses, that applies across continuous and discrete parses? (I think yes). \n",
    "I..e, BehModel should be modified to consider abstract parses. Probably easier to write a new class to work with discrete parses, honestly, which incorpprates CLC (for storing/generating parses), and GrammarDat for computing scores.\n",
    "i.e., func: (CLC, GrammarDat) --> data (which you can pass into BM).\n",
    "\n",
    "\n",
    "5. THink about wherther to incorproate all the trial-level modeling, including what did during pandemic? The lines5 modeling, which is a precursor to the MBH parse based modeling, so maybe ignore it.\n",
    "\n",
    "\n",
    "6. Look closely at whether any other plots have previously coded, but not incorporated here\n",
    "\n",
    "\n",
    "7. Incorporate diagnostic modeling (grammardat)\n",
    "\n",
    "8. Incorporate discrate modeling, e.g., string distances, using GrmmarDat, since it holds both the behaivor and parse seuqences in discrete. do everthing there then output scores to BM"
   ]
  },
  {
   "cell_type": "markdown",
   "id": "911d2aef",
   "metadata": {},
   "source": [
    "##### 2. Consolidating all summary/overview plots"
   ]
  },
  {
   "cell_type": "code",
   "execution_count": null,
   "id": "abf97901",
   "metadata": {
    "scrolled": true
   },
   "outputs": [],
   "source": [
    "BM.plotwrapper_overview_all()"
   ]
  },
  {
   "cell_type": "markdown",
   "id": "0e091521",
   "metadata": {},
   "source": [
    "##### Computing alignment"
   ]
  },
  {
   "cell_type": "code",
   "execution_count": null,
   "id": "9b83d2ab",
   "metadata": {},
   "outputs": [],
   "source": [
    "BM.analy_compute_alignment_wrapper()"
   ]
  },
  {
   "cell_type": "code",
   "execution_count": null,
   "id": "c0f0648f",
   "metadata": {},
   "outputs": [],
   "source": [
    "BM.colnames_extract_alignment()"
   ]
  },
  {
   "cell_type": "code",
   "execution_count": null,
   "id": "1e3328c1",
   "metadata": {},
   "outputs": [],
   "source": [
    "Dat, DatWide, DatFlat, DatThisAgg, DatFlatAgg = BM.extract_concatenated_aggregated_dataset()[:5]\n",
    "\n"
   ]
  }
 ],
 "metadata": {
  "kernelspec": {
   "display_name": "Python 3 (ipykernel)",
   "language": "python",
   "name": "python3"
  },
  "language_info": {
   "codemirror_mode": {
    "name": "ipython",
    "version": 3
   },
   "file_extension": ".py",
   "mimetype": "text/x-python",
   "name": "python",
   "nbconvert_exporter": "python",
   "pygments_lexer": "ipython3",
   "version": "3.8.13"
  }
 },
 "nbformat": 4,
 "nbformat_minor": 5
}
