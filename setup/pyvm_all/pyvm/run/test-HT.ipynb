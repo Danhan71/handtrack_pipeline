{
 "cells": [
  {
   "cell_type": "code",
   "execution_count": 1,
   "id": "621fb279-1a87-4ba9-817a-335fe1c516c2",
   "metadata": {
    "editable": true,
    "slideshow": {
     "slide_type": ""
    },
    "tags": []
   },
   "outputs": [
    {
     "ename": "ModuleNotFoundError",
     "evalue": "No module named 'tools'",
     "output_type": "error",
     "traceback": [
      "\u001b[0;31m---------------------------------------------------------------------------\u001b[0m",
      "\u001b[0;31mModuleNotFoundError\u001b[0m                       Traceback (most recent call last)",
      "Cell \u001b[0;32mIn[1], line 2\u001b[0m\n\u001b[1;32m      1\u001b[0m \u001b[38;5;28;01mfrom\u001b[39;00m \u001b[38;5;21;01mpythonlib\u001b[39;00m\u001b[38;5;21;01m.\u001b[39;00m\u001b[38;5;21;01mtools\u001b[39;00m\u001b[38;5;21;01m.\u001b[39;00m\u001b[38;5;21;01mstroketools\u001b[39;00m \u001b[38;5;28;01mimport\u001b[39;00m \u001b[38;5;241m*\u001b[39m\n\u001b[0;32m----> 2\u001b[0m \u001b[38;5;28;01mfrom\u001b[39;00m \u001b[38;5;21;01mtools\u001b[39;00m\u001b[38;5;21;01m.\u001b[39;00m\u001b[38;5;21;01mpreprocess\u001b[39;00m \u001b[38;5;28;01mimport\u001b[39;00m \u001b[38;5;241m*\u001b[39m\n\u001b[1;32m      3\u001b[0m \u001b[38;5;28;01mfrom\u001b[39;00m \u001b[38;5;21;01msklearn\u001b[39;00m\u001b[38;5;21;01m.\u001b[39;00m\u001b[38;5;21;01mlinear_model\u001b[39;00m \u001b[38;5;28;01mimport\u001b[39;00m LinearRegression\n\u001b[1;32m      4\u001b[0m \u001b[38;5;28;01mfrom\u001b[39;00m \u001b[38;5;21;01mpyvm\u001b[39;00m\u001b[38;5;21;01m.\u001b[39;00m\u001b[38;5;21;01mclasses\u001b[39;00m\u001b[38;5;21;01m.\u001b[39;00m\u001b[38;5;21;01mvideoclass\u001b[39;00m \u001b[38;5;28;01mimport\u001b[39;00m Videos\n",
      "\u001b[0;31mModuleNotFoundError\u001b[0m: No module named 'tools'"
     ]
    }
   ],
   "source": [
    "from pythonlib.tools.stroketools import *\n",
    "from tools.preprocess import *\n",
    "from sklearn.linear_model import LinearRegression\n",
    "from pyvm.classes.videoclass import Videos\n",
    "from tools.handtrack import HandTrack, getTrialsCameraFrametimes\n",
    "from pyvm.utils.directories import get_metadata\n",
    "from pythonlib.tools.expttools import load_yaml_config\n",
    "from pyvm.globals import BASEDIR\n",
    "import argparse\n",
    "import numpy as np\n",
    "import pandas as pd\n",
    "import matplotlib.pyplot as plt\n",
    "import os\n",
    "import pickle"
   ]
  },
  {
   "cell_type": "code",
   "execution_count": null,
   "id": "adb4b453-2410-4039-bcd9-c2ca32ffce21",
   "metadata": {},
   "outputs": [],
   "source": [
    "#Get range of trials to analyze data from\n",
    "config = load_yaml_config(f\"/home/danhan/Documents/pipeline/metadata/{name}.yaml\")\n",
    "vid_inds = config[\"list_vidnums\"][0]\n",
    "trange = range(vid_inds[0],vid_inds[1])\n",
    "ind1_vid = vid_inds[0]\n",
    "print(\"Vid\", trange)\n",
    "\n",
    "animal = \"Pancho\"\n",
    "date = \"221101\"\n",
    "expt = \"dirshapecolor3\"\n",
    "sess = \"1\"\n",
    "\n",
    "fd = loadSingleDataQuick(animal, date, expt, sess)\n",
    "HT = HandTrack(ind1_vid, ind1_ml2, fd, date=date, expt=expt)\n",
    "HT.load_campy_data(1, sess=sess_print)\n",
    "trials_no_ts_data = []\n",
    "\n",
    "# fd = loadSingleDataQuick(\"Pancho\", \"220317\", \"chunkbyshape4\", 1)\n",
    "# HT = HandTrack(4, 1, fd, 220317, \"chunkbyshape4\")"
   ]
  }
 ],
 "metadata": {
  "kernelspec": {
   "display_name": "Python 3 (ipykernel)",
   "language": "python",
   "name": "python3"
  },
  "language_info": {
   "codemirror_mode": {
    "name": "ipython",
    "version": 3
   },
   "file_extension": ".py",
   "mimetype": "text/x-python",
   "name": "python",
   "nbconvert_exporter": "python",
   "pygments_lexer": "ipython3",
   "version": "3.10.14"
  }
 },
 "nbformat": 4,
 "nbformat_minor": 5
}
